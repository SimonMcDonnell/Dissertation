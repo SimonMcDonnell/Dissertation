{
 "cells": [
  {
   "cell_type": "code",
   "execution_count": 59,
   "metadata": {},
   "outputs": [
    {
     "name": "stdout",
     "output_type": "stream",
     "text": [
      "The autoreload extension is already loaded. To reload it, use:\n",
      "  %reload_ext autoreload\n"
     ]
    }
   ],
   "source": [
    "%load_ext autoreload\n",
    "%autoreload 2\n",
    "import numpy as np\n",
    "import tensorflow as tf\n",
    "from tensorflow import keras\n",
    "import matplotlib.pyplot as plt\n",
    "from sklearn.model_selection import train_test_split\n",
    "from sklearn.preprocessing import LabelEncoder, StandardScaler\n",
    "from sklearn.linear_model import LinearRegression\n",
    "import sys\n",
    "import pandas as pd\n",
    "import os\n",
    "sys.path.insert(0, '../seal_wrapper/')\n",
    "from seal_wrapper import EA"
   ]
  },
  {
   "cell_type": "markdown",
   "metadata": {},
   "source": [
    "## Prepare data"
   ]
  },
  {
   "cell_type": "code",
   "execution_count": 25,
   "metadata": {},
   "outputs": [],
   "source": [
    "data = pd.read_csv(os.path.join(os.getcwd(), 'concrete_data.csv'))"
   ]
  },
  {
   "cell_type": "code",
   "execution_count": 26,
   "metadata": {},
   "outputs": [
    {
     "name": "stdout",
     "output_type": "stream",
     "text": [
      "(825, 8) (102, 8) (103, 8)\n",
      "(825,) (102,) (103,)\n"
     ]
    }
   ],
   "source": [
    "X = data.drop('ccs', axis=1)\n",
    "y = data['ccs']\n",
    "X_train, X_test, y_train, y_test = train_test_split(X, y, test_size=0.1, random_state=1)\n",
    "X_train, X_val, y_train, y_val = train_test_split(X_train, y_train, test_size=0.11, random_state=1)\n",
    "print(X_train.shape, X_val.shape, X_test.shape)\n",
    "print(y_train.shape, y_val.shape, y_test.shape)"
   ]
  },
  {
   "cell_type": "code",
   "execution_count": 27,
   "metadata": {},
   "outputs": [
    {
     "name": "stderr",
     "output_type": "stream",
     "text": [
      "/home/simon/miniconda3/envs/diss/lib/python3.6/site-packages/sklearn/preprocessing/data.py:617: DataConversionWarning: Data with input dtype int64, float64 were all converted to float64 by StandardScaler.\n",
      "  return self.partial_fit(X, y)\n",
      "/home/simon/miniconda3/envs/diss/lib/python3.6/site-packages/sklearn/base.py:462: DataConversionWarning: Data with input dtype int64, float64 were all converted to float64 by StandardScaler.\n",
      "  return self.fit(X, **fit_params).transform(X)\n",
      "/home/simon/miniconda3/envs/diss/lib/python3.6/site-packages/ipykernel_launcher.py:4: DataConversionWarning: Data with input dtype int64, float64 were all converted to float64 by StandardScaler.\n",
      "  after removing the cwd from sys.path.\n",
      "/home/simon/miniconda3/envs/diss/lib/python3.6/site-packages/ipykernel_launcher.py:5: DataConversionWarning: Data with input dtype int64, float64 were all converted to float64 by StandardScaler.\n",
      "  \"\"\"\n"
     ]
    }
   ],
   "source": [
    "X_scaler = StandardScaler()\n",
    "y_scaler = StandardScaler()\n",
    "X_train = X_scaler.fit_transform(X_train)\n",
    "X_val = X_scaler.transform(X_val)\n",
    "X_test = X_scaler.transform(X_test)\n",
    "y_train = y_scaler.fit_transform(y_train.values.reshape(-1, 1))\n",
    "y_val = y_scaler.transform(y_val.values.reshape(-1, 1))"
   ]
  },
  {
   "cell_type": "code",
   "execution_count": 28,
   "metadata": {},
   "outputs": [],
   "source": [
    "def msse(pred, y):\n",
    "    return (np.sum((y - pred)**2)) / y.shape[0]"
   ]
  },
  {
   "cell_type": "code",
   "execution_count": 29,
   "metadata": {},
   "outputs": [],
   "source": [
    "def plot_predictions(pred, y, save_as=None):\n",
    "    fig = plt.figure(figsize=(6, 6))\n",
    "    ax = plt.subplot(111)\n",
    "    ax.scatter(pred, y, alpha=0.2)\n",
    "    ax.set_xlabel('predicted')\n",
    "    ax.set_ylabel('true')\n",
    "    ax.plot(np.arange(0, 90, 0.1), np.arange(0, 90, 0.1))\n",
    "    if save_as != None:\n",
    "        plt.savefig(save_as)"
   ]
  },
  {
   "cell_type": "code",
   "execution_count": 30,
   "metadata": {},
   "outputs": [],
   "source": [
    "def normalize_weights(w, var, gamma):\n",
    "    return w * gamma / np.sqrt(var + 0.0001)"
   ]
  },
  {
   "cell_type": "code",
   "execution_count": 31,
   "metadata": {},
   "outputs": [],
   "source": [
    "def normalize_bias(b, mean, var, beta, gamma):\n",
    "    return (b - mean) * (gamma / np.sqrt(var + 0.0001)) + beta"
   ]
  },
  {
   "cell_type": "code",
   "execution_count": 32,
   "metadata": {},
   "outputs": [],
   "source": [
    "def relu(z):\n",
    "    return np.maximum(0, z)"
   ]
  },
  {
   "cell_type": "markdown",
   "metadata": {},
   "source": [
    "## Predictions"
   ]
  },
  {
   "cell_type": "markdown",
   "metadata": {},
   "source": [
    "### Unencrypted"
   ]
  },
  {
   "cell_type": "code",
   "execution_count": 75,
   "metadata": {},
   "outputs": [],
   "source": [
    "weights = np.load('relu_weights.npy')\n",
    "# w1, b1, gamma, beta, mean, var, w2, b2 = weights\n",
    "w1, b1, w2, b2 = weights"
   ]
  },
  {
   "cell_type": "code",
   "execution_count": 76,
   "metadata": {},
   "outputs": [],
   "source": [
    "# w_norm = normalize_weights(w1, var, gamma)\n",
    "# b_norm = normalize_bias(b1, mean, var, beta, gamma).reshape(1, -1)"
   ]
  },
  {
   "cell_type": "code",
   "execution_count": 77,
   "metadata": {},
   "outputs": [],
   "source": [
    "# layer1_clear = X_test.dot(w_norm) + b_norm\n",
    "# print(layer1_clear.mean(axis=0), layer1_clear.std(axis=0), layer1_clear.max(), layer1_clear.min())\n",
    "# layer1_clear = relu(layer1_clear)\n",
    "# pred_clear = layer1_clear.dot(w2) + b2"
   ]
  },
  {
   "cell_type": "code",
   "execution_count": 78,
   "metadata": {},
   "outputs": [
    {
     "name": "stdout",
     "output_type": "stream",
     "text": [
      "[ 0.02020581  1.01882295  0.19967045 -0.09240571  0.4183396  -0.25966917\n",
      "  0.06015605 -0.06551806] [0.58505406 0.76685925 0.66993945 1.60822762 0.4295571  0.3931196\n",
      " 0.88548377 0.52790228] 3.0285790621651 -6.448090265326856\n"
     ]
    }
   ],
   "source": [
    "layer1_clear = X_test.dot(w1) + b1\n",
    "print(layer1_clear.mean(axis=0), layer1_clear.std(axis=0), layer1_clear.max(), layer1_clear.min())\n",
    "layer1_clear = relu(layer1_clear)\n",
    "pred_clear = layer1_clear.dot(w2) + b2"
   ]
  },
  {
   "cell_type": "code",
   "execution_count": 79,
   "metadata": {},
   "outputs": [],
   "source": [
    "pred_clear = y_scaler.inverse_transform(pred_clear.flatten())"
   ]
  },
  {
   "cell_type": "code",
   "execution_count": 80,
   "metadata": {},
   "outputs": [
    {
     "name": "stdout",
     "output_type": "stream",
     "text": [
      "MSSE relu clear: 47.559111772829816\n"
     ]
    }
   ],
   "source": [
    "msse_clear = msse(pred_clear, y_test)\n",
    "print('MSSE relu clear: {}'.format(msse_clear))"
   ]
  },
  {
   "cell_type": "code",
   "execution_count": 81,
   "metadata": {},
   "outputs": [
    {
     "data": {
      "image/png": "[encoded data removed]",
      "text/plain": [
       "<Figure size 432x432 with 1 Axes>"
      ]
     },
     "metadata": {
      "needs_background": "light"
     },
     "output_type": "display_data"
    }
   ],
   "source": [
    "plot_predictions(pred_clear, y_test, save_as='concrete_clear.pdf')"
   ]
  },
  {
   "cell_type": "markdown",
   "metadata": {},
   "source": [
    "### Encrypted"
   ]
  },
  {
   "cell_type": "code",
   "execution_count": 82,
   "metadata": {},
   "outputs": [],
   "source": [
    "X_test_enc = EA(X_test, to_encrypt=True)\n",
    "w1_enc = EA(w1)\n",
    "b1_enc = EA(b1.reshape(1, -1))\n",
    "w2_enc = EA(w2)\n",
    "b2_enc = EA(b2.reshape(1, -1))"
   ]
  },
  {
   "cell_type": "code",
   "execution_count": 83,
   "metadata": {},
   "outputs": [],
   "source": [
    "layer1_enc = X_test_enc.dot(w1_enc) + b1_enc"
   ]
  },
  {
   "cell_type": "code",
   "execution_count": 84,
   "metadata": {},
   "outputs": [
    {
     "name": "stdout",
     "output_type": "stream",
     "text": [
      "3.0285790621651 -6.448090265326856\n"
     ]
    }
   ],
   "source": [
    "print(layer1_enc.values().max(), layer1_enc.values().min())"
   ]
  },
  {
   "cell_type": "code",
   "execution_count": 85,
   "metadata": {},
   "outputs": [],
   "source": [
    "layer1_enc = layer1_enc.relu()"
   ]
  },
  {
   "cell_type": "code",
   "execution_count": 86,
   "metadata": {
    "scrolled": true
   },
   "outputs": [],
   "source": [
    "pred_enc = layer1_enc.dot(w2_enc) + b2_enc\n",
    "pred_enc = y_scaler.inverse_transform(pred_enc.values().flatten())"
   ]
  },
  {
   "cell_type": "code",
   "execution_count": 87,
   "metadata": {},
   "outputs": [
    {
     "name": "stdout",
     "output_type": "stream",
     "text": [
      "MSSE relu encrypted: 109.52618291730631\n"
     ]
    }
   ],
   "source": [
    "msse_enc = msse(pred_enc, y_test)\n",
    "print('MSSE relu encrypted: {}'.format(msse_enc))"
   ]
  },
  {
   "cell_type": "code",
   "execution_count": 88,
   "metadata": {},
   "outputs": [
    {
     "data": {
      "image/png": "[encoded data removed]",
      "text/plain": [
       "<Figure size 432x432 with 1 Axes>"
      ]
     },
     "metadata": {
      "needs_background": "light"
     },
     "output_type": "display_data"
    }
   ],
   "source": [
    "plot_predictions(pred_enc, y_test, save_as='concrete_enc.pdf')"
   ]
  },
  {
   "cell_type": "code",
   "execution_count": null,
   "metadata": {},
   "outputs": [],
   "source": []
  }
 ],
 "metadata": {
  "kernelspec": {
   "display_name": "Python 3",
   "language": "python",
   "name": "python3"
  },
  "language_info": {
   "codemirror_mode": {
    "name": "ipython",
    "version": 3
   },
   "file_extension": ".py",
   "mimetype": "text/x-python",
   "name": "python",
   "nbconvert_exporter": "python",
   "pygments_lexer": "ipython3",
   "version": "3.6.6"
  }
 },
 "nbformat": 4,
 "nbformat_minor": 2
}
