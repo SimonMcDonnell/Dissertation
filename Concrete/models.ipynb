{
 "cells": [
  {
   "cell_type": "code",
   "execution_count": 1,
   "metadata": {},
   "outputs": [],
   "source": [
    "import numpy as np\n",
    "import pandas as pd\n",
    "import matplotlib.pyplot as plt\n",
    "from tensorflow import keras\n",
    "import tensorflow as tf\n",
    "from sklearn.model_selection import train_test_split\n",
    "from sklearn.preprocessing import LabelEncoder, StandardScaler\n",
    "from sklearn.linear_model import LinearRegression\n",
    "import os"
   ]
  },
  {
   "cell_type": "markdown",
   "metadata": {},
   "source": [
    "## Prepare data"
   ]
  },
  {
   "cell_type": "code",
   "execution_count": 2,
   "metadata": {},
   "outputs": [],
   "source": [
    "data = pd.read_csv(os.path.join(os.getcwd(), 'concrete_data.csv'))"
   ]
  },
  {
   "cell_type": "code",
   "execution_count": 3,
   "metadata": {},
   "outputs": [
    {
     "data": {
      "text/html": [
       "<div>\n",
       "<style scoped>\n",
       "    .dataframe tbody tr th:only-of-type {\n",
       "        vertical-align: middle;\n",
       "    }\n",
       "\n",
       "    .dataframe tbody tr th {\n",
       "        vertical-align: top;\n",
       "    }\n",
       "\n",
       "    .dataframe thead th {\n",
       "        text-align: right;\n",
       "    }\n",
       "</style>\n",
       "<table border=\"1\" class=\"dataframe\">\n",
       "  <thead>\n",
       "    <tr style=\"text-align: right;\">\n",
       "      <th></th>\n",
       "      <th>cement</th>\n",
       "      <th>blast_furnace_slag</th>\n",
       "      <th>fly_ash</th>\n",
       "      <th>water</th>\n",
       "      <th>superplasticizer</th>\n",
       "      <th>coarse_aggregate</th>\n",
       "      <th>fine_aggregate</th>\n",
       "      <th>age</th>\n",
       "      <th>ccs</th>\n",
       "    </tr>\n",
       "  </thead>\n",
       "  <tbody>\n",
       "    <tr>\n",
       "      <th>count</th>\n",
       "      <td>1030.000000</td>\n",
       "      <td>1030.000000</td>\n",
       "      <td>1030.000000</td>\n",
       "      <td>1030.000000</td>\n",
       "      <td>1030.000000</td>\n",
       "      <td>1030.000000</td>\n",
       "      <td>1030.000000</td>\n",
       "      <td>1030.000000</td>\n",
       "      <td>1030.000000</td>\n",
       "    </tr>\n",
       "    <tr>\n",
       "      <th>mean</th>\n",
       "      <td>281.167864</td>\n",
       "      <td>73.895825</td>\n",
       "      <td>54.188350</td>\n",
       "      <td>181.567282</td>\n",
       "      <td>6.204660</td>\n",
       "      <td>972.918932</td>\n",
       "      <td>773.580485</td>\n",
       "      <td>45.662136</td>\n",
       "      <td>35.817961</td>\n",
       "    </tr>\n",
       "    <tr>\n",
       "      <th>std</th>\n",
       "      <td>104.506364</td>\n",
       "      <td>86.279342</td>\n",
       "      <td>63.997004</td>\n",
       "      <td>21.354219</td>\n",
       "      <td>5.973841</td>\n",
       "      <td>77.753954</td>\n",
       "      <td>80.175980</td>\n",
       "      <td>63.169912</td>\n",
       "      <td>16.705742</td>\n",
       "    </tr>\n",
       "    <tr>\n",
       "      <th>min</th>\n",
       "      <td>102.000000</td>\n",
       "      <td>0.000000</td>\n",
       "      <td>0.000000</td>\n",
       "      <td>121.800000</td>\n",
       "      <td>0.000000</td>\n",
       "      <td>801.000000</td>\n",
       "      <td>594.000000</td>\n",
       "      <td>1.000000</td>\n",
       "      <td>2.330000</td>\n",
       "    </tr>\n",
       "    <tr>\n",
       "      <th>25%</th>\n",
       "      <td>192.375000</td>\n",
       "      <td>0.000000</td>\n",
       "      <td>0.000000</td>\n",
       "      <td>164.900000</td>\n",
       "      <td>0.000000</td>\n",
       "      <td>932.000000</td>\n",
       "      <td>730.950000</td>\n",
       "      <td>7.000000</td>\n",
       "      <td>23.710000</td>\n",
       "    </tr>\n",
       "    <tr>\n",
       "      <th>50%</th>\n",
       "      <td>272.900000</td>\n",
       "      <td>22.000000</td>\n",
       "      <td>0.000000</td>\n",
       "      <td>185.000000</td>\n",
       "      <td>6.400000</td>\n",
       "      <td>968.000000</td>\n",
       "      <td>779.500000</td>\n",
       "      <td>28.000000</td>\n",
       "      <td>34.445000</td>\n",
       "    </tr>\n",
       "    <tr>\n",
       "      <th>75%</th>\n",
       "      <td>350.000000</td>\n",
       "      <td>142.950000</td>\n",
       "      <td>118.300000</td>\n",
       "      <td>192.000000</td>\n",
       "      <td>10.200000</td>\n",
       "      <td>1029.400000</td>\n",
       "      <td>824.000000</td>\n",
       "      <td>56.000000</td>\n",
       "      <td>46.135000</td>\n",
       "    </tr>\n",
       "    <tr>\n",
       "      <th>max</th>\n",
       "      <td>540.000000</td>\n",
       "      <td>359.400000</td>\n",
       "      <td>200.100000</td>\n",
       "      <td>247.000000</td>\n",
       "      <td>32.200000</td>\n",
       "      <td>1145.000000</td>\n",
       "      <td>992.600000</td>\n",
       "      <td>365.000000</td>\n",
       "      <td>82.600000</td>\n",
       "    </tr>\n",
       "  </tbody>\n",
       "</table>\n",
       "</div>"
      ],
      "text/plain": [
       "            cement  blast_furnace_slag      fly_ash        water  \\\n",
       "count  1030.000000         1030.000000  1030.000000  1030.000000   \n",
       "mean    281.167864           73.895825    54.188350   181.567282   \n",
       "std     104.506364           86.279342    63.997004    21.354219   \n",
       "min     102.000000            0.000000     0.000000   121.800000   \n",
       "25%     192.375000            0.000000     0.000000   164.900000   \n",
       "50%     272.900000           22.000000     0.000000   185.000000   \n",
       "75%     350.000000          142.950000   118.300000   192.000000   \n",
       "max     540.000000          359.400000   200.100000   247.000000   \n",
       "\n",
       "       superplasticizer  coarse_aggregate  fine_aggregate          age  \\\n",
       "count       1030.000000       1030.000000     1030.000000  1030.000000   \n",
       "mean           6.204660        972.918932      773.580485    45.662136   \n",
       "std            5.973841         77.753954       80.175980    63.169912   \n",
       "min            0.000000        801.000000      594.000000     1.000000   \n",
       "25%            0.000000        932.000000      730.950000     7.000000   \n",
       "50%            6.400000        968.000000      779.500000    28.000000   \n",
       "75%           10.200000       1029.400000      824.000000    56.000000   \n",
       "max           32.200000       1145.000000      992.600000   365.000000   \n",
       "\n",
       "               ccs  \n",
       "count  1030.000000  \n",
       "mean     35.817961  \n",
       "std      16.705742  \n",
       "min       2.330000  \n",
       "25%      23.710000  \n",
       "50%      34.445000  \n",
       "75%      46.135000  \n",
       "max      82.600000  "
      ]
     },
     "execution_count": 3,
     "metadata": {},
     "output_type": "execute_result"
    }
   ],
   "source": [
    "data.describe()"
   ]
  },
  {
   "cell_type": "code",
   "execution_count": 4,
   "metadata": {},
   "outputs": [
    {
     "name": "stdout",
     "output_type": "stream",
     "text": [
      "(825, 8) (102, 8) (103, 8)\n",
      "(825,) (102,) (103,)\n"
     ]
    }
   ],
   "source": [
    "X = data.drop('ccs', axis=1)\n",
    "y = data['ccs']\n",
    "X_train, X_test, y_train, y_test = train_test_split(X, y, test_size=0.1, random_state=1)\n",
    "X_train, X_val, y_train, y_val = train_test_split(X_train, y_train, test_size=0.11, random_state=1)\n",
    "print(X_train.shape, X_val.shape, X_test.shape)\n",
    "print(y_train.shape, y_val.shape, y_test.shape)"
   ]
  },
  {
   "cell_type": "code",
   "execution_count": 5,
   "metadata": {
    "scrolled": true
   },
   "outputs": [
    {
     "name": "stderr",
     "output_type": "stream",
     "text": [
      "/home/simon/miniconda3/envs/diss/lib/python3.6/site-packages/sklearn/preprocessing/data.py:617: DataConversionWarning: Data with input dtype int64, float64 were all converted to float64 by StandardScaler.\n",
      "  return self.partial_fit(X, y)\n",
      "/home/simon/miniconda3/envs/diss/lib/python3.6/site-packages/sklearn/base.py:462: DataConversionWarning: Data with input dtype int64, float64 were all converted to float64 by StandardScaler.\n",
      "  return self.fit(X, **fit_params).transform(X)\n",
      "/home/simon/miniconda3/envs/diss/lib/python3.6/site-packages/ipykernel_launcher.py:3: DataConversionWarning: Data with input dtype int64, float64 were all converted to float64 by StandardScaler.\n",
      "  This is separate from the ipykernel package so we can avoid doing imports until\n",
      "/home/simon/miniconda3/envs/diss/lib/python3.6/site-packages/ipykernel_launcher.py:4: DataConversionWarning: Data with input dtype int64, float64 were all converted to float64 by StandardScaler.\n",
      "  after removing the cwd from sys.path.\n"
     ]
    }
   ],
   "source": [
    "scaler = StandardScaler()\n",
    "X_train = scaler.fit_transform(X_train)\n",
    "X_val = scaler.transform(X_val)\n",
    "X_test = scaler.transform(X_test)"
   ]
  },
  {
   "cell_type": "code",
   "execution_count": 6,
   "metadata": {},
   "outputs": [],
   "source": [
    "def plot_history(history):\n",
    "    plt.figure()\n",
    "    plt.xlabel('Epoch')\n",
    "    plt.ylabel('Mean Abs Error [1000$]')\n",
    "    plt.plot(history.epoch, np.array(history.history['mean_absolute_error']),\n",
    "           label='Train Loss')\n",
    "    plt.plot(history.epoch, np.array(history.history['val_mean_absolute_error']),\n",
    "           label = 'Val loss')\n",
    "    plt.legend()"
   ]
  },
  {
   "cell_type": "code",
   "execution_count": 7,
   "metadata": {},
   "outputs": [],
   "source": [
    "def plot_predictions(pred, y, save_as=None):\n",
    "    fig = plt.figure(figsize=(6, 6))\n",
    "    ax = plt.subplot(111)\n",
    "    ax.scatter(pred, y, alpha=0.2)\n",
    "    ax.set_xlabel('predicted')\n",
    "    ax.set_ylabel('true')\n",
    "    ax.plot(np.arange(0, 90, 0.1), np.arange(0, 90, 0.1))\n",
    "    if save_as != None:\n",
    "        plt.savefig(save_as)"
   ]
  },
  {
   "cell_type": "code",
   "execution_count": 8,
   "metadata": {},
   "outputs": [],
   "source": [
    "def msse(pred, y):\n",
    "    return (np.sum((y - pred)**2)) / y.shape[0]"
   ]
  },
  {
   "cell_type": "markdown",
   "metadata": {},
   "source": [
    "## Training"
   ]
  },
  {
   "cell_type": "code",
   "execution_count": 93,
   "metadata": {},
   "outputs": [],
   "source": [
    "model = keras.Sequential([\n",
    "    keras.layers.Dense(8, input_shape=(8,)),\n",
    "    keras.layers.BatchNormalization(),\n",
    "    keras.layers.Activation('relu'),\n",
    "    keras.layers.Dense(1, kernel_regularizer=keras.regularizers.l2(0.01))\n",
    "])\n",
    "optimizer = tf.train.AdamOptimizer(0.005)\n",
    "model.compile(loss='mse', optimizer=optimizer, metrics=['mae'])"
   ]
  },
  {
   "cell_type": "code",
   "execution_count": 94,
   "metadata": {},
   "outputs": [
    {
     "name": "stdout",
     "output_type": "stream",
     "text": [
      "_________________________________________________________________\n",
      "Layer (type)                 Output Shape              Param #   \n",
      "=================================================================\n",
      "dense_38 (Dense)             (None, 8)                 72        \n",
      "_________________________________________________________________\n",
      "batch_normalization_18 (Batc (None, 8)                 32        \n",
      "_________________________________________________________________\n",
      "activation_19 (Activation)   (None, 8)                 0         \n",
      "_________________________________________________________________\n",
      "dense_39 (Dense)             (None, 1)                 9         \n",
      "=================================================================\n",
      "Total params: 113\n",
      "Trainable params: 97\n",
      "Non-trainable params: 16\n",
      "_________________________________________________________________\n"
     ]
    }
   ],
   "source": [
    "model.summary()"
   ]
  },
  {
   "cell_type": "code",
   "execution_count": 95,
   "metadata": {},
   "outputs": [],
   "source": [
    "early_stop = keras.callbacks.EarlyStopping(monitor='val_loss', min_delta=0, patience=10, verbose=0, mode='auto')"
   ]
  },
  {
   "cell_type": "code",
   "execution_count": 96,
   "metadata": {
    "scrolled": true
   },
   "outputs": [
    {
     "name": "stdout",
     "output_type": "stream",
     "text": [
      "Train on 825 samples, validate on 102 samples\n",
      "Epoch 1/1000\n",
      "825/825 [==============================] - 2s 2ms/step - loss: 1608.8847 - mean_absolute_error: 36.4364 - val_loss: 1586.8432 - val_mean_absolute_error: 36.2349\n",
      "Epoch 2/1000\n",
      "825/825 [==============================] - 0s 399us/step - loss: 1556.6817 - mean_absolute_error: 35.7160 - val_loss: 1546.7494 - val_mean_absolute_error: 35.6270\n",
      "Epoch 3/1000\n",
      "825/825 [==============================] - 0s 314us/step - loss: 1517.4465 - mean_absolute_error: 35.1197 - val_loss: 1512.0153 - val_mean_absolute_error: 35.0894\n",
      "Epoch 4/1000\n",
      "825/825 [==============================] - 0s 387us/step - loss: 1474.3813 - mean_absolute_error: 34.4712 - val_loss: 1468.8688 - val_mean_absolute_error: 34.4481\n",
      "Epoch 5/1000\n",
      "825/825 [==============================] - 0s 388us/step - loss: 1409.3677 - mean_absolute_error: 33.6203 - val_loss: 1396.1163 - val_mean_absolute_error: 33.5244\n",
      "Epoch 6/1000\n",
      "825/825 [==============================] - 0s 403us/step - loss: 1304.0235 - mean_absolute_error: 32.4000 - val_loss: 1270.5158 - val_mean_absolute_error: 32.1131\n",
      "Epoch 7/1000\n",
      "825/825 [==============================] - 0s 393us/step - loss: 1163.2873 - mean_absolute_error: 30.7303 - val_loss: 1145.8266 - val_mean_absolute_error: 30.6705\n",
      "Epoch 8/1000\n",
      "825/825 [==============================] - 0s 374us/step - loss: 1010.6996 - mean_absolute_error: 28.7278 - val_loss: 1013.1646 - val_mean_absolute_error: 28.9545\n",
      "Epoch 9/1000\n",
      "825/825 [==============================] - 0s 433us/step - loss: 847.1167 - mean_absolute_error: 26.2170 - val_loss: 850.9857 - val_mean_absolute_error: 26.5402\n",
      "Epoch 10/1000\n",
      "825/825 [==============================] - 0s 401us/step - loss: 683.1817 - mean_absolute_error: 23.2698 - val_loss: 679.3521 - val_mean_absolute_error: 23.6434\n",
      "Epoch 11/1000\n",
      "825/825 [==============================] - 0s 359us/step - loss: 529.7426 - mean_absolute_error: 20.2334 - val_loss: 514.0092 - val_mean_absolute_error: 20.3859\n",
      "Epoch 12/1000\n",
      "825/825 [==============================] - 0s 422us/step - loss: 400.3278 - mean_absolute_error: 17.2412 - val_loss: 385.2592 - val_mean_absolute_error: 17.4523\n",
      "Epoch 13/1000\n",
      "825/825 [==============================] - 0s 388us/step - loss: 307.2490 - mean_absolute_error: 14.7528 - val_loss: 306.1359 - val_mean_absolute_error: 15.4500\n",
      "Epoch 14/1000\n",
      "825/825 [==============================] - 0s 412us/step - loss: 235.9620 - mean_absolute_error: 12.7706 - val_loss: 238.1104 - val_mean_absolute_error: 13.6224\n",
      "Epoch 15/1000\n",
      "825/825 [==============================] - 0s 425us/step - loss: 198.7670 - mean_absolute_error: 11.4263 - val_loss: 188.2802 - val_mean_absolute_error: 11.9434\n",
      "Epoch 16/1000\n",
      "825/825 [==============================] - 0s 475us/step - loss: 162.0761 - mean_absolute_error: 10.2519 - val_loss: 159.5643 - val_mean_absolute_error: 10.8209\n",
      "Epoch 17/1000\n",
      "825/825 [==============================] - 0s 395us/step - loss: 147.9268 - mean_absolute_error: 9.8738 - val_loss: 144.6716 - val_mean_absolute_error: 10.1742\n",
      "Epoch 18/1000\n",
      "825/825 [==============================] - 0s 417us/step - loss: 142.9739 - mean_absolute_error: 9.6813 - val_loss: 136.0925 - val_mean_absolute_error: 9.7215\n",
      "Epoch 19/1000\n",
      "825/825 [==============================] - 0s 428us/step - loss: 130.8932 - mean_absolute_error: 9.2684 - val_loss: 127.0433 - val_mean_absolute_error: 9.3895\n",
      "Epoch 20/1000\n",
      "825/825 [==============================] - 0s 377us/step - loss: 128.8636 - mean_absolute_error: 9.1423 - val_loss: 119.2066 - val_mean_absolute_error: 9.0501\n",
      "Epoch 21/1000\n",
      "825/825 [==============================] - 0s 429us/step - loss: 127.1474 - mean_absolute_error: 8.9914 - val_loss: 118.5655 - val_mean_absolute_error: 9.0396\n",
      "Epoch 22/1000\n",
      "825/825 [==============================] - 0s 432us/step - loss: 125.4199 - mean_absolute_error: 9.0546 - val_loss: 114.7655 - val_mean_absolute_error: 8.7581\n",
      "Epoch 23/1000\n",
      "825/825 [==============================] - 0s 464us/step - loss: 123.7837 - mean_absolute_error: 8.9543 - val_loss: 112.5544 - val_mean_absolute_error: 8.7350\n",
      "Epoch 24/1000\n",
      "825/825 [==============================] - 0s 509us/step - loss: 121.3857 - mean_absolute_error: 8.8787 - val_loss: 111.6616 - val_mean_absolute_error: 8.6833\n",
      "Epoch 25/1000\n",
      "825/825 [==============================] - 0s 471us/step - loss: 120.4334 - mean_absolute_error: 8.7889 - val_loss: 108.3773 - val_mean_absolute_error: 8.5924\n",
      "Epoch 26/1000\n",
      "825/825 [==============================] - 0s 428us/step - loss: 116.9421 - mean_absolute_error: 8.7471 - val_loss: 108.7889 - val_mean_absolute_error: 8.6458\n",
      "Epoch 27/1000\n",
      "825/825 [==============================] - 0s 431us/step - loss: 118.8703 - mean_absolute_error: 8.7847 - val_loss: 107.1801 - val_mean_absolute_error: 8.5010\n",
      "Epoch 28/1000\n",
      "825/825 [==============================] - 0s 480us/step - loss: 117.4686 - mean_absolute_error: 8.7054 - val_loss: 107.3954 - val_mean_absolute_error: 8.5303\n",
      "Epoch 29/1000\n",
      "825/825 [==============================] - 0s 383us/step - loss: 116.5262 - mean_absolute_error: 8.6180 - val_loss: 104.7251 - val_mean_absolute_error: 8.4157\n",
      "Epoch 30/1000\n",
      "825/825 [==============================] - 0s 475us/step - loss: 111.1385 - mean_absolute_error: 8.4763 - val_loss: 105.6145 - val_mean_absolute_error: 8.4471\n",
      "Epoch 31/1000\n",
      "825/825 [==============================] - 0s 512us/step - loss: 111.6511 - mean_absolute_error: 8.4886 - val_loss: 101.7994 - val_mean_absolute_error: 8.3107\n",
      "Epoch 32/1000\n",
      "825/825 [==============================] - 0s 494us/step - loss: 111.3275 - mean_absolute_error: 8.4739 - val_loss: 99.5465 - val_mean_absolute_error: 8.1676\n",
      "Epoch 33/1000\n",
      "825/825 [==============================] - 0s 439us/step - loss: 111.5182 - mean_absolute_error: 8.4685 - val_loss: 99.8428 - val_mean_absolute_error: 8.2220\n",
      "Epoch 34/1000\n",
      "825/825 [==============================] - 0s 370us/step - loss: 108.7733 - mean_absolute_error: 8.2053 - val_loss: 95.5243 - val_mean_absolute_error: 7.9137\n",
      "Epoch 35/1000\n",
      "825/825 [==============================] - 0s 362us/step - loss: 111.1152 - mean_absolute_error: 8.4783 - val_loss: 96.5283 - val_mean_absolute_error: 8.0497\n",
      "Epoch 36/1000\n",
      "825/825 [==============================] - 0s 371us/step - loss: 106.3465 - mean_absolute_error: 8.2177 - val_loss: 95.8882 - val_mean_absolute_error: 7.9553\n",
      "Epoch 37/1000\n",
      "825/825 [==============================] - 0s 358us/step - loss: 102.4349 - mean_absolute_error: 7.9826 - val_loss: 95.5619 - val_mean_absolute_error: 7.9717\n",
      "Epoch 38/1000\n",
      "825/825 [==============================] - 0s 461us/step - loss: 97.5038 - mean_absolute_error: 7.8099 - val_loss: 93.5686 - val_mean_absolute_error: 7.9002\n",
      "Epoch 39/1000\n",
      "825/825 [==============================] - 0s 388us/step - loss: 104.3863 - mean_absolute_error: 8.0449 - val_loss: 91.4553 - val_mean_absolute_error: 7.7242\n",
      "Epoch 40/1000\n",
      "825/825 [==============================] - 0s 551us/step - loss: 94.9130 - mean_absolute_error: 7.7363 - val_loss: 88.9165 - val_mean_absolute_error: 7.5650\n",
      "Epoch 41/1000\n",
      "825/825 [==============================] - 0s 432us/step - loss: 94.8986 - mean_absolute_error: 7.6452 - val_loss: 87.2455 - val_mean_absolute_error: 7.5851\n",
      "Epoch 42/1000\n",
      "825/825 [==============================] - 0s 406us/step - loss: 94.2371 - mean_absolute_error: 7.7063 - val_loss: 86.6749 - val_mean_absolute_error: 7.5294\n",
      "Epoch 43/1000\n",
      "825/825 [==============================] - 0s 437us/step - loss: 91.3739 - mean_absolute_error: 7.5224 - val_loss: 86.0344 - val_mean_absolute_error: 7.5341\n",
      "Epoch 44/1000\n",
      "825/825 [==============================] - 0s 430us/step - loss: 95.9315 - mean_absolute_error: 7.8525 - val_loss: 84.4331 - val_mean_absolute_error: 7.4620\n",
      "Epoch 45/1000\n",
      "825/825 [==============================] - 0s 413us/step - loss: 89.2497 - mean_absolute_error: 7.4453 - val_loss: 83.5745 - val_mean_absolute_error: 7.4235\n",
      "Epoch 46/1000\n",
      "825/825 [==============================] - 0s 402us/step - loss: 85.2494 - mean_absolute_error: 7.1582 - val_loss: 78.8848 - val_mean_absolute_error: 7.1191\n",
      "Epoch 47/1000\n",
      "825/825 [==============================] - 0s 464us/step - loss: 86.9767 - mean_absolute_error: 7.3136 - val_loss: 78.1510 - val_mean_absolute_error: 7.1119\n",
      "Epoch 48/1000\n"
     ]
    },
    {
     "name": "stdout",
     "output_type": "stream",
     "text": [
      "825/825 [==============================] - 0s 364us/step - loss: 85.9494 - mean_absolute_error: 7.2915 - val_loss: 83.6408 - val_mean_absolute_error: 7.4318\n",
      "Epoch 49/1000\n",
      "825/825 [==============================] - 0s 271us/step - loss: 85.1583 - mean_absolute_error: 7.1907 - val_loss: 79.8715 - val_mean_absolute_error: 7.1993\n",
      "Epoch 50/1000\n",
      "825/825 [==============================] - 0s 276us/step - loss: 75.5930 - mean_absolute_error: 6.7964 - val_loss: 74.2747 - val_mean_absolute_error: 6.8909\n",
      "Epoch 51/1000\n",
      "825/825 [==============================] - 0s 259us/step - loss: 72.5681 - mean_absolute_error: 6.5929 - val_loss: 73.2679 - val_mean_absolute_error: 6.8824\n",
      "Epoch 52/1000\n",
      "825/825 [==============================] - 0s 257us/step - loss: 77.8908 - mean_absolute_error: 6.9890 - val_loss: 73.1104 - val_mean_absolute_error: 6.8566\n",
      "Epoch 53/1000\n",
      "825/825 [==============================] - 0s 264us/step - loss: 74.1909 - mean_absolute_error: 6.7183 - val_loss: 72.1099 - val_mean_absolute_error: 6.8320\n",
      "Epoch 54/1000\n",
      "825/825 [==============================] - 0s 359us/step - loss: 74.1325 - mean_absolute_error: 6.6431 - val_loss: 73.0221 - val_mean_absolute_error: 6.8309\n",
      "Epoch 55/1000\n",
      "825/825 [==============================] - 0s 461us/step - loss: 74.2210 - mean_absolute_error: 6.7564 - val_loss: 69.5638 - val_mean_absolute_error: 6.6203\n",
      "Epoch 56/1000\n",
      "825/825 [==============================] - 0s 534us/step - loss: 82.6975 - mean_absolute_error: 7.0845 - val_loss: 72.4655 - val_mean_absolute_error: 6.8179\n",
      "Epoch 57/1000\n",
      "825/825 [==============================] - 0s 464us/step - loss: 70.7772 - mean_absolute_error: 6.5403 - val_loss: 72.7251 - val_mean_absolute_error: 6.8225\n",
      "Epoch 58/1000\n",
      "825/825 [==============================] - 0s 453us/step - loss: 65.1318 - mean_absolute_error: 6.2453 - val_loss: 68.6689 - val_mean_absolute_error: 6.6420\n",
      "Epoch 59/1000\n",
      "825/825 [==============================] - 0s 380us/step - loss: 72.2459 - mean_absolute_error: 6.5961 - val_loss: 72.7418 - val_mean_absolute_error: 6.8319\n",
      "Epoch 60/1000\n",
      "825/825 [==============================] - 0s 435us/step - loss: 67.4921 - mean_absolute_error: 6.2888 - val_loss: 69.1594 - val_mean_absolute_error: 6.6586\n",
      "Epoch 61/1000\n",
      "825/825 [==============================] - 0s 423us/step - loss: 68.4608 - mean_absolute_error: 6.4702 - val_loss: 66.4332 - val_mean_absolute_error: 6.4265\n",
      "Epoch 62/1000\n",
      "825/825 [==============================] - 0s 396us/step - loss: 69.5154 - mean_absolute_error: 6.3945 - val_loss: 66.9097 - val_mean_absolute_error: 6.4802\n",
      "Epoch 63/1000\n",
      "825/825 [==============================] - 0s 475us/step - loss: 63.5655 - mean_absolute_error: 6.1380 - val_loss: 66.3388 - val_mean_absolute_error: 6.3660\n",
      "Epoch 64/1000\n",
      "825/825 [==============================] - 0s 401us/step - loss: 62.0001 - mean_absolute_error: 6.1585 - val_loss: 63.1073 - val_mean_absolute_error: 6.2135\n",
      "Epoch 65/1000\n",
      "825/825 [==============================] - 0s 442us/step - loss: 65.3282 - mean_absolute_error: 6.3585 - val_loss: 61.4357 - val_mean_absolute_error: 6.0842\n",
      "Epoch 66/1000\n",
      "825/825 [==============================] - 0s 433us/step - loss: 59.8366 - mean_absolute_error: 6.0280 - val_loss: 61.3593 - val_mean_absolute_error: 6.0428\n",
      "Epoch 67/1000\n",
      "825/825 [==============================] - 0s 286us/step - loss: 67.0806 - mean_absolute_error: 6.3801 - val_loss: 61.5948 - val_mean_absolute_error: 6.1079\n",
      "Epoch 68/1000\n",
      "825/825 [==============================] - 0s 373us/step - loss: 62.4779 - mean_absolute_error: 6.0685 - val_loss: 59.6333 - val_mean_absolute_error: 6.0280\n",
      "Epoch 69/1000\n",
      "825/825 [==============================] - 0s 384us/step - loss: 66.7518 - mean_absolute_error: 6.3514 - val_loss: 62.5823 - val_mean_absolute_error: 6.0908\n",
      "Epoch 70/1000\n",
      "825/825 [==============================] - 0s 400us/step - loss: 60.7984 - mean_absolute_error: 6.0489 - val_loss: 59.7945 - val_mean_absolute_error: 5.9794\n",
      "Epoch 71/1000\n",
      "825/825 [==============================] - 0s 387us/step - loss: 64.9136 - mean_absolute_error: 6.1015 - val_loss: 59.3195 - val_mean_absolute_error: 5.8651\n",
      "Epoch 72/1000\n",
      "825/825 [==============================] - 0s 419us/step - loss: 61.7128 - mean_absolute_error: 6.0157 - val_loss: 58.9552 - val_mean_absolute_error: 5.9204\n",
      "Epoch 73/1000\n",
      "825/825 [==============================] - 0s 380us/step - loss: 60.8294 - mean_absolute_error: 6.0466 - val_loss: 60.7494 - val_mean_absolute_error: 6.0116\n",
      "Epoch 74/1000\n",
      "825/825 [==============================] - 0s 445us/step - loss: 60.8467 - mean_absolute_error: 6.0261 - val_loss: 59.0291 - val_mean_absolute_error: 5.9759\n",
      "Epoch 75/1000\n",
      "825/825 [==============================] - 0s 406us/step - loss: 57.7935 - mean_absolute_error: 5.7940 - val_loss: 60.3454 - val_mean_absolute_error: 6.0720\n",
      "Epoch 76/1000\n",
      "825/825 [==============================] - 0s 431us/step - loss: 59.7182 - mean_absolute_error: 5.9959 - val_loss: 59.4593 - val_mean_absolute_error: 5.9782\n",
      "Epoch 77/1000\n",
      "825/825 [==============================] - 0s 374us/step - loss: 66.4314 - mean_absolute_error: 6.3475 - val_loss: 58.7350 - val_mean_absolute_error: 5.9095\n",
      "Epoch 78/1000\n",
      "825/825 [==============================] - 0s 405us/step - loss: 56.2840 - mean_absolute_error: 5.7807 - val_loss: 59.7981 - val_mean_absolute_error: 5.9145\n",
      "Epoch 79/1000\n",
      "825/825 [==============================] - 0s 452us/step - loss: 64.3734 - mean_absolute_error: 6.2299 - val_loss: 59.1902 - val_mean_absolute_error: 5.9755\n",
      "Epoch 80/1000\n",
      "825/825 [==============================] - 0s 386us/step - loss: 60.3780 - mean_absolute_error: 6.0306 - val_loss: 59.1746 - val_mean_absolute_error: 5.9035\n",
      "Epoch 81/1000\n",
      "825/825 [==============================] - 0s 446us/step - loss: 56.5604 - mean_absolute_error: 5.7986 - val_loss: 59.2512 - val_mean_absolute_error: 5.8663\n",
      "Epoch 82/1000\n",
      "825/825 [==============================] - 0s 453us/step - loss: 63.3395 - mean_absolute_error: 6.1426 - val_loss: 56.6310 - val_mean_absolute_error: 5.7822\n",
      "Epoch 83/1000\n",
      "825/825 [==============================] - 0s 454us/step - loss: 59.0048 - mean_absolute_error: 5.9235 - val_loss: 57.6834 - val_mean_absolute_error: 5.7843\n",
      "Epoch 84/1000\n",
      "825/825 [==============================] - 0s 411us/step - loss: 62.5182 - mean_absolute_error: 6.0568 - val_loss: 57.8702 - val_mean_absolute_error: 5.8644\n",
      "Epoch 85/1000\n",
      "825/825 [==============================] - 0s 414us/step - loss: 60.9967 - mean_absolute_error: 6.1119 - val_loss: 58.0187 - val_mean_absolute_error: 5.7755\n",
      "Epoch 86/1000\n",
      "825/825 [==============================] - 0s 426us/step - loss: 61.1819 - mean_absolute_error: 6.0781 - val_loss: 56.7487 - val_mean_absolute_error: 5.7600\n",
      "Epoch 87/1000\n",
      "825/825 [==============================] - 0s 442us/step - loss: 54.1959 - mean_absolute_error: 5.6148 - val_loss: 55.6150 - val_mean_absolute_error: 5.6678\n",
      "Epoch 88/1000\n",
      "825/825 [==============================] - 0s 456us/step - loss: 57.9572 - mean_absolute_error: 5.9456 - val_loss: 54.4341 - val_mean_absolute_error: 5.5772\n",
      "Epoch 89/1000\n",
      "825/825 [==============================] - 0s 432us/step - loss: 56.3813 - mean_absolute_error: 5.8881 - val_loss: 54.7400 - val_mean_absolute_error: 5.6694\n",
      "Epoch 90/1000\n",
      "825/825 [==============================] - 0s 501us/step - loss: 62.1160 - mean_absolute_error: 6.0565 - val_loss: 54.4868 - val_mean_absolute_error: 5.5437\n",
      "Epoch 91/1000\n",
      "825/825 [==============================] - 0s 482us/step - loss: 57.2484 - mean_absolute_error: 5.8968 - val_loss: 53.0465 - val_mean_absolute_error: 5.6357\n",
      "Epoch 92/1000\n",
      "825/825 [==============================] - 0s 501us/step - loss: 57.5320 - mean_absolute_error: 5.8809 - val_loss: 54.6358 - val_mean_absolute_error: 5.5944\n",
      "Epoch 93/1000\n",
      "825/825 [==============================] - 0s 478us/step - loss: 55.6094 - mean_absolute_error: 5.7973 - val_loss: 55.3401 - val_mean_absolute_error: 5.5642\n",
      "Epoch 94/1000\n",
      "825/825 [==============================] - 0s 410us/step - loss: 55.7540 - mean_absolute_error: 5.7231 - val_loss: 52.2659 - val_mean_absolute_error: 5.4981\n",
      "Epoch 95/1000\n",
      "825/825 [==============================] - 0s 387us/step - loss: 59.5814 - mean_absolute_error: 5.9376 - val_loss: 53.0716 - val_mean_absolute_error: 5.5532\n"
     ]
    },
    {
     "name": "stdout",
     "output_type": "stream",
     "text": [
      "Epoch 96/1000\n",
      "825/825 [==============================] - 0s 378us/step - loss: 54.3722 - mean_absolute_error: 5.7231 - val_loss: 52.3415 - val_mean_absolute_error: 5.4290\n",
      "Epoch 97/1000\n",
      "825/825 [==============================] - 0s 442us/step - loss: 58.3041 - mean_absolute_error: 5.9030 - val_loss: 53.4610 - val_mean_absolute_error: 5.4204\n",
      "Epoch 98/1000\n",
      "825/825 [==============================] - 0s 418us/step - loss: 62.4607 - mean_absolute_error: 6.0702 - val_loss: 55.3946 - val_mean_absolute_error: 5.5454\n",
      "Epoch 99/1000\n",
      "825/825 [==============================] - 0s 369us/step - loss: 62.7363 - mean_absolute_error: 6.2657 - val_loss: 53.1367 - val_mean_absolute_error: 5.5412\n",
      "Epoch 100/1000\n",
      "825/825 [==============================] - 0s 379us/step - loss: 56.9812 - mean_absolute_error: 5.7810 - val_loss: 53.7682 - val_mean_absolute_error: 5.4670\n",
      "Epoch 101/1000\n",
      "825/825 [==============================] - 0s 414us/step - loss: 60.0439 - mean_absolute_error: 6.0303 - val_loss: 52.2006 - val_mean_absolute_error: 5.3423\n",
      "Epoch 102/1000\n",
      "825/825 [==============================] - 0s 328us/step - loss: 58.3112 - mean_absolute_error: 5.9475 - val_loss: 52.7005 - val_mean_absolute_error: 5.4759\n",
      "Epoch 103/1000\n",
      "825/825 [==============================] - 0s 421us/step - loss: 59.4051 - mean_absolute_error: 6.0351 - val_loss: 53.1210 - val_mean_absolute_error: 5.3929\n",
      "Epoch 104/1000\n",
      "825/825 [==============================] - 0s 468us/step - loss: 55.3185 - mean_absolute_error: 5.6433 - val_loss: 51.9970 - val_mean_absolute_error: 5.4294\n",
      "Epoch 105/1000\n",
      "825/825 [==============================] - 0s 355us/step - loss: 60.0894 - mean_absolute_error: 6.0193 - val_loss: 52.1996 - val_mean_absolute_error: 5.3753\n",
      "Epoch 106/1000\n",
      "825/825 [==============================] - 0s 478us/step - loss: 64.1060 - mean_absolute_error: 6.1685 - val_loss: 53.3819 - val_mean_absolute_error: 5.4711\n",
      "Epoch 107/1000\n",
      "825/825 [==============================] - 0s 441us/step - loss: 55.5916 - mean_absolute_error: 5.6914 - val_loss: 51.9806 - val_mean_absolute_error: 5.3705\n",
      "Epoch 108/1000\n",
      "825/825 [==============================] - 0s 464us/step - loss: 62.5544 - mean_absolute_error: 6.1355 - val_loss: 52.4924 - val_mean_absolute_error: 5.3579\n",
      "Epoch 109/1000\n",
      "825/825 [==============================] - 0s 449us/step - loss: 55.4290 - mean_absolute_error: 5.7709 - val_loss: 52.3941 - val_mean_absolute_error: 5.3617\n",
      "Epoch 110/1000\n",
      "825/825 [==============================] - 0s 351us/step - loss: 58.7177 - mean_absolute_error: 5.9109 - val_loss: 52.2884 - val_mean_absolute_error: 5.3487\n",
      "Epoch 111/1000\n",
      "825/825 [==============================] - 0s 380us/step - loss: 58.9587 - mean_absolute_error: 5.9617 - val_loss: 52.1463 - val_mean_absolute_error: 5.3341\n",
      "Epoch 112/1000\n",
      "825/825 [==============================] - 0s 432us/step - loss: 55.4708 - mean_absolute_error: 5.7609 - val_loss: 51.9571 - val_mean_absolute_error: 5.3267\n",
      "Epoch 113/1000\n",
      "825/825 [==============================] - 0s 476us/step - loss: 55.7441 - mean_absolute_error: 5.7759 - val_loss: 51.1068 - val_mean_absolute_error: 5.3372\n",
      "Epoch 114/1000\n",
      "825/825 [==============================] - 0s 488us/step - loss: 55.3642 - mean_absolute_error: 5.7490 - val_loss: 52.5269 - val_mean_absolute_error: 5.3224\n",
      "Epoch 115/1000\n",
      "825/825 [==============================] - 0s 444us/step - loss: 56.1003 - mean_absolute_error: 5.6961 - val_loss: 52.1890 - val_mean_absolute_error: 5.3753\n",
      "Epoch 116/1000\n",
      "825/825 [==============================] - 0s 470us/step - loss: 56.1713 - mean_absolute_error: 5.7777 - val_loss: 51.0074 - val_mean_absolute_error: 5.2654\n",
      "Epoch 117/1000\n",
      "825/825 [==============================] - 0s 492us/step - loss: 57.3611 - mean_absolute_error: 5.9878 - val_loss: 50.4418 - val_mean_absolute_error: 5.3363\n",
      "Epoch 118/1000\n",
      "825/825 [==============================] - 0s 411us/step - loss: 62.6690 - mean_absolute_error: 6.0825 - val_loss: 52.4985 - val_mean_absolute_error: 5.4119\n",
      "Epoch 119/1000\n",
      "825/825 [==============================] - 0s 431us/step - loss: 54.4916 - mean_absolute_error: 5.7564 - val_loss: 51.7070 - val_mean_absolute_error: 5.4474\n",
      "Epoch 120/1000\n",
      "825/825 [==============================] - 0s 414us/step - loss: 55.0224 - mean_absolute_error: 5.7241 - val_loss: 52.6909 - val_mean_absolute_error: 5.4601\n",
      "Epoch 121/1000\n",
      "825/825 [==============================] - 0s 481us/step - loss: 53.1364 - mean_absolute_error: 5.6808 - val_loss: 52.9716 - val_mean_absolute_error: 5.4718\n",
      "Epoch 122/1000\n",
      "825/825 [==============================] - 0s 354us/step - loss: 59.2351 - mean_absolute_error: 5.9152 - val_loss: 53.2538 - val_mean_absolute_error: 5.5133\n",
      "Epoch 123/1000\n",
      "825/825 [==============================] - 0s 428us/step - loss: 53.5384 - mean_absolute_error: 5.6698 - val_loss: 52.0432 - val_mean_absolute_error: 5.3315\n",
      "Epoch 124/1000\n",
      "825/825 [==============================] - 0s 438us/step - loss: 56.6254 - mean_absolute_error: 5.8475 - val_loss: 52.1256 - val_mean_absolute_error: 5.4841\n",
      "Epoch 125/1000\n",
      "825/825 [==============================] - 0s 472us/step - loss: 58.3843 - mean_absolute_error: 5.9309 - val_loss: 52.5659 - val_mean_absolute_error: 5.5147\n",
      "Epoch 126/1000\n",
      "825/825 [==============================] - 0s 395us/step - loss: 54.6233 - mean_absolute_error: 5.7107 - val_loss: 51.9495 - val_mean_absolute_error: 5.5449\n",
      "Epoch 127/1000\n",
      "825/825 [==============================] - 0s 424us/step - loss: 56.0948 - mean_absolute_error: 5.7894 - val_loss: 50.6417 - val_mean_absolute_error: 5.3445\n"
     ]
    }
   ],
   "source": [
    "history = model.fit(X_train, y_train, epochs=1000, validation_data=[X_val, y_val], callbacks=[early_stop])"
   ]
  },
  {
   "cell_type": "code",
   "execution_count": 97,
   "metadata": {},
   "outputs": [
    {
     "data": {
      "image/png": "[encoded data removed]",
      "text/plain": [
       "<Figure size 432x288 with 1 Axes>"
      ]
     },
     "metadata": {
      "needs_background": "light"
     },
     "output_type": "display_data"
    }
   ],
   "source": [
    "plot_history(history)"
   ]
  },
  {
   "cell_type": "code",
   "execution_count": 98,
   "metadata": {},
   "outputs": [
    {
     "data": {
      "text/plain": [
       "50.817903348210194"
      ]
     },
     "execution_count": 98,
     "metadata": {},
     "output_type": "execute_result"
    }
   ],
   "source": [
    "pred = model.predict(X_test)\n",
    "msse(pred.flatten(), y_test)"
   ]
  },
  {
   "cell_type": "code",
   "execution_count": 99,
   "metadata": {},
   "outputs": [
    {
     "data": {
      "image/png": "[encoded data removed]",
      "text/plain": [
       "<Figure size 432x432 with 1 Axes>"
      ]
     },
     "metadata": {
      "needs_background": "light"
     },
     "output_type": "display_data"
    }
   ],
   "source": [
    "plot_predictions(pred, y_test)"
   ]
  },
  {
   "cell_type": "code",
   "execution_count": 100,
   "metadata": {},
   "outputs": [],
   "source": [
    "weights = model.get_weights()\n",
    "np.save('relu_weights', weights, allow_pickle=True)"
   ]
  },
  {
   "cell_type": "code",
   "execution_count": null,
   "metadata": {},
   "outputs": [],
   "source": []
  }
 ],
 "metadata": {
  "kernelspec": {
   "display_name": "Python 3",
   "language": "python",
   "name": "python3"
  },
  "language_info": {
   "codemirror_mode": {
    "name": "ipython",
    "version": 3
   },
   "file_extension": ".py",
   "mimetype": "text/x-python",
   "name": "python",
   "nbconvert_exporter": "python",
   "pygments_lexer": "ipython3",
   "version": "3.6.6"
  }
 },
 "nbformat": 4,
 "nbformat_minor": 2
}
