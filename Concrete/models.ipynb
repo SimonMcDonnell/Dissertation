{
 "cells": [
  {
   "cell_type": "code",
   "execution_count": 1,
   "metadata": {},
   "outputs": [],
   "source": [
    "import numpy as np\n",
    "import pandas as pd\n",
    "import matplotlib.pyplot as plt\n",
    "from tensorflow import keras\n",
    "import tensorflow as tf\n",
    "from sklearn.model_selection import train_test_split\n",
    "from sklearn.preprocessing import LabelEncoder, StandardScaler\n",
    "from sklearn.linear_model import LinearRegression\n",
    "import os"
   ]
  },
  {
   "cell_type": "markdown",
   "metadata": {},
   "source": [
    "## Prepare data"
   ]
  },
  {
   "cell_type": "code",
   "execution_count": 2,
   "metadata": {},
   "outputs": [],
   "source": [
    "data = pd.read_csv(os.path.join(os.getcwd(), 'concrete_data.csv'))"
   ]
  },
  {
   "cell_type": "code",
   "execution_count": 3,
   "metadata": {},
   "outputs": [
    {
     "data": {
      "text/html": [
       "<div>\n",
       "<style scoped>\n",
       "    .dataframe tbody tr th:only-of-type {\n",
       "        vertical-align: middle;\n",
       "    }\n",
       "\n",
       "    .dataframe tbody tr th {\n",
       "        vertical-align: top;\n",
       "    }\n",
       "\n",
       "    .dataframe thead th {\n",
       "        text-align: right;\n",
       "    }\n",
       "</style>\n",
       "<table border=\"1\" class=\"dataframe\">\n",
       "  <thead>\n",
       "    <tr style=\"text-align: right;\">\n",
       "      <th></th>\n",
       "      <th>cement</th>\n",
       "      <th>blast_furnace_slag</th>\n",
       "      <th>fly_ash</th>\n",
       "      <th>water</th>\n",
       "      <th>superplasticizer</th>\n",
       "      <th>coarse_aggregate</th>\n",
       "      <th>fine_aggregate</th>\n",
       "      <th>age</th>\n",
       "      <th>ccs</th>\n",
       "    </tr>\n",
       "  </thead>\n",
       "  <tbody>\n",
       "    <tr>\n",
       "      <th>count</th>\n",
       "      <td>1030.000000</td>\n",
       "      <td>1030.000000</td>\n",
       "      <td>1030.000000</td>\n",
       "      <td>1030.000000</td>\n",
       "      <td>1030.000000</td>\n",
       "      <td>1030.000000</td>\n",
       "      <td>1030.000000</td>\n",
       "      <td>1030.000000</td>\n",
       "      <td>1030.000000</td>\n",
       "    </tr>\n",
       "    <tr>\n",
       "      <th>mean</th>\n",
       "      <td>281.167864</td>\n",
       "      <td>73.895825</td>\n",
       "      <td>54.188350</td>\n",
       "      <td>181.567282</td>\n",
       "      <td>6.204660</td>\n",
       "      <td>972.918932</td>\n",
       "      <td>773.580485</td>\n",
       "      <td>45.662136</td>\n",
       "      <td>35.817961</td>\n",
       "    </tr>\n",
       "    <tr>\n",
       "      <th>std</th>\n",
       "      <td>104.506364</td>\n",
       "      <td>86.279342</td>\n",
       "      <td>63.997004</td>\n",
       "      <td>21.354219</td>\n",
       "      <td>5.973841</td>\n",
       "      <td>77.753954</td>\n",
       "      <td>80.175980</td>\n",
       "      <td>63.169912</td>\n",
       "      <td>16.705742</td>\n",
       "    </tr>\n",
       "    <tr>\n",
       "      <th>min</th>\n",
       "      <td>102.000000</td>\n",
       "      <td>0.000000</td>\n",
       "      <td>0.000000</td>\n",
       "      <td>121.800000</td>\n",
       "      <td>0.000000</td>\n",
       "      <td>801.000000</td>\n",
       "      <td>594.000000</td>\n",
       "      <td>1.000000</td>\n",
       "      <td>2.330000</td>\n",
       "    </tr>\n",
       "    <tr>\n",
       "      <th>25%</th>\n",
       "      <td>192.375000</td>\n",
       "      <td>0.000000</td>\n",
       "      <td>0.000000</td>\n",
       "      <td>164.900000</td>\n",
       "      <td>0.000000</td>\n",
       "      <td>932.000000</td>\n",
       "      <td>730.950000</td>\n",
       "      <td>7.000000</td>\n",
       "      <td>23.710000</td>\n",
       "    </tr>\n",
       "    <tr>\n",
       "      <th>50%</th>\n",
       "      <td>272.900000</td>\n",
       "      <td>22.000000</td>\n",
       "      <td>0.000000</td>\n",
       "      <td>185.000000</td>\n",
       "      <td>6.400000</td>\n",
       "      <td>968.000000</td>\n",
       "      <td>779.500000</td>\n",
       "      <td>28.000000</td>\n",
       "      <td>34.445000</td>\n",
       "    </tr>\n",
       "    <tr>\n",
       "      <th>75%</th>\n",
       "      <td>350.000000</td>\n",
       "      <td>142.950000</td>\n",
       "      <td>118.300000</td>\n",
       "      <td>192.000000</td>\n",
       "      <td>10.200000</td>\n",
       "      <td>1029.400000</td>\n",
       "      <td>824.000000</td>\n",
       "      <td>56.000000</td>\n",
       "      <td>46.135000</td>\n",
       "    </tr>\n",
       "    <tr>\n",
       "      <th>max</th>\n",
       "      <td>540.000000</td>\n",
       "      <td>359.400000</td>\n",
       "      <td>200.100000</td>\n",
       "      <td>247.000000</td>\n",
       "      <td>32.200000</td>\n",
       "      <td>1145.000000</td>\n",
       "      <td>992.600000</td>\n",
       "      <td>365.000000</td>\n",
       "      <td>82.600000</td>\n",
       "    </tr>\n",
       "  </tbody>\n",
       "</table>\n",
       "</div>"
      ],
      "text/plain": [
       "            cement  blast_furnace_slag      fly_ash        water  \\\n",
       "count  1030.000000         1030.000000  1030.000000  1030.000000   \n",
       "mean    281.167864           73.895825    54.188350   181.567282   \n",
       "std     104.506364           86.279342    63.997004    21.354219   \n",
       "min     102.000000            0.000000     0.000000   121.800000   \n",
       "25%     192.375000            0.000000     0.000000   164.900000   \n",
       "50%     272.900000           22.000000     0.000000   185.000000   \n",
       "75%     350.000000          142.950000   118.300000   192.000000   \n",
       "max     540.000000          359.400000   200.100000   247.000000   \n",
       "\n",
       "       superplasticizer  coarse_aggregate  fine_aggregate          age  \\\n",
       "count       1030.000000       1030.000000     1030.000000  1030.000000   \n",
       "mean           6.204660        972.918932      773.580485    45.662136   \n",
       "std            5.973841         77.753954       80.175980    63.169912   \n",
       "min            0.000000        801.000000      594.000000     1.000000   \n",
       "25%            0.000000        932.000000      730.950000     7.000000   \n",
       "50%            6.400000        968.000000      779.500000    28.000000   \n",
       "75%           10.200000       1029.400000      824.000000    56.000000   \n",
       "max           32.200000       1145.000000      992.600000   365.000000   \n",
       "\n",
       "               ccs  \n",
       "count  1030.000000  \n",
       "mean     35.817961  \n",
       "std      16.705742  \n",
       "min       2.330000  \n",
       "25%      23.710000  \n",
       "50%      34.445000  \n",
       "75%      46.135000  \n",
       "max      82.600000  "
      ]
     },
     "execution_count": 3,
     "metadata": {},
     "output_type": "execute_result"
    }
   ],
   "source": [
    "data.describe()"
   ]
  },
  {
   "cell_type": "code",
   "execution_count": 24,
   "metadata": {},
   "outputs": [
    {
     "name": "stdout",
     "output_type": "stream",
     "text": [
      "(825, 8) (102, 8) (103, 8)\n",
      "(825,) (102,) (103,)\n"
     ]
    }
   ],
   "source": [
    "X = data.drop('ccs', axis=1)\n",
    "y = data['ccs']\n",
    "X_train, X_test, y_train, y_test = train_test_split(X, y, test_size=0.1, random_state=1)\n",
    "X_train, X_val, y_train, y_val = train_test_split(X_train, y_train, test_size=0.11, random_state=1)\n",
    "print(X_train.shape, X_val.shape, X_test.shape)\n",
    "print(y_train.shape, y_val.shape, y_test.shape)"
   ]
  },
  {
   "cell_type": "code",
   "execution_count": 25,
   "metadata": {
    "scrolled": true
   },
   "outputs": [
    {
     "name": "stderr",
     "output_type": "stream",
     "text": [
      "/home/simon/miniconda3/envs/diss/lib/python3.6/site-packages/sklearn/preprocessing/data.py:617: DataConversionWarning: Data with input dtype int64, float64 were all converted to float64 by StandardScaler.\n",
      "  return self.partial_fit(X, y)\n",
      "/home/simon/miniconda3/envs/diss/lib/python3.6/site-packages/sklearn/base.py:462: DataConversionWarning: Data with input dtype int64, float64 were all converted to float64 by StandardScaler.\n",
      "  return self.fit(X, **fit_params).transform(X)\n",
      "/home/simon/miniconda3/envs/diss/lib/python3.6/site-packages/ipykernel_launcher.py:4: DataConversionWarning: Data with input dtype int64, float64 were all converted to float64 by StandardScaler.\n",
      "  after removing the cwd from sys.path.\n",
      "/home/simon/miniconda3/envs/diss/lib/python3.6/site-packages/ipykernel_launcher.py:5: DataConversionWarning: Data with input dtype int64, float64 were all converted to float64 by StandardScaler.\n",
      "  \"\"\"\n"
     ]
    }
   ],
   "source": [
    "X_scaler = StandardScaler()\n",
    "y_scaler = StandardScaler()\n",
    "X_train = X_scaler.fit_transform(X_train)\n",
    "X_val = X_scaler.transform(X_val)\n",
    "X_test = X_scaler.transform(X_test)\n",
    "y_train = y_scaler.fit_transform(y_train.values.reshape(-1, 1))\n",
    "y_val = y_scaler.transform(y_val.values.reshape(-1, 1))"
   ]
  },
  {
   "cell_type": "code",
   "execution_count": 26,
   "metadata": {},
   "outputs": [],
   "source": [
    "def plot_history(history):\n",
    "    plt.figure()\n",
    "    plt.xlabel('Epoch')\n",
    "    plt.ylabel('Mean Abs Error [1000$]')\n",
    "    plt.plot(history.epoch, np.array(history.history['mean_absolute_error']),\n",
    "           label='Train Loss')\n",
    "    plt.plot(history.epoch, np.array(history.history['val_mean_absolute_error']),\n",
    "           label = 'Val loss')\n",
    "    plt.legend()"
   ]
  },
  {
   "cell_type": "code",
   "execution_count": 27,
   "metadata": {},
   "outputs": [],
   "source": [
    "def plot_predictions(pred, y, save_as=None):\n",
    "    fig = plt.figure(figsize=(6, 6))\n",
    "    ax = plt.subplot(111)\n",
    "    ax.scatter(pred, y, alpha=0.2)\n",
    "    ax.set_xlabel('predicted')\n",
    "    ax.set_ylabel('true')\n",
    "    ax.plot(np.arange(0, 90, 0.1), np.arange(0, 90, 0.1))\n",
    "    if save_as != None:\n",
    "        plt.savefig(save_as)"
   ]
  },
  {
   "cell_type": "code",
   "execution_count": 28,
   "metadata": {},
   "outputs": [],
   "source": [
    "def msse(pred, y):\n",
    "    return (np.sum((y - pred)**2)) / y.shape[0]"
   ]
  },
  {
   "cell_type": "markdown",
   "metadata": {},
   "source": [
    "## Training"
   ]
  },
  {
   "cell_type": "code",
   "execution_count": 46,
   "metadata": {},
   "outputs": [],
   "source": [
    "model = keras.Sequential([\n",
    "    keras.layers.Dense(8, input_shape=(8,)),\n",
    "    #keras.layers.BatchNormalization(),\n",
    "    keras.layers.Activation('relu'),\n",
    "    keras.layers.Dense(1)\n",
    "])\n",
    "optimizer = tf.train.AdamOptimizer(0.001)\n",
    "model.compile(loss='mse', optimizer=optimizer, metrics=['mae'])"
   ]
  },
  {
   "cell_type": "code",
   "execution_count": 47,
   "metadata": {},
   "outputs": [
    {
     "name": "stdout",
     "output_type": "stream",
     "text": [
      "_________________________________________________________________\n",
      "Layer (type)                 Output Shape              Param #   \n",
      "=================================================================\n",
      "dense_4 (Dense)              (None, 8)                 72        \n",
      "_________________________________________________________________\n",
      "activation_2 (Activation)    (None, 8)                 0         \n",
      "_________________________________________________________________\n",
      "dense_5 (Dense)              (None, 1)                 9         \n",
      "=================================================================\n",
      "Total params: 81\n",
      "Trainable params: 81\n",
      "Non-trainable params: 0\n",
      "_________________________________________________________________\n"
     ]
    }
   ],
   "source": [
    "model.summary()"
   ]
  },
  {
   "cell_type": "code",
   "execution_count": 48,
   "metadata": {},
   "outputs": [],
   "source": [
    "early_stop = keras.callbacks.EarlyStopping(monitor='val_loss', min_delta=0, patience=10, verbose=0, mode='auto')"
   ]
  },
  {
   "cell_type": "code",
   "execution_count": 49,
   "metadata": {
    "scrolled": true
   },
   "outputs": [
    {
     "name": "stdout",
     "output_type": "stream",
     "text": [
      "Train on 825 samples, validate on 102 samples\n",
      "Epoch 1/1000\n",
      "825/825 [==============================] - 1s 786us/step - loss: 1.5006 - mean_absolute_error: 1.0112 - val_loss: 1.1426 - val_mean_absolute_error: 0.8716\n",
      "Epoch 2/1000\n",
      "825/825 [==============================] - 0s 197us/step - loss: 1.2599 - mean_absolute_error: 0.9201 - val_loss: 0.9756 - val_mean_absolute_error: 0.7953\n",
      "Epoch 3/1000\n",
      "825/825 [==============================] - 0s 317us/step - loss: 1.0786 - mean_absolute_error: 0.8463 - val_loss: 0.8517 - val_mean_absolute_error: 0.7357\n",
      "Epoch 4/1000\n",
      "825/825 [==============================] - 0s 286us/step - loss: 0.9376 - mean_absolute_error: 0.7861 - val_loss: 0.7549 - val_mean_absolute_error: 0.6965\n",
      "Epoch 5/1000\n",
      "825/825 [==============================] - 0s 268us/step - loss: 0.8300 - mean_absolute_error: 0.7351 - val_loss: 0.6746 - val_mean_absolute_error: 0.6633\n",
      "Epoch 6/1000\n",
      "825/825 [==============================] - 0s 234us/step - loss: 0.7437 - mean_absolute_error: 0.6926 - val_loss: 0.6110 - val_mean_absolute_error: 0.6366\n",
      "Epoch 7/1000\n",
      "825/825 [==============================] - 0s 234us/step - loss: 0.6742 - mean_absolute_error: 0.6575 - val_loss: 0.5547 - val_mean_absolute_error: 0.6111\n",
      "Epoch 8/1000\n",
      "825/825 [==============================] - 0s 291us/step - loss: 0.6168 - mean_absolute_error: 0.6274 - val_loss: 0.5107 - val_mean_absolute_error: 0.5915\n",
      "Epoch 9/1000\n",
      "825/825 [==============================] - 0s 241us/step - loss: 0.5716 - mean_absolute_error: 0.6013 - val_loss: 0.4760 - val_mean_absolute_error: 0.5766\n",
      "Epoch 10/1000\n",
      "825/825 [==============================] - 0s 273us/step - loss: 0.5345 - mean_absolute_error: 0.5796 - val_loss: 0.4471 - val_mean_absolute_error: 0.5645\n",
      "Epoch 11/1000\n",
      "825/825 [==============================] - 0s 284us/step - loss: 0.5042 - mean_absolute_error: 0.5609 - val_loss: 0.4239 - val_mean_absolute_error: 0.5536\n",
      "Epoch 12/1000\n",
      "825/825 [==============================] - 0s 364us/step - loss: 0.4798 - mean_absolute_error: 0.5460 - val_loss: 0.4082 - val_mean_absolute_error: 0.5458\n",
      "Epoch 13/1000\n",
      "825/825 [==============================] - 0s 209us/step - loss: 0.4575 - mean_absolute_error: 0.5327 - val_loss: 0.3886 - val_mean_absolute_error: 0.5309\n",
      "Epoch 14/1000\n",
      "825/825 [==============================] - 0s 298us/step - loss: 0.4384 - mean_absolute_error: 0.5216 - val_loss: 0.3746 - val_mean_absolute_error: 0.5199\n",
      "Epoch 15/1000\n",
      "825/825 [==============================] - 0s 224us/step - loss: 0.4203 - mean_absolute_error: 0.5110 - val_loss: 0.3621 - val_mean_absolute_error: 0.5087\n",
      "Epoch 16/1000\n",
      "825/825 [==============================] - 0s 235us/step - loss: 0.4044 - mean_absolute_error: 0.5010 - val_loss: 0.3520 - val_mean_absolute_error: 0.4991\n",
      "Epoch 17/1000\n",
      "825/825 [==============================] - ETA: 0s - loss: 0.3618 - mean_absolute_error: 0.474 - 0s 243us/step - loss: 0.3893 - mean_absolute_error: 0.4911 - val_loss: 0.3446 - val_mean_absolute_error: 0.4925\n",
      "Epoch 18/1000\n",
      "825/825 [==============================] - 0s 275us/step - loss: 0.3772 - mean_absolute_error: 0.4831 - val_loss: 0.3357 - val_mean_absolute_error: 0.4835\n",
      "Epoch 19/1000\n",
      "825/825 [==============================] - 0s 275us/step - loss: 0.3650 - mean_absolute_error: 0.4752 - val_loss: 0.3286 - val_mean_absolute_error: 0.4760\n",
      "Epoch 20/1000\n",
      "825/825 [==============================] - 0s 265us/step - loss: 0.3538 - mean_absolute_error: 0.4674 - val_loss: 0.3252 - val_mean_absolute_error: 0.4725\n",
      "Epoch 21/1000\n",
      "825/825 [==============================] - 0s 282us/step - loss: 0.3425 - mean_absolute_error: 0.4600 - val_loss: 0.3185 - val_mean_absolute_error: 0.4652\n",
      "Epoch 22/1000\n",
      "825/825 [==============================] - 0s 258us/step - loss: 0.3322 - mean_absolute_error: 0.4528 - val_loss: 0.3109 - val_mean_absolute_error: 0.4569\n",
      "Epoch 23/1000\n",
      "825/825 [==============================] - 0s 299us/step - loss: 0.3230 - mean_absolute_error: 0.4466 - val_loss: 0.3062 - val_mean_absolute_error: 0.4524\n",
      "Epoch 24/1000\n",
      "825/825 [==============================] - 0s 282us/step - loss: 0.3133 - mean_absolute_error: 0.4395 - val_loss: 0.3005 - val_mean_absolute_error: 0.4458\n",
      "Epoch 25/1000\n",
      "825/825 [==============================] - 0s 340us/step - loss: 0.3051 - mean_absolute_error: 0.4336 - val_loss: 0.2951 - val_mean_absolute_error: 0.4398\n",
      "Epoch 26/1000\n",
      "825/825 [==============================] - 0s 281us/step - loss: 0.2974 - mean_absolute_error: 0.4278 - val_loss: 0.2933 - val_mean_absolute_error: 0.4380\n",
      "Epoch 27/1000\n",
      "825/825 [==============================] - 0s 296us/step - loss: 0.2893 - mean_absolute_error: 0.4218 - val_loss: 0.2869 - val_mean_absolute_error: 0.4300\n",
      "Epoch 28/1000\n",
      "825/825 [==============================] - 0s 308us/step - loss: 0.2822 - mean_absolute_error: 0.4160 - val_loss: 0.2850 - val_mean_absolute_error: 0.4281\n",
      "Epoch 29/1000\n",
      "825/825 [==============================] - 0s 268us/step - loss: 0.2754 - mean_absolute_error: 0.4105 - val_loss: 0.2821 - val_mean_absolute_error: 0.4247\n",
      "Epoch 30/1000\n",
      "825/825 [==============================] - 0s 230us/step - loss: 0.2693 - mean_absolute_error: 0.4060 - val_loss: 0.2780 - val_mean_absolute_error: 0.4196\n",
      "Epoch 31/1000\n",
      "825/825 [==============================] - 0s 269us/step - loss: 0.2633 - mean_absolute_error: 0.4006 - val_loss: 0.2762 - val_mean_absolute_error: 0.4177\n",
      "Epoch 32/1000\n",
      "825/825 [==============================] - 0s 265us/step - loss: 0.2576 - mean_absolute_error: 0.3958 - val_loss: 0.2718 - val_mean_absolute_error: 0.4120\n",
      "Epoch 33/1000\n",
      "825/825 [==============================] - 0s 275us/step - loss: 0.2524 - mean_absolute_error: 0.3914 - val_loss: 0.2689 - val_mean_absolute_error: 0.4083\n",
      "Epoch 34/1000\n",
      "825/825 [==============================] - 0s 288us/step - loss: 0.2493 - mean_absolute_error: 0.3884 - val_loss: 0.2662 - val_mean_absolute_error: 0.4032\n",
      "Epoch 35/1000\n",
      "825/825 [==============================] - 0s 265us/step - loss: 0.2441 - mean_absolute_error: 0.3841 - val_loss: 0.2657 - val_mean_absolute_error: 0.4043\n",
      "Epoch 36/1000\n",
      "825/825 [==============================] - 0s 262us/step - loss: 0.2386 - mean_absolute_error: 0.3793 - val_loss: 0.2628 - val_mean_absolute_error: 0.4000\n",
      "Epoch 37/1000\n",
      "825/825 [==============================] - 0s 288us/step - loss: 0.2346 - mean_absolute_error: 0.3752 - val_loss: 0.2620 - val_mean_absolute_error: 0.3998\n",
      "Epoch 38/1000\n",
      "825/825 [==============================] - 0s 230us/step - loss: 0.2306 - mean_absolute_error: 0.3719 - val_loss: 0.2565 - val_mean_absolute_error: 0.3934\n",
      "Epoch 39/1000\n",
      "825/825 [==============================] - 0s 204us/step - loss: 0.2264 - mean_absolute_error: 0.3681 - val_loss: 0.2558 - val_mean_absolute_error: 0.3938\n",
      "Epoch 40/1000\n",
      "825/825 [==============================] - 0s 255us/step - loss: 0.2230 - mean_absolute_error: 0.3649 - val_loss: 0.2523 - val_mean_absolute_error: 0.3905\n",
      "Epoch 41/1000\n",
      "825/825 [==============================] - 0s 267us/step - loss: 0.2193 - mean_absolute_error: 0.3615 - val_loss: 0.2486 - val_mean_absolute_error: 0.3875\n",
      "Epoch 42/1000\n",
      "825/825 [==============================] - 0s 311us/step - loss: 0.2166 - mean_absolute_error: 0.3584 - val_loss: 0.2468 - val_mean_absolute_error: 0.3861\n",
      "Epoch 43/1000\n",
      "825/825 [==============================] - 0s 280us/step - loss: 0.2127 - mean_absolute_error: 0.3550 - val_loss: 0.2444 - val_mean_absolute_error: 0.3843\n",
      "Epoch 44/1000\n",
      "825/825 [==============================] - 0s 275us/step - loss: 0.2094 - mean_absolute_error: 0.3516 - val_loss: 0.2425 - val_mean_absolute_error: 0.3830\n",
      "Epoch 45/1000\n",
      "825/825 [==============================] - 0s 280us/step - loss: 0.2070 - mean_absolute_error: 0.3497 - val_loss: 0.2392 - val_mean_absolute_error: 0.3796\n",
      "Epoch 46/1000\n",
      "825/825 [==============================] - 0s 236us/step - loss: 0.2041 - mean_absolute_error: 0.3463 - val_loss: 0.2400 - val_mean_absolute_error: 0.3807\n",
      "Epoch 47/1000\n",
      "825/825 [==============================] - 0s 281us/step - loss: 0.2010 - mean_absolute_error: 0.3433 - val_loss: 0.2361 - val_mean_absolute_error: 0.3770\n",
      "Epoch 48/1000\n",
      "825/825 [==============================] - 0s 217us/step - loss: 0.1987 - mean_absolute_error: 0.3415 - val_loss: 0.2334 - val_mean_absolute_error: 0.3750\n"
     ]
    },
    {
     "name": "stdout",
     "output_type": "stream",
     "text": [
      "Epoch 49/1000\n",
      "825/825 [==============================] - 0s 246us/step - loss: 0.1961 - mean_absolute_error: 0.3386 - val_loss: 0.2334 - val_mean_absolute_error: 0.3744\n",
      "Epoch 50/1000\n",
      "825/825 [==============================] - 0s 238us/step - loss: 0.1937 - mean_absolute_error: 0.3364 - val_loss: 0.2321 - val_mean_absolute_error: 0.3730\n",
      "Epoch 51/1000\n",
      "825/825 [==============================] - 0s 257us/step - loss: 0.1915 - mean_absolute_error: 0.3343 - val_loss: 0.2290 - val_mean_absolute_error: 0.3708\n",
      "Epoch 52/1000\n",
      "825/825 [==============================] - 0s 253us/step - loss: 0.1892 - mean_absolute_error: 0.3324 - val_loss: 0.2272 - val_mean_absolute_error: 0.3690\n",
      "Epoch 53/1000\n",
      "825/825 [==============================] - 0s 235us/step - loss: 0.1865 - mean_absolute_error: 0.3300 - val_loss: 0.2282 - val_mean_absolute_error: 0.3693\n",
      "Epoch 54/1000\n",
      "825/825 [==============================] - 0s 267us/step - loss: 0.1849 - mean_absolute_error: 0.3287 - val_loss: 0.2253 - val_mean_absolute_error: 0.3664\n",
      "Epoch 55/1000\n",
      "825/825 [==============================] - 0s 247us/step - loss: 0.1825 - mean_absolute_error: 0.3264 - val_loss: 0.2228 - val_mean_absolute_error: 0.3650\n",
      "Epoch 56/1000\n",
      "825/825 [==============================] - 0s 259us/step - loss: 0.1807 - mean_absolute_error: 0.3248 - val_loss: 0.2222 - val_mean_absolute_error: 0.3648\n",
      "Epoch 57/1000\n",
      "825/825 [==============================] - 0s 288us/step - loss: 0.1793 - mean_absolute_error: 0.3236 - val_loss: 0.2230 - val_mean_absolute_error: 0.3650\n",
      "Epoch 58/1000\n",
      "825/825 [==============================] - 0s 225us/step - loss: 0.1773 - mean_absolute_error: 0.3214 - val_loss: 0.2208 - val_mean_absolute_error: 0.3634\n",
      "Epoch 59/1000\n",
      "825/825 [==============================] - 0s 244us/step - loss: 0.1755 - mean_absolute_error: 0.3203 - val_loss: 0.2181 - val_mean_absolute_error: 0.3606\n",
      "Epoch 60/1000\n",
      "825/825 [==============================] - 0s 267us/step - loss: 0.1745 - mean_absolute_error: 0.3200 - val_loss: 0.2190 - val_mean_absolute_error: 0.3604\n",
      "Epoch 61/1000\n",
      "825/825 [==============================] - 0s 277us/step - loss: 0.1733 - mean_absolute_error: 0.3168 - val_loss: 0.2161 - val_mean_absolute_error: 0.3587\n",
      "Epoch 62/1000\n",
      "825/825 [==============================] - 0s 237us/step - loss: 0.1714 - mean_absolute_error: 0.3158 - val_loss: 0.2156 - val_mean_absolute_error: 0.3576\n",
      "Epoch 63/1000\n",
      "825/825 [==============================] - 0s 262us/step - loss: 0.1692 - mean_absolute_error: 0.3147 - val_loss: 0.2144 - val_mean_absolute_error: 0.3566\n",
      "Epoch 64/1000\n",
      "825/825 [==============================] - 0s 259us/step - loss: 0.1677 - mean_absolute_error: 0.3131 - val_loss: 0.2141 - val_mean_absolute_error: 0.3563\n",
      "Epoch 65/1000\n",
      "825/825 [==============================] - 0s 253us/step - loss: 0.1663 - mean_absolute_error: 0.3120 - val_loss: 0.2139 - val_mean_absolute_error: 0.3563\n",
      "Epoch 66/1000\n",
      "825/825 [==============================] - 0s 217us/step - loss: 0.1652 - mean_absolute_error: 0.3104 - val_loss: 0.2132 - val_mean_absolute_error: 0.3563\n",
      "Epoch 67/1000\n",
      "825/825 [==============================] - 0s 269us/step - loss: 0.1637 - mean_absolute_error: 0.3093 - val_loss: 0.2108 - val_mean_absolute_error: 0.3541\n",
      "Epoch 68/1000\n",
      "825/825 [==============================] - 0s 230us/step - loss: 0.1629 - mean_absolute_error: 0.3088 - val_loss: 0.2111 - val_mean_absolute_error: 0.3540\n",
      "Epoch 69/1000\n",
      "825/825 [==============================] - 0s 253us/step - loss: 0.1618 - mean_absolute_error: 0.3074 - val_loss: 0.2095 - val_mean_absolute_error: 0.3545\n",
      "Epoch 70/1000\n",
      "825/825 [==============================] - 0s 286us/step - loss: 0.1607 - mean_absolute_error: 0.3065 - val_loss: 0.2082 - val_mean_absolute_error: 0.3519\n",
      "Epoch 71/1000\n",
      "825/825 [==============================] - 0s 266us/step - loss: 0.1601 - mean_absolute_error: 0.3061 - val_loss: 0.2089 - val_mean_absolute_error: 0.3532\n",
      "Epoch 72/1000\n",
      "825/825 [==============================] - 0s 231us/step - loss: 0.1591 - mean_absolute_error: 0.3054 - val_loss: 0.2079 - val_mean_absolute_error: 0.3523\n",
      "Epoch 73/1000\n",
      "825/825 [==============================] - 0s 207us/step - loss: 0.1579 - mean_absolute_error: 0.3039 - val_loss: 0.2063 - val_mean_absolute_error: 0.3507\n",
      "Epoch 74/1000\n",
      "825/825 [==============================] - 0s 237us/step - loss: 0.1572 - mean_absolute_error: 0.3032 - val_loss: 0.2058 - val_mean_absolute_error: 0.3506\n",
      "Epoch 75/1000\n",
      "825/825 [==============================] - 0s 246us/step - loss: 0.1564 - mean_absolute_error: 0.3023 - val_loss: 0.2057 - val_mean_absolute_error: 0.3511\n",
      "Epoch 76/1000\n",
      "825/825 [==============================] - 0s 275us/step - loss: 0.1554 - mean_absolute_error: 0.3020 - val_loss: 0.2056 - val_mean_absolute_error: 0.3516\n",
      "Epoch 77/1000\n",
      "825/825 [==============================] - 0s 262us/step - loss: 0.1553 - mean_absolute_error: 0.3013 - val_loss: 0.2038 - val_mean_absolute_error: 0.3496\n",
      "Epoch 78/1000\n",
      "825/825 [==============================] - 0s 275us/step - loss: 0.1538 - mean_absolute_error: 0.3001 - val_loss: 0.2047 - val_mean_absolute_error: 0.3514\n",
      "Epoch 79/1000\n",
      "825/825 [==============================] - 0s 267us/step - loss: 0.1530 - mean_absolute_error: 0.2996 - val_loss: 0.2031 - val_mean_absolute_error: 0.3495\n",
      "Epoch 80/1000\n",
      "825/825 [==============================] - 0s 257us/step - loss: 0.1521 - mean_absolute_error: 0.2989 - val_loss: 0.2021 - val_mean_absolute_error: 0.3486\n",
      "Epoch 81/1000\n",
      "825/825 [==============================] - 0s 244us/step - loss: 0.1518 - mean_absolute_error: 0.2985 - val_loss: 0.2023 - val_mean_absolute_error: 0.3488\n",
      "Epoch 82/1000\n",
      "825/825 [==============================] - 0s 272us/step - loss: 0.1513 - mean_absolute_error: 0.2980 - val_loss: 0.2022 - val_mean_absolute_error: 0.3497\n",
      "Epoch 83/1000\n",
      "825/825 [==============================] - 0s 249us/step - loss: 0.1501 - mean_absolute_error: 0.2972 - val_loss: 0.1995 - val_mean_absolute_error: 0.3467\n",
      "Epoch 84/1000\n",
      "825/825 [==============================] - 0s 240us/step - loss: 0.1498 - mean_absolute_error: 0.2966 - val_loss: 0.2004 - val_mean_absolute_error: 0.3479\n",
      "Epoch 85/1000\n",
      "825/825 [==============================] - 0s 285us/step - loss: 0.1493 - mean_absolute_error: 0.2962 - val_loss: 0.2012 - val_mean_absolute_error: 0.3488\n",
      "Epoch 86/1000\n",
      "825/825 [==============================] - 0s 262us/step - loss: 0.1487 - mean_absolute_error: 0.2958 - val_loss: 0.1989 - val_mean_absolute_error: 0.3474\n",
      "Epoch 87/1000\n",
      "825/825 [==============================] - 0s 220us/step - loss: 0.1481 - mean_absolute_error: 0.2954 - val_loss: 0.1984 - val_mean_absolute_error: 0.3453\n",
      "Epoch 88/1000\n",
      "825/825 [==============================] - 0s 287us/step - loss: 0.1474 - mean_absolute_error: 0.2948 - val_loss: 0.1991 - val_mean_absolute_error: 0.3476\n",
      "Epoch 89/1000\n",
      "825/825 [==============================] - 0s 296us/step - loss: 0.1471 - mean_absolute_error: 0.2942 - val_loss: 0.1997 - val_mean_absolute_error: 0.3473\n",
      "Epoch 90/1000\n",
      "825/825 [==============================] - 0s 325us/step - loss: 0.1462 - mean_absolute_error: 0.2935 - val_loss: 0.1967 - val_mean_absolute_error: 0.3450\n",
      "Epoch 91/1000\n",
      "825/825 [==============================] - 0s 262us/step - loss: 0.1458 - mean_absolute_error: 0.2933 - val_loss: 0.1976 - val_mean_absolute_error: 0.3448\n",
      "Epoch 92/1000\n",
      "825/825 [==============================] - 0s 241us/step - loss: 0.1456 - mean_absolute_error: 0.2929 - val_loss: 0.1975 - val_mean_absolute_error: 0.3450\n",
      "Epoch 93/1000\n",
      "825/825 [==============================] - 0s 176us/step - loss: 0.1448 - mean_absolute_error: 0.2923 - val_loss: 0.1972 - val_mean_absolute_error: 0.3452\n",
      "Epoch 94/1000\n",
      "825/825 [==============================] - 0s 145us/step - loss: 0.1448 - mean_absolute_error: 0.2925 - val_loss: 0.1973 - val_mean_absolute_error: 0.3449\n",
      "Epoch 95/1000\n",
      "825/825 [==============================] - 0s 198us/step - loss: 0.1443 - mean_absolute_error: 0.2917 - val_loss: 0.1977 - val_mean_absolute_error: 0.3463\n",
      "Epoch 96/1000\n",
      "825/825 [==============================] - 0s 205us/step - loss: 0.1440 - mean_absolute_error: 0.2919 - val_loss: 0.1952 - val_mean_absolute_error: 0.3426\n",
      "Epoch 97/1000\n",
      "825/825 [==============================] - 0s 220us/step - loss: 0.1435 - mean_absolute_error: 0.2907 - val_loss: 0.1954 - val_mean_absolute_error: 0.3443\n",
      "Epoch 98/1000\n",
      "825/825 [==============================] - 0s 213us/step - loss: 0.1429 - mean_absolute_error: 0.2905 - val_loss: 0.1958 - val_mean_absolute_error: 0.3440\n",
      "Epoch 99/1000\n",
      "825/825 [==============================] - 0s 186us/step - loss: 0.1424 - mean_absolute_error: 0.2899 - val_loss: 0.1957 - val_mean_absolute_error: 0.3431\n",
      "Epoch 100/1000\n",
      "825/825 [==============================] - 0s 226us/step - loss: 0.1419 - mean_absolute_error: 0.2894 - val_loss: 0.1933 - val_mean_absolute_error: 0.3416\n",
      "Epoch 101/1000\n",
      "825/825 [==============================] - 0s 167us/step - loss: 0.1417 - mean_absolute_error: 0.2896 - val_loss: 0.1951 - val_mean_absolute_error: 0.3423\n",
      "Epoch 102/1000\n",
      "825/825 [==============================] - 0s 217us/step - loss: 0.1415 - mean_absolute_error: 0.2890 - val_loss: 0.1956 - val_mean_absolute_error: 0.3448\n",
      "Epoch 103/1000\n",
      "825/825 [==============================] - 0s 222us/step - loss: 0.1408 - mean_absolute_error: 0.2887 - val_loss: 0.1938 - val_mean_absolute_error: 0.3418\n",
      "Epoch 104/1000\n",
      "825/825 [==============================] - 0s 183us/step - loss: 0.1410 - mean_absolute_error: 0.2889 - val_loss: 0.1954 - val_mean_absolute_error: 0.3423\n",
      "Epoch 105/1000\n",
      "825/825 [==============================] - 0s 207us/step - loss: 0.1400 - mean_absolute_error: 0.2874 - val_loss: 0.1944 - val_mean_absolute_error: 0.3438\n",
      "Epoch 106/1000\n",
      "825/825 [==============================] - 0s 185us/step - loss: 0.1397 - mean_absolute_error: 0.2877 - val_loss: 0.1914 - val_mean_absolute_error: 0.3391\n",
      "Epoch 107/1000\n",
      "825/825 [==============================] - 0s 192us/step - loss: 0.1395 - mean_absolute_error: 0.2872 - val_loss: 0.1929 - val_mean_absolute_error: 0.3402\n",
      "Epoch 108/1000\n",
      "825/825 [==============================] - 0s 152us/step - loss: 0.1396 - mean_absolute_error: 0.2871 - val_loss: 0.1953 - val_mean_absolute_error: 0.3438\n",
      "Epoch 109/1000\n",
      "825/825 [==============================] - 0s 178us/step - loss: 0.1386 - mean_absolute_error: 0.2857 - val_loss: 0.1932 - val_mean_absolute_error: 0.3423\n",
      "Epoch 110/1000\n",
      "825/825 [==============================] - 0s 165us/step - loss: 0.1383 - mean_absolute_error: 0.2863 - val_loss: 0.1932 - val_mean_absolute_error: 0.3408\n",
      "Epoch 111/1000\n",
      "825/825 [==============================] - 0s 142us/step - loss: 0.1381 - mean_absolute_error: 0.2853 - val_loss: 0.1932 - val_mean_absolute_error: 0.3402\n",
      "Epoch 112/1000\n",
      "825/825 [==============================] - 0s 216us/step - loss: 0.1379 - mean_absolute_error: 0.2852 - val_loss: 0.1928 - val_mean_absolute_error: 0.3408\n",
      "Epoch 113/1000\n",
      "825/825 [==============================] - 0s 175us/step - loss: 0.1381 - mean_absolute_error: 0.2861 - val_loss: 0.1913 - val_mean_absolute_error: 0.3375\n",
      "Epoch 114/1000\n",
      "825/825 [==============================] - 0s 198us/step - loss: 0.1369 - mean_absolute_error: 0.2839 - val_loss: 0.1944 - val_mean_absolute_error: 0.3429\n",
      "Epoch 115/1000\n",
      "825/825 [==============================] - 0s 250us/step - loss: 0.1363 - mean_absolute_error: 0.2837 - val_loss: 0.1915 - val_mean_absolute_error: 0.3395\n",
      "Epoch 116/1000\n",
      "825/825 [==============================] - 0s 163us/step - loss: 0.1362 - mean_absolute_error: 0.2836 - val_loss: 0.1929 - val_mean_absolute_error: 0.3416\n",
      "Epoch 117/1000\n",
      "825/825 [==============================] - 0s 208us/step - loss: 0.1362 - mean_absolute_error: 0.2840 - val_loss: 0.1923 - val_mean_absolute_error: 0.3396\n",
      "Epoch 118/1000\n",
      "825/825 [==============================] - 0s 207us/step - loss: 0.1355 - mean_absolute_error: 0.2830 - val_loss: 0.1929 - val_mean_absolute_error: 0.3405\n",
      "Epoch 119/1000\n",
      "825/825 [==============================] - 0s 204us/step - loss: 0.1353 - mean_absolute_error: 0.2820 - val_loss: 0.1937 - val_mean_absolute_error: 0.3432\n",
      "Epoch 120/1000\n",
      "825/825 [==============================] - 0s 204us/step - loss: 0.1349 - mean_absolute_error: 0.2817 - val_loss: 0.1919 - val_mean_absolute_error: 0.3386\n",
      "Epoch 121/1000\n",
      "825/825 [==============================] - 0s 208us/step - loss: 0.1350 - mean_absolute_error: 0.2827 - val_loss: 0.1930 - val_mean_absolute_error: 0.3406\n",
      "Epoch 122/1000\n",
      "825/825 [==============================] - 0s 224us/step - loss: 0.1346 - mean_absolute_error: 0.2821 - val_loss: 0.1930 - val_mean_absolute_error: 0.3410\n",
      "Epoch 123/1000\n",
      "825/825 [==============================] - 0s 185us/step - loss: 0.1340 - mean_absolute_error: 0.2809 - val_loss: 0.1913 - val_mean_absolute_error: 0.3390\n",
      "Epoch 124/1000\n",
      "825/825 [==============================] - 0s 141us/step - loss: 0.1336 - mean_absolute_error: 0.2809 - val_loss: 0.1912 - val_mean_absolute_error: 0.3395\n",
      "Epoch 125/1000\n",
      "825/825 [==============================] - 0s 238us/step - loss: 0.1334 - mean_absolute_error: 0.2809 - val_loss: 0.1938 - val_mean_absolute_error: 0.3418\n",
      "Epoch 126/1000\n",
      "825/825 [==============================] - 0s 162us/step - loss: 0.1337 - mean_absolute_error: 0.2812 - val_loss: 0.1913 - val_mean_absolute_error: 0.3400\n",
      "Epoch 127/1000\n",
      "825/825 [==============================] - 0s 229us/step - loss: 0.1329 - mean_absolute_error: 0.2806 - val_loss: 0.1924 - val_mean_absolute_error: 0.3412\n",
      "Epoch 128/1000\n",
      "825/825 [==============================] - 0s 200us/step - loss: 0.1324 - mean_absolute_error: 0.2800 - val_loss: 0.1916 - val_mean_absolute_error: 0.3390\n",
      "Epoch 129/1000\n",
      "825/825 [==============================] - 0s 181us/step - loss: 0.1323 - mean_absolute_error: 0.2795 - val_loss: 0.1923 - val_mean_absolute_error: 0.3404\n",
      "Epoch 130/1000\n",
      "825/825 [==============================] - 0s 162us/step - loss: 0.1317 - mean_absolute_error: 0.2794 - val_loss: 0.1905 - val_mean_absolute_error: 0.3386\n",
      "Epoch 131/1000\n",
      "825/825 [==============================] - 0s 185us/step - loss: 0.1317 - mean_absolute_error: 0.2797 - val_loss: 0.1925 - val_mean_absolute_error: 0.3402\n",
      "Epoch 132/1000\n",
      "825/825 [==============================] - 0s 195us/step - loss: 0.1319 - mean_absolute_error: 0.2794 - val_loss: 0.1933 - val_mean_absolute_error: 0.3400\n",
      "Epoch 133/1000\n",
      "825/825 [==============================] - 0s 220us/step - loss: 0.1311 - mean_absolute_error: 0.2784 - val_loss: 0.1922 - val_mean_absolute_error: 0.3402\n",
      "Epoch 134/1000\n",
      "825/825 [==============================] - 0s 206us/step - loss: 0.1310 - mean_absolute_error: 0.2787 - val_loss: 0.1908 - val_mean_absolute_error: 0.3384\n",
      "Epoch 135/1000\n",
      "825/825 [==============================] - 0s 204us/step - loss: 0.1304 - mean_absolute_error: 0.2782 - val_loss: 0.1918 - val_mean_absolute_error: 0.3392\n",
      "Epoch 136/1000\n",
      "825/825 [==============================] - 0s 198us/step - loss: 0.1304 - mean_absolute_error: 0.2777 - val_loss: 0.1913 - val_mean_absolute_error: 0.3392\n",
      "Epoch 137/1000\n",
      "825/825 [==============================] - 0s 192us/step - loss: 0.1305 - mean_absolute_error: 0.2770 - val_loss: 0.1922 - val_mean_absolute_error: 0.3397\n",
      "Epoch 138/1000\n",
      "825/825 [==============================] - 0s 192us/step - loss: 0.1306 - mean_absolute_error: 0.2785 - val_loss: 0.1910 - val_mean_absolute_error: 0.3382\n",
      "Epoch 139/1000\n",
      "825/825 [==============================] - 0s 185us/step - loss: 0.1298 - mean_absolute_error: 0.2773 - val_loss: 0.1926 - val_mean_absolute_error: 0.3402\n",
      "Epoch 140/1000\n",
      "825/825 [==============================] - 0s 217us/step - loss: 0.1298 - mean_absolute_error: 0.2767 - val_loss: 0.1923 - val_mean_absolute_error: 0.3407\n"
     ]
    }
   ],
   "source": [
    "history = model.fit(X_train, y_train, epochs=1000, validation_data=[X_val, y_val], callbacks=[early_stop])"
   ]
  },
  {
   "cell_type": "code",
   "execution_count": 50,
   "metadata": {},
   "outputs": [
    {
     "data": {
      "image/png": "[encoded data removed]",
      "text/plain": [
       "<Figure size 432x288 with 1 Axes>"
      ]
     },
     "metadata": {
      "needs_background": "light"
     },
     "output_type": "display_data"
    }
   ],
   "source": [
    "plot_history(history)"
   ]
  },
  {
   "cell_type": "code",
   "execution_count": 51,
   "metadata": {},
   "outputs": [
    {
     "data": {
      "text/plain": [
       "53.45142429107456"
      ]
     },
     "execution_count": 51,
     "metadata": {},
     "output_type": "execute_result"
    }
   ],
   "source": [
    "pred = y_scaler.inverse_transform(model.predict(X_test).flatten())\n",
    "msse(pred, y_test)"
   ]
  },
  {
   "cell_type": "code",
   "execution_count": 52,
   "metadata": {},
   "outputs": [
    {
     "data": {
      "image/png": "[encoded data removed]",
      "text/plain": [
       "<Figure size 432x432 with 1 Axes>"
      ]
     },
     "metadata": {
      "needs_background": "light"
     },
     "output_type": "display_data"
    }
   ],
   "source": [
    "plot_predictions(pred, y_test)"
   ]
  },
  {
   "cell_type": "code",
   "execution_count": 53,
   "metadata": {},
   "outputs": [],
   "source": [
    "weights = model.get_weights()\n",
    "np.save('relu_weights', weights, allow_pickle=True)"
   ]
  },
  {
   "cell_type": "code",
   "execution_count": null,
   "metadata": {},
   "outputs": [],
   "source": []
  }
 ],
 "metadata": {
  "kernelspec": {
   "display_name": "Python 3",
   "language": "python",
   "name": "python3"
  },
  "language_info": {
   "codemirror_mode": {
    "name": "ipython",
    "version": 3
   },
   "file_extension": ".py",
   "mimetype": "text/x-python",
   "name": "python",
   "nbconvert_exporter": "python",
   "pygments_lexer": "ipython3",
   "version": "3.6.6"
  }
 },
 "nbformat": 4,
 "nbformat_minor": 2
}
