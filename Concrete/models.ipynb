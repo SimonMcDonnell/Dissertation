{
 "cells": [
  {
   "cell_type": "code",
   "execution_count": 1,
   "metadata": {},
   "outputs": [],
   "source": [
    "import numpy as np\n",
    "import pandas as pd\n",
    "import matplotlib.pyplot as plt\n",
    "from tensorflow import keras\n",
    "import tensorflow as tf\n",
    "from sklearn.model_selection import train_test_split\n",
    "from sklearn.preprocessing import LabelEncoder, StandardScaler\n",
    "from sklearn.linear_model import LinearRegression\n",
    "import os"
   ]
  },
  {
   "cell_type": "markdown",
   "metadata": {},
   "source": [
    "## Prepare data"
   ]
  },
  {
   "cell_type": "code",
   "execution_count": 2,
   "metadata": {},
   "outputs": [],
   "source": [
    "data = pd.read_csv(os.path.join(os.getcwd(), 'concrete_data.csv'))"
   ]
  },
  {
   "cell_type": "code",
   "execution_count": 3,
   "metadata": {},
   "outputs": [
    {
     "data": {
      "text/html": [
       "<div>\n",
       "<style scoped>\n",
       "    .dataframe tbody tr th:only-of-type {\n",
       "        vertical-align: middle;\n",
       "    }\n",
       "\n",
       "    .dataframe tbody tr th {\n",
       "        vertical-align: top;\n",
       "    }\n",
       "\n",
       "    .dataframe thead th {\n",
       "        text-align: right;\n",
       "    }\n",
       "</style>\n",
       "<table border=\"1\" class=\"dataframe\">\n",
       "  <thead>\n",
       "    <tr style=\"text-align: right;\">\n",
       "      <th></th>\n",
       "      <th>cement</th>\n",
       "      <th>blast_furnace_slag</th>\n",
       "      <th>fly_ash</th>\n",
       "      <th>water</th>\n",
       "      <th>superplasticizer</th>\n",
       "      <th>coarse_aggregate</th>\n",
       "      <th>fine_aggregate</th>\n",
       "      <th>age</th>\n",
       "      <th>ccs</th>\n",
       "    </tr>\n",
       "  </thead>\n",
       "  <tbody>\n",
       "    <tr>\n",
       "      <th>count</th>\n",
       "      <td>1030.000000</td>\n",
       "      <td>1030.000000</td>\n",
       "      <td>1030.000000</td>\n",
       "      <td>1030.000000</td>\n",
       "      <td>1030.000000</td>\n",
       "      <td>1030.000000</td>\n",
       "      <td>1030.000000</td>\n",
       "      <td>1030.000000</td>\n",
       "      <td>1030.000000</td>\n",
       "    </tr>\n",
       "    <tr>\n",
       "      <th>mean</th>\n",
       "      <td>281.167864</td>\n",
       "      <td>73.895825</td>\n",
       "      <td>54.188350</td>\n",
       "      <td>181.567282</td>\n",
       "      <td>6.204660</td>\n",
       "      <td>972.918932</td>\n",
       "      <td>773.580485</td>\n",
       "      <td>45.662136</td>\n",
       "      <td>35.817961</td>\n",
       "    </tr>\n",
       "    <tr>\n",
       "      <th>std</th>\n",
       "      <td>104.506364</td>\n",
       "      <td>86.279342</td>\n",
       "      <td>63.997004</td>\n",
       "      <td>21.354219</td>\n",
       "      <td>5.973841</td>\n",
       "      <td>77.753954</td>\n",
       "      <td>80.175980</td>\n",
       "      <td>63.169912</td>\n",
       "      <td>16.705742</td>\n",
       "    </tr>\n",
       "    <tr>\n",
       "      <th>min</th>\n",
       "      <td>102.000000</td>\n",
       "      <td>0.000000</td>\n",
       "      <td>0.000000</td>\n",
       "      <td>121.800000</td>\n",
       "      <td>0.000000</td>\n",
       "      <td>801.000000</td>\n",
       "      <td>594.000000</td>\n",
       "      <td>1.000000</td>\n",
       "      <td>2.330000</td>\n",
       "    </tr>\n",
       "    <tr>\n",
       "      <th>25%</th>\n",
       "      <td>192.375000</td>\n",
       "      <td>0.000000</td>\n",
       "      <td>0.000000</td>\n",
       "      <td>164.900000</td>\n",
       "      <td>0.000000</td>\n",
       "      <td>932.000000</td>\n",
       "      <td>730.950000</td>\n",
       "      <td>7.000000</td>\n",
       "      <td>23.710000</td>\n",
       "    </tr>\n",
       "    <tr>\n",
       "      <th>50%</th>\n",
       "      <td>272.900000</td>\n",
       "      <td>22.000000</td>\n",
       "      <td>0.000000</td>\n",
       "      <td>185.000000</td>\n",
       "      <td>6.400000</td>\n",
       "      <td>968.000000</td>\n",
       "      <td>779.500000</td>\n",
       "      <td>28.000000</td>\n",
       "      <td>34.445000</td>\n",
       "    </tr>\n",
       "    <tr>\n",
       "      <th>75%</th>\n",
       "      <td>350.000000</td>\n",
       "      <td>142.950000</td>\n",
       "      <td>118.300000</td>\n",
       "      <td>192.000000</td>\n",
       "      <td>10.200000</td>\n",
       "      <td>1029.400000</td>\n",
       "      <td>824.000000</td>\n",
       "      <td>56.000000</td>\n",
       "      <td>46.135000</td>\n",
       "    </tr>\n",
       "    <tr>\n",
       "      <th>max</th>\n",
       "      <td>540.000000</td>\n",
       "      <td>359.400000</td>\n",
       "      <td>200.100000</td>\n",
       "      <td>247.000000</td>\n",
       "      <td>32.200000</td>\n",
       "      <td>1145.000000</td>\n",
       "      <td>992.600000</td>\n",
       "      <td>365.000000</td>\n",
       "      <td>82.600000</td>\n",
       "    </tr>\n",
       "  </tbody>\n",
       "</table>\n",
       "</div>"
      ],
      "text/plain": [
       "            cement  blast_furnace_slag      fly_ash        water  \\\n",
       "count  1030.000000         1030.000000  1030.000000  1030.000000   \n",
       "mean    281.167864           73.895825    54.188350   181.567282   \n",
       "std     104.506364           86.279342    63.997004    21.354219   \n",
       "min     102.000000            0.000000     0.000000   121.800000   \n",
       "25%     192.375000            0.000000     0.000000   164.900000   \n",
       "50%     272.900000           22.000000     0.000000   185.000000   \n",
       "75%     350.000000          142.950000   118.300000   192.000000   \n",
       "max     540.000000          359.400000   200.100000   247.000000   \n",
       "\n",
       "       superplasticizer  coarse_aggregate  fine_aggregate          age  \\\n",
       "count       1030.000000       1030.000000     1030.000000  1030.000000   \n",
       "mean           6.204660        972.918932      773.580485    45.662136   \n",
       "std            5.973841         77.753954       80.175980    63.169912   \n",
       "min            0.000000        801.000000      594.000000     1.000000   \n",
       "25%            0.000000        932.000000      730.950000     7.000000   \n",
       "50%            6.400000        968.000000      779.500000    28.000000   \n",
       "75%           10.200000       1029.400000      824.000000    56.000000   \n",
       "max           32.200000       1145.000000      992.600000   365.000000   \n",
       "\n",
       "               ccs  \n",
       "count  1030.000000  \n",
       "mean     35.817961  \n",
       "std      16.705742  \n",
       "min       2.330000  \n",
       "25%      23.710000  \n",
       "50%      34.445000  \n",
       "75%      46.135000  \n",
       "max      82.600000  "
      ]
     },
     "execution_count": 3,
     "metadata": {},
     "output_type": "execute_result"
    }
   ],
   "source": [
    "data.describe()"
   ]
  },
  {
   "cell_type": "code",
   "execution_count": 4,
   "metadata": {},
   "outputs": [
    {
     "name": "stdout",
     "output_type": "stream",
     "text": [
      "(825, 8) (102, 8) (103, 8)\n",
      "(825,) (102,) (103,)\n"
     ]
    }
   ],
   "source": [
    "X = data.drop('ccs', axis=1)\n",
    "y = data['ccs']\n",
    "X_train, X_test, y_train, y_test = train_test_split(X, y, test_size=0.1, random_state=1)\n",
    "X_train, X_val, y_train, y_val = train_test_split(X_train, y_train, test_size=0.11, random_state=1)\n",
    "print(X_train.shape, X_val.shape, X_test.shape)\n",
    "print(y_train.shape, y_val.shape, y_test.shape)"
   ]
  },
  {
   "cell_type": "code",
   "execution_count": 5,
   "metadata": {
    "scrolled": true
   },
   "outputs": [
    {
     "name": "stderr",
     "output_type": "stream",
     "text": [
      "/home/simon/miniconda3/envs/diss/lib/python3.6/site-packages/sklearn/preprocessing/data.py:617: DataConversionWarning: Data with input dtype int64, float64 were all converted to float64 by StandardScaler.\n",
      "  return self.partial_fit(X, y)\n",
      "/home/simon/miniconda3/envs/diss/lib/python3.6/site-packages/sklearn/base.py:462: DataConversionWarning: Data with input dtype int64, float64 were all converted to float64 by StandardScaler.\n",
      "  return self.fit(X, **fit_params).transform(X)\n",
      "/home/simon/miniconda3/envs/diss/lib/python3.6/site-packages/ipykernel_launcher.py:3: DataConversionWarning: Data with input dtype int64, float64 were all converted to float64 by StandardScaler.\n",
      "  This is separate from the ipykernel package so we can avoid doing imports until\n",
      "/home/simon/miniconda3/envs/diss/lib/python3.6/site-packages/ipykernel_launcher.py:4: DataConversionWarning: Data with input dtype int64, float64 were all converted to float64 by StandardScaler.\n",
      "  after removing the cwd from sys.path.\n"
     ]
    }
   ],
   "source": [
    "scaler = StandardScaler()\n",
    "X_train = scaler.fit_transform(X_train)\n",
    "X_val = scaler.transform(X_val)\n",
    "X_test = scaler.transform(X_test)"
   ]
  },
  {
   "cell_type": "code",
   "execution_count": 6,
   "metadata": {},
   "outputs": [],
   "source": [
    "def plot_history(history):\n",
    "    plt.figure()\n",
    "    plt.xlabel('Epoch')\n",
    "    plt.ylabel('Mean Abs Error [1000$]')\n",
    "    plt.plot(history.epoch, np.array(history.history['mean_absolute_error']),\n",
    "           label='Train Loss')\n",
    "    plt.plot(history.epoch, np.array(history.history['val_mean_absolute_error']),\n",
    "           label = 'Val loss')\n",
    "    plt.legend()"
   ]
  },
  {
   "cell_type": "code",
   "execution_count": 15,
   "metadata": {},
   "outputs": [],
   "source": [
    "def plot_predictions(pred, y, save_as=None):\n",
    "    fig = plt.figure(figsize=(6, 6))\n",
    "    ax = plt.subplot(111)\n",
    "    ax.scatter(pred, y, alpha=0.2)\n",
    "    ax.set_xlabel('predicted')\n",
    "    ax.set_ylabel('true')\n",
    "    ax.plot(np.arange(0, 90, 0.1), np.arange(0, 90, 0.1))\n",
    "    if save_as != None:\n",
    "        plt.savefig(save_as)"
   ]
  },
  {
   "cell_type": "code",
   "execution_count": 7,
   "metadata": {},
   "outputs": [],
   "source": [
    "def msse(pred, y):\n",
    "    return (np.sum((y - pred)**2)) / y.shape[0]"
   ]
  },
  {
   "cell_type": "markdown",
   "metadata": {},
   "source": [
    "## Training"
   ]
  },
  {
   "cell_type": "code",
   "execution_count": 72,
   "metadata": {},
   "outputs": [],
   "source": [
    "model = keras.Sequential([\n",
    "    keras.layers.Dense(8, input_shape=(8,)),\n",
    "    keras.layers.BatchNormalization(),\n",
    "    keras.layers.Activation('relu'),\n",
    "    keras.layers.Dense(1)\n",
    "])\n",
    "optimizer = tf.train.AdamOptimizer(0.005)\n",
    "model.compile(loss='mse', optimizer=optimizer, metrics=['mae'])"
   ]
  },
  {
   "cell_type": "code",
   "execution_count": 73,
   "metadata": {},
   "outputs": [
    {
     "name": "stdout",
     "output_type": "stream",
     "text": [
      "_________________________________________________________________\n",
      "Layer (type)                 Output Shape              Param #   \n",
      "=================================================================\n",
      "dense_16 (Dense)             (None, 8)                 72        \n",
      "_________________________________________________________________\n",
      "batch_normalization_7 (Batch (None, 8)                 32        \n",
      "_________________________________________________________________\n",
      "activation_8 (Activation)    (None, 8)                 0         \n",
      "_________________________________________________________________\n",
      "dense_17 (Dense)             (None, 1)                 9         \n",
      "=================================================================\n",
      "Total params: 113\n",
      "Trainable params: 97\n",
      "Non-trainable params: 16\n",
      "_________________________________________________________________\n"
     ]
    }
   ],
   "source": [
    "model.summary()"
   ]
  },
  {
   "cell_type": "code",
   "execution_count": 74,
   "metadata": {},
   "outputs": [],
   "source": [
    "early_stop = keras.callbacks.EarlyStopping(monitor='val_loss', min_delta=0, patience=10, verbose=0, mode='auto')"
   ]
  },
  {
   "cell_type": "code",
   "execution_count": 75,
   "metadata": {
    "scrolled": true
   },
   "outputs": [
    {
     "name": "stdout",
     "output_type": "stream",
     "text": [
      "Train on 825 samples, validate on 102 samples\n",
      "Epoch 1/1000\n",
      "825/825 [==============================] - 1s 2ms/step - loss: 1556.2568 - mean_absolute_error: 35.6364 - val_loss: 1524.0264 - val_mean_absolute_error: 35.4478\n",
      "Epoch 2/1000\n",
      "825/825 [==============================] - 0s 394us/step - loss: 1482.1891 - mean_absolute_error: 34.7821 - val_loss: 1453.1888 - val_mean_absolute_error: 34.6330\n",
      "Epoch 3/1000\n",
      "825/825 [==============================] - 0s 377us/step - loss: 1398.7134 - mean_absolute_error: 33.8072 - val_loss: 1366.8498 - val_mean_absolute_error: 33.6553\n",
      "Epoch 4/1000\n",
      "825/825 [==============================] - 0s 352us/step - loss: 1292.3645 - mean_absolute_error: 32.5827 - val_loss: 1266.6299 - val_mean_absolute_error: 32.4897\n",
      "Epoch 5/1000\n",
      "825/825 [==============================] - 0s 381us/step - loss: 1169.2455 - mean_absolute_error: 31.0555 - val_loss: 1153.0261 - val_mean_absolute_error: 31.0666\n",
      "Epoch 6/1000\n",
      "825/825 [==============================] - 0s 425us/step - loss: 1024.8339 - mean_absolute_error: 29.1467 - val_loss: 1031.1571 - val_mean_absolute_error: 29.4491\n",
      "Epoch 7/1000\n",
      "825/825 [==============================] - 0s 405us/step - loss: 872.5529 - mean_absolute_error: 26.8121 - val_loss: 903.0501 - val_mean_absolute_error: 27.6316\n",
      "Epoch 8/1000\n",
      "825/825 [==============================] - 0s 360us/step - loss: 729.1456 - mean_absolute_error: 24.3319 - val_loss: 768.2616 - val_mean_absolute_error: 25.4038\n",
      "Epoch 9/1000\n",
      "825/825 [==============================] - 0s 337us/step - loss: 601.6144 - mean_absolute_error: 21.7637 - val_loss: 636.5599 - val_mean_absolute_error: 23.0245\n",
      "Epoch 10/1000\n",
      "825/825 [==============================] - 0s 318us/step - loss: 486.7819 - mean_absolute_error: 19.2202 - val_loss: 515.8882 - val_mean_absolute_error: 20.5560\n",
      "Epoch 11/1000\n",
      "825/825 [==============================] - 0s 357us/step - loss: 394.3853 - mean_absolute_error: 17.2056 - val_loss: 404.5334 - val_mean_absolute_error: 17.9157\n",
      "Epoch 12/1000\n",
      "825/825 [==============================] - 0s 380us/step - loss: 308.5407 - mean_absolute_error: 14.8879 - val_loss: 306.0682 - val_mean_absolute_error: 15.3217\n",
      "Epoch 13/1000\n",
      "825/825 [==============================] - 0s 392us/step - loss: 249.4227 - mean_absolute_error: 13.0603 - val_loss: 235.4577 - val_mean_absolute_error: 13.2185\n",
      "Epoch 14/1000\n",
      "825/825 [==============================] - 0s 476us/step - loss: 198.4551 - mean_absolute_error: 11.4350 - val_loss: 190.6054 - val_mean_absolute_error: 11.6702\n",
      "Epoch 15/1000\n",
      "825/825 [==============================] - 0s 418us/step - loss: 169.2067 - mean_absolute_error: 10.5203 - val_loss: 157.0989 - val_mean_absolute_error: 10.4571\n",
      "Epoch 16/1000\n",
      "825/825 [==============================] - 0s 479us/step - loss: 151.9915 - mean_absolute_error: 9.9620 - val_loss: 142.7273 - val_mean_absolute_error: 9.8442\n",
      "Epoch 17/1000\n",
      "825/825 [==============================] - 0s 338us/step - loss: 140.2124 - mean_absolute_error: 9.5351 - val_loss: 135.9546 - val_mean_absolute_error: 9.5907\n",
      "Epoch 18/1000\n",
      "825/825 [==============================] - 0s 416us/step - loss: 134.1800 - mean_absolute_error: 9.3081 - val_loss: 129.2559 - val_mean_absolute_error: 9.2870\n",
      "Epoch 19/1000\n",
      "825/825 [==============================] - 0s 413us/step - loss: 134.2440 - mean_absolute_error: 9.3507 - val_loss: 124.1692 - val_mean_absolute_error: 9.1133\n",
      "Epoch 20/1000\n",
      "825/825 [==============================] - 0s 368us/step - loss: 131.1634 - mean_absolute_error: 9.2327 - val_loss: 123.3903 - val_mean_absolute_error: 8.9819\n",
      "Epoch 21/1000\n",
      "825/825 [==============================] - 0s 362us/step - loss: 128.8330 - mean_absolute_error: 9.1329 - val_loss: 121.9587 - val_mean_absolute_error: 9.0050\n",
      "Epoch 22/1000\n",
      "825/825 [==============================] - 0s 436us/step - loss: 124.3615 - mean_absolute_error: 9.0430 - val_loss: 121.6931 - val_mean_absolute_error: 8.9648\n",
      "Epoch 23/1000\n",
      "825/825 [==============================] - 0s 475us/step - loss: 123.2051 - mean_absolute_error: 8.9224 - val_loss: 120.1278 - val_mean_absolute_error: 8.9349\n",
      "Epoch 24/1000\n",
      "825/825 [==============================] - 0s 447us/step - loss: 124.4822 - mean_absolute_error: 8.9970 - val_loss: 117.5918 - val_mean_absolute_error: 8.8227\n",
      "Epoch 25/1000\n",
      "825/825 [==============================] - 0s 432us/step - loss: 121.9204 - mean_absolute_error: 8.9501 - val_loss: 119.8649 - val_mean_absolute_error: 8.8656\n",
      "Epoch 26/1000\n",
      "825/825 [==============================] - 0s 380us/step - loss: 121.9306 - mean_absolute_error: 8.8637 - val_loss: 116.2538 - val_mean_absolute_error: 8.7425\n",
      "Epoch 27/1000\n",
      "825/825 [==============================] - 0s 402us/step - loss: 120.0704 - mean_absolute_error: 8.8863 - val_loss: 115.5966 - val_mean_absolute_error: 8.6910\n",
      "Epoch 28/1000\n",
      "825/825 [==============================] - 0s 445us/step - loss: 120.2695 - mean_absolute_error: 8.9103 - val_loss: 117.1585 - val_mean_absolute_error: 8.7499\n",
      "Epoch 29/1000\n",
      "825/825 [==============================] - 0s 416us/step - loss: 116.5890 - mean_absolute_error: 8.7437 - val_loss: 113.9857 - val_mean_absolute_error: 8.6370\n",
      "Epoch 30/1000\n",
      "825/825 [==============================] - 0s 425us/step - loss: 118.0320 - mean_absolute_error: 8.6855 - val_loss: 113.6160 - val_mean_absolute_error: 8.6300\n",
      "Epoch 31/1000\n",
      "825/825 [==============================] - 0s 354us/step - loss: 119.5190 - mean_absolute_error: 8.8606 - val_loss: 115.4448 - val_mean_absolute_error: 8.6921\n",
      "Epoch 32/1000\n",
      "825/825 [==============================] - 0s 424us/step - loss: 115.2268 - mean_absolute_error: 8.6659 - val_loss: 115.5100 - val_mean_absolute_error: 8.6912\n",
      "Epoch 33/1000\n",
      "825/825 [==============================] - 0s 410us/step - loss: 122.9592 - mean_absolute_error: 8.8680 - val_loss: 112.7328 - val_mean_absolute_error: 8.6369\n",
      "Epoch 34/1000\n",
      "825/825 [==============================] - 0s 444us/step - loss: 114.5567 - mean_absolute_error: 8.5914 - val_loss: 110.3539 - val_mean_absolute_error: 8.5022\n",
      "Epoch 35/1000\n",
      "825/825 [==============================] - 0s 442us/step - loss: 117.9169 - mean_absolute_error: 8.8195 - val_loss: 108.1078 - val_mean_absolute_error: 8.3589\n",
      "Epoch 36/1000\n",
      "825/825 [==============================] - 0s 399us/step - loss: 116.7726 - mean_absolute_error: 8.6274 - val_loss: 105.8540 - val_mean_absolute_error: 8.1917\n",
      "Epoch 37/1000\n",
      "825/825 [==============================] - 0s 342us/step - loss: 118.2280 - mean_absolute_error: 8.7637 - val_loss: 104.8161 - val_mean_absolute_error: 8.1760\n",
      "Epoch 38/1000\n",
      "825/825 [==============================] - 0s 427us/step - loss: 116.0569 - mean_absolute_error: 8.6052 - val_loss: 103.2882 - val_mean_absolute_error: 8.0684\n",
      "Epoch 39/1000\n",
      "825/825 [==============================] - 0s 411us/step - loss: 109.2559 - mean_absolute_error: 8.3795 - val_loss: 102.6217 - val_mean_absolute_error: 8.0619\n",
      "Epoch 40/1000\n",
      "825/825 [==============================] - 0s 419us/step - loss: 112.3085 - mean_absolute_error: 8.4701 - val_loss: 101.0775 - val_mean_absolute_error: 7.9884\n",
      "Epoch 41/1000\n",
      "825/825 [==============================] - 0s 375us/step - loss: 108.4056 - mean_absolute_error: 8.3404 - val_loss: 99.0329 - val_mean_absolute_error: 7.8625\n",
      "Epoch 42/1000\n",
      "825/825 [==============================] - 0s 362us/step - loss: 104.6394 - mean_absolute_error: 8.2869 - val_loss: 97.8435 - val_mean_absolute_error: 7.8079\n",
      "Epoch 43/1000\n",
      "825/825 [==============================] - 0s 455us/step - loss: 103.2473 - mean_absolute_error: 8.1335 - val_loss: 96.4403 - val_mean_absolute_error: 7.7795\n",
      "Epoch 44/1000\n",
      "825/825 [==============================] - 0s 374us/step - loss: 105.5917 - mean_absolute_error: 8.2306 - val_loss: 97.6031 - val_mean_absolute_error: 7.8352\n",
      "Epoch 45/1000\n",
      "825/825 [==============================] - 0s 502us/step - loss: 103.9092 - mean_absolute_error: 7.9998 - val_loss: 97.4106 - val_mean_absolute_error: 7.9156\n",
      "Epoch 46/1000\n",
      "825/825 [==============================] - 0s 429us/step - loss: 103.8938 - mean_absolute_error: 8.1329 - val_loss: 94.8325 - val_mean_absolute_error: 7.7558\n",
      "Epoch 47/1000\n",
      "825/825 [==============================] - ETA: 0s - loss: 104.4367 - mean_absolute_error: 8.083 - 0s 387us/step - loss: 104.8752 - mean_absolute_error: 8.1000 - val_loss: 94.3808 - val_mean_absolute_error: 7.7562\n"
     ]
    },
    {
     "name": "stdout",
     "output_type": "stream",
     "text": [
      "Epoch 48/1000\n",
      "825/825 [==============================] - 0s 385us/step - loss: 104.9704 - mean_absolute_error: 8.1622 - val_loss: 93.3052 - val_mean_absolute_error: 7.6867\n",
      "Epoch 49/1000\n",
      "825/825 [==============================] - 0s 400us/step - loss: 99.4499 - mean_absolute_error: 7.9609 - val_loss: 92.3915 - val_mean_absolute_error: 7.6614\n",
      "Epoch 50/1000\n",
      "825/825 [==============================] - 0s 369us/step - loss: 100.3074 - mean_absolute_error: 7.8904 - val_loss: 91.3765 - val_mean_absolute_error: 7.6817\n",
      "Epoch 51/1000\n",
      "825/825 [==============================] - 0s 270us/step - loss: 104.5646 - mean_absolute_error: 8.1146 - val_loss: 92.5584 - val_mean_absolute_error: 7.7404\n",
      "Epoch 52/1000\n",
      "825/825 [==============================] - 0s 292us/step - loss: 101.5846 - mean_absolute_error: 7.9051 - val_loss: 94.7268 - val_mean_absolute_error: 7.9910\n",
      "Epoch 53/1000\n",
      "825/825 [==============================] - 0s 255us/step - loss: 94.8064 - mean_absolute_error: 7.7256 - val_loss: 94.1176 - val_mean_absolute_error: 7.9625\n",
      "Epoch 54/1000\n",
      "825/825 [==============================] - 0s 297us/step - loss: 93.1700 - mean_absolute_error: 7.6949 - val_loss: 93.2799 - val_mean_absolute_error: 7.9109\n",
      "Epoch 55/1000\n",
      "825/825 [==============================] - 0s 296us/step - loss: 89.8599 - mean_absolute_error: 7.4353 - val_loss: 90.0016 - val_mean_absolute_error: 7.7300\n",
      "Epoch 56/1000\n",
      "825/825 [==============================] - 0s 283us/step - loss: 93.9816 - mean_absolute_error: 7.6063 - val_loss: 89.8817 - val_mean_absolute_error: 7.7163\n",
      "Epoch 57/1000\n",
      "825/825 [==============================] - 0s 260us/step - loss: 88.6352 - mean_absolute_error: 7.4770 - val_loss: 86.6528 - val_mean_absolute_error: 7.4931\n",
      "Epoch 58/1000\n",
      "825/825 [==============================] - 0s 265us/step - loss: 81.1073 - mean_absolute_error: 6.9838 - val_loss: 84.7431 - val_mean_absolute_error: 7.4828\n",
      "Epoch 59/1000\n",
      "825/825 [==============================] - 0s 239us/step - loss: 84.5555 - mean_absolute_error: 7.2550 - val_loss: 83.0532 - val_mean_absolute_error: 7.3474\n",
      "Epoch 60/1000\n",
      "825/825 [==============================] - 0s 283us/step - loss: 80.2570 - mean_absolute_error: 6.9804 - val_loss: 82.3352 - val_mean_absolute_error: 7.2971\n",
      "Epoch 61/1000\n",
      "825/825 [==============================] - 0s 282us/step - loss: 87.1670 - mean_absolute_error: 7.3377 - val_loss: 81.5070 - val_mean_absolute_error: 7.2875\n",
      "Epoch 62/1000\n",
      "825/825 [==============================] - 0s 253us/step - loss: 83.2106 - mean_absolute_error: 7.1458 - val_loss: 77.9845 - val_mean_absolute_error: 7.0143\n",
      "Epoch 63/1000\n",
      "825/825 [==============================] - 0s 272us/step - loss: 81.4043 - mean_absolute_error: 7.0669 - val_loss: 76.9500 - val_mean_absolute_error: 7.0171\n",
      "Epoch 64/1000\n",
      "825/825 [==============================] - 0s 279us/step - loss: 79.3505 - mean_absolute_error: 7.0479 - val_loss: 76.5271 - val_mean_absolute_error: 6.8987\n",
      "Epoch 65/1000\n",
      "825/825 [==============================] - 0s 285us/step - loss: 77.5937 - mean_absolute_error: 6.9015 - val_loss: 75.6757 - val_mean_absolute_error: 6.9622\n",
      "Epoch 66/1000\n",
      "825/825 [==============================] - 0s 286us/step - loss: 78.5870 - mean_absolute_error: 6.9094 - val_loss: 76.5280 - val_mean_absolute_error: 7.0216\n",
      "Epoch 67/1000\n",
      "825/825 [==============================] - 0s 250us/step - loss: 74.6406 - mean_absolute_error: 6.8272 - val_loss: 81.3354 - val_mean_absolute_error: 7.3169\n",
      "Epoch 68/1000\n",
      "825/825 [==============================] - 0s 279us/step - loss: 73.1993 - mean_absolute_error: 6.6977 - val_loss: 78.4536 - val_mean_absolute_error: 7.1771\n",
      "Epoch 69/1000\n",
      "825/825 [==============================] - 0s 270us/step - loss: 72.3483 - mean_absolute_error: 6.7408 - val_loss: 73.7145 - val_mean_absolute_error: 6.9082\n",
      "Epoch 70/1000\n",
      "825/825 [==============================] - 0s 273us/step - loss: 68.4782 - mean_absolute_error: 6.4193 - val_loss: 71.5642 - val_mean_absolute_error: 6.7077\n",
      "Epoch 71/1000\n",
      "825/825 [==============================] - 0s 297us/step - loss: 73.3266 - mean_absolute_error: 6.6624 - val_loss: 73.1333 - val_mean_absolute_error: 6.8541\n",
      "Epoch 72/1000\n",
      "825/825 [==============================] - 0s 279us/step - loss: 74.2078 - mean_absolute_error: 6.6686 - val_loss: 75.6157 - val_mean_absolute_error: 7.0052\n",
      "Epoch 73/1000\n",
      "825/825 [==============================] - 0s 269us/step - loss: 73.0389 - mean_absolute_error: 6.6358 - val_loss: 69.2857 - val_mean_absolute_error: 6.6012\n",
      "Epoch 74/1000\n",
      "825/825 [==============================] - 0s 272us/step - loss: 67.3874 - mean_absolute_error: 6.2954 - val_loss: 69.4304 - val_mean_absolute_error: 6.6145\n",
      "Epoch 75/1000\n",
      "825/825 [==============================] - 0s 294us/step - loss: 66.1115 - mean_absolute_error: 6.3560 - val_loss: 69.1256 - val_mean_absolute_error: 6.5487\n",
      "Epoch 76/1000\n",
      "825/825 [==============================] - 0s 293us/step - loss: 69.0501 - mean_absolute_error: 6.3465 - val_loss: 72.0554 - val_mean_absolute_error: 6.7828\n",
      "Epoch 77/1000\n",
      "825/825 [==============================] - 0s 272us/step - loss: 68.2856 - mean_absolute_error: 6.4444 - val_loss: 70.6029 - val_mean_absolute_error: 6.6254\n",
      "Epoch 78/1000\n",
      "825/825 [==============================] - 0s 264us/step - loss: 66.2147 - mean_absolute_error: 6.4292 - val_loss: 66.2065 - val_mean_absolute_error: 6.4571\n",
      "Epoch 79/1000\n",
      "825/825 [==============================] - 0s 262us/step - loss: 68.2356 - mean_absolute_error: 6.3144 - val_loss: 64.4257 - val_mean_absolute_error: 6.2751\n",
      "Epoch 80/1000\n",
      "825/825 [==============================] - 0s 267us/step - loss: 63.7015 - mean_absolute_error: 6.2455 - val_loss: 69.5434 - val_mean_absolute_error: 6.6138\n",
      "Epoch 81/1000\n",
      "825/825 [==============================] - 0s 268us/step - loss: 67.6107 - mean_absolute_error: 6.5426 - val_loss: 66.2916 - val_mean_absolute_error: 6.4326\n",
      "Epoch 82/1000\n",
      "825/825 [==============================] - 0s 273us/step - loss: 68.1422 - mean_absolute_error: 6.4024 - val_loss: 66.5436 - val_mean_absolute_error: 6.4650\n",
      "Epoch 83/1000\n",
      "825/825 [==============================] - 0s 260us/step - loss: 64.6481 - mean_absolute_error: 6.2512 - val_loss: 66.2875 - val_mean_absolute_error: 6.4339\n",
      "Epoch 84/1000\n",
      "825/825 [==============================] - 0s 255us/step - loss: 61.2238 - mean_absolute_error: 6.0779 - val_loss: 68.3756 - val_mean_absolute_error: 6.5230\n",
      "Epoch 85/1000\n",
      "825/825 [==============================] - 0s 271us/step - loss: 63.8430 - mean_absolute_error: 6.1888 - val_loss: 63.8238 - val_mean_absolute_error: 6.2097\n",
      "Epoch 86/1000\n",
      "825/825 [==============================] - 0s 269us/step - loss: 63.0696 - mean_absolute_error: 6.1080 - val_loss: 65.0619 - val_mean_absolute_error: 6.3022\n",
      "Epoch 87/1000\n",
      "825/825 [==============================] - 0s 280us/step - loss: 63.2019 - mean_absolute_error: 6.1053 - val_loss: 62.3535 - val_mean_absolute_error: 6.0919\n",
      "Epoch 88/1000\n",
      "825/825 [==============================] - 0s 379us/step - loss: 56.4675 - mean_absolute_error: 5.7653 - val_loss: 61.1273 - val_mean_absolute_error: 6.0112\n",
      "Epoch 89/1000\n",
      "825/825 [==============================] - 0s 364us/step - loss: 68.7264 - mean_absolute_error: 6.4217 - val_loss: 62.3931 - val_mean_absolute_error: 6.0528\n",
      "Epoch 90/1000\n",
      "825/825 [==============================] - 0s 347us/step - loss: 66.4463 - mean_absolute_error: 6.4044 - val_loss: 62.7501 - val_mean_absolute_error: 6.1864\n",
      "Epoch 91/1000\n",
      "825/825 [==============================] - 0s 366us/step - loss: 68.7783 - mean_absolute_error: 6.4126 - val_loss: 64.2316 - val_mean_absolute_error: 6.1954\n",
      "Epoch 92/1000\n",
      "825/825 [==============================] - 0s 458us/step - loss: 66.4449 - mean_absolute_error: 6.2243 - val_loss: 63.3108 - val_mean_absolute_error: 6.1684\n",
      "Epoch 93/1000\n",
      "825/825 [==============================] - 0s 462us/step - loss: 65.8112 - mean_absolute_error: 6.3820 - val_loss: 61.9872 - val_mean_absolute_error: 6.0534\n",
      "Epoch 94/1000\n",
      "825/825 [==============================] - 0s 390us/step - loss: 63.8406 - mean_absolute_error: 6.2321 - val_loss: 60.5868 - val_mean_absolute_error: 6.0069\n",
      "Epoch 95/1000\n",
      "825/825 [==============================] - 0s 372us/step - loss: 68.7245 - mean_absolute_error: 6.4930 - val_loss: 61.0444 - val_mean_absolute_error: 5.9744\n"
     ]
    },
    {
     "name": "stdout",
     "output_type": "stream",
     "text": [
      "Epoch 96/1000\n",
      "825/825 [==============================] - 0s 362us/step - loss: 58.3767 - mean_absolute_error: 5.7607 - val_loss: 60.9997 - val_mean_absolute_error: 6.0292\n",
      "Epoch 97/1000\n",
      "825/825 [==============================] - 0s 431us/step - loss: 65.1670 - mean_absolute_error: 6.2304 - val_loss: 61.5196 - val_mean_absolute_error: 6.0933\n",
      "Epoch 98/1000\n",
      "825/825 [==============================] - 0s 337us/step - loss: 64.1032 - mean_absolute_error: 6.2490 - val_loss: 62.2491 - val_mean_absolute_error: 6.0564\n",
      "Epoch 99/1000\n",
      "825/825 [==============================] - 0s 370us/step - loss: 62.4672 - mean_absolute_error: 6.1487 - val_loss: 60.6293 - val_mean_absolute_error: 5.9616\n",
      "Epoch 100/1000\n",
      "825/825 [==============================] - 0s 454us/step - loss: 69.6333 - mean_absolute_error: 6.5382 - val_loss: 61.3082 - val_mean_absolute_error: 5.9734\n",
      "Epoch 101/1000\n",
      "825/825 [==============================] - 0s 466us/step - loss: 59.9687 - mean_absolute_error: 6.0045 - val_loss: 62.4976 - val_mean_absolute_error: 6.0995\n",
      "Epoch 102/1000\n",
      "825/825 [==============================] - 0s 392us/step - loss: 56.0417 - mean_absolute_error: 5.7849 - val_loss: 59.1501 - val_mean_absolute_error: 5.9099\n",
      "Epoch 103/1000\n",
      "825/825 [==============================] - 0s 345us/step - loss: 64.1936 - mean_absolute_error: 6.1232 - val_loss: 59.1531 - val_mean_absolute_error: 5.9042\n",
      "Epoch 104/1000\n",
      "825/825 [==============================] - 0s 370us/step - loss: 66.5770 - mean_absolute_error: 6.3852 - val_loss: 59.0254 - val_mean_absolute_error: 5.8081\n",
      "Epoch 105/1000\n",
      "825/825 [==============================] - 0s 424us/step - loss: 66.8508 - mean_absolute_error: 6.3650 - val_loss: 57.9040 - val_mean_absolute_error: 5.8075\n",
      "Epoch 106/1000\n",
      "825/825 [==============================] - 0s 365us/step - loss: 57.1559 - mean_absolute_error: 5.9110 - val_loss: 58.1592 - val_mean_absolute_error: 5.8063\n",
      "Epoch 107/1000\n",
      "825/825 [==============================] - 0s 338us/step - loss: 60.5299 - mean_absolute_error: 5.9820 - val_loss: 58.9265 - val_mean_absolute_error: 5.8961\n",
      "Epoch 108/1000\n",
      "825/825 [==============================] - 0s 444us/step - loss: 59.0252 - mean_absolute_error: 5.9674 - val_loss: 57.7442 - val_mean_absolute_error: 5.8215\n",
      "Epoch 109/1000\n",
      "825/825 [==============================] - 0s 296us/step - loss: 60.1095 - mean_absolute_error: 5.9967 - val_loss: 59.0040 - val_mean_absolute_error: 5.7840\n",
      "Epoch 110/1000\n",
      "825/825 [==============================] - 0s 363us/step - loss: 65.7901 - mean_absolute_error: 6.3920 - val_loss: 58.7372 - val_mean_absolute_error: 5.8322\n",
      "Epoch 111/1000\n",
      "825/825 [==============================] - 0s 411us/step - loss: 58.7114 - mean_absolute_error: 5.8137 - val_loss: 58.7145 - val_mean_absolute_error: 5.8316\n",
      "Epoch 112/1000\n",
      "825/825 [==============================] - 0s 415us/step - loss: 65.6314 - mean_absolute_error: 6.2332 - val_loss: 59.6678 - val_mean_absolute_error: 5.8927\n",
      "Epoch 113/1000\n",
      "825/825 [==============================] - 0s 399us/step - loss: 58.4957 - mean_absolute_error: 5.9714 - val_loss: 56.2919 - val_mean_absolute_error: 5.6626\n",
      "Epoch 114/1000\n",
      "825/825 [==============================] - 0s 467us/step - loss: 68.0621 - mean_absolute_error: 6.3704 - val_loss: 58.0664 - val_mean_absolute_error: 5.7660\n",
      "Epoch 115/1000\n",
      "825/825 [==============================] - 0s 362us/step - loss: 62.9296 - mean_absolute_error: 6.0943 - val_loss: 57.4117 - val_mean_absolute_error: 5.7974\n",
      "Epoch 116/1000\n",
      "825/825 [==============================] - 0s 351us/step - loss: 59.7505 - mean_absolute_error: 5.9354 - val_loss: 59.5742 - val_mean_absolute_error: 5.8954\n",
      "Epoch 117/1000\n",
      "825/825 [==============================] - 0s 467us/step - loss: 57.6546 - mean_absolute_error: 5.7997 - val_loss: 59.1834 - val_mean_absolute_error: 5.8917\n",
      "Epoch 118/1000\n",
      "825/825 [==============================] - 0s 440us/step - loss: 60.6215 - mean_absolute_error: 6.0490 - val_loss: 57.7092 - val_mean_absolute_error: 5.8221\n",
      "Epoch 119/1000\n",
      "825/825 [==============================] - 0s 442us/step - loss: 61.5787 - mean_absolute_error: 6.1250 - val_loss: 60.2509 - val_mean_absolute_error: 5.9294\n",
      "Epoch 120/1000\n",
      "825/825 [==============================] - 0s 359us/step - loss: 65.0829 - mean_absolute_error: 6.2572 - val_loss: 57.0225 - val_mean_absolute_error: 5.6971\n",
      "Epoch 121/1000\n",
      "825/825 [==============================] - 0s 420us/step - loss: 62.2223 - mean_absolute_error: 6.1952 - val_loss: 58.3730 - val_mean_absolute_error: 5.8525\n",
      "Epoch 122/1000\n",
      "825/825 [==============================] - 0s 436us/step - loss: 66.1201 - mean_absolute_error: 6.3201 - val_loss: 57.3369 - val_mean_absolute_error: 5.8187\n",
      "Epoch 123/1000\n",
      "825/825 [==============================] - 0s 465us/step - loss: 62.0697 - mean_absolute_error: 6.1446 - val_loss: 58.2829 - val_mean_absolute_error: 5.8056\n"
     ]
    }
   ],
   "source": [
    "history = model.fit(X_train, y_train, epochs=1000, validation_data=[X_val, y_val], callbacks=[early_stop])"
   ]
  },
  {
   "cell_type": "code",
   "execution_count": 76,
   "metadata": {},
   "outputs": [
    {
     "data": {
      "image/png": "[encoded data removed]",
      "text/plain": [
       "<Figure size 432x288 with 1 Axes>"
      ]
     },
     "metadata": {
      "needs_background": "light"
     },
     "output_type": "display_data"
    }
   ],
   "source": [
    "plot_history(history)"
   ]
  },
  {
   "cell_type": "code",
   "execution_count": 77,
   "metadata": {},
   "outputs": [
    {
     "data": {
      "text/plain": [
       "60.91510140180172"
      ]
     },
     "execution_count": 77,
     "metadata": {},
     "output_type": "execute_result"
    }
   ],
   "source": [
    "pred = model.predict(X_test)\n",
    "msse(pred.flatten(), y_test)"
   ]
  },
  {
   "cell_type": "code",
   "execution_count": 78,
   "metadata": {},
   "outputs": [
    {
     "data": {
      "image/png": "[encoded data removed]",
      "text/plain": [
       "<Figure size 432x432 with 1 Axes>"
      ]
     },
     "metadata": {
      "needs_background": "light"
     },
     "output_type": "display_data"
    }
   ],
   "source": [
    "plot_predictions(pred, y_test)"
   ]
  },
  {
   "cell_type": "code",
   "execution_count": 38,
   "metadata": {},
   "outputs": [],
   "source": [
    "weights = model.get_weights()\n",
    "np.save('relu_weights', weights, allow_pickle=True)"
   ]
  }
 ],
 "metadata": {
  "kernelspec": {
   "display_name": "Python 3",
   "language": "python",
   "name": "python3"
  },
  "language_info": {
   "codemirror_mode": {
    "name": "ipython",
    "version": 3
   },
   "file_extension": ".py",
   "mimetype": "text/x-python",
   "name": "python",
   "nbconvert_exporter": "python",
   "pygments_lexer": "ipython3",
   "version": "3.6.6"
  }
 },
 "nbformat": 4,
 "nbformat_minor": 2
}
