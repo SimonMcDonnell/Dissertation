{
 "cells": [
  {
   "cell_type": "code",
   "execution_count": 1,
   "metadata": {},
   "outputs": [],
   "source": [
    "import numpy as np\n",
    "import pandas as pd\n",
    "import matplotlib.pyplot as plt\n",
    "from tensorflow import keras\n",
    "import tensorflow as tf\n",
    "from sklearn.model_selection import train_test_split\n",
    "from sklearn.preprocessing import LabelEncoder, StandardScaler\n",
    "from sklearn.linear_model import LinearRegression\n",
    "import os"
   ]
  },
  {
   "cell_type": "markdown",
   "metadata": {},
   "source": [
    "## Prepare data"
   ]
  },
  {
   "cell_type": "code",
   "execution_count": 2,
   "metadata": {},
   "outputs": [],
   "source": [
    "data = pd.read_csv(os.path.join(os.getcwd(), 'concrete_data.csv'))"
   ]
  },
  {
   "cell_type": "code",
   "execution_count": 27,
   "metadata": {},
   "outputs": [
    {
     "data": {
      "text/html": [
       "<div>\n",
       "<style scoped>\n",
       "    .dataframe tbody tr th:only-of-type {\n",
       "        vertical-align: middle;\n",
       "    }\n",
       "\n",
       "    .dataframe tbody tr th {\n",
       "        vertical-align: top;\n",
       "    }\n",
       "\n",
       "    .dataframe thead th {\n",
       "        text-align: right;\n",
       "    }\n",
       "</style>\n",
       "<table border=\"1\" class=\"dataframe\">\n",
       "  <thead>\n",
       "    <tr style=\"text-align: right;\">\n",
       "      <th></th>\n",
       "      <th>cement</th>\n",
       "      <th>blast_furnace_slag</th>\n",
       "      <th>fly_ash</th>\n",
       "      <th>water</th>\n",
       "      <th>superplasticizer</th>\n",
       "      <th>coarse_aggregate</th>\n",
       "      <th>fine_aggregate</th>\n",
       "      <th>age</th>\n",
       "      <th>ccs</th>\n",
       "    </tr>\n",
       "  </thead>\n",
       "  <tbody>\n",
       "    <tr>\n",
       "      <th>count</th>\n",
       "      <td>1030.000000</td>\n",
       "      <td>1030.000000</td>\n",
       "      <td>1030.000000</td>\n",
       "      <td>1030.000000</td>\n",
       "      <td>1030.000000</td>\n",
       "      <td>1030.000000</td>\n",
       "      <td>1030.000000</td>\n",
       "      <td>1030.000000</td>\n",
       "      <td>1030.000000</td>\n",
       "    </tr>\n",
       "    <tr>\n",
       "      <th>mean</th>\n",
       "      <td>281.167864</td>\n",
       "      <td>73.895825</td>\n",
       "      <td>54.188350</td>\n",
       "      <td>181.567282</td>\n",
       "      <td>6.204660</td>\n",
       "      <td>972.918932</td>\n",
       "      <td>773.580485</td>\n",
       "      <td>45.662136</td>\n",
       "      <td>35.817961</td>\n",
       "    </tr>\n",
       "    <tr>\n",
       "      <th>std</th>\n",
       "      <td>104.506364</td>\n",
       "      <td>86.279342</td>\n",
       "      <td>63.997004</td>\n",
       "      <td>21.354219</td>\n",
       "      <td>5.973841</td>\n",
       "      <td>77.753954</td>\n",
       "      <td>80.175980</td>\n",
       "      <td>63.169912</td>\n",
       "      <td>16.705742</td>\n",
       "    </tr>\n",
       "    <tr>\n",
       "      <th>min</th>\n",
       "      <td>102.000000</td>\n",
       "      <td>0.000000</td>\n",
       "      <td>0.000000</td>\n",
       "      <td>121.800000</td>\n",
       "      <td>0.000000</td>\n",
       "      <td>801.000000</td>\n",
       "      <td>594.000000</td>\n",
       "      <td>1.000000</td>\n",
       "      <td>2.330000</td>\n",
       "    </tr>\n",
       "    <tr>\n",
       "      <th>25%</th>\n",
       "      <td>192.375000</td>\n",
       "      <td>0.000000</td>\n",
       "      <td>0.000000</td>\n",
       "      <td>164.900000</td>\n",
       "      <td>0.000000</td>\n",
       "      <td>932.000000</td>\n",
       "      <td>730.950000</td>\n",
       "      <td>7.000000</td>\n",
       "      <td>23.710000</td>\n",
       "    </tr>\n",
       "    <tr>\n",
       "      <th>50%</th>\n",
       "      <td>272.900000</td>\n",
       "      <td>22.000000</td>\n",
       "      <td>0.000000</td>\n",
       "      <td>185.000000</td>\n",
       "      <td>6.400000</td>\n",
       "      <td>968.000000</td>\n",
       "      <td>779.500000</td>\n",
       "      <td>28.000000</td>\n",
       "      <td>34.445000</td>\n",
       "    </tr>\n",
       "    <tr>\n",
       "      <th>75%</th>\n",
       "      <td>350.000000</td>\n",
       "      <td>142.950000</td>\n",
       "      <td>118.300000</td>\n",
       "      <td>192.000000</td>\n",
       "      <td>10.200000</td>\n",
       "      <td>1029.400000</td>\n",
       "      <td>824.000000</td>\n",
       "      <td>56.000000</td>\n",
       "      <td>46.135000</td>\n",
       "    </tr>\n",
       "    <tr>\n",
       "      <th>max</th>\n",
       "      <td>540.000000</td>\n",
       "      <td>359.400000</td>\n",
       "      <td>200.100000</td>\n",
       "      <td>247.000000</td>\n",
       "      <td>32.200000</td>\n",
       "      <td>1145.000000</td>\n",
       "      <td>992.600000</td>\n",
       "      <td>365.000000</td>\n",
       "      <td>82.600000</td>\n",
       "    </tr>\n",
       "  </tbody>\n",
       "</table>\n",
       "</div>"
      ],
      "text/plain": [
       "            cement  blast_furnace_slag      fly_ash        water  \\\n",
       "count  1030.000000         1030.000000  1030.000000  1030.000000   \n",
       "mean    281.167864           73.895825    54.188350   181.567282   \n",
       "std     104.506364           86.279342    63.997004    21.354219   \n",
       "min     102.000000            0.000000     0.000000   121.800000   \n",
       "25%     192.375000            0.000000     0.000000   164.900000   \n",
       "50%     272.900000           22.000000     0.000000   185.000000   \n",
       "75%     350.000000          142.950000   118.300000   192.000000   \n",
       "max     540.000000          359.400000   200.100000   247.000000   \n",
       "\n",
       "       superplasticizer  coarse_aggregate  fine_aggregate          age  \\\n",
       "count       1030.000000       1030.000000     1030.000000  1030.000000   \n",
       "mean           6.204660        972.918932      773.580485    45.662136   \n",
       "std            5.973841         77.753954       80.175980    63.169912   \n",
       "min            0.000000        801.000000      594.000000     1.000000   \n",
       "25%            0.000000        932.000000      730.950000     7.000000   \n",
       "50%            6.400000        968.000000      779.500000    28.000000   \n",
       "75%           10.200000       1029.400000      824.000000    56.000000   \n",
       "max           32.200000       1145.000000      992.600000   365.000000   \n",
       "\n",
       "               ccs  \n",
       "count  1030.000000  \n",
       "mean     35.817961  \n",
       "std      16.705742  \n",
       "min       2.330000  \n",
       "25%      23.710000  \n",
       "50%      34.445000  \n",
       "75%      46.135000  \n",
       "max      82.600000  "
      ]
     },
     "execution_count": 27,
     "metadata": {},
     "output_type": "execute_result"
    }
   ],
   "source": [
    "data.describe()"
   ]
  },
  {
   "cell_type": "code",
   "execution_count": 112,
   "metadata": {},
   "outputs": [
    {
     "name": "stdout",
     "output_type": "stream",
     "text": [
      "(825, 8) (102, 8) (103, 8)\n",
      "(825,) (102,) (103,)\n"
     ]
    }
   ],
   "source": [
    "X = data.drop('ccs', axis=1)\n",
    "y = data['ccs']\n",
    "X_train, X_test, y_train, y_test = train_test_split(X, y, test_size=0.1, random_state=1)\n",
    "X_train, X_val, y_train, y_val = train_test_split(X_train, y_train, test_size=0.11, random_state=1)\n",
    "print(X_train.shape, X_val.shape, X_test.shape)\n",
    "print(y_train.shape, y_val.shape, y_test.shape)"
   ]
  },
  {
   "cell_type": "code",
   "execution_count": 113,
   "metadata": {
    "scrolled": true
   },
   "outputs": [
    {
     "name": "stderr",
     "output_type": "stream",
     "text": [
      "/Users/SimonMcDonnell/miniconda3/envs/diss/lib/python3.6/site-packages/sklearn/preprocessing/data.py:617: DataConversionWarning: Data with input dtype int64, float64 were all converted to float64 by StandardScaler.\n",
      "  return self.partial_fit(X, y)\n",
      "/Users/SimonMcDonnell/miniconda3/envs/diss/lib/python3.6/site-packages/sklearn/base.py:462: DataConversionWarning: Data with input dtype int64, float64 were all converted to float64 by StandardScaler.\n",
      "  return self.fit(X, **fit_params).transform(X)\n",
      "/Users/SimonMcDonnell/miniconda3/envs/diss/lib/python3.6/site-packages/ipykernel_launcher.py:3: DataConversionWarning: Data with input dtype int64, float64 were all converted to float64 by StandardScaler.\n",
      "  This is separate from the ipykernel package so we can avoid doing imports until\n",
      "/Users/SimonMcDonnell/miniconda3/envs/diss/lib/python3.6/site-packages/ipykernel_launcher.py:4: DataConversionWarning: Data with input dtype int64, float64 were all converted to float64 by StandardScaler.\n",
      "  after removing the cwd from sys.path.\n"
     ]
    }
   ],
   "source": [
    "scaler = StandardScaler()\n",
    "X_train = scaler.fit_transform(X_train)\n",
    "X_val = scaler.transform(X_val)\n",
    "X_test = scaler.transform(X_test)"
   ]
  },
  {
   "cell_type": "code",
   "execution_count": 114,
   "metadata": {},
   "outputs": [],
   "source": [
    "def plot_history(history):\n",
    "    plt.figure()\n",
    "    plt.xlabel('Epoch')\n",
    "    plt.ylabel('Mean Abs Error [1000$]')\n",
    "    plt.plot(history.epoch, np.array(history.history['mean_absolute_error']),\n",
    "           label='Train Loss')\n",
    "    plt.plot(history.epoch, np.array(history.history['val_mean_absolute_error']),\n",
    "           label = 'Val loss')\n",
    "    plt.legend()"
   ]
  },
  {
   "cell_type": "code",
   "execution_count": 115,
   "metadata": {},
   "outputs": [],
   "source": [
    "def msse(pred, y):\n",
    "    return (np.sum((y - pred)**2)) / y.shape[0]"
   ]
  },
  {
   "cell_type": "markdown",
   "metadata": {},
   "source": [
    "## Training"
   ]
  },
  {
   "cell_type": "code",
   "execution_count": 116,
   "metadata": {},
   "outputs": [],
   "source": [
    "model = keras.Sequential([\n",
    "    keras.layers.Dense(8, input_shape=(8,)),\n",
    "    keras.layers.BatchNormalization(),\n",
    "    keras.layers.Activation('relu'),\n",
    "    keras.layers.Dense(1)\n",
    "])\n",
    "optimizer = tf.train.AdamOptimizer(0.005)\n",
    "model.compile(loss='mse', optimizer=optimizer, metrics=['mae'])"
   ]
  },
  {
   "cell_type": "code",
   "execution_count": 117,
   "metadata": {},
   "outputs": [
    {
     "name": "stdout",
     "output_type": "stream",
     "text": [
      "_________________________________________________________________\n",
      "Layer (type)                 Output Shape              Param #   \n",
      "=================================================================\n",
      "dense_18 (Dense)             (None, 8)                 72        \n",
      "_________________________________________________________________\n",
      "batch_normalization_9 (Batch (None, 8)                 32        \n",
      "_________________________________________________________________\n",
      "activation_9 (Activation)    (None, 8)                 0         \n",
      "_________________________________________________________________\n",
      "dense_19 (Dense)             (None, 1)                 9         \n",
      "=================================================================\n",
      "Total params: 113\n",
      "Trainable params: 97\n",
      "Non-trainable params: 16\n",
      "_________________________________________________________________\n"
     ]
    }
   ],
   "source": [
    "model.summary()"
   ]
  },
  {
   "cell_type": "code",
   "execution_count": 118,
   "metadata": {},
   "outputs": [],
   "source": [
    "early_stop = keras.callbacks.EarlyStopping(monitor='val_loss', min_delta=0, patience=10, verbose=0, mode='auto')"
   ]
  },
  {
   "cell_type": "code",
   "execution_count": 119,
   "metadata": {
    "scrolled": true
   },
   "outputs": [
    {
     "name": "stdout",
     "output_type": "stream",
     "text": [
      "Train on 825 samples, validate on 102 samples\n",
      "Epoch 1/1000\n",
      "825/825 [==============================] - 1s 1ms/step - loss: 1593.6294 - mean_absolute_error: 36.2522 - val_loss: 1567.1171 - val_mean_absolute_error: 35.9880\n",
      "Epoch 2/1000\n",
      "825/825 [==============================] - 0s 78us/step - loss: 1534.2611 - mean_absolute_error: 35.4503 - val_loss: 1515.5578 - val_mean_absolute_error: 35.2949\n",
      "Epoch 3/1000\n",
      "825/825 [==============================] - 0s 88us/step - loss: 1480.1693 - mean_absolute_error: 34.7237 - val_loss: 1461.8132 - val_mean_absolute_error: 34.6207\n",
      "Epoch 4/1000\n",
      "825/825 [==============================] - 0s 111us/step - loss: 1415.5463 - mean_absolute_error: 33.9342 - val_loss: 1395.0052 - val_mean_absolute_error: 33.8614\n",
      "Epoch 5/1000\n",
      "825/825 [==============================] - 0s 98us/step - loss: 1337.0514 - mean_absolute_error: 32.9857 - val_loss: 1313.5661 - val_mean_absolute_error: 32.9370\n",
      "Epoch 6/1000\n",
      "825/825 [==============================] - 0s 77us/step - loss: 1235.9426 - mean_absolute_error: 31.7856 - val_loss: 1217.0722 - val_mean_absolute_error: 31.8005\n",
      "Epoch 7/1000\n",
      "825/825 [==============================] - 0s 98us/step - loss: 1112.6236 - mean_absolute_error: 30.2706 - val_loss: 1118.9783 - val_mean_absolute_error: 30.5904\n",
      "Epoch 8/1000\n",
      "825/825 [==============================] - 0s 91us/step - loss: 985.5534 - mean_absolute_error: 28.5424 - val_loss: 999.7147 - val_mean_absolute_error: 28.9633\n",
      "Epoch 9/1000\n",
      "825/825 [==============================] - 0s 77us/step - loss: 857.7860 - mean_absolute_error: 26.5582 - val_loss: 877.6393 - val_mean_absolute_error: 27.1072\n",
      "Epoch 10/1000\n",
      "825/825 [==============================] - 0s 62us/step - loss: 733.4224 - mean_absolute_error: 24.4102 - val_loss: 761.4322 - val_mean_absolute_error: 25.2176\n",
      "Epoch 11/1000\n",
      "825/825 [==============================] - 0s 63us/step - loss: 624.7052 - mean_absolute_error: 22.2894 - val_loss: 655.4275 - val_mean_absolute_error: 23.3523\n",
      "Epoch 12/1000\n",
      "825/825 [==============================] - 0s 72us/step - loss: 527.7677 - mean_absolute_error: 20.3065 - val_loss: 561.5148 - val_mean_absolute_error: 21.5393\n",
      "Epoch 13/1000\n",
      "825/825 [==============================] - 0s 77us/step - loss: 441.7599 - mean_absolute_error: 18.4004 - val_loss: 455.0645 - val_mean_absolute_error: 19.2422\n",
      "Epoch 14/1000\n",
      "825/825 [==============================] - 0s 72us/step - loss: 373.6332 - mean_absolute_error: 16.6530 - val_loss: 368.3641 - val_mean_absolute_error: 17.0768\n",
      "Epoch 15/1000\n",
      "825/825 [==============================] - 0s 76us/step - loss: 311.2665 - mean_absolute_error: 14.9948 - val_loss: 289.0962 - val_mean_absolute_error: 15.0292\n",
      "Epoch 16/1000\n",
      "825/825 [==============================] - 0s 77us/step - loss: 255.9105 - mean_absolute_error: 13.3830 - val_loss: 238.0572 - val_mean_absolute_error: 13.6158\n",
      "Epoch 17/1000\n",
      "825/825 [==============================] - 0s 76us/step - loss: 221.6730 - mean_absolute_error: 12.2621 - val_loss: 200.4551 - val_mean_absolute_error: 12.4537\n",
      "Epoch 18/1000\n",
      "825/825 [==============================] - 0s 69us/step - loss: 195.0819 - mean_absolute_error: 11.5715 - val_loss: 175.7721 - val_mean_absolute_error: 11.4299\n",
      "Epoch 19/1000\n",
      "825/825 [==============================] - 0s 82us/step - loss: 173.4644 - mean_absolute_error: 10.7881 - val_loss: 155.5671 - val_mean_absolute_error: 10.5669\n",
      "Epoch 20/1000\n",
      "825/825 [==============================] - 0s 79us/step - loss: 157.6022 - mean_absolute_error: 10.2377 - val_loss: 139.6002 - val_mean_absolute_error: 9.8062\n",
      "Epoch 21/1000\n",
      "825/825 [==============================] - 0s 75us/step - loss: 149.8978 - mean_absolute_error: 9.9980 - val_loss: 133.5677 - val_mean_absolute_error: 9.5062\n",
      "Epoch 22/1000\n",
      "825/825 [==============================] - 0s 78us/step - loss: 137.4052 - mean_absolute_error: 9.5651 - val_loss: 128.9382 - val_mean_absolute_error: 9.3046\n",
      "Epoch 23/1000\n",
      "825/825 [==============================] - 0s 82us/step - loss: 146.8150 - mean_absolute_error: 9.7949 - val_loss: 132.4799 - val_mean_absolute_error: 9.5098\n",
      "Epoch 24/1000\n",
      "825/825 [==============================] - 0s 92us/step - loss: 131.2844 - mean_absolute_error: 9.3720 - val_loss: 131.7544 - val_mean_absolute_error: 9.5235\n",
      "Epoch 25/1000\n",
      "825/825 [==============================] - 0s 97us/step - loss: 127.5774 - mean_absolute_error: 9.0650 - val_loss: 123.0041 - val_mean_absolute_error: 9.0958\n",
      "Epoch 26/1000\n",
      "825/825 [==============================] - 0s 94us/step - loss: 129.2062 - mean_absolute_error: 9.2450 - val_loss: 120.6264 - val_mean_absolute_error: 8.9112\n",
      "Epoch 27/1000\n",
      "825/825 [==============================] - 0s 92us/step - loss: 129.4981 - mean_absolute_error: 9.1485 - val_loss: 116.6734 - val_mean_absolute_error: 8.7691\n",
      "Epoch 28/1000\n",
      "825/825 [==============================] - 0s 91us/step - loss: 128.6986 - mean_absolute_error: 9.1755 - val_loss: 116.3082 - val_mean_absolute_error: 8.7992\n",
      "Epoch 29/1000\n",
      "825/825 [==============================] - 0s 101us/step - loss: 127.4417 - mean_absolute_error: 9.1124 - val_loss: 116.0112 - val_mean_absolute_error: 8.7948\n",
      "Epoch 30/1000\n",
      "825/825 [==============================] - 0s 96us/step - loss: 121.0672 - mean_absolute_error: 8.8610 - val_loss: 114.1281 - val_mean_absolute_error: 8.6055\n",
      "Epoch 31/1000\n",
      "825/825 [==============================] - 0s 89us/step - loss: 127.6327 - mean_absolute_error: 9.0137 - val_loss: 111.3312 - val_mean_absolute_error: 8.5509\n",
      "Epoch 32/1000\n",
      "825/825 [==============================] - 0s 92us/step - loss: 118.3845 - mean_absolute_error: 8.7098 - val_loss: 110.2912 - val_mean_absolute_error: 8.5478\n",
      "Epoch 33/1000\n",
      "825/825 [==============================] - 0s 87us/step - loss: 117.5062 - mean_absolute_error: 8.7328 - val_loss: 112.1498 - val_mean_absolute_error: 8.6168\n",
      "Epoch 34/1000\n",
      "825/825 [==============================] - 0s 86us/step - loss: 122.2641 - mean_absolute_error: 8.7985 - val_loss: 110.8059 - val_mean_absolute_error: 8.5772\n",
      "Epoch 35/1000\n",
      "825/825 [==============================] - 0s 96us/step - loss: 123.2007 - mean_absolute_error: 8.8434 - val_loss: 108.3583 - val_mean_absolute_error: 8.4584\n",
      "Epoch 36/1000\n",
      "825/825 [==============================] - 0s 93us/step - loss: 114.0177 - mean_absolute_error: 8.6137 - val_loss: 108.1876 - val_mean_absolute_error: 8.5145\n",
      "Epoch 37/1000\n",
      "825/825 [==============================] - 0s 94us/step - loss: 111.1640 - mean_absolute_error: 8.3506 - val_loss: 106.8878 - val_mean_absolute_error: 8.4441\n",
      "Epoch 38/1000\n",
      "825/825 [==============================] - 0s 91us/step - loss: 109.4556 - mean_absolute_error: 8.4238 - val_loss: 105.7375 - val_mean_absolute_error: 8.3618\n",
      "Epoch 39/1000\n",
      "825/825 [==============================] - 0s 84us/step - loss: 112.2529 - mean_absolute_error: 8.4277 - val_loss: 103.1402 - val_mean_absolute_error: 8.2557\n",
      "Epoch 40/1000\n",
      "825/825 [==============================] - 0s 87us/step - loss: 106.7166 - mean_absolute_error: 8.2612 - val_loss: 100.8447 - val_mean_absolute_error: 8.1341\n",
      "Epoch 41/1000\n",
      "825/825 [==============================] - 0s 79us/step - loss: 104.8903 - mean_absolute_error: 8.1161 - val_loss: 97.4749 - val_mean_absolute_error: 8.0054\n",
      "Epoch 42/1000\n",
      "825/825 [==============================] - 0s 87us/step - loss: 108.8779 - mean_absolute_error: 8.2388 - val_loss: 95.6799 - val_mean_absolute_error: 7.8645\n",
      "Epoch 43/1000\n",
      "825/825 [==============================] - 0s 91us/step - loss: 97.4878 - mean_absolute_error: 7.8493 - val_loss: 95.5473 - val_mean_absolute_error: 7.9395\n",
      "Epoch 44/1000\n",
      "825/825 [==============================] - 0s 79us/step - loss: 104.6074 - mean_absolute_error: 8.1286 - val_loss: 91.7312 - val_mean_absolute_error: 7.7037\n",
      "Epoch 45/1000\n",
      "825/825 [==============================] - 0s 81us/step - loss: 100.4063 - mean_absolute_error: 7.8460 - val_loss: 90.9042 - val_mean_absolute_error: 7.7354\n",
      "Epoch 46/1000\n",
      "825/825 [==============================] - 0s 81us/step - loss: 97.9289 - mean_absolute_error: 7.7804 - val_loss: 87.5036 - val_mean_absolute_error: 7.4223\n",
      "Epoch 47/1000\n",
      "825/825 [==============================] - 0s 89us/step - loss: 88.0363 - mean_absolute_error: 7.3150 - val_loss: 85.3272 - val_mean_absolute_error: 7.4202\n",
      "Epoch 48/1000\n"
     ]
    },
    {
     "name": "stdout",
     "output_type": "stream",
     "text": [
      "825/825 [==============================] - 0s 83us/step - loss: 90.1385 - mean_absolute_error: 7.4714 - val_loss: 82.7823 - val_mean_absolute_error: 7.2114\n",
      "Epoch 49/1000\n",
      "825/825 [==============================] - 0s 88us/step - loss: 88.4761 - mean_absolute_error: 7.3136 - val_loss: 80.6899 - val_mean_absolute_error: 7.2501\n",
      "Epoch 50/1000\n",
      "825/825 [==============================] - 0s 81us/step - loss: 88.7163 - mean_absolute_error: 7.3472 - val_loss: 80.1282 - val_mean_absolute_error: 7.1752\n",
      "Epoch 51/1000\n",
      "825/825 [==============================] - 0s 81us/step - loss: 83.6350 - mean_absolute_error: 7.1914 - val_loss: 78.8804 - val_mean_absolute_error: 7.2233\n",
      "Epoch 52/1000\n",
      "825/825 [==============================] - 0s 80us/step - loss: 80.3600 - mean_absolute_error: 7.0332 - val_loss: 79.6302 - val_mean_absolute_error: 7.2322\n",
      "Epoch 53/1000\n",
      "825/825 [==============================] - 0s 71us/step - loss: 79.6665 - mean_absolute_error: 6.8811 - val_loss: 75.0798 - val_mean_absolute_error: 7.0400\n",
      "Epoch 54/1000\n",
      "825/825 [==============================] - 0s 59us/step - loss: 80.4906 - mean_absolute_error: 6.8872 - val_loss: 74.7913 - val_mean_absolute_error: 6.9304\n",
      "Epoch 55/1000\n",
      "825/825 [==============================] - 0s 59us/step - loss: 75.2168 - mean_absolute_error: 6.6749 - val_loss: 74.9628 - val_mean_absolute_error: 7.0586\n",
      "Epoch 56/1000\n",
      "825/825 [==============================] - 0s 62us/step - loss: 73.6597 - mean_absolute_error: 6.6889 - val_loss: 71.5213 - val_mean_absolute_error: 6.7860\n",
      "Epoch 57/1000\n",
      "825/825 [==============================] - 0s 61us/step - loss: 70.5173 - mean_absolute_error: 6.5062 - val_loss: 71.1246 - val_mean_absolute_error: 6.7815\n",
      "Epoch 58/1000\n",
      "825/825 [==============================] - 0s 64us/step - loss: 74.7544 - mean_absolute_error: 6.7035 - val_loss: 70.2917 - val_mean_absolute_error: 6.7175\n",
      "Epoch 59/1000\n",
      "825/825 [==============================] - 0s 86us/step - loss: 75.6208 - mean_absolute_error: 6.7497 - val_loss: 69.2702 - val_mean_absolute_error: 6.6129\n",
      "Epoch 60/1000\n",
      "825/825 [==============================] - 0s 99us/step - loss: 71.4663 - mean_absolute_error: 6.5029 - val_loss: 65.3930 - val_mean_absolute_error: 6.4371\n",
      "Epoch 61/1000\n",
      "825/825 [==============================] - 0s 97us/step - loss: 70.5777 - mean_absolute_error: 6.5381 - val_loss: 63.5047 - val_mean_absolute_error: 6.2712\n",
      "Epoch 62/1000\n",
      "825/825 [==============================] - 0s 98us/step - loss: 66.2497 - mean_absolute_error: 6.1628 - val_loss: 62.2415 - val_mean_absolute_error: 6.1716\n",
      "Epoch 63/1000\n",
      "825/825 [==============================] - 0s 89us/step - loss: 61.7154 - mean_absolute_error: 6.0239 - val_loss: 62.6102 - val_mean_absolute_error: 6.1753\n",
      "Epoch 64/1000\n",
      "825/825 [==============================] - 0s 90us/step - loss: 67.4647 - mean_absolute_error: 6.2874 - val_loss: 61.0281 - val_mean_absolute_error: 6.0532\n",
      "Epoch 65/1000\n",
      "825/825 [==============================] - 0s 98us/step - loss: 67.4895 - mean_absolute_error: 6.4374 - val_loss: 59.7331 - val_mean_absolute_error: 6.0278\n",
      "Epoch 66/1000\n",
      "825/825 [==============================] - 0s 95us/step - loss: 68.2453 - mean_absolute_error: 6.3521 - val_loss: 61.4366 - val_mean_absolute_error: 6.1352\n",
      "Epoch 67/1000\n",
      "825/825 [==============================] - 0s 95us/step - loss: 67.0154 - mean_absolute_error: 6.3142 - val_loss: 58.6937 - val_mean_absolute_error: 5.9496\n",
      "Epoch 68/1000\n",
      "825/825 [==============================] - 0s 109us/step - loss: 66.2444 - mean_absolute_error: 6.2766 - val_loss: 57.7730 - val_mean_absolute_error: 5.9070\n",
      "Epoch 69/1000\n",
      "825/825 [==============================] - 0s 96us/step - loss: 63.3948 - mean_absolute_error: 6.1913 - val_loss: 55.3912 - val_mean_absolute_error: 5.7121\n",
      "Epoch 70/1000\n",
      "825/825 [==============================] - 0s 94us/step - loss: 69.0483 - mean_absolute_error: 6.5509 - val_loss: 57.3921 - val_mean_absolute_error: 5.8109\n",
      "Epoch 71/1000\n",
      "825/825 [==============================] - 0s 94us/step - loss: 74.7138 - mean_absolute_error: 6.6693 - val_loss: 54.4531 - val_mean_absolute_error: 5.7118\n",
      "Epoch 72/1000\n",
      "825/825 [==============================] - 0s 92us/step - loss: 60.7705 - mean_absolute_error: 5.9428 - val_loss: 55.0839 - val_mean_absolute_error: 5.7716\n",
      "Epoch 73/1000\n",
      "825/825 [==============================] - 0s 85us/step - loss: 62.3471 - mean_absolute_error: 6.0697 - val_loss: 56.2913 - val_mean_absolute_error: 5.6268\n",
      "Epoch 74/1000\n",
      "825/825 [==============================] - 0s 93us/step - loss: 60.2770 - mean_absolute_error: 5.9518 - val_loss: 55.0205 - val_mean_absolute_error: 5.6904\n",
      "Epoch 75/1000\n",
      "825/825 [==============================] - 0s 100us/step - loss: 61.3869 - mean_absolute_error: 6.0381 - val_loss: 56.5064 - val_mean_absolute_error: 5.7292\n",
      "Epoch 76/1000\n",
      "825/825 [==============================] - 0s 94us/step - loss: 55.1183 - mean_absolute_error: 5.7781 - val_loss: 57.1291 - val_mean_absolute_error: 5.8429\n",
      "Epoch 77/1000\n",
      "825/825 [==============================] - 0s 90us/step - loss: 58.6670 - mean_absolute_error: 6.0350 - val_loss: 57.1766 - val_mean_absolute_error: 5.8437\n",
      "Epoch 78/1000\n",
      "825/825 [==============================] - 0s 93us/step - loss: 57.4335 - mean_absolute_error: 5.8680 - val_loss: 55.2188 - val_mean_absolute_error: 5.7226\n",
      "Epoch 79/1000\n",
      "825/825 [==============================] - 0s 87us/step - loss: 63.7668 - mean_absolute_error: 6.1577 - val_loss: 54.8870 - val_mean_absolute_error: 5.6685\n",
      "Epoch 80/1000\n",
      "825/825 [==============================] - 0s 90us/step - loss: 59.1667 - mean_absolute_error: 5.9356 - val_loss: 53.3792 - val_mean_absolute_error: 5.5462\n",
      "Epoch 81/1000\n",
      "825/825 [==============================] - 0s 97us/step - loss: 58.8020 - mean_absolute_error: 5.9450 - val_loss: 52.8329 - val_mean_absolute_error: 5.5633\n",
      "Epoch 82/1000\n",
      "825/825 [==============================] - 0s 90us/step - loss: 57.0987 - mean_absolute_error: 5.8296 - val_loss: 53.0762 - val_mean_absolute_error: 5.5356\n",
      "Epoch 83/1000\n",
      "825/825 [==============================] - 0s 97us/step - loss: 56.7415 - mean_absolute_error: 5.7566 - val_loss: 54.3361 - val_mean_absolute_error: 5.6142\n",
      "Epoch 84/1000\n",
      "825/825 [==============================] - 0s 97us/step - loss: 57.0780 - mean_absolute_error: 5.7808 - val_loss: 53.7922 - val_mean_absolute_error: 5.5329\n",
      "Epoch 85/1000\n",
      "825/825 [==============================] - 0s 96us/step - loss: 63.8714 - mean_absolute_error: 6.1724 - val_loss: 53.6172 - val_mean_absolute_error: 5.6319\n",
      "Epoch 86/1000\n",
      "825/825 [==============================] - 0s 96us/step - loss: 57.3466 - mean_absolute_error: 5.8915 - val_loss: 52.7444 - val_mean_absolute_error: 5.4666\n",
      "Epoch 87/1000\n",
      "825/825 [==============================] - 0s 91us/step - loss: 56.3012 - mean_absolute_error: 5.7449 - val_loss: 52.6628 - val_mean_absolute_error: 5.5268\n",
      "Epoch 88/1000\n",
      "825/825 [==============================] - 0s 87us/step - loss: 58.0162 - mean_absolute_error: 5.8036 - val_loss: 51.5180 - val_mean_absolute_error: 5.3219\n",
      "Epoch 89/1000\n",
      "825/825 [==============================] - 0s 96us/step - loss: 50.6109 - mean_absolute_error: 5.5118 - val_loss: 50.8583 - val_mean_absolute_error: 5.3358\n",
      "Epoch 90/1000\n",
      "825/825 [==============================] - 0s 87us/step - loss: 55.7625 - mean_absolute_error: 5.8242 - val_loss: 51.2438 - val_mean_absolute_error: 5.3580\n",
      "Epoch 91/1000\n",
      "825/825 [==============================] - 0s 82us/step - loss: 57.3718 - mean_absolute_error: 5.8784 - val_loss: 50.7249 - val_mean_absolute_error: 5.3592\n",
      "Epoch 92/1000\n",
      "825/825 [==============================] - 0s 81us/step - loss: 52.5583 - mean_absolute_error: 5.5959 - val_loss: 50.9492 - val_mean_absolute_error: 5.3391\n",
      "Epoch 93/1000\n",
      "825/825 [==============================] - 0s 86us/step - loss: 55.8325 - mean_absolute_error: 5.8778 - val_loss: 51.5895 - val_mean_absolute_error: 5.3363\n",
      "Epoch 94/1000\n",
      "825/825 [==============================] - 0s 86us/step - loss: 62.6876 - mean_absolute_error: 6.1158 - val_loss: 49.3660 - val_mean_absolute_error: 5.1457\n",
      "Epoch 95/1000\n",
      "825/825 [==============================] - 0s 94us/step - loss: 54.7012 - mean_absolute_error: 5.7417 - val_loss: 49.1448 - val_mean_absolute_error: 5.1616\n",
      "Epoch 96/1000\n"
     ]
    },
    {
     "name": "stdout",
     "output_type": "stream",
     "text": [
      "825/825 [==============================] - 0s 83us/step - loss: 59.0751 - mean_absolute_error: 6.0521 - val_loss: 50.0836 - val_mean_absolute_error: 5.2198\n",
      "Epoch 97/1000\n",
      "825/825 [==============================] - 0s 85us/step - loss: 55.1363 - mean_absolute_error: 5.7353 - val_loss: 48.6804 - val_mean_absolute_error: 5.1986\n",
      "Epoch 98/1000\n",
      "825/825 [==============================] - 0s 91us/step - loss: 57.2118 - mean_absolute_error: 5.9129 - val_loss: 47.8719 - val_mean_absolute_error: 5.1948\n",
      "Epoch 99/1000\n",
      "825/825 [==============================] - 0s 84us/step - loss: 56.8757 - mean_absolute_error: 5.9264 - val_loss: 49.7081 - val_mean_absolute_error: 5.1810\n",
      "Epoch 100/1000\n",
      "825/825 [==============================] - 0s 88us/step - loss: 58.1772 - mean_absolute_error: 5.9241 - val_loss: 48.8256 - val_mean_absolute_error: 5.2147\n",
      "Epoch 101/1000\n",
      "825/825 [==============================] - 0s 83us/step - loss: 66.7067 - mean_absolute_error: 6.3789 - val_loss: 49.9948 - val_mean_absolute_error: 5.3063\n",
      "Epoch 102/1000\n",
      "825/825 [==============================] - 0s 77us/step - loss: 57.1348 - mean_absolute_error: 5.8449 - val_loss: 49.7324 - val_mean_absolute_error: 5.3161\n",
      "Epoch 103/1000\n",
      "825/825 [==============================] - 0s 67us/step - loss: 59.8764 - mean_absolute_error: 5.9703 - val_loss: 50.0265 - val_mean_absolute_error: 5.2002\n",
      "Epoch 104/1000\n",
      "825/825 [==============================] - 0s 82us/step - loss: 55.5247 - mean_absolute_error: 5.7601 - val_loss: 48.6614 - val_mean_absolute_error: 5.1307\n",
      "Epoch 105/1000\n",
      "825/825 [==============================] - 0s 93us/step - loss: 54.6078 - mean_absolute_error: 5.8309 - val_loss: 47.7036 - val_mean_absolute_error: 5.2371\n",
      "Epoch 106/1000\n",
      "825/825 [==============================] - 0s 93us/step - loss: 54.1953 - mean_absolute_error: 5.6801 - val_loss: 48.7295 - val_mean_absolute_error: 5.2060\n",
      "Epoch 107/1000\n",
      "825/825 [==============================] - 0s 87us/step - loss: 53.8406 - mean_absolute_error: 5.7040 - val_loss: 48.5714 - val_mean_absolute_error: 5.1949\n",
      "Epoch 108/1000\n",
      "825/825 [==============================] - 0s 91us/step - loss: 56.0940 - mean_absolute_error: 5.8169 - val_loss: 48.5024 - val_mean_absolute_error: 5.2533\n",
      "Epoch 109/1000\n",
      "825/825 [==============================] - 0s 81us/step - loss: 51.7223 - mean_absolute_error: 5.5601 - val_loss: 48.2389 - val_mean_absolute_error: 5.2436\n",
      "Epoch 110/1000\n",
      "825/825 [==============================] - 0s 87us/step - loss: 52.4098 - mean_absolute_error: 5.6288 - val_loss: 46.9943 - val_mean_absolute_error: 5.1452\n",
      "Epoch 111/1000\n",
      "825/825 [==============================] - 0s 88us/step - loss: 61.8372 - mean_absolute_error: 6.0175 - val_loss: 46.7657 - val_mean_absolute_error: 5.2175\n",
      "Epoch 112/1000\n",
      "825/825 [==============================] - 0s 85us/step - loss: 56.1039 - mean_absolute_error: 5.7990 - val_loss: 48.5038 - val_mean_absolute_error: 5.2006\n",
      "Epoch 113/1000\n",
      "825/825 [==============================] - 0s 89us/step - loss: 49.8319 - mean_absolute_error: 5.4458 - val_loss: 48.3690 - val_mean_absolute_error: 5.2027\n",
      "Epoch 114/1000\n",
      "825/825 [==============================] - 0s 88us/step - loss: 61.7211 - mean_absolute_error: 6.1367 - val_loss: 48.4990 - val_mean_absolute_error: 5.3097\n",
      "Epoch 115/1000\n",
      "825/825 [==============================] - 0s 87us/step - loss: 52.8544 - mean_absolute_error: 5.6408 - val_loss: 49.1410 - val_mean_absolute_error: 5.2195\n",
      "Epoch 116/1000\n",
      "825/825 [==============================] - 0s 89us/step - loss: 48.6379 - mean_absolute_error: 5.3944 - val_loss: 48.1967 - val_mean_absolute_error: 5.2294\n",
      "Epoch 117/1000\n",
      "825/825 [==============================] - 0s 69us/step - loss: 58.8112 - mean_absolute_error: 5.9113 - val_loss: 47.6985 - val_mean_absolute_error: 5.2456\n",
      "Epoch 118/1000\n",
      "825/825 [==============================] - 0s 82us/step - loss: 53.4680 - mean_absolute_error: 5.6859 - val_loss: 47.7057 - val_mean_absolute_error: 5.2707\n",
      "Epoch 119/1000\n",
      "825/825 [==============================] - 0s 86us/step - loss: 57.3024 - mean_absolute_error: 5.8247 - val_loss: 47.8207 - val_mean_absolute_error: 5.2284\n",
      "Epoch 120/1000\n",
      "825/825 [==============================] - 0s 86us/step - loss: 53.5594 - mean_absolute_error: 5.6669 - val_loss: 46.6681 - val_mean_absolute_error: 5.2252\n",
      "Epoch 121/1000\n",
      "825/825 [==============================] - 0s 99us/step - loss: 51.3800 - mean_absolute_error: 5.6415 - val_loss: 48.9759 - val_mean_absolute_error: 5.2529\n",
      "Epoch 122/1000\n",
      "825/825 [==============================] - 0s 95us/step - loss: 55.2948 - mean_absolute_error: 5.7453 - val_loss: 48.4639 - val_mean_absolute_error: 5.2325\n",
      "Epoch 123/1000\n",
      "825/825 [==============================] - 0s 85us/step - loss: 50.6456 - mean_absolute_error: 5.3464 - val_loss: 47.8015 - val_mean_absolute_error: 5.2302\n",
      "Epoch 124/1000\n",
      "825/825 [==============================] - 0s 86us/step - loss: 58.8243 - mean_absolute_error: 5.9165 - val_loss: 47.3850 - val_mean_absolute_error: 5.2034\n",
      "Epoch 125/1000\n",
      "825/825 [==============================] - 0s 85us/step - loss: 53.0653 - mean_absolute_error: 5.6205 - val_loss: 47.7498 - val_mean_absolute_error: 5.1444\n",
      "Epoch 126/1000\n",
      "825/825 [==============================] - 0s 84us/step - loss: 57.4174 - mean_absolute_error: 5.8370 - val_loss: 48.3960 - val_mean_absolute_error: 5.2159\n",
      "Epoch 127/1000\n",
      "825/825 [==============================] - 0s 89us/step - loss: 55.5178 - mean_absolute_error: 5.7296 - val_loss: 47.9799 - val_mean_absolute_error: 5.1728\n",
      "Epoch 128/1000\n",
      "825/825 [==============================] - 0s 84us/step - loss: 51.1443 - mean_absolute_error: 5.5182 - val_loss: 47.3655 - val_mean_absolute_error: 5.1679\n",
      "Epoch 129/1000\n",
      "825/825 [==============================] - 0s 90us/step - loss: 51.0472 - mean_absolute_error: 5.4799 - val_loss: 46.8258 - val_mean_absolute_error: 5.1732\n",
      "Epoch 130/1000\n",
      "825/825 [==============================] - 0s 85us/step - loss: 52.0387 - mean_absolute_error: 5.5098 - val_loss: 46.9362 - val_mean_absolute_error: 5.2875\n"
     ]
    }
   ],
   "source": [
    "history = model.fit(X_train, y_train, epochs=1000, validation_data=[X_val, y_val], callbacks=[early_stop])"
   ]
  },
  {
   "cell_type": "code",
   "execution_count": 120,
   "metadata": {},
   "outputs": [
    {
     "data": {
      "image/png": "[encoded data removed]",
      "text/plain": [
       "<Figure size 432x288 with 1 Axes>"
      ]
     },
     "metadata": {
      "needs_background": "light"
     },
     "output_type": "display_data"
    }
   ],
   "source": [
    "plot_history(history)"
   ]
  },
  {
   "cell_type": "code",
   "execution_count": 121,
   "metadata": {},
   "outputs": [
    {
     "data": {
      "text/plain": [
       "48.631014321251534"
      ]
     },
     "execution_count": 121,
     "metadata": {},
     "output_type": "execute_result"
    }
   ],
   "source": [
    "pred = model.predict(X_test)\n",
    "msse(pred.flatten(), y_test)"
   ]
  },
  {
   "cell_type": "code",
   "execution_count": 122,
   "metadata": {},
   "outputs": [
    {
     "data": {
      "image/png": "[encoded data removed]",
      "text/plain": [
       "<Figure size 432x432 with 1 Axes>"
      ]
     },
     "metadata": {
      "needs_background": "light"
     },
     "output_type": "display_data"
    }
   ],
   "source": [
    "plot_predictions(pred, y_test)"
   ]
  },
  {
   "cell_type": "code",
   "execution_count": 123,
   "metadata": {},
   "outputs": [],
   "source": [
    "weights = model.get_weights()\n",
    "np.save('relu_weights', weights, allow_pickle=True)"
   ]
  },
  {
   "cell_type": "markdown",
   "metadata": {},
   "source": [
    "## Predictions"
   ]
  },
  {
   "cell_type": "code",
   "execution_count": 28,
   "metadata": {},
   "outputs": [],
   "source": [
    "def plot_predictions(pred, y, save_as=None):\n",
    "    fig = plt.figure(figsize=(6, 6))\n",
    "    ax = plt.subplot(111)\n",
    "    ax.scatter(pred, y, alpha=0.2)\n",
    "    ax.set_xlabel('predicted')\n",
    "    ax.set_ylabel('true')\n",
    "    ax.plot(np.arange(0, 90, 0.1), np.arange(0, 90, 0.1))\n",
    "    if save_as != None:\n",
    "        plt.savefig(save_as)"
   ]
  },
  {
   "cell_type": "code",
   "execution_count": 24,
   "metadata": {},
   "outputs": [],
   "source": [
    "def normalize_weights(w, var, scale):\n",
    "    return w * scale / np.sqrt(var + 0.0001)"
   ]
  },
  {
   "cell_type": "code",
   "execution_count": 25,
   "metadata": {},
   "outputs": [],
   "source": [
    "def normalize_bias(b, mean, var, shift, scale):\n",
    "    return (b - mean) * (scale / np.sqrt(var + 0.0001)) + shift"
   ]
  },
  {
   "cell_type": "code",
   "execution_count": 26,
   "metadata": {},
   "outputs": [],
   "source": [
    "def relu(z):\n",
    "    return np.maximum(0, z)"
   ]
  },
  {
   "cell_type": "markdown",
   "metadata": {},
   "source": [
    "### Unencrypted"
   ]
  },
  {
   "cell_type": "code",
   "execution_count": 37,
   "metadata": {},
   "outputs": [],
   "source": [
    "w1, b1, scale, shift, mean, std, w2, b2 = weights"
   ]
  },
  {
   "cell_type": "code",
   "execution_count": 38,
   "metadata": {},
   "outputs": [],
   "source": [
    "w_norm = normalize_weights(w1, std**2, scale)\n",
    "b_norm = normalize_bias(b1, mean, std**2, shift, scale).reshape(1, -1)"
   ]
  },
  {
   "cell_type": "code",
   "execution_count": 39,
   "metadata": {},
   "outputs": [],
   "source": [
    "layer1_clear = X_test.dot(w_norm) + b_norm\n",
    "layer1_clear = relu(layer1_clear)\n",
    "pred_clear = layer1_clear.dot(w2) + b2"
   ]
  },
  {
   "cell_type": "code",
   "execution_count": 40,
   "metadata": {},
   "outputs": [
    {
     "name": "stdout",
     "output_type": "stream",
     "text": [
      "SSE relu clear: 132.7968375632347\n"
     ]
    }
   ],
   "source": [
    "msse_clear = msse(pred_clear.flatten(), y_test)\n",
    "print('SSE relu clear: {}'.format(msse_clear))"
   ]
  },
  {
   "cell_type": "code",
   "execution_count": 41,
   "metadata": {},
   "outputs": [
    {
     "data": {
      "image/png": "[encoded data removed]",
      "text/plain": [
       "<Figure size 432x432 with 1 Axes>"
      ]
     },
     "metadata": {
      "needs_background": "light"
     },
     "output_type": "display_data"
    }
   ],
   "source": [
    "plot_predictions(pred_clear.flatten(), y_test)"
   ]
  },
  {
   "cell_type": "markdown",
   "metadata": {},
   "source": [
    "### Encrypted"
   ]
  },
  {
   "cell_type": "code",
   "execution_count": null,
   "metadata": {},
   "outputs": [],
   "source": []
  }
 ],
 "metadata": {
  "kernelspec": {
   "display_name": "Python 3",
   "language": "python",
   "name": "python3"
  },
  "language_info": {
   "codemirror_mode": {
    "name": "ipython",
    "version": 3
   },
   "file_extension": ".py",
   "mimetype": "text/x-python",
   "name": "python",
   "nbconvert_exporter": "python",
   "pygments_lexer": "ipython3",
   "version": "3.6.6"
  }
 },
 "nbformat": 4,
 "nbformat_minor": 2
}
