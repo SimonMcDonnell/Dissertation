{
 "cells": [
  {
   "cell_type": "code",
   "execution_count": 1,
   "metadata": {},
   "outputs": [],
   "source": [
    "import numpy as np\n",
    "import pandas as pd\n",
    "import matplotlib.pyplot as plt\n",
    "from tensorflow import keras\n",
    "import tensorflow as tf\n",
    "from sklearn.model_selection import train_test_split\n",
    "from sklearn.preprocessing import LabelEncoder, StandardScaler\n",
    "from sklearn.linear_model import LinearRegression\n",
    "import os"
   ]
  },
  {
   "cell_type": "markdown",
   "metadata": {},
   "source": [
    "## Prepare data"
   ]
  },
  {
   "cell_type": "code",
   "execution_count": 2,
   "metadata": {},
   "outputs": [],
   "source": [
    "data = pd.read_csv(os.path.join(os.getcwd(), 'concrete_data.csv'))"
   ]
  },
  {
   "cell_type": "code",
   "execution_count": 3,
   "metadata": {},
   "outputs": [
    {
     "data": {
      "text/html": [
       "<div>\n",
       "<style scoped>\n",
       "    .dataframe tbody tr th:only-of-type {\n",
       "        vertical-align: middle;\n",
       "    }\n",
       "\n",
       "    .dataframe tbody tr th {\n",
       "        vertical-align: top;\n",
       "    }\n",
       "\n",
       "    .dataframe thead th {\n",
       "        text-align: right;\n",
       "    }\n",
       "</style>\n",
       "<table border=\"1\" class=\"dataframe\">\n",
       "  <thead>\n",
       "    <tr style=\"text-align: right;\">\n",
       "      <th></th>\n",
       "      <th>cement</th>\n",
       "      <th>blast_furnace_slag</th>\n",
       "      <th>fly_ash</th>\n",
       "      <th>water</th>\n",
       "      <th>superplasticizer</th>\n",
       "      <th>coarse_aggregate</th>\n",
       "      <th>fine_aggregate</th>\n",
       "      <th>age</th>\n",
       "      <th>ccs</th>\n",
       "    </tr>\n",
       "  </thead>\n",
       "  <tbody>\n",
       "    <tr>\n",
       "      <th>count</th>\n",
       "      <td>1030.000000</td>\n",
       "      <td>1030.000000</td>\n",
       "      <td>1030.000000</td>\n",
       "      <td>1030.000000</td>\n",
       "      <td>1030.000000</td>\n",
       "      <td>1030.000000</td>\n",
       "      <td>1030.000000</td>\n",
       "      <td>1030.000000</td>\n",
       "      <td>1030.000000</td>\n",
       "    </tr>\n",
       "    <tr>\n",
       "      <th>mean</th>\n",
       "      <td>281.167864</td>\n",
       "      <td>73.895825</td>\n",
       "      <td>54.188350</td>\n",
       "      <td>181.567282</td>\n",
       "      <td>6.204660</td>\n",
       "      <td>972.918932</td>\n",
       "      <td>773.580485</td>\n",
       "      <td>45.662136</td>\n",
       "      <td>35.817961</td>\n",
       "    </tr>\n",
       "    <tr>\n",
       "      <th>std</th>\n",
       "      <td>104.506364</td>\n",
       "      <td>86.279342</td>\n",
       "      <td>63.997004</td>\n",
       "      <td>21.354219</td>\n",
       "      <td>5.973841</td>\n",
       "      <td>77.753954</td>\n",
       "      <td>80.175980</td>\n",
       "      <td>63.169912</td>\n",
       "      <td>16.705742</td>\n",
       "    </tr>\n",
       "    <tr>\n",
       "      <th>min</th>\n",
       "      <td>102.000000</td>\n",
       "      <td>0.000000</td>\n",
       "      <td>0.000000</td>\n",
       "      <td>121.800000</td>\n",
       "      <td>0.000000</td>\n",
       "      <td>801.000000</td>\n",
       "      <td>594.000000</td>\n",
       "      <td>1.000000</td>\n",
       "      <td>2.330000</td>\n",
       "    </tr>\n",
       "    <tr>\n",
       "      <th>25%</th>\n",
       "      <td>192.375000</td>\n",
       "      <td>0.000000</td>\n",
       "      <td>0.000000</td>\n",
       "      <td>164.900000</td>\n",
       "      <td>0.000000</td>\n",
       "      <td>932.000000</td>\n",
       "      <td>730.950000</td>\n",
       "      <td>7.000000</td>\n",
       "      <td>23.710000</td>\n",
       "    </tr>\n",
       "    <tr>\n",
       "      <th>50%</th>\n",
       "      <td>272.900000</td>\n",
       "      <td>22.000000</td>\n",
       "      <td>0.000000</td>\n",
       "      <td>185.000000</td>\n",
       "      <td>6.400000</td>\n",
       "      <td>968.000000</td>\n",
       "      <td>779.500000</td>\n",
       "      <td>28.000000</td>\n",
       "      <td>34.445000</td>\n",
       "    </tr>\n",
       "    <tr>\n",
       "      <th>75%</th>\n",
       "      <td>350.000000</td>\n",
       "      <td>142.950000</td>\n",
       "      <td>118.300000</td>\n",
       "      <td>192.000000</td>\n",
       "      <td>10.200000</td>\n",
       "      <td>1029.400000</td>\n",
       "      <td>824.000000</td>\n",
       "      <td>56.000000</td>\n",
       "      <td>46.135000</td>\n",
       "    </tr>\n",
       "    <tr>\n",
       "      <th>max</th>\n",
       "      <td>540.000000</td>\n",
       "      <td>359.400000</td>\n",
       "      <td>200.100000</td>\n",
       "      <td>247.000000</td>\n",
       "      <td>32.200000</td>\n",
       "      <td>1145.000000</td>\n",
       "      <td>992.600000</td>\n",
       "      <td>365.000000</td>\n",
       "      <td>82.600000</td>\n",
       "    </tr>\n",
       "  </tbody>\n",
       "</table>\n",
       "</div>"
      ],
      "text/plain": [
       "            cement  blast_furnace_slag      fly_ash        water  \\\n",
       "count  1030.000000         1030.000000  1030.000000  1030.000000   \n",
       "mean    281.167864           73.895825    54.188350   181.567282   \n",
       "std     104.506364           86.279342    63.997004    21.354219   \n",
       "min     102.000000            0.000000     0.000000   121.800000   \n",
       "25%     192.375000            0.000000     0.000000   164.900000   \n",
       "50%     272.900000           22.000000     0.000000   185.000000   \n",
       "75%     350.000000          142.950000   118.300000   192.000000   \n",
       "max     540.000000          359.400000   200.100000   247.000000   \n",
       "\n",
       "       superplasticizer  coarse_aggregate  fine_aggregate          age  \\\n",
       "count       1030.000000       1030.000000     1030.000000  1030.000000   \n",
       "mean           6.204660        972.918932      773.580485    45.662136   \n",
       "std            5.973841         77.753954       80.175980    63.169912   \n",
       "min            0.000000        801.000000      594.000000     1.000000   \n",
       "25%            0.000000        932.000000      730.950000     7.000000   \n",
       "50%            6.400000        968.000000      779.500000    28.000000   \n",
       "75%           10.200000       1029.400000      824.000000    56.000000   \n",
       "max           32.200000       1145.000000      992.600000   365.000000   \n",
       "\n",
       "               ccs  \n",
       "count  1030.000000  \n",
       "mean     35.817961  \n",
       "std      16.705742  \n",
       "min       2.330000  \n",
       "25%      23.710000  \n",
       "50%      34.445000  \n",
       "75%      46.135000  \n",
       "max      82.600000  "
      ]
     },
     "execution_count": 3,
     "metadata": {},
     "output_type": "execute_result"
    }
   ],
   "source": [
    "data.describe()"
   ]
  },
  {
   "cell_type": "code",
   "execution_count": 4,
   "metadata": {},
   "outputs": [
    {
     "name": "stdout",
     "output_type": "stream",
     "text": [
      "(825, 8) (102, 8) (103, 8)\n",
      "(825,) (102,) (103,)\n"
     ]
    }
   ],
   "source": [
    "X = data.drop('ccs', axis=1)\n",
    "y = data['ccs']\n",
    "X_train, X_test, y_train, y_test = train_test_split(X, y, test_size=0.1, random_state=1)\n",
    "X_train, X_val, y_train, y_val = train_test_split(X_train, y_train, test_size=0.11, random_state=1)\n",
    "print(X_train.shape, X_val.shape, X_test.shape)\n",
    "print(y_train.shape, y_val.shape, y_test.shape)"
   ]
  },
  {
   "cell_type": "code",
   "execution_count": 5,
   "metadata": {
    "scrolled": true
   },
   "outputs": [
    {
     "name": "stderr",
     "output_type": "stream",
     "text": [
      "/home/simon/miniconda3/envs/diss/lib/python3.6/site-packages/sklearn/preprocessing/data.py:617: DataConversionWarning: Data with input dtype int64, float64 were all converted to float64 by StandardScaler.\n",
      "  return self.partial_fit(X, y)\n",
      "/home/simon/miniconda3/envs/diss/lib/python3.6/site-packages/sklearn/base.py:462: DataConversionWarning: Data with input dtype int64, float64 were all converted to float64 by StandardScaler.\n",
      "  return self.fit(X, **fit_params).transform(X)\n",
      "/home/simon/miniconda3/envs/diss/lib/python3.6/site-packages/ipykernel_launcher.py:4: DataConversionWarning: Data with input dtype int64, float64 were all converted to float64 by StandardScaler.\n",
      "  after removing the cwd from sys.path.\n",
      "/home/simon/miniconda3/envs/diss/lib/python3.6/site-packages/ipykernel_launcher.py:5: DataConversionWarning: Data with input dtype int64, float64 were all converted to float64 by StandardScaler.\n",
      "  \"\"\"\n"
     ]
    }
   ],
   "source": [
    "X_scaler = StandardScaler()\n",
    "y_scaler = StandardScaler()\n",
    "X_train = X_scaler.fit_transform(X_train)\n",
    "X_val = X_scaler.transform(X_val)\n",
    "X_test = X_scaler.transform(X_test)\n",
    "y_train = y_scaler.fit_transform(y_train.values.reshape(-1, 1))\n",
    "y_val = y_scaler.transform(y_val.values.reshape(-1, 1))"
   ]
  },
  {
   "cell_type": "code",
   "execution_count": 6,
   "metadata": {},
   "outputs": [],
   "source": [
    "def plot_history(history):\n",
    "    plt.figure()\n",
    "    plt.xlabel('Epoch')\n",
    "    plt.ylabel('Mean Abs Error [1000$]')\n",
    "    plt.plot(history.epoch, np.array(history.history['mean_absolute_error']),\n",
    "           label='Train Loss')\n",
    "    plt.plot(history.epoch, np.array(history.history['val_mean_absolute_error']),\n",
    "           label = 'Val loss')\n",
    "    plt.legend()"
   ]
  },
  {
   "cell_type": "code",
   "execution_count": 7,
   "metadata": {},
   "outputs": [],
   "source": [
    "def plot_predictions(pred, y, save_as=None):\n",
    "    fig = plt.figure(figsize=(6, 6))\n",
    "    ax = plt.subplot(111)\n",
    "    ax.scatter(pred, y, alpha=0.2)\n",
    "    ax.set_xlabel('predicted')\n",
    "    ax.set_ylabel('true')\n",
    "    ax.plot(np.arange(0, 90, 0.1), np.arange(0, 90, 0.1))\n",
    "    if save_as != None:\n",
    "        plt.savefig(save_as)"
   ]
  },
  {
   "cell_type": "code",
   "execution_count": 8,
   "metadata": {},
   "outputs": [],
   "source": [
    "def msse(pred, y):\n",
    "    return (np.sum((y - pred)**2)) / y.shape[0]"
   ]
  },
  {
   "cell_type": "markdown",
   "metadata": {},
   "source": [
    "## Training"
   ]
  },
  {
   "cell_type": "code",
   "execution_count": 19,
   "metadata": {},
   "outputs": [],
   "source": [
    "model = keras.Sequential([\n",
    "    keras.layers.Dense(8, input_shape=(8,)),\n",
    "    keras.layers.BatchNormalization(gamma_regularizer=keras.regularizers.l2(0.01), \n",
    "                                    beta_regularizer=keras.regularizers.l2(0.01)),\n",
    "    keras.layers.Activation('relu'),\n",
    "    keras.layers.Dense(1, kernel_regularizer=keras.regularizers.l2(0.01))\n",
    "])\n",
    "optimizer = tf.train.AdamOptimizer(0.001)\n",
    "model.compile(loss='mse', optimizer=optimizer, metrics=['mae'])"
   ]
  },
  {
   "cell_type": "code",
   "execution_count": 20,
   "metadata": {},
   "outputs": [
    {
     "name": "stdout",
     "output_type": "stream",
     "text": [
      "_________________________________________________________________\n",
      "Layer (type)                 Output Shape              Param #   \n",
      "=================================================================\n",
      "dense_4 (Dense)              (None, 8)                 72        \n",
      "_________________________________________________________________\n",
      "batch_normalization_1 (Batch (None, 8)                 32        \n",
      "_________________________________________________________________\n",
      "activation_2 (Activation)    (None, 8)                 0         \n",
      "_________________________________________________________________\n",
      "dense_5 (Dense)              (None, 1)                 9         \n",
      "=================================================================\n",
      "Total params: 113\n",
      "Trainable params: 97\n",
      "Non-trainable params: 16\n",
      "_________________________________________________________________\n"
     ]
    }
   ],
   "source": [
    "model.summary()"
   ]
  },
  {
   "cell_type": "code",
   "execution_count": 21,
   "metadata": {},
   "outputs": [],
   "source": [
    "early_stop = keras.callbacks.EarlyStopping(monitor='val_loss', min_delta=0, patience=10, verbose=0, mode='auto')"
   ]
  },
  {
   "cell_type": "code",
   "execution_count": 22,
   "metadata": {
    "scrolled": true
   },
   "outputs": [
    {
     "name": "stdout",
     "output_type": "stream",
     "text": [
      "Train on 825 samples, validate on 102 samples\n",
      "Epoch 1/1000\n",
      "825/825 [==============================] - 1s 1ms/step - loss: 1.2719 - mean_absolute_error: 0.8831 - val_loss: 1.0287 - val_mean_absolute_error: 0.7826\n",
      "Epoch 2/1000\n",
      "825/825 [==============================] - 0s 324us/step - loss: 1.0685 - mean_absolute_error: 0.8020 - val_loss: 0.8859 - val_mean_absolute_error: 0.7275\n",
      "Epoch 3/1000\n",
      "825/825 [==============================] - 0s 399us/step - loss: 0.9368 - mean_absolute_error: 0.7459 - val_loss: 0.7881 - val_mean_absolute_error: 0.6855\n",
      "Epoch 4/1000\n",
      "825/825 [==============================] - 0s 419us/step - loss: 0.8437 - mean_absolute_error: 0.6988 - val_loss: 0.7136 - val_mean_absolute_error: 0.6503\n",
      "Epoch 5/1000\n",
      "825/825 [==============================] - 0s 424us/step - loss: 0.7548 - mean_absolute_error: 0.6647 - val_loss: 0.6617 - val_mean_absolute_error: 0.6251\n",
      "Epoch 6/1000\n",
      "825/825 [==============================] - 0s 413us/step - loss: 0.7235 - mean_absolute_error: 0.6506 - val_loss: 0.6214 - val_mean_absolute_error: 0.6072\n",
      "Epoch 7/1000\n",
      "825/825 [==============================] - 0s 415us/step - loss: 0.6922 - mean_absolute_error: 0.6353 - val_loss: 0.5954 - val_mean_absolute_error: 0.5978\n",
      "Epoch 8/1000\n",
      "825/825 [==============================] - 0s 467us/step - loss: 0.6296 - mean_absolute_error: 0.5985 - val_loss: 0.5716 - val_mean_absolute_error: 0.5860\n",
      "Epoch 9/1000\n",
      "825/825 [==============================] - 0s 423us/step - loss: 0.6138 - mean_absolute_error: 0.5923 - val_loss: 0.5541 - val_mean_absolute_error: 0.5761\n",
      "Epoch 10/1000\n",
      "825/825 [==============================] - 0s 506us/step - loss: 0.6000 - mean_absolute_error: 0.5842 - val_loss: 0.5410 - val_mean_absolute_error: 0.5683\n",
      "Epoch 11/1000\n",
      "825/825 [==============================] - 0s 348us/step - loss: 0.5918 - mean_absolute_error: 0.5776 - val_loss: 0.5307 - val_mean_absolute_error: 0.5623\n",
      "Epoch 12/1000\n",
      "825/825 [==============================] - 0s 431us/step - loss: 0.5622 - mean_absolute_error: 0.5603 - val_loss: 0.5196 - val_mean_absolute_error: 0.5550\n",
      "Epoch 13/1000\n",
      "825/825 [==============================] - 0s 393us/step - loss: 0.5818 - mean_absolute_error: 0.5696 - val_loss: 0.5102 - val_mean_absolute_error: 0.5471\n",
      "Epoch 14/1000\n",
      "825/825 [==============================] - 0s 401us/step - loss: 0.5432 - mean_absolute_error: 0.5485 - val_loss: 0.4989 - val_mean_absolute_error: 0.5395\n",
      "Epoch 15/1000\n",
      "825/825 [==============================] - 0s 510us/step - loss: 0.5364 - mean_absolute_error: 0.5443 - val_loss: 0.4967 - val_mean_absolute_error: 0.5361\n",
      "Epoch 16/1000\n",
      "825/825 [==============================] - 0s 401us/step - loss: 0.5281 - mean_absolute_error: 0.5399 - val_loss: 0.4895 - val_mean_absolute_error: 0.5305\n",
      "Epoch 17/1000\n",
      "825/825 [==============================] - 0s 446us/step - loss: 0.5063 - mean_absolute_error: 0.5252 - val_loss: 0.4847 - val_mean_absolute_error: 0.5266\n",
      "Epoch 18/1000\n",
      "825/825 [==============================] - 0s 379us/step - loss: 0.4996 - mean_absolute_error: 0.5192 - val_loss: 0.4796 - val_mean_absolute_error: 0.5233\n",
      "Epoch 19/1000\n",
      "825/825 [==============================] - 0s 422us/step - loss: 0.4932 - mean_absolute_error: 0.5179 - val_loss: 0.4747 - val_mean_absolute_error: 0.5182\n",
      "Epoch 20/1000\n",
      "825/825 [==============================] - 0s 446us/step - loss: 0.4824 - mean_absolute_error: 0.5111 - val_loss: 0.4679 - val_mean_absolute_error: 0.5142\n",
      "Epoch 21/1000\n",
      "825/825 [==============================] - 0s 372us/step - loss: 0.4701 - mean_absolute_error: 0.4970 - val_loss: 0.4607 - val_mean_absolute_error: 0.5094\n",
      "Epoch 22/1000\n",
      "825/825 [==============================] - 0s 448us/step - loss: 0.4620 - mean_absolute_error: 0.4951 - val_loss: 0.4513 - val_mean_absolute_error: 0.5032\n",
      "Epoch 23/1000\n",
      "825/825 [==============================] - 0s 448us/step - loss: 0.4638 - mean_absolute_error: 0.4970 - val_loss: 0.4466 - val_mean_absolute_error: 0.4980\n",
      "Epoch 24/1000\n",
      "825/825 [==============================] - 0s 373us/step - loss: 0.4383 - mean_absolute_error: 0.4830 - val_loss: 0.4370 - val_mean_absolute_error: 0.4932\n",
      "Epoch 25/1000\n",
      "825/825 [==============================] - 0s 428us/step - loss: 0.4361 - mean_absolute_error: 0.4818 - val_loss: 0.4260 - val_mean_absolute_error: 0.4849\n",
      "Epoch 26/1000\n",
      "825/825 [==============================] - 0s 456us/step - loss: 0.4324 - mean_absolute_error: 0.4705 - val_loss: 0.4216 - val_mean_absolute_error: 0.4830\n",
      "Epoch 27/1000\n",
      "825/825 [==============================] - 0s 445us/step - loss: 0.4180 - mean_absolute_error: 0.4639 - val_loss: 0.4133 - val_mean_absolute_error: 0.4758\n",
      "Epoch 28/1000\n",
      "825/825 [==============================] - 0s 443us/step - loss: 0.4154 - mean_absolute_error: 0.4671 - val_loss: 0.4081 - val_mean_absolute_error: 0.4735\n",
      "Epoch 29/1000\n",
      "825/825 [==============================] - 0s 440us/step - loss: 0.4085 - mean_absolute_error: 0.4581 - val_loss: 0.4004 - val_mean_absolute_error: 0.4669\n",
      "Epoch 30/1000\n",
      "825/825 [==============================] - 0s 372us/step - loss: 0.3888 - mean_absolute_error: 0.4454 - val_loss: 0.3918 - val_mean_absolute_error: 0.4608\n",
      "Epoch 31/1000\n",
      "825/825 [==============================] - 0s 327us/step - loss: 0.3940 - mean_absolute_error: 0.4501 - val_loss: 0.3868 - val_mean_absolute_error: 0.4562\n",
      "Epoch 32/1000\n",
      "825/825 [==============================] - 0s 382us/step - loss: 0.3897 - mean_absolute_error: 0.4479 - val_loss: 0.3757 - val_mean_absolute_error: 0.4477\n",
      "Epoch 33/1000\n",
      "825/825 [==============================] - 0s 359us/step - loss: 0.3751 - mean_absolute_error: 0.4316 - val_loss: 0.3760 - val_mean_absolute_error: 0.4465\n",
      "Epoch 34/1000\n",
      "825/825 [==============================] - 0s 377us/step - loss: 0.3593 - mean_absolute_error: 0.4153 - val_loss: 0.3658 - val_mean_absolute_error: 0.4379\n",
      "Epoch 35/1000\n",
      "825/825 [==============================] - 0s 367us/step - loss: 0.3552 - mean_absolute_error: 0.4191 - val_loss: 0.3560 - val_mean_absolute_error: 0.4290\n",
      "Epoch 36/1000\n",
      "825/825 [==============================] - 0s 434us/step - loss: 0.3499 - mean_absolute_error: 0.4155 - val_loss: 0.3560 - val_mean_absolute_error: 0.4277\n",
      "Epoch 37/1000\n",
      "825/825 [==============================] - 0s 370us/step - loss: 0.3800 - mean_absolute_error: 0.4285 - val_loss: 0.3527 - val_mean_absolute_error: 0.4246\n",
      "Epoch 38/1000\n",
      "825/825 [==============================] - 0s 419us/step - loss: 0.3417 - mean_absolute_error: 0.4033 - val_loss: 0.3485 - val_mean_absolute_error: 0.4203\n",
      "Epoch 39/1000\n",
      "825/825 [==============================] - 0s 394us/step - loss: 0.3285 - mean_absolute_error: 0.3931 - val_loss: 0.3431 - val_mean_absolute_error: 0.4148\n",
      "Epoch 40/1000\n",
      "825/825 [==============================] - 0s 436us/step - loss: 0.3267 - mean_absolute_error: 0.3948 - val_loss: 0.3416 - val_mean_absolute_error: 0.4128\n",
      "Epoch 41/1000\n",
      "825/825 [==============================] - 0s 354us/step - loss: 0.3238 - mean_absolute_error: 0.3907 - val_loss: 0.3380 - val_mean_absolute_error: 0.4091\n",
      "Epoch 42/1000\n",
      "825/825 [==============================] - 0s 414us/step - loss: 0.3461 - mean_absolute_error: 0.4038 - val_loss: 0.3358 - val_mean_absolute_error: 0.4054\n",
      "Epoch 43/1000\n",
      "825/825 [==============================] - 0s 431us/step - loss: 0.3304 - mean_absolute_error: 0.3953 - val_loss: 0.3323 - val_mean_absolute_error: 0.4021\n",
      "Epoch 44/1000\n",
      "825/825 [==============================] - 0s 398us/step - loss: 0.3304 - mean_absolute_error: 0.4014 - val_loss: 0.3315 - val_mean_absolute_error: 0.3999\n",
      "Epoch 45/1000\n",
      "825/825 [==============================] - 0s 398us/step - loss: 0.3317 - mean_absolute_error: 0.3962 - val_loss: 0.3311 - val_mean_absolute_error: 0.4004\n",
      "Epoch 46/1000\n",
      "825/825 [==============================] - 0s 433us/step - loss: 0.3126 - mean_absolute_error: 0.3828 - val_loss: 0.3287 - val_mean_absolute_error: 0.3976\n",
      "Epoch 47/1000\n",
      "825/825 [==============================] - 0s 400us/step - loss: 0.3233 - mean_absolute_error: 0.3980 - val_loss: 0.3266 - val_mean_absolute_error: 0.3939\n",
      "Epoch 48/1000\n",
      "825/825 [==============================] - 0s 366us/step - loss: 0.3181 - mean_absolute_error: 0.3898 - val_loss: 0.3246 - val_mean_absolute_error: 0.3944\n",
      "Epoch 49/1000\n"
     ]
    },
    {
     "name": "stdout",
     "output_type": "stream",
     "text": [
      "825/825 [==============================] - 0s 337us/step - loss: 0.3183 - mean_absolute_error: 0.3887 - val_loss: 0.3232 - val_mean_absolute_error: 0.3933\n",
      "Epoch 50/1000\n",
      "825/825 [==============================] - 0s 303us/step - loss: 0.2965 - mean_absolute_error: 0.3657 - val_loss: 0.3252 - val_mean_absolute_error: 0.3925\n",
      "Epoch 51/1000\n",
      "825/825 [==============================] - 0s 257us/step - loss: 0.2970 - mean_absolute_error: 0.3706 - val_loss: 0.3208 - val_mean_absolute_error: 0.3885\n",
      "Epoch 52/1000\n",
      "825/825 [==============================] - 0s 282us/step - loss: 0.3183 - mean_absolute_error: 0.3880 - val_loss: 0.3186 - val_mean_absolute_error: 0.3884\n",
      "Epoch 53/1000\n",
      "825/825 [==============================] - 0s 275us/step - loss: 0.2990 - mean_absolute_error: 0.3720 - val_loss: 0.3177 - val_mean_absolute_error: 0.3880\n",
      "Epoch 54/1000\n",
      "825/825 [==============================] - 0s 239us/step - loss: 0.3131 - mean_absolute_error: 0.3806 - val_loss: 0.3120 - val_mean_absolute_error: 0.3830\n",
      "Epoch 55/1000\n",
      "825/825 [==============================] - 0s 253us/step - loss: 0.2877 - mean_absolute_error: 0.3579 - val_loss: 0.3130 - val_mean_absolute_error: 0.3818\n",
      "Epoch 56/1000\n",
      "825/825 [==============================] - 0s 303us/step - loss: 0.2990 - mean_absolute_error: 0.3750 - val_loss: 0.3094 - val_mean_absolute_error: 0.3786\n",
      "Epoch 57/1000\n",
      "825/825 [==============================] - 0s 242us/step - loss: 0.3057 - mean_absolute_error: 0.3788 - val_loss: 0.3104 - val_mean_absolute_error: 0.3812\n",
      "Epoch 58/1000\n",
      "825/825 [==============================] - 0s 233us/step - loss: 0.2902 - mean_absolute_error: 0.3702 - val_loss: 0.3101 - val_mean_absolute_error: 0.3788\n",
      "Epoch 59/1000\n",
      "825/825 [==============================] - 0s 280us/step - loss: 0.3226 - mean_absolute_error: 0.3885 - val_loss: 0.3095 - val_mean_absolute_error: 0.3789\n",
      "Epoch 60/1000\n",
      "825/825 [==============================] - 0s 306us/step - loss: 0.3068 - mean_absolute_error: 0.3865 - val_loss: 0.3049 - val_mean_absolute_error: 0.3784\n",
      "Epoch 61/1000\n",
      "825/825 [==============================] - 0s 295us/step - loss: 0.2783 - mean_absolute_error: 0.3546 - val_loss: 0.3046 - val_mean_absolute_error: 0.3751\n",
      "Epoch 62/1000\n",
      "825/825 [==============================] - 0s 242us/step - loss: 0.3032 - mean_absolute_error: 0.3750 - val_loss: 0.3039 - val_mean_absolute_error: 0.3751\n",
      "Epoch 63/1000\n",
      "825/825 [==============================] - 0s 215us/step - loss: 0.3059 - mean_absolute_error: 0.3793 - val_loss: 0.3043 - val_mean_absolute_error: 0.3750\n",
      "Epoch 64/1000\n",
      "825/825 [==============================] - 0s 269us/step - loss: 0.2805 - mean_absolute_error: 0.3533 - val_loss: 0.3005 - val_mean_absolute_error: 0.3749\n",
      "Epoch 65/1000\n",
      "825/825 [==============================] - 0s 266us/step - loss: 0.2781 - mean_absolute_error: 0.3570 - val_loss: 0.2984 - val_mean_absolute_error: 0.3708\n",
      "Epoch 66/1000\n",
      "825/825 [==============================] - 0s 263us/step - loss: 0.2973 - mean_absolute_error: 0.3675 - val_loss: 0.2971 - val_mean_absolute_error: 0.3711\n",
      "Epoch 67/1000\n",
      "825/825 [==============================] - 0s 271us/step - loss: 0.3021 - mean_absolute_error: 0.3749 - val_loss: 0.3012 - val_mean_absolute_error: 0.3740\n",
      "Epoch 68/1000\n",
      "825/825 [==============================] - 0s 264us/step - loss: 0.3087 - mean_absolute_error: 0.3836 - val_loss: 0.2986 - val_mean_absolute_error: 0.3705\n",
      "Epoch 69/1000\n",
      "825/825 [==============================] - 0s 270us/step - loss: 0.2915 - mean_absolute_error: 0.3722 - val_loss: 0.2986 - val_mean_absolute_error: 0.3702\n",
      "Epoch 70/1000\n",
      "825/825 [==============================] - 0s 291us/step - loss: 0.2953 - mean_absolute_error: 0.3726 - val_loss: 0.2992 - val_mean_absolute_error: 0.3729\n",
      "Epoch 71/1000\n",
      "825/825 [==============================] - 0s 224us/step - loss: 0.2744 - mean_absolute_error: 0.3573 - val_loss: 0.3004 - val_mean_absolute_error: 0.3735\n",
      "Epoch 72/1000\n",
      "825/825 [==============================] - ETA: 0s - loss: 0.2758 - mean_absolute_error: 0.360 - 0s 265us/step - loss: 0.2744 - mean_absolute_error: 0.3552 - val_loss: 0.2971 - val_mean_absolute_error: 0.3712\n",
      "Epoch 73/1000\n",
      "825/825 [==============================] - 0s 270us/step - loss: 0.2874 - mean_absolute_error: 0.3678 - val_loss: 0.2987 - val_mean_absolute_error: 0.3743\n",
      "Epoch 74/1000\n",
      "825/825 [==============================] - 0s 269us/step - loss: 0.2763 - mean_absolute_error: 0.3556 - val_loss: 0.2950 - val_mean_absolute_error: 0.3709\n",
      "Epoch 75/1000\n",
      "825/825 [==============================] - 0s 271us/step - loss: 0.2824 - mean_absolute_error: 0.3630 - val_loss: 0.2931 - val_mean_absolute_error: 0.3678\n",
      "Epoch 76/1000\n",
      "825/825 [==============================] - 0s 264us/step - loss: 0.2683 - mean_absolute_error: 0.3493 - val_loss: 0.2944 - val_mean_absolute_error: 0.3692\n",
      "Epoch 77/1000\n",
      "825/825 [==============================] - 0s 267us/step - loss: 0.2741 - mean_absolute_error: 0.3529 - val_loss: 0.2939 - val_mean_absolute_error: 0.3703\n",
      "Epoch 78/1000\n",
      "825/825 [==============================] - 0s 290us/step - loss: 0.2807 - mean_absolute_error: 0.3536 - val_loss: 0.2939 - val_mean_absolute_error: 0.3698\n",
      "Epoch 79/1000\n",
      "825/825 [==============================] - 0s 224us/step - loss: 0.2937 - mean_absolute_error: 0.3749 - val_loss: 0.2901 - val_mean_absolute_error: 0.3675\n",
      "Epoch 80/1000\n",
      "825/825 [==============================] - 0s 319us/step - loss: 0.2713 - mean_absolute_error: 0.3479 - val_loss: 0.2935 - val_mean_absolute_error: 0.3705\n",
      "Epoch 81/1000\n",
      "825/825 [==============================] - 0s 277us/step - loss: 0.3144 - mean_absolute_error: 0.3884 - val_loss: 0.2876 - val_mean_absolute_error: 0.3663\n",
      "Epoch 82/1000\n",
      "825/825 [==============================] - 0s 278us/step - loss: 0.2987 - mean_absolute_error: 0.3771 - val_loss: 0.2932 - val_mean_absolute_error: 0.3724\n",
      "Epoch 83/1000\n",
      "825/825 [==============================] - 0s 264us/step - loss: 0.2788 - mean_absolute_error: 0.3564 - val_loss: 0.2892 - val_mean_absolute_error: 0.3671\n",
      "Epoch 84/1000\n",
      "825/825 [==============================] - 0s 219us/step - loss: 0.2603 - mean_absolute_error: 0.3433 - val_loss: 0.2842 - val_mean_absolute_error: 0.3635\n",
      "Epoch 85/1000\n",
      "825/825 [==============================] - 0s 242us/step - loss: 0.2791 - mean_absolute_error: 0.3571 - val_loss: 0.2857 - val_mean_absolute_error: 0.3630\n",
      "Epoch 86/1000\n",
      "825/825 [==============================] - 0s 278us/step - loss: 0.2773 - mean_absolute_error: 0.3616 - val_loss: 0.2805 - val_mean_absolute_error: 0.3554\n",
      "Epoch 87/1000\n",
      "825/825 [==============================] - 0s 326us/step - loss: 0.2819 - mean_absolute_error: 0.3599 - val_loss: 0.2849 - val_mean_absolute_error: 0.3628\n",
      "Epoch 88/1000\n",
      "825/825 [==============================] - 0s 354us/step - loss: 0.2694 - mean_absolute_error: 0.3491 - val_loss: 0.2857 - val_mean_absolute_error: 0.3641\n",
      "Epoch 89/1000\n",
      "825/825 [==============================] - 0s 434us/step - loss: 0.2832 - mean_absolute_error: 0.3639 - val_loss: 0.2820 - val_mean_absolute_error: 0.3597\n",
      "Epoch 90/1000\n",
      "825/825 [==============================] - 0s 454us/step - loss: 0.2738 - mean_absolute_error: 0.3529 - val_loss: 0.2815 - val_mean_absolute_error: 0.3588\n",
      "Epoch 91/1000\n",
      "825/825 [==============================] - 0s 488us/step - loss: 0.2714 - mean_absolute_error: 0.3556 - val_loss: 0.2805 - val_mean_absolute_error: 0.3583\n",
      "Epoch 92/1000\n",
      "825/825 [==============================] - 0s 420us/step - loss: 0.2735 - mean_absolute_error: 0.3516 - val_loss: 0.2804 - val_mean_absolute_error: 0.3574\n",
      "Epoch 93/1000\n",
      "825/825 [==============================] - 0s 455us/step - loss: 0.2996 - mean_absolute_error: 0.3713 - val_loss: 0.2803 - val_mean_absolute_error: 0.3574\n",
      "Epoch 94/1000\n",
      "825/825 [==============================] - 0s 414us/step - loss: 0.2710 - mean_absolute_error: 0.3545 - val_loss: 0.2775 - val_mean_absolute_error: 0.3518\n",
      "Epoch 95/1000\n",
      "825/825 [==============================] - 0s 389us/step - loss: 0.2801 - mean_absolute_error: 0.3622 - val_loss: 0.2802 - val_mean_absolute_error: 0.3564\n",
      "Epoch 96/1000\n",
      "825/825 [==============================] - 0s 417us/step - loss: 0.2651 - mean_absolute_error: 0.3469 - val_loss: 0.2773 - val_mean_absolute_error: 0.3499\n",
      "Epoch 97/1000\n"
     ]
    },
    {
     "name": "stdout",
     "output_type": "stream",
     "text": [
      "825/825 [==============================] - 0s 369us/step - loss: 0.2681 - mean_absolute_error: 0.3497 - val_loss: 0.2785 - val_mean_absolute_error: 0.3503\n",
      "Epoch 98/1000\n",
      "825/825 [==============================] - 0s 267us/step - loss: 0.2618 - mean_absolute_error: 0.3461 - val_loss: 0.2790 - val_mean_absolute_error: 0.3518\n",
      "Epoch 99/1000\n",
      "825/825 [==============================] - 0s 271us/step - loss: 0.2799 - mean_absolute_error: 0.3612 - val_loss: 0.2796 - val_mean_absolute_error: 0.3517\n",
      "Epoch 100/1000\n",
      "825/825 [==============================] - 0s 267us/step - loss: 0.2683 - mean_absolute_error: 0.3482 - val_loss: 0.2776 - val_mean_absolute_error: 0.3494\n",
      "Epoch 101/1000\n",
      "825/825 [==============================] - 0s 308us/step - loss: 0.2812 - mean_absolute_error: 0.3667 - val_loss: 0.2774 - val_mean_absolute_error: 0.3472\n",
      "Epoch 102/1000\n",
      "825/825 [==============================] - 0s 233us/step - loss: 0.2689 - mean_absolute_error: 0.3506 - val_loss: 0.2804 - val_mean_absolute_error: 0.3523\n",
      "Epoch 103/1000\n",
      "825/825 [==============================] - 0s 219us/step - loss: 0.2801 - mean_absolute_error: 0.3644 - val_loss: 0.2771 - val_mean_absolute_error: 0.3485\n",
      "Epoch 104/1000\n",
      "825/825 [==============================] - 0s 277us/step - loss: 0.2697 - mean_absolute_error: 0.3485 - val_loss: 0.2783 - val_mean_absolute_error: 0.3494\n",
      "Epoch 105/1000\n",
      "825/825 [==============================] - 0s 266us/step - loss: 0.2912 - mean_absolute_error: 0.3690 - val_loss: 0.2766 - val_mean_absolute_error: 0.3449\n",
      "Epoch 106/1000\n",
      "825/825 [==============================] - 0s 273us/step - loss: 0.2833 - mean_absolute_error: 0.3603 - val_loss: 0.2812 - val_mean_absolute_error: 0.3553\n",
      "Epoch 107/1000\n",
      "825/825 [==============================] - 0s 257us/step - loss: 0.2628 - mean_absolute_error: 0.3484 - val_loss: 0.2757 - val_mean_absolute_error: 0.3479\n",
      "Epoch 108/1000\n",
      "825/825 [==============================] - 0s 264us/step - loss: 0.2724 - mean_absolute_error: 0.3514 - val_loss: 0.2780 - val_mean_absolute_error: 0.3501\n",
      "Epoch 109/1000\n",
      "825/825 [==============================] - 0s 237us/step - loss: 0.2685 - mean_absolute_error: 0.3595 - val_loss: 0.2802 - val_mean_absolute_error: 0.3532\n",
      "Epoch 110/1000\n",
      "825/825 [==============================] - 0s 227us/step - loss: 0.2656 - mean_absolute_error: 0.3465 - val_loss: 0.2786 - val_mean_absolute_error: 0.3515\n",
      "Epoch 111/1000\n",
      "825/825 [==============================] - 0s 209us/step - loss: 0.2698 - mean_absolute_error: 0.3582 - val_loss: 0.2760 - val_mean_absolute_error: 0.3463\n",
      "Epoch 112/1000\n",
      "825/825 [==============================] - 0s 262us/step - loss: 0.2565 - mean_absolute_error: 0.3447 - val_loss: 0.2763 - val_mean_absolute_error: 0.3472\n",
      "Epoch 113/1000\n",
      "825/825 [==============================] - 0s 246us/step - loss: 0.2596 - mean_absolute_error: 0.3463 - val_loss: 0.2764 - val_mean_absolute_error: 0.3488\n",
      "Epoch 114/1000\n",
      "825/825 [==============================] - 0s 281us/step - loss: 0.2487 - mean_absolute_error: 0.3345 - val_loss: 0.2780 - val_mean_absolute_error: 0.3497\n",
      "Epoch 115/1000\n",
      "825/825 [==============================] - 0s 293us/step - loss: 0.2800 - mean_absolute_error: 0.3575 - val_loss: 0.2808 - val_mean_absolute_error: 0.3538\n",
      "Epoch 116/1000\n",
      "825/825 [==============================] - 0s 213us/step - loss: 0.2873 - mean_absolute_error: 0.3645 - val_loss: 0.2774 - val_mean_absolute_error: 0.3487\n",
      "Epoch 117/1000\n",
      "825/825 [==============================] - 0s 290us/step - loss: 0.2587 - mean_absolute_error: 0.3481 - val_loss: 0.2764 - val_mean_absolute_error: 0.3488\n"
     ]
    }
   ],
   "source": [
    "history = model.fit(X_train, y_train, epochs=1000, validation_data=[X_val, y_val], callbacks=[early_stop])"
   ]
  },
  {
   "cell_type": "code",
   "execution_count": 23,
   "metadata": {},
   "outputs": [
    {
     "data": {
      "image/png": "[encoded data removed]",
      "text/plain": [
       "<Figure size 432x288 with 1 Axes>"
      ]
     },
     "metadata": {
      "needs_background": "light"
     },
     "output_type": "display_data"
    }
   ],
   "source": [
    "plot_history(history)"
   ]
  },
  {
   "cell_type": "code",
   "execution_count": 24,
   "metadata": {},
   "outputs": [
    {
     "data": {
      "text/plain": [
       "53.471544812984725"
      ]
     },
     "execution_count": 24,
     "metadata": {},
     "output_type": "execute_result"
    }
   ],
   "source": [
    "pred = y_scaler.inverse_transform(model.predict(X_test).flatten())\n",
    "msse(pred, y_test)"
   ]
  },
  {
   "cell_type": "code",
   "execution_count": 25,
   "metadata": {},
   "outputs": [
    {
     "data": {
      "image/png": "[encoded data removed]",
      "text/plain": [
       "<Figure size 432x432 with 1 Axes>"
      ]
     },
     "metadata": {
      "needs_background": "light"
     },
     "output_type": "display_data"
    }
   ],
   "source": [
    "plot_predictions(pred, y_test)"
   ]
  },
  {
   "cell_type": "code",
   "execution_count": 26,
   "metadata": {},
   "outputs": [],
   "source": [
    "weights = model.get_weights()\n",
    "np.save('relu_weights', weights, allow_pickle=True)"
   ]
  },
  {
   "cell_type": "code",
   "execution_count": 27,
   "metadata": {},
   "outputs": [
    {
     "data": {
      "text/plain": [
       "[array([[ 5.19798756e-01, -4.12573814e-01,  1.33691698e-01,\n",
       "          1.31595433e-01, -2.34113798e-01,  5.89437485e-02,\n",
       "         -1.21638976e-01,  1.31040742e-03],\n",
       "        [ 3.78057510e-01, -2.61529058e-01, -1.58612669e-01,\n",
       "          1.51512742e-01,  1.70545936e-01,  2.94539601e-01,\n",
       "         -2.35484064e-01, -1.37145579e-01],\n",
       "        [ 2.16949344e-01, -2.78579503e-01,  2.90926337e-01,\n",
       "          1.76785424e-01,  5.79007924e-01,  6.78718865e-01,\n",
       "          8.72416496e-02, -3.45615596e-01],\n",
       "        [-5.40233791e-01, -3.01133037e-01, -1.76962480e-01,\n",
       "          1.83492616e-01, -2.38160715e-01, -2.25215420e-01,\n",
       "          6.06795967e-01, -1.40261561e-01],\n",
       "        [ 1.37556493e-01, -8.08576867e-02,  7.59515762e-01,\n",
       "          1.04320213e-01,  1.27737612e-01, -3.71377081e-01,\n",
       "         -1.83214426e-01,  1.84114963e-01],\n",
       "        [-1.02348708e-01, -2.41642952e-01, -2.19340488e-01,\n",
       "          1.79765537e-01,  6.18626811e-02,  3.88215750e-01,\n",
       "          4.80212182e-01,  3.44987661e-01],\n",
       "        [ 2.08151672e-04, -3.01391751e-01,  1.85397953e-01,\n",
       "          1.64496765e-01, -3.63178194e-01,  4.15775359e-01,\n",
       "          5.69733560e-01, -4.06720340e-01],\n",
       "        [ 9.28365961e-02, -3.17747414e-01, -4.07187223e-01,\n",
       "         -9.05019760e-01,  9.69790295e-02,  1.55811131e-01,\n",
       "          2.35637099e-01,  7.81957448e-01]], dtype=float32),\n",
       " array([-0.05434512, -0.05293339, -0.00810274,  0.00643164, -0.00238612,\n",
       "        -0.00166105,  0.00172765,  0.01520272], dtype=float32),\n",
       " array([0.7777082 , 0.9104784 , 0.6802812 , 1.0979729 , 0.0266893 ,\n",
       "        0.02936014, 0.6834005 , 0.4422378 ], dtype=float32),\n",
       " array([ 0.4997703 ,  0.16083278, -0.17318325,  0.06498221, -0.0040728 ,\n",
       "        -0.01057063,  0.00305452,  0.31071648], dtype=float32),\n",
       " array([-4.8738685e-02, -5.6522377e-02, -5.0130710e-03,  1.0216690e-02,\n",
       "        -1.5304448e-03, -7.1341870e-04, -9.3603740e-05,  1.5829539e-02],\n",
       "       dtype=float32),\n",
       " array([0.71149385, 0.12892726, 1.7108111 , 0.831516  , 0.6706143 ,\n",
       "        0.5588096 , 0.88873434, 1.0349705 ], dtype=float32),\n",
       " array([[ 0.8073336 ],\n",
       "        [-0.7130384 ],\n",
       "        [-0.5069161 ],\n",
       "        [-0.8297852 ],\n",
       "        [-0.0152027 ],\n",
       "        [ 0.04028918],\n",
       "        [-0.5364071 ],\n",
       "        [ 0.40080485]], dtype=float32),\n",
       " array([0.2702112], dtype=float32)]"
      ]
     },
     "execution_count": 27,
     "metadata": {},
     "output_type": "execute_result"
    }
   ],
   "source": [
    "weights"
   ]
  },
  {
   "cell_type": "code",
   "execution_count": null,
   "metadata": {},
   "outputs": [],
   "source": []
  }
 ],
 "metadata": {
  "kernelspec": {
   "display_name": "Python 3",
   "language": "python",
   "name": "python3"
  },
  "language_info": {
   "codemirror_mode": {
    "name": "ipython",
    "version": 3
   },
   "file_extension": ".py",
   "mimetype": "text/x-python",
   "name": "python",
   "nbconvert_exporter": "python",
   "pygments_lexer": "ipython3",
   "version": "3.6.6"
  }
 },
 "nbformat": 4,
 "nbformat_minor": 2
}
