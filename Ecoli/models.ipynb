{
 "cells": [
  {
   "cell_type": "code",
   "execution_count": 76,
   "metadata": {},
   "outputs": [],
   "source": [
    "import numpy as np\n",
    "import pandas as pd\n",
    "import matplotlib.pyplot as plt\n",
    "from tensorflow import keras\n",
    "import tensorflow as tf\n",
    "from tensorflow.keras.utils import to_categorical\n",
    "from sklearn.model_selection import train_test_split\n",
    "from sklearn.preprocessing import StandardScaler, LabelEncoder\n",
    "import seaborn as sns\n",
    "from sklearn.metrics import accuracy_score, confusion_matrix\n",
    "import os"
   ]
  },
  {
   "cell_type": "markdown",
   "metadata": {},
   "source": [
    "## Prepare data"
   ]
  },
  {
   "cell_type": "code",
   "execution_count": 120,
   "metadata": {},
   "outputs": [],
   "source": [
    "data = pd.read_csv(os.path.join(os.getcwd(), 'ecoli.data'), names=['sequence_name', 'mcg', 'gvh', 'lip', 'chg', \n",
    "                                                                   'aac', 'alm1', 'alm2', 'class'])"
   ]
  },
  {
   "cell_type": "code",
   "execution_count": 121,
   "metadata": {},
   "outputs": [
    {
     "data": {
      "text/html": [
       "<div>\n",
       "<style scoped>\n",
       "    .dataframe tbody tr th:only-of-type {\n",
       "        vertical-align: middle;\n",
       "    }\n",
       "\n",
       "    .dataframe tbody tr th {\n",
       "        vertical-align: top;\n",
       "    }\n",
       "\n",
       "    .dataframe thead th {\n",
       "        text-align: right;\n",
       "    }\n",
       "</style>\n",
       "<table border=\"1\" class=\"dataframe\">\n",
       "  <thead>\n",
       "    <tr style=\"text-align: right;\">\n",
       "      <th></th>\n",
       "      <th>mcg</th>\n",
       "      <th>gvh</th>\n",
       "      <th>lip</th>\n",
       "      <th>chg</th>\n",
       "      <th>aac</th>\n",
       "      <th>alm1</th>\n",
       "      <th>alm2</th>\n",
       "    </tr>\n",
       "  </thead>\n",
       "  <tbody>\n",
       "    <tr>\n",
       "      <th>count</th>\n",
       "      <td>336.000000</td>\n",
       "      <td>336.000000</td>\n",
       "      <td>336.000000</td>\n",
       "      <td>336.000000</td>\n",
       "      <td>336.000000</td>\n",
       "      <td>336.000000</td>\n",
       "      <td>336.000000</td>\n",
       "    </tr>\n",
       "    <tr>\n",
       "      <th>mean</th>\n",
       "      <td>0.500060</td>\n",
       "      <td>0.500000</td>\n",
       "      <td>0.495476</td>\n",
       "      <td>0.501488</td>\n",
       "      <td>0.500030</td>\n",
       "      <td>0.500179</td>\n",
       "      <td>0.499732</td>\n",
       "    </tr>\n",
       "    <tr>\n",
       "      <th>std</th>\n",
       "      <td>0.194634</td>\n",
       "      <td>0.148157</td>\n",
       "      <td>0.088495</td>\n",
       "      <td>0.027277</td>\n",
       "      <td>0.122376</td>\n",
       "      <td>0.215751</td>\n",
       "      <td>0.209411</td>\n",
       "    </tr>\n",
       "    <tr>\n",
       "      <th>min</th>\n",
       "      <td>0.000000</td>\n",
       "      <td>0.160000</td>\n",
       "      <td>0.480000</td>\n",
       "      <td>0.500000</td>\n",
       "      <td>0.000000</td>\n",
       "      <td>0.030000</td>\n",
       "      <td>0.000000</td>\n",
       "    </tr>\n",
       "    <tr>\n",
       "      <th>25%</th>\n",
       "      <td>0.340000</td>\n",
       "      <td>0.400000</td>\n",
       "      <td>0.480000</td>\n",
       "      <td>0.500000</td>\n",
       "      <td>0.420000</td>\n",
       "      <td>0.330000</td>\n",
       "      <td>0.350000</td>\n",
       "    </tr>\n",
       "    <tr>\n",
       "      <th>50%</th>\n",
       "      <td>0.500000</td>\n",
       "      <td>0.470000</td>\n",
       "      <td>0.480000</td>\n",
       "      <td>0.500000</td>\n",
       "      <td>0.495000</td>\n",
       "      <td>0.455000</td>\n",
       "      <td>0.430000</td>\n",
       "    </tr>\n",
       "    <tr>\n",
       "      <th>75%</th>\n",
       "      <td>0.662500</td>\n",
       "      <td>0.570000</td>\n",
       "      <td>0.480000</td>\n",
       "      <td>0.500000</td>\n",
       "      <td>0.570000</td>\n",
       "      <td>0.710000</td>\n",
       "      <td>0.710000</td>\n",
       "    </tr>\n",
       "    <tr>\n",
       "      <th>max</th>\n",
       "      <td>0.890000</td>\n",
       "      <td>1.000000</td>\n",
       "      <td>1.000000</td>\n",
       "      <td>1.000000</td>\n",
       "      <td>0.880000</td>\n",
       "      <td>1.000000</td>\n",
       "      <td>0.990000</td>\n",
       "    </tr>\n",
       "  </tbody>\n",
       "</table>\n",
       "</div>"
      ],
      "text/plain": [
       "              mcg         gvh         lip         chg         aac        alm1  \\\n",
       "count  336.000000  336.000000  336.000000  336.000000  336.000000  336.000000   \n",
       "mean     0.500060    0.500000    0.495476    0.501488    0.500030    0.500179   \n",
       "std      0.194634    0.148157    0.088495    0.027277    0.122376    0.215751   \n",
       "min      0.000000    0.160000    0.480000    0.500000    0.000000    0.030000   \n",
       "25%      0.340000    0.400000    0.480000    0.500000    0.420000    0.330000   \n",
       "50%      0.500000    0.470000    0.480000    0.500000    0.495000    0.455000   \n",
       "75%      0.662500    0.570000    0.480000    0.500000    0.570000    0.710000   \n",
       "max      0.890000    1.000000    1.000000    1.000000    0.880000    1.000000   \n",
       "\n",
       "             alm2  \n",
       "count  336.000000  \n",
       "mean     0.499732  \n",
       "std      0.209411  \n",
       "min      0.000000  \n",
       "25%      0.350000  \n",
       "50%      0.430000  \n",
       "75%      0.710000  \n",
       "max      0.990000  "
      ]
     },
     "execution_count": 121,
     "metadata": {},
     "output_type": "execute_result"
    }
   ],
   "source": [
    "data.describe()"
   ]
  },
  {
   "cell_type": "code",
   "execution_count": 122,
   "metadata": {},
   "outputs": [
    {
     "name": "stdout",
     "output_type": "stream",
     "text": [
      "(201, 7) (67, 7) (68, 7)\n",
      "(201,) (67,) (68,)\n"
     ]
    }
   ],
   "source": [
    "data.drop('sequence_name', axis=1, inplace=True)\n",
    "X = data.drop('class', axis=1)\n",
    "y = data['class']\n",
    "X_train, X_test, y_train, y_test = train_test_split(X, y, test_size=0.2, random_state=5)\n",
    "X_train, X_val, y_train, y_val = train_test_split(X_train, y_train, test_size=0.25, random_state=5)\n",
    "print(X_train.shape, X_val.shape, X_test.shape)\n",
    "print(y_train.shape, y_val.shape, y_test.shape)"
   ]
  },
  {
   "cell_type": "code",
   "execution_count": 123,
   "metadata": {},
   "outputs": [
    {
     "data": {
      "text/plain": [
       "<matplotlib.axes._subplots.AxesSubplot at 0x1a39cf1a90>"
      ]
     },
     "execution_count": 123,
     "metadata": {},
     "output_type": "execute_result"
    },
    {
     "data": {
      "image/png": "[encoded data removed]",
      "text/plain": [
       "<Figure size 432x288 with 1 Axes>"
      ]
     },
     "metadata": {
      "needs_background": "light"
     },
     "output_type": "display_data"
    }
   ],
   "source": [
    "sns.countplot(y_train)"
   ]
  },
  {
   "cell_type": "code",
   "execution_count": 124,
   "metadata": {
    "scrolled": true
   },
   "outputs": [],
   "source": [
    "X_scaler = StandardScaler()\n",
    "X_train = X_scaler.fit_transform(X_train)\n",
    "X_val = X_scaler.transform(X_val)\n",
    "X_test = X_scaler.transform(X_test)"
   ]
  },
  {
   "cell_type": "code",
   "execution_count": 125,
   "metadata": {},
   "outputs": [
    {
     "data": {
      "text/plain": [
       "LabelEncoder()"
      ]
     },
     "execution_count": 125,
     "metadata": {},
     "output_type": "execute_result"
    }
   ],
   "source": [
    "y_encoder = LabelEncoder()\n",
    "y_encoder.fit(y_train)"
   ]
  },
  {
   "cell_type": "code",
   "execution_count": 126,
   "metadata": {},
   "outputs": [
    {
     "data": {
      "text/plain": [
       "array(['cp', 'im', 'imL', 'imS', 'imU', 'om', 'omL', 'pp'], dtype=object)"
      ]
     },
     "execution_count": 126,
     "metadata": {},
     "output_type": "execute_result"
    }
   ],
   "source": [
    "y_encoder.classes_"
   ]
  },
  {
   "cell_type": "code",
   "execution_count": 127,
   "metadata": {},
   "outputs": [
    {
     "data": {
      "text/plain": [
       "<matplotlib.axes._subplots.AxesSubplot at 0x1a39dae240>"
      ]
     },
     "execution_count": 127,
     "metadata": {},
     "output_type": "execute_result"
    },
    {
     "data": {
      "image/png": "[encoded data removed]",
      "text/plain": [
       "<Figure size 432x288 with 1 Axes>"
      ]
     },
     "metadata": {
      "needs_background": "light"
     },
     "output_type": "display_data"
    }
   ],
   "source": [
    "sns.countplot(y_train)"
   ]
  },
  {
   "cell_type": "code",
   "execution_count": 129,
   "metadata": {},
   "outputs": [],
   "source": [
    "y_train = to_categorical(y_encoder.transform(y_train))\n",
    "y_val = to_categorical(y_encoder.transform(y_val))\n",
    "y_test = to_categorical(y_encoder.transform(y_test))"
   ]
  },
  {
   "cell_type": "code",
   "execution_count": 132,
   "metadata": {},
   "outputs": [
    {
     "data": {
      "text/plain": [
       "<matplotlib.axes._subplots.AxesSubplot at 0x1a3990d908>"
      ]
     },
     "execution_count": 132,
     "metadata": {},
     "output_type": "execute_result"
    },
    {
     "data": {
      "image/png": "[encoded data removed]",
      "text/plain": [
       "<Figure size 432x288 with 1 Axes>"
      ]
     },
     "metadata": {
      "needs_background": "light"
     },
     "output_type": "display_data"
    }
   ],
   "source": [
    "sns.countplot(y_test.argmax(axis=1))"
   ]
  },
  {
   "cell_type": "code",
   "execution_count": 131,
   "metadata": {},
   "outputs": [
    {
     "data": {
      "text/plain": [
       "array(['cp', 'im', 'imL', 'imS', 'imU', 'om', 'omL', 'pp'], dtype=object)"
      ]
     },
     "execution_count": 131,
     "metadata": {},
     "output_type": "execute_result"
    }
   ],
   "source": [
    "['cp', 'im', '', '', 'imU', 'om', 'omL', 'pp']"
   ]
  },
  {
   "cell_type": "code",
   "execution_count": 88,
   "metadata": {},
   "outputs": [],
   "source": [
    "def plot_history(history):\n",
    "    plt.figure()\n",
    "    plt.xlabel('Epoch')\n",
    "    plt.ylabel('Mean Abs Error [1000$]')\n",
    "    plt.plot(history.epoch, np.array(history.history['loss']),\n",
    "           label='Train Loss')\n",
    "    plt.plot(history.epoch, np.array(history.history['val_loss']),\n",
    "           label = 'Val loss')\n",
    "    plt.legend()"
   ]
  },
  {
   "cell_type": "code",
   "execution_count": 89,
   "metadata": {},
   "outputs": [],
   "source": [
    "def plot_confusion_matrix(cm, classes=None, title='Confusion matrix'):\n",
    "    \"\"\"Plots a confusion matrix.\"\"\"\n",
    "    if classes is not None:\n",
    "        sns.heatmap(cm, xticklabels=classes, yticklabels=classes, vmin=0., vmax=1., annot=True)\n",
    "    else:\n",
    "        sns.heatmap(cm, vmin=0., vmax=1.)\n",
    "    plt.title(title)\n",
    "    plt.ylabel('True label')\n",
    "    plt.xlabel('Predicted label')"
   ]
  },
  {
   "cell_type": "markdown",
   "metadata": {},
   "source": [
    "## Models"
   ]
  },
  {
   "cell_type": "code",
   "execution_count": 90,
   "metadata": {},
   "outputs": [],
   "source": [
    "model = keras.Sequential([\n",
    "    keras.layers.Dense(8, input_shape=(7,), kernel_regularizer=keras.regularizers.l2(0.01)),\n",
    "    keras.layers.Activation('sigmoid'),\n",
    "    keras.layers.Dense(8, kernel_regularizer=keras.regularizers.l2(0.01)),\n",
    "    keras.layers.Activation('softmax')\n",
    "])\n",
    "optimizer = tf.train.AdamOptimizer(0.001)\n",
    "model.compile(loss='categorical_crossentropy', optimizer=optimizer, metrics=['accuracy'])"
   ]
  },
  {
   "cell_type": "code",
   "execution_count": 91,
   "metadata": {},
   "outputs": [
    {
     "name": "stdout",
     "output_type": "stream",
     "text": [
      "_________________________________________________________________\n",
      "Layer (type)                 Output Shape              Param #   \n",
      "=================================================================\n",
      "dense_2 (Dense)              (None, 8)                 64        \n",
      "_________________________________________________________________\n",
      "activation_2 (Activation)    (None, 8)                 0         \n",
      "_________________________________________________________________\n",
      "dense_3 (Dense)              (None, 8)                 72        \n",
      "_________________________________________________________________\n",
      "activation_3 (Activation)    (None, 8)                 0         \n",
      "=================================================================\n",
      "Total params: 136\n",
      "Trainable params: 136\n",
      "Non-trainable params: 0\n",
      "_________________________________________________________________\n"
     ]
    }
   ],
   "source": [
    "model.summary()"
   ]
  },
  {
   "cell_type": "code",
   "execution_count": 92,
   "metadata": {},
   "outputs": [],
   "source": [
    "early_stop = keras.callbacks.EarlyStopping(monitor='val_loss', min_delta=0, patience=10, verbose=0, mode='auto')"
   ]
  },
  {
   "cell_type": "code",
   "execution_count": 93,
   "metadata": {},
   "outputs": [
    {
     "name": "stdout",
     "output_type": "stream",
     "text": [
      "Train on 201 samples, validate on 67 samples\n",
      "Epoch 1/1000\n",
      "201/201 [==============================] - 0s 2ms/step - loss: 2.2379 - acc: 0.0945 - val_loss: 2.2731 - val_acc: 0.0448\n",
      "Epoch 2/1000\n",
      "201/201 [==============================] - 0s 70us/step - loss: 2.2035 - acc: 0.1294 - val_loss: 2.2399 - val_acc: 0.0448\n",
      "Epoch 3/1000\n",
      "201/201 [==============================] - 0s 73us/step - loss: 2.1718 - acc: 0.1692 - val_loss: 2.2070 - val_acc: 0.0597\n",
      "Epoch 4/1000\n",
      "201/201 [==============================] - 0s 93us/step - loss: 2.1392 - acc: 0.1940 - val_loss: 2.1755 - val_acc: 0.0746\n",
      "Epoch 5/1000\n",
      "201/201 [==============================] - 0s 111us/step - loss: 2.1089 - acc: 0.1990 - val_loss: 2.1456 - val_acc: 0.0746\n",
      "Epoch 6/1000\n",
      "201/201 [==============================] - 0s 127us/step - loss: 2.0790 - acc: 0.1891 - val_loss: 2.1168 - val_acc: 0.0896\n",
      "Epoch 7/1000\n",
      "201/201 [==============================] - 0s 130us/step - loss: 2.0509 - acc: 0.1990 - val_loss: 2.0890 - val_acc: 0.0896\n",
      "Epoch 8/1000\n",
      "201/201 [==============================] - 0s 122us/step - loss: 2.0244 - acc: 0.2040 - val_loss: 2.0616 - val_acc: 0.0896\n",
      "Epoch 9/1000\n",
      "201/201 [==============================] - 0s 147us/step - loss: 1.9973 - acc: 0.2090 - val_loss: 2.0355 - val_acc: 0.0896\n",
      "Epoch 10/1000\n",
      "201/201 [==============================] - 0s 151us/step - loss: 1.9716 - acc: 0.2090 - val_loss: 2.0091 - val_acc: 0.0896\n",
      "Epoch 11/1000\n",
      "201/201 [==============================] - 0s 115us/step - loss: 1.9476 - acc: 0.2239 - val_loss: 1.9843 - val_acc: 0.0896\n",
      "Epoch 12/1000\n",
      "201/201 [==============================] - 0s 123us/step - loss: 1.9238 - acc: 0.2289 - val_loss: 1.9610 - val_acc: 0.1045\n",
      "Epoch 13/1000\n",
      "201/201 [==============================] - 0s 164us/step - loss: 1.9015 - acc: 0.2338 - val_loss: 1.9391 - val_acc: 0.1045\n",
      "Epoch 14/1000\n",
      "201/201 [==============================] - 0s 164us/step - loss: 1.8805 - acc: 0.2388 - val_loss: 1.9181 - val_acc: 0.1045\n",
      "Epoch 15/1000\n",
      "201/201 [==============================] - 0s 147us/step - loss: 1.8598 - acc: 0.2438 - val_loss: 1.8981 - val_acc: 0.1642\n",
      "Epoch 16/1000\n",
      "201/201 [==============================] - 0s 141us/step - loss: 1.8406 - acc: 0.2935 - val_loss: 1.8779 - val_acc: 0.4179\n",
      "Epoch 17/1000\n",
      "201/201 [==============================] - 0s 125us/step - loss: 1.8208 - acc: 0.4428 - val_loss: 1.8592 - val_acc: 0.4328\n",
      "Epoch 18/1000\n",
      "201/201 [==============================] - 0s 133us/step - loss: 1.8027 - acc: 0.5075 - val_loss: 1.8420 - val_acc: 0.4776\n",
      "Epoch 19/1000\n",
      "201/201 [==============================] - 0s 142us/step - loss: 1.7849 - acc: 0.5224 - val_loss: 1.8240 - val_acc: 0.4925\n",
      "Epoch 20/1000\n",
      "201/201 [==============================] - 0s 118us/step - loss: 1.7675 - acc: 0.5323 - val_loss: 1.8061 - val_acc: 0.4925\n",
      "Epoch 21/1000\n",
      "201/201 [==============================] - 0s 122us/step - loss: 1.7504 - acc: 0.5622 - val_loss: 1.7891 - val_acc: 0.4925\n",
      "Epoch 22/1000\n",
      "201/201 [==============================] - 0s 106us/step - loss: 1.7344 - acc: 0.5821 - val_loss: 1.7726 - val_acc: 0.5075\n",
      "Epoch 23/1000\n",
      "201/201 [==============================] - 0s 131us/step - loss: 1.7184 - acc: 0.5871 - val_loss: 1.7572 - val_acc: 0.5373\n",
      "Epoch 24/1000\n",
      "201/201 [==============================] - 0s 94us/step - loss: 1.7035 - acc: 0.5821 - val_loss: 1.7421 - val_acc: 0.5373\n",
      "Epoch 25/1000\n",
      "201/201 [==============================] - 0s 112us/step - loss: 1.6888 - acc: 0.5821 - val_loss: 1.7277 - val_acc: 0.5373\n",
      "Epoch 26/1000\n",
      "201/201 [==============================] - 0s 124us/step - loss: 1.6748 - acc: 0.5920 - val_loss: 1.7132 - val_acc: 0.5373\n",
      "Epoch 27/1000\n",
      "201/201 [==============================] - 0s 118us/step - loss: 1.6605 - acc: 0.6020 - val_loss: 1.7002 - val_acc: 0.5373\n",
      "Epoch 28/1000\n",
      "201/201 [==============================] - 0s 133us/step - loss: 1.6471 - acc: 0.5970 - val_loss: 1.6859 - val_acc: 0.5522\n",
      "Epoch 29/1000\n",
      "201/201 [==============================] - 0s 123us/step - loss: 1.6341 - acc: 0.6070 - val_loss: 1.6719 - val_acc: 0.5522\n",
      "Epoch 30/1000\n",
      "201/201 [==============================] - 0s 125us/step - loss: 1.6208 - acc: 0.6119 - val_loss: 1.6580 - val_acc: 0.5672\n",
      "Epoch 31/1000\n",
      "201/201 [==============================] - 0s 129us/step - loss: 1.6083 - acc: 0.6119 - val_loss: 1.6456 - val_acc: 0.5672\n",
      "Epoch 32/1000\n",
      "201/201 [==============================] - 0s 95us/step - loss: 1.5964 - acc: 0.6070 - val_loss: 1.6336 - val_acc: 0.5672\n",
      "Epoch 33/1000\n",
      "201/201 [==============================] - 0s 116us/step - loss: 1.5849 - acc: 0.6119 - val_loss: 1.6219 - val_acc: 0.5672\n",
      "Epoch 34/1000\n",
      "201/201 [==============================] - 0s 122us/step - loss: 1.5735 - acc: 0.6169 - val_loss: 1.6115 - val_acc: 0.5672\n",
      "Epoch 35/1000\n",
      "201/201 [==============================] - 0s 107us/step - loss: 1.5624 - acc: 0.6219 - val_loss: 1.6002 - val_acc: 0.5672\n",
      "Epoch 36/1000\n",
      "201/201 [==============================] - 0s 88us/step - loss: 1.5518 - acc: 0.6219 - val_loss: 1.5903 - val_acc: 0.5672\n",
      "Epoch 37/1000\n",
      "201/201 [==============================] - 0s 136us/step - loss: 1.5420 - acc: 0.6219 - val_loss: 1.5807 - val_acc: 0.5672\n",
      "Epoch 38/1000\n",
      "201/201 [==============================] - 0s 103us/step - loss: 1.5317 - acc: 0.6219 - val_loss: 1.5711 - val_acc: 0.5672\n",
      "Epoch 39/1000\n",
      "201/201 [==============================] - 0s 116us/step - loss: 1.5219 - acc: 0.6219 - val_loss: 1.5625 - val_acc: 0.5672\n",
      "Epoch 40/1000\n",
      "201/201 [==============================] - 0s 142us/step - loss: 1.5125 - acc: 0.6219 - val_loss: 1.5530 - val_acc: 0.5672\n",
      "Epoch 41/1000\n",
      "201/201 [==============================] - 0s 135us/step - loss: 1.5035 - acc: 0.6219 - val_loss: 1.5443 - val_acc: 0.5672\n",
      "Epoch 42/1000\n",
      "201/201 [==============================] - 0s 120us/step - loss: 1.4950 - acc: 0.6219 - val_loss: 1.5348 - val_acc: 0.5672\n",
      "Epoch 43/1000\n",
      "201/201 [==============================] - 0s 159us/step - loss: 1.4863 - acc: 0.6219 - val_loss: 1.5270 - val_acc: 0.5672\n",
      "Epoch 44/1000\n",
      "201/201 [==============================] - 0s 146us/step - loss: 1.4780 - acc: 0.6219 - val_loss: 1.5183 - val_acc: 0.5672\n",
      "Epoch 45/1000\n",
      "201/201 [==============================] - 0s 121us/step - loss: 1.4701 - acc: 0.6219 - val_loss: 1.5095 - val_acc: 0.5672\n",
      "Epoch 46/1000\n",
      "201/201 [==============================] - 0s 113us/step - loss: 1.4618 - acc: 0.6219 - val_loss: 1.5024 - val_acc: 0.5672\n",
      "Epoch 47/1000\n",
      "201/201 [==============================] - 0s 105us/step - loss: 1.4538 - acc: 0.6219 - val_loss: 1.4951 - val_acc: 0.5672\n",
      "Epoch 48/1000\n",
      "201/201 [==============================] - 0s 98us/step - loss: 1.4463 - acc: 0.6219 - val_loss: 1.4881 - val_acc: 0.5672\n",
      "Epoch 49/1000\n",
      "201/201 [==============================] - 0s 89us/step - loss: 1.4388 - acc: 0.6219 - val_loss: 1.4819 - val_acc: 0.5672\n",
      "Epoch 50/1000\n",
      "201/201 [==============================] - 0s 103us/step - loss: 1.4315 - acc: 0.6219 - val_loss: 1.4756 - val_acc: 0.5672\n",
      "Epoch 51/1000\n",
      "201/201 [==============================] - 0s 80us/step - loss: 1.4246 - acc: 0.6219 - val_loss: 1.4690 - val_acc: 0.5672\n",
      "Epoch 52/1000\n",
      "201/201 [==============================] - 0s 112us/step - loss: 1.4176 - acc: 0.6219 - val_loss: 1.4625 - val_acc: 0.5672\n",
      "Epoch 53/1000\n",
      "201/201 [==============================] - 0s 90us/step - loss: 1.4108 - acc: 0.6219 - val_loss: 1.4562 - val_acc: 0.5672\n",
      "Epoch 54/1000\n",
      "201/201 [==============================] - 0s 91us/step - loss: 1.4040 - acc: 0.6219 - val_loss: 1.4501 - val_acc: 0.5672\n",
      "Epoch 55/1000\n",
      "201/201 [==============================] - 0s 117us/step - loss: 1.3977 - acc: 0.6219 - val_loss: 1.4441 - val_acc: 0.5672\n",
      "Epoch 56/1000\n",
      "201/201 [==============================] - 0s 91us/step - loss: 1.3915 - acc: 0.6219 - val_loss: 1.4385 - val_acc: 0.5672\n",
      "Epoch 57/1000\n",
      "201/201 [==============================] - 0s 102us/step - loss: 1.3854 - acc: 0.6219 - val_loss: 1.4326 - val_acc: 0.5672\n",
      "Epoch 58/1000\n",
      "201/201 [==============================] - 0s 102us/step - loss: 1.3797 - acc: 0.6219 - val_loss: 1.4267 - val_acc: 0.5672\n",
      "Epoch 59/1000\n",
      "201/201 [==============================] - 0s 95us/step - loss: 1.3739 - acc: 0.6219 - val_loss: 1.4217 - val_acc: 0.5672\n",
      "Epoch 60/1000\n"
     ]
    },
    {
     "name": "stdout",
     "output_type": "stream",
     "text": [
      "201/201 [==============================] - 0s 98us/step - loss: 1.3680 - acc: 0.6219 - val_loss: 1.4171 - val_acc: 0.5672\n",
      "Epoch 61/1000\n",
      "201/201 [==============================] - 0s 99us/step - loss: 1.3625 - acc: 0.6219 - val_loss: 1.4127 - val_acc: 0.5672\n",
      "Epoch 62/1000\n",
      "201/201 [==============================] - 0s 110us/step - loss: 1.3569 - acc: 0.6219 - val_loss: 1.4089 - val_acc: 0.5672\n",
      "Epoch 63/1000\n",
      "201/201 [==============================] - 0s 115us/step - loss: 1.3515 - acc: 0.6219 - val_loss: 1.4048 - val_acc: 0.5672\n",
      "Epoch 64/1000\n",
      "201/201 [==============================] - 0s 95us/step - loss: 1.3464 - acc: 0.6269 - val_loss: 1.4006 - val_acc: 0.5672\n",
      "Epoch 65/1000\n",
      "201/201 [==============================] - 0s 98us/step - loss: 1.3412 - acc: 0.6269 - val_loss: 1.3955 - val_acc: 0.5672\n",
      "Epoch 66/1000\n",
      "201/201 [==============================] - 0s 111us/step - loss: 1.3364 - acc: 0.6269 - val_loss: 1.3905 - val_acc: 0.5672\n",
      "Epoch 67/1000\n",
      "201/201 [==============================] - 0s 114us/step - loss: 1.3314 - acc: 0.6269 - val_loss: 1.3859 - val_acc: 0.5672\n",
      "Epoch 68/1000\n",
      "201/201 [==============================] - 0s 104us/step - loss: 1.3266 - acc: 0.6269 - val_loss: 1.3823 - val_acc: 0.5672\n",
      "Epoch 69/1000\n",
      "201/201 [==============================] - 0s 91us/step - loss: 1.3220 - acc: 0.6269 - val_loss: 1.3782 - val_acc: 0.5672\n",
      "Epoch 70/1000\n",
      "201/201 [==============================] - 0s 100us/step - loss: 1.3175 - acc: 0.6269 - val_loss: 1.3739 - val_acc: 0.5672\n",
      "Epoch 71/1000\n",
      "201/201 [==============================] - 0s 99us/step - loss: 1.3131 - acc: 0.6269 - val_loss: 1.3691 - val_acc: 0.5672\n",
      "Epoch 72/1000\n",
      "201/201 [==============================] - 0s 102us/step - loss: 1.3086 - acc: 0.6269 - val_loss: 1.3646 - val_acc: 0.5672\n",
      "Epoch 73/1000\n",
      "201/201 [==============================] - 0s 112us/step - loss: 1.3043 - acc: 0.6269 - val_loss: 1.3607 - val_acc: 0.5672\n",
      "Epoch 74/1000\n",
      "201/201 [==============================] - 0s 96us/step - loss: 1.3000 - acc: 0.6269 - val_loss: 1.3568 - val_acc: 0.5672\n",
      "Epoch 75/1000\n",
      "201/201 [==============================] - 0s 110us/step - loss: 1.2958 - acc: 0.6269 - val_loss: 1.3534 - val_acc: 0.5672\n",
      "Epoch 76/1000\n",
      "201/201 [==============================] - 0s 105us/step - loss: 1.2917 - acc: 0.6269 - val_loss: 1.3502 - val_acc: 0.5672\n",
      "Epoch 77/1000\n",
      "201/201 [==============================] - 0s 90us/step - loss: 1.2876 - acc: 0.6269 - val_loss: 1.3460 - val_acc: 0.5672\n",
      "Epoch 78/1000\n",
      "201/201 [==============================] - 0s 117us/step - loss: 1.2836 - acc: 0.6269 - val_loss: 1.3426 - val_acc: 0.5672\n",
      "Epoch 79/1000\n",
      "201/201 [==============================] - 0s 90us/step - loss: 1.2799 - acc: 0.6269 - val_loss: 1.3387 - val_acc: 0.5672\n",
      "Epoch 80/1000\n",
      "201/201 [==============================] - 0s 114us/step - loss: 1.2761 - acc: 0.6269 - val_loss: 1.3349 - val_acc: 0.5672\n",
      "Epoch 81/1000\n",
      "201/201 [==============================] - 0s 106us/step - loss: 1.2724 - acc: 0.6269 - val_loss: 1.3315 - val_acc: 0.5672\n",
      "Epoch 82/1000\n",
      "201/201 [==============================] - 0s 109us/step - loss: 1.2689 - acc: 0.6269 - val_loss: 1.3284 - val_acc: 0.5672\n",
      "Epoch 83/1000\n",
      "201/201 [==============================] - 0s 92us/step - loss: 1.2652 - acc: 0.6269 - val_loss: 1.3246 - val_acc: 0.5672\n",
      "Epoch 84/1000\n",
      "201/201 [==============================] - 0s 107us/step - loss: 1.2617 - acc: 0.6269 - val_loss: 1.3208 - val_acc: 0.5672\n",
      "Epoch 85/1000\n",
      "201/201 [==============================] - 0s 128us/step - loss: 1.2584 - acc: 0.6269 - val_loss: 1.3170 - val_acc: 0.5672\n",
      "Epoch 86/1000\n",
      "201/201 [==============================] - 0s 104us/step - loss: 1.2550 - acc: 0.6269 - val_loss: 1.3142 - val_acc: 0.5672\n",
      "Epoch 87/1000\n",
      "201/201 [==============================] - 0s 112us/step - loss: 1.2518 - acc: 0.6269 - val_loss: 1.3119 - val_acc: 0.5672\n",
      "Epoch 88/1000\n",
      "201/201 [==============================] - 0s 112us/step - loss: 1.2484 - acc: 0.6269 - val_loss: 1.3096 - val_acc: 0.5672\n",
      "Epoch 89/1000\n",
      "201/201 [==============================] - 0s 114us/step - loss: 1.2452 - acc: 0.6269 - val_loss: 1.3072 - val_acc: 0.5672\n",
      "Epoch 90/1000\n",
      "201/201 [==============================] - 0s 114us/step - loss: 1.2421 - acc: 0.6269 - val_loss: 1.3051 - val_acc: 0.5672\n",
      "Epoch 91/1000\n",
      "201/201 [==============================] - 0s 113us/step - loss: 1.2391 - acc: 0.6269 - val_loss: 1.3019 - val_acc: 0.5672\n",
      "Epoch 92/1000\n",
      "201/201 [==============================] - 0s 122us/step - loss: 1.2359 - acc: 0.6269 - val_loss: 1.2991 - val_acc: 0.5672\n",
      "Epoch 93/1000\n",
      "201/201 [==============================] - 0s 132us/step - loss: 1.2330 - acc: 0.6269 - val_loss: 1.2966 - val_acc: 0.5672\n",
      "Epoch 94/1000\n",
      "201/201 [==============================] - 0s 120us/step - loss: 1.2301 - acc: 0.6269 - val_loss: 1.2950 - val_acc: 0.5672\n",
      "Epoch 95/1000\n",
      "201/201 [==============================] - 0s 113us/step - loss: 1.2274 - acc: 0.6269 - val_loss: 1.2934 - val_acc: 0.5672\n",
      "Epoch 96/1000\n",
      "201/201 [==============================] - 0s 103us/step - loss: 1.2246 - acc: 0.6269 - val_loss: 1.2911 - val_acc: 0.5672\n",
      "Epoch 97/1000\n",
      "201/201 [==============================] - 0s 113us/step - loss: 1.2219 - acc: 0.6269 - val_loss: 1.2890 - val_acc: 0.5672\n",
      "Epoch 98/1000\n",
      "201/201 [==============================] - 0s 98us/step - loss: 1.2192 - acc: 0.6318 - val_loss: 1.2870 - val_acc: 0.5672\n",
      "Epoch 99/1000\n",
      "201/201 [==============================] - 0s 109us/step - loss: 1.2164 - acc: 0.6318 - val_loss: 1.2846 - val_acc: 0.5672\n",
      "Epoch 100/1000\n",
      "201/201 [==============================] - 0s 120us/step - loss: 1.2138 - acc: 0.6318 - val_loss: 1.2818 - val_acc: 0.5672\n",
      "Epoch 101/1000\n",
      "201/201 [==============================] - 0s 92us/step - loss: 1.2112 - acc: 0.6318 - val_loss: 1.2793 - val_acc: 0.5672\n",
      "Epoch 102/1000\n",
      "201/201 [==============================] - 0s 89us/step - loss: 1.2088 - acc: 0.6368 - val_loss: 1.2776 - val_acc: 0.5672\n",
      "Epoch 103/1000\n",
      "201/201 [==============================] - 0s 97us/step - loss: 1.2062 - acc: 0.6368 - val_loss: 1.2758 - val_acc: 0.5672\n",
      "Epoch 104/1000\n",
      "201/201 [==============================] - 0s 98us/step - loss: 1.2039 - acc: 0.6368 - val_loss: 1.2737 - val_acc: 0.5672\n",
      "Epoch 105/1000\n",
      "201/201 [==============================] - 0s 90us/step - loss: 1.2015 - acc: 0.6368 - val_loss: 1.2722 - val_acc: 0.5672\n",
      "Epoch 106/1000\n",
      "201/201 [==============================] - 0s 101us/step - loss: 1.1991 - acc: 0.6418 - val_loss: 1.2706 - val_acc: 0.5672\n",
      "Epoch 107/1000\n",
      "201/201 [==============================] - 0s 100us/step - loss: 1.1969 - acc: 0.6418 - val_loss: 1.2673 - val_acc: 0.5672\n",
      "Epoch 108/1000\n",
      "201/201 [==============================] - 0s 89us/step - loss: 1.1944 - acc: 0.6418 - val_loss: 1.2649 - val_acc: 0.5672\n",
      "Epoch 109/1000\n",
      "201/201 [==============================] - 0s 82us/step - loss: 1.1921 - acc: 0.6418 - val_loss: 1.2637 - val_acc: 0.5672\n",
      "Epoch 110/1000\n",
      "201/201 [==============================] - 0s 93us/step - loss: 1.1899 - acc: 0.6418 - val_loss: 1.2623 - val_acc: 0.5672\n",
      "Epoch 111/1000\n",
      "201/201 [==============================] - 0s 91us/step - loss: 1.1876 - acc: 0.6468 - val_loss: 1.2603 - val_acc: 0.5672\n",
      "Epoch 112/1000\n",
      "201/201 [==============================] - 0s 95us/step - loss: 1.1855 - acc: 0.6468 - val_loss: 1.2583 - val_acc: 0.5821\n",
      "Epoch 113/1000\n",
      "201/201 [==============================] - 0s 110us/step - loss: 1.1835 - acc: 0.6468 - val_loss: 1.2565 - val_acc: 0.5821\n",
      "Epoch 114/1000\n",
      "201/201 [==============================] - 0s 89us/step - loss: 1.1813 - acc: 0.6468 - val_loss: 1.2538 - val_acc: 0.5821\n",
      "Epoch 115/1000\n",
      "201/201 [==============================] - 0s 85us/step - loss: 1.1793 - acc: 0.6468 - val_loss: 1.2514 - val_acc: 0.5821\n",
      "Epoch 116/1000\n",
      "201/201 [==============================] - 0s 96us/step - loss: 1.1770 - acc: 0.6468 - val_loss: 1.2496 - val_acc: 0.5821\n",
      "Epoch 117/1000\n",
      "201/201 [==============================] - 0s 106us/step - loss: 1.1751 - acc: 0.6468 - val_loss: 1.2474 - val_acc: 0.5821\n",
      "Epoch 118/1000\n",
      "201/201 [==============================] - 0s 91us/step - loss: 1.1733 - acc: 0.6468 - val_loss: 1.2444 - val_acc: 0.5821\n",
      "Epoch 119/1000\n",
      "201/201 [==============================] - 0s 97us/step - loss: 1.1711 - acc: 0.6517 - val_loss: 1.2426 - val_acc: 0.5821\n"
     ]
    },
    {
     "name": "stdout",
     "output_type": "stream",
     "text": [
      "Epoch 120/1000\n",
      "201/201 [==============================] - 0s 106us/step - loss: 1.1694 - acc: 0.6517 - val_loss: 1.2397 - val_acc: 0.5821\n",
      "Epoch 121/1000\n",
      "201/201 [==============================] - 0s 115us/step - loss: 1.1673 - acc: 0.6567 - val_loss: 1.2377 - val_acc: 0.5970\n",
      "Epoch 122/1000\n",
      "201/201 [==============================] - 0s 104us/step - loss: 1.1655 - acc: 0.6567 - val_loss: 1.2357 - val_acc: 0.5970\n",
      "Epoch 123/1000\n",
      "201/201 [==============================] - 0s 89us/step - loss: 1.1636 - acc: 0.6617 - val_loss: 1.2337 - val_acc: 0.5970\n",
      "Epoch 124/1000\n",
      "201/201 [==============================] - 0s 87us/step - loss: 1.1618 - acc: 0.6617 - val_loss: 1.2317 - val_acc: 0.5970\n",
      "Epoch 125/1000\n",
      "201/201 [==============================] - 0s 91us/step - loss: 1.1601 - acc: 0.6617 - val_loss: 1.2301 - val_acc: 0.5970\n",
      "Epoch 126/1000\n",
      "201/201 [==============================] - 0s 95us/step - loss: 1.1583 - acc: 0.6667 - val_loss: 1.2279 - val_acc: 0.5970\n",
      "Epoch 127/1000\n",
      "201/201 [==============================] - 0s 92us/step - loss: 1.1564 - acc: 0.6667 - val_loss: 1.2263 - val_acc: 0.5970\n",
      "Epoch 128/1000\n",
      "201/201 [==============================] - 0s 90us/step - loss: 1.1548 - acc: 0.6766 - val_loss: 1.2248 - val_acc: 0.6119\n",
      "Epoch 129/1000\n",
      "201/201 [==============================] - 0s 94us/step - loss: 1.1531 - acc: 0.6766 - val_loss: 1.2221 - val_acc: 0.6119\n",
      "Epoch 130/1000\n",
      "201/201 [==============================] - 0s 90us/step - loss: 1.1515 - acc: 0.6766 - val_loss: 1.2201 - val_acc: 0.6119\n",
      "Epoch 131/1000\n",
      "201/201 [==============================] - 0s 90us/step - loss: 1.1498 - acc: 0.6766 - val_loss: 1.2181 - val_acc: 0.6119\n",
      "Epoch 132/1000\n",
      "201/201 [==============================] - 0s 111us/step - loss: 1.1482 - acc: 0.6766 - val_loss: 1.2164 - val_acc: 0.6119\n",
      "Epoch 133/1000\n",
      "201/201 [==============================] - 0s 98us/step - loss: 1.1467 - acc: 0.6915 - val_loss: 1.2150 - val_acc: 0.6269\n",
      "Epoch 134/1000\n",
      "201/201 [==============================] - 0s 90us/step - loss: 1.1450 - acc: 0.6915 - val_loss: 1.2135 - val_acc: 0.6269\n",
      "Epoch 135/1000\n",
      "201/201 [==============================] - 0s 90us/step - loss: 1.1435 - acc: 0.6915 - val_loss: 1.2126 - val_acc: 0.6269\n",
      "Epoch 136/1000\n",
      "201/201 [==============================] - 0s 90us/step - loss: 1.1420 - acc: 0.6965 - val_loss: 1.2106 - val_acc: 0.6269\n",
      "Epoch 137/1000\n",
      "201/201 [==============================] - 0s 90us/step - loss: 1.1404 - acc: 0.7065 - val_loss: 1.2089 - val_acc: 0.6269\n",
      "Epoch 138/1000\n",
      "201/201 [==============================] - 0s 87us/step - loss: 1.1391 - acc: 0.7164 - val_loss: 1.2063 - val_acc: 0.6269\n",
      "Epoch 139/1000\n",
      "201/201 [==============================] - 0s 91us/step - loss: 1.1375 - acc: 0.7164 - val_loss: 1.2045 - val_acc: 0.6269\n",
      "Epoch 140/1000\n",
      "201/201 [==============================] - 0s 96us/step - loss: 1.1361 - acc: 0.7164 - val_loss: 1.2027 - val_acc: 0.6269\n",
      "Epoch 141/1000\n",
      "201/201 [==============================] - 0s 98us/step - loss: 1.1347 - acc: 0.7164 - val_loss: 1.2014 - val_acc: 0.6269\n",
      "Epoch 142/1000\n",
      "201/201 [==============================] - 0s 97us/step - loss: 1.1334 - acc: 0.7164 - val_loss: 1.2003 - val_acc: 0.6269\n",
      "Epoch 143/1000\n",
      "201/201 [==============================] - 0s 95us/step - loss: 1.1320 - acc: 0.7214 - val_loss: 1.1987 - val_acc: 0.6269\n",
      "Epoch 144/1000\n",
      "201/201 [==============================] - 0s 103us/step - loss: 1.1306 - acc: 0.7214 - val_loss: 1.1973 - val_acc: 0.6269\n",
      "Epoch 145/1000\n",
      "201/201 [==============================] - 0s 96us/step - loss: 1.1293 - acc: 0.7214 - val_loss: 1.1955 - val_acc: 0.6269\n",
      "Epoch 146/1000\n",
      "201/201 [==============================] - 0s 99us/step - loss: 1.1280 - acc: 0.7214 - val_loss: 1.1945 - val_acc: 0.6269\n",
      "Epoch 147/1000\n",
      "201/201 [==============================] - 0s 91us/step - loss: 1.1267 - acc: 0.7164 - val_loss: 1.1934 - val_acc: 0.6269\n",
      "Epoch 148/1000\n",
      "201/201 [==============================] - 0s 92us/step - loss: 1.1254 - acc: 0.7164 - val_loss: 1.1921 - val_acc: 0.6418\n",
      "Epoch 149/1000\n",
      "201/201 [==============================] - 0s 102us/step - loss: 1.1242 - acc: 0.7164 - val_loss: 1.1906 - val_acc: 0.6418\n",
      "Epoch 150/1000\n",
      "201/201 [==============================] - 0s 104us/step - loss: 1.1228 - acc: 0.7164 - val_loss: 1.1897 - val_acc: 0.6418\n",
      "Epoch 151/1000\n",
      "201/201 [==============================] - 0s 87us/step - loss: 1.1216 - acc: 0.7164 - val_loss: 1.1882 - val_acc: 0.6418\n",
      "Epoch 152/1000\n",
      "201/201 [==============================] - 0s 83us/step - loss: 1.1204 - acc: 0.7164 - val_loss: 1.1877 - val_acc: 0.6418\n",
      "Epoch 153/1000\n",
      "201/201 [==============================] - 0s 99us/step - loss: 1.1191 - acc: 0.7164 - val_loss: 1.1868 - val_acc: 0.6418\n",
      "Epoch 154/1000\n",
      "201/201 [==============================] - 0s 99us/step - loss: 1.1179 - acc: 0.7164 - val_loss: 1.1842 - val_acc: 0.6418\n",
      "Epoch 155/1000\n",
      "201/201 [==============================] - 0s 100us/step - loss: 1.1166 - acc: 0.7164 - val_loss: 1.1826 - val_acc: 0.6418\n",
      "Epoch 156/1000\n",
      "201/201 [==============================] - 0s 101us/step - loss: 1.1155 - acc: 0.7164 - val_loss: 1.1807 - val_acc: 0.6418\n",
      "Epoch 157/1000\n",
      "201/201 [==============================] - 0s 103us/step - loss: 1.1145 - acc: 0.7164 - val_loss: 1.1786 - val_acc: 0.6418\n",
      "Epoch 158/1000\n",
      "201/201 [==============================] - 0s 99us/step - loss: 1.1133 - acc: 0.7164 - val_loss: 1.1778 - val_acc: 0.6418\n",
      "Epoch 159/1000\n",
      "201/201 [==============================] - 0s 113us/step - loss: 1.1122 - acc: 0.7164 - val_loss: 1.1767 - val_acc: 0.6418\n",
      "Epoch 160/1000\n",
      "201/201 [==============================] - 0s 104us/step - loss: 1.1111 - acc: 0.7164 - val_loss: 1.1763 - val_acc: 0.6567\n",
      "Epoch 161/1000\n",
      "201/201 [==============================] - 0s 115us/step - loss: 1.1100 - acc: 0.7164 - val_loss: 1.1757 - val_acc: 0.6567\n",
      "Epoch 162/1000\n",
      "201/201 [==============================] - 0s 103us/step - loss: 1.1090 - acc: 0.7164 - val_loss: 1.1752 - val_acc: 0.6567\n",
      "Epoch 163/1000\n",
      "201/201 [==============================] - 0s 123us/step - loss: 1.1079 - acc: 0.7164 - val_loss: 1.1749 - val_acc: 0.6567\n",
      "Epoch 164/1000\n",
      "201/201 [==============================] - 0s 164us/step - loss: 1.1068 - acc: 0.7164 - val_loss: 1.1741 - val_acc: 0.6716\n",
      "Epoch 165/1000\n",
      "201/201 [==============================] - 0s 107us/step - loss: 1.1058 - acc: 0.7164 - val_loss: 1.1738 - val_acc: 0.6716\n",
      "Epoch 166/1000\n",
      "201/201 [==============================] - 0s 131us/step - loss: 1.1047 - acc: 0.7164 - val_loss: 1.1726 - val_acc: 0.6716\n",
      "Epoch 167/1000\n",
      "201/201 [==============================] - 0s 142us/step - loss: 1.1037 - acc: 0.7164 - val_loss: 1.1717 - val_acc: 0.6716\n",
      "Epoch 168/1000\n",
      "201/201 [==============================] - 0s 129us/step - loss: 1.1027 - acc: 0.7164 - val_loss: 1.1717 - val_acc: 0.6716\n",
      "Epoch 169/1000\n",
      "201/201 [==============================] - 0s 102us/step - loss: 1.1019 - acc: 0.7164 - val_loss: 1.1712 - val_acc: 0.6716\n",
      "Epoch 170/1000\n",
      "201/201 [==============================] - 0s 110us/step - loss: 1.1009 - acc: 0.7164 - val_loss: 1.1708 - val_acc: 0.6716\n",
      "Epoch 171/1000\n",
      "201/201 [==============================] - 0s 90us/step - loss: 1.1000 - acc: 0.7164 - val_loss: 1.1697 - val_acc: 0.6716\n",
      "Epoch 172/1000\n",
      "201/201 [==============================] - 0s 100us/step - loss: 1.0990 - acc: 0.7214 - val_loss: 1.1693 - val_acc: 0.6716\n",
      "Epoch 173/1000\n",
      "201/201 [==============================] - 0s 107us/step - loss: 1.0980 - acc: 0.7214 - val_loss: 1.1690 - val_acc: 0.6716\n",
      "Epoch 174/1000\n",
      "201/201 [==============================] - 0s 103us/step - loss: 1.0971 - acc: 0.7214 - val_loss: 1.1686 - val_acc: 0.6716\n",
      "Epoch 175/1000\n",
      "201/201 [==============================] - 0s 95us/step - loss: 1.0963 - acc: 0.7214 - val_loss: 1.1688 - val_acc: 0.6716\n",
      "Epoch 176/1000\n",
      "201/201 [==============================] - 0s 106us/step - loss: 1.0955 - acc: 0.7264 - val_loss: 1.1688 - val_acc: 0.6716\n",
      "Epoch 177/1000\n",
      "201/201 [==============================] - 0s 98us/step - loss: 1.0948 - acc: 0.7313 - val_loss: 1.1681 - val_acc: 0.6716\n",
      "Epoch 178/1000\n",
      "201/201 [==============================] - 0s 95us/step - loss: 1.0939 - acc: 0.7313 - val_loss: 1.1668 - val_acc: 0.6716\n",
      "Epoch 179/1000\n"
     ]
    },
    {
     "name": "stdout",
     "output_type": "stream",
     "text": [
      "201/201 [==============================] - 0s 102us/step - loss: 1.0930 - acc: 0.7313 - val_loss: 1.1651 - val_acc: 0.6716\n",
      "Epoch 180/1000\n",
      "201/201 [==============================] - 0s 109us/step - loss: 1.0922 - acc: 0.7313 - val_loss: 1.1641 - val_acc: 0.6716\n",
      "Epoch 181/1000\n",
      "201/201 [==============================] - 0s 106us/step - loss: 1.0916 - acc: 0.7313 - val_loss: 1.1626 - val_acc: 0.6716\n",
      "Epoch 182/1000\n",
      "201/201 [==============================] - 0s 121us/step - loss: 1.0907 - acc: 0.7313 - val_loss: 1.1628 - val_acc: 0.6716\n",
      "Epoch 183/1000\n",
      "201/201 [==============================] - 0s 124us/step - loss: 1.0899 - acc: 0.7313 - val_loss: 1.1621 - val_acc: 0.6716\n",
      "Epoch 184/1000\n",
      "201/201 [==============================] - 0s 145us/step - loss: 1.0891 - acc: 0.7313 - val_loss: 1.1609 - val_acc: 0.6716\n",
      "Epoch 185/1000\n",
      "201/201 [==============================] - 0s 138us/step - loss: 1.0883 - acc: 0.7313 - val_loss: 1.1597 - val_acc: 0.6866\n",
      "Epoch 186/1000\n",
      "201/201 [==============================] - 0s 138us/step - loss: 1.0876 - acc: 0.7313 - val_loss: 1.1573 - val_acc: 0.6866\n",
      "Epoch 187/1000\n",
      "201/201 [==============================] - 0s 135us/step - loss: 1.0867 - acc: 0.7313 - val_loss: 1.1550 - val_acc: 0.6866\n",
      "Epoch 188/1000\n",
      "201/201 [==============================] - 0s 146us/step - loss: 1.0859 - acc: 0.7313 - val_loss: 1.1535 - val_acc: 0.6866\n",
      "Epoch 189/1000\n",
      "201/201 [==============================] - 0s 142us/step - loss: 1.0852 - acc: 0.7313 - val_loss: 1.1527 - val_acc: 0.6866\n",
      "Epoch 190/1000\n",
      "201/201 [==============================] - 0s 138us/step - loss: 1.0844 - acc: 0.7313 - val_loss: 1.1521 - val_acc: 0.6866\n",
      "Epoch 191/1000\n",
      "201/201 [==============================] - 0s 103us/step - loss: 1.0837 - acc: 0.7313 - val_loss: 1.1518 - val_acc: 0.6866\n",
      "Epoch 192/1000\n",
      "201/201 [==============================] - 0s 116us/step - loss: 1.0831 - acc: 0.7313 - val_loss: 1.1510 - val_acc: 0.6866\n",
      "Epoch 193/1000\n",
      "201/201 [==============================] - 0s 108us/step - loss: 1.0823 - acc: 0.7313 - val_loss: 1.1497 - val_acc: 0.6866\n",
      "Epoch 194/1000\n",
      "201/201 [==============================] - 0s 113us/step - loss: 1.0816 - acc: 0.7313 - val_loss: 1.1491 - val_acc: 0.6866\n",
      "Epoch 195/1000\n",
      "201/201 [==============================] - 0s 106us/step - loss: 1.0809 - acc: 0.7313 - val_loss: 1.1477 - val_acc: 0.6866\n",
      "Epoch 196/1000\n",
      "201/201 [==============================] - 0s 105us/step - loss: 1.0803 - acc: 0.7313 - val_loss: 1.1473 - val_acc: 0.6866\n",
      "Epoch 197/1000\n",
      "201/201 [==============================] - 0s 116us/step - loss: 1.0797 - acc: 0.7313 - val_loss: 1.1458 - val_acc: 0.6866\n",
      "Epoch 198/1000\n",
      "201/201 [==============================] - 0s 104us/step - loss: 1.0790 - acc: 0.7313 - val_loss: 1.1453 - val_acc: 0.6866\n",
      "Epoch 199/1000\n",
      "201/201 [==============================] - 0s 110us/step - loss: 1.0784 - acc: 0.7313 - val_loss: 1.1449 - val_acc: 0.6866\n",
      "Epoch 200/1000\n",
      "201/201 [==============================] - 0s 86us/step - loss: 1.0778 - acc: 0.7313 - val_loss: 1.1447 - val_acc: 0.6866\n",
      "Epoch 201/1000\n",
      "201/201 [==============================] - 0s 99us/step - loss: 1.0773 - acc: 0.7313 - val_loss: 1.1433 - val_acc: 0.6866\n",
      "Epoch 202/1000\n",
      "201/201 [==============================] - 0s 102us/step - loss: 1.0765 - acc: 0.7313 - val_loss: 1.1427 - val_acc: 0.6866\n",
      "Epoch 203/1000\n",
      "201/201 [==============================] - 0s 95us/step - loss: 1.0760 - acc: 0.7313 - val_loss: 1.1412 - val_acc: 0.6866\n",
      "Epoch 204/1000\n",
      "201/201 [==============================] - 0s 99us/step - loss: 1.0756 - acc: 0.7313 - val_loss: 1.1395 - val_acc: 0.6866\n",
      "Epoch 205/1000\n",
      "201/201 [==============================] - 0s 104us/step - loss: 1.0751 - acc: 0.7313 - val_loss: 1.1383 - val_acc: 0.6866\n",
      "Epoch 206/1000\n",
      "201/201 [==============================] - 0s 113us/step - loss: 1.0745 - acc: 0.7313 - val_loss: 1.1378 - val_acc: 0.6866\n",
      "Epoch 207/1000\n",
      "201/201 [==============================] - ETA: 0s - loss: 1.1271 - acc: 0.687 - 0s 112us/step - loss: 1.0738 - acc: 0.7313 - val_loss: 1.1369 - val_acc: 0.6866\n",
      "Epoch 208/1000\n",
      "201/201 [==============================] - 0s 101us/step - loss: 1.0733 - acc: 0.7313 - val_loss: 1.1368 - val_acc: 0.6866\n",
      "Epoch 209/1000\n",
      "201/201 [==============================] - 0s 113us/step - loss: 1.0729 - acc: 0.7313 - val_loss: 1.1357 - val_acc: 0.6866\n",
      "Epoch 210/1000\n",
      "201/201 [==============================] - 0s 112us/step - loss: 1.0720 - acc: 0.7313 - val_loss: 1.1364 - val_acc: 0.6866\n",
      "Epoch 211/1000\n",
      "201/201 [==============================] - 0s 99us/step - loss: 1.0715 - acc: 0.7313 - val_loss: 1.1360 - val_acc: 0.6866\n",
      "Epoch 212/1000\n",
      "201/201 [==============================] - 0s 108us/step - loss: 1.0709 - acc: 0.7313 - val_loss: 1.1366 - val_acc: 0.6866\n",
      "Epoch 213/1000\n",
      "201/201 [==============================] - 0s 112us/step - loss: 1.0704 - acc: 0.7313 - val_loss: 1.1360 - val_acc: 0.6866\n",
      "Epoch 214/1000\n",
      "201/201 [==============================] - 0s 103us/step - loss: 1.0699 - acc: 0.7313 - val_loss: 1.1359 - val_acc: 0.6866\n",
      "Epoch 215/1000\n",
      "201/201 [==============================] - 0s 97us/step - loss: 1.0693 - acc: 0.7313 - val_loss: 1.1355 - val_acc: 0.6866\n",
      "Epoch 216/1000\n",
      "201/201 [==============================] - 0s 102us/step - loss: 1.0688 - acc: 0.7313 - val_loss: 1.1353 - val_acc: 0.6866\n",
      "Epoch 217/1000\n",
      "201/201 [==============================] - 0s 99us/step - loss: 1.0683 - acc: 0.7313 - val_loss: 1.1355 - val_acc: 0.6866\n",
      "Epoch 218/1000\n",
      "201/201 [==============================] - 0s 123us/step - loss: 1.0679 - acc: 0.7313 - val_loss: 1.1358 - val_acc: 0.6866\n",
      "Epoch 219/1000\n",
      "201/201 [==============================] - 0s 109us/step - loss: 1.0674 - acc: 0.7313 - val_loss: 1.1356 - val_acc: 0.6866\n",
      "Epoch 220/1000\n",
      "201/201 [==============================] - 0s 109us/step - loss: 1.0672 - acc: 0.7313 - val_loss: 1.1363 - val_acc: 0.6866\n",
      "Epoch 221/1000\n",
      "201/201 [==============================] - 0s 117us/step - loss: 1.0666 - acc: 0.7313 - val_loss: 1.1358 - val_acc: 0.6866\n",
      "Epoch 222/1000\n",
      "201/201 [==============================] - 0s 124us/step - loss: 1.0661 - acc: 0.7313 - val_loss: 1.1353 - val_acc: 0.6866\n",
      "Epoch 223/1000\n",
      "201/201 [==============================] - 0s 107us/step - loss: 1.0657 - acc: 0.7313 - val_loss: 1.1345 - val_acc: 0.6866\n",
      "Epoch 224/1000\n",
      "201/201 [==============================] - 0s 122us/step - loss: 1.0652 - acc: 0.7313 - val_loss: 1.1343 - val_acc: 0.6866\n",
      "Epoch 225/1000\n",
      "201/201 [==============================] - 0s 106us/step - loss: 1.0648 - acc: 0.7313 - val_loss: 1.1338 - val_acc: 0.6866\n",
      "Epoch 226/1000\n",
      "201/201 [==============================] - 0s 86us/step - loss: 1.0644 - acc: 0.7313 - val_loss: 1.1326 - val_acc: 0.6866\n",
      "Epoch 227/1000\n",
      "201/201 [==============================] - 0s 119us/step - loss: 1.0638 - acc: 0.7313 - val_loss: 1.1319 - val_acc: 0.6866\n",
      "Epoch 228/1000\n",
      "201/201 [==============================] - 0s 105us/step - loss: 1.0635 - acc: 0.7313 - val_loss: 1.1310 - val_acc: 0.6866\n",
      "Epoch 229/1000\n",
      "201/201 [==============================] - 0s 122us/step - loss: 1.0630 - acc: 0.7313 - val_loss: 1.1305 - val_acc: 0.6866\n",
      "Epoch 230/1000\n",
      "201/201 [==============================] - 0s 111us/step - loss: 1.0627 - acc: 0.7313 - val_loss: 1.1297 - val_acc: 0.6866\n",
      "Epoch 231/1000\n",
      "201/201 [==============================] - 0s 107us/step - loss: 1.0624 - acc: 0.7313 - val_loss: 1.1282 - val_acc: 0.6866\n",
      "Epoch 232/1000\n",
      "201/201 [==============================] - 0s 102us/step - loss: 1.0618 - acc: 0.7313 - val_loss: 1.1276 - val_acc: 0.6866\n",
      "Epoch 233/1000\n",
      "201/201 [==============================] - 0s 90us/step - loss: 1.0614 - acc: 0.7313 - val_loss: 1.1275 - val_acc: 0.6866\n",
      "Epoch 234/1000\n",
      "201/201 [==============================] - 0s 95us/step - loss: 1.0612 - acc: 0.7313 - val_loss: 1.1273 - val_acc: 0.6866\n",
      "Epoch 235/1000\n",
      "201/201 [==============================] - 0s 101us/step - loss: 1.0608 - acc: 0.7313 - val_loss: 1.1270 - val_acc: 0.6866\n",
      "Epoch 236/1000\n",
      "201/201 [==============================] - 0s 106us/step - loss: 1.0603 - acc: 0.7313 - val_loss: 1.1274 - val_acc: 0.6866\n",
      "Epoch 237/1000\n",
      "201/201 [==============================] - 0s 92us/step - loss: 1.0600 - acc: 0.7313 - val_loss: 1.1271 - val_acc: 0.6866\n",
      "Epoch 238/1000\n"
     ]
    },
    {
     "name": "stdout",
     "output_type": "stream",
     "text": [
      "201/201 [==============================] - 0s 90us/step - loss: 1.0596 - acc: 0.7313 - val_loss: 1.1268 - val_acc: 0.6866\n",
      "Epoch 239/1000\n",
      "201/201 [==============================] - 0s 111us/step - loss: 1.0592 - acc: 0.7313 - val_loss: 1.1255 - val_acc: 0.6866\n",
      "Epoch 240/1000\n",
      "201/201 [==============================] - 0s 76us/step - loss: 1.0591 - acc: 0.7313 - val_loss: 1.1249 - val_acc: 0.6866\n",
      "Epoch 241/1000\n",
      "201/201 [==============================] - 0s 92us/step - loss: 1.0585 - acc: 0.7313 - val_loss: 1.1253 - val_acc: 0.6866\n",
      "Epoch 242/1000\n",
      "201/201 [==============================] - 0s 120us/step - loss: 1.0582 - acc: 0.7313 - val_loss: 1.1250 - val_acc: 0.6866\n",
      "Epoch 243/1000\n",
      "201/201 [==============================] - 0s 111us/step - loss: 1.0578 - acc: 0.7313 - val_loss: 1.1247 - val_acc: 0.6866\n",
      "Epoch 244/1000\n",
      "201/201 [==============================] - 0s 134us/step - loss: 1.0575 - acc: 0.7313 - val_loss: 1.1238 - val_acc: 0.7015\n",
      "Epoch 245/1000\n",
      "201/201 [==============================] - 0s 121us/step - loss: 1.0572 - acc: 0.7313 - val_loss: 1.1233 - val_acc: 0.7015\n",
      "Epoch 246/1000\n",
      "201/201 [==============================] - 0s 105us/step - loss: 1.0568 - acc: 0.7313 - val_loss: 1.1227 - val_acc: 0.7015\n",
      "Epoch 247/1000\n",
      "201/201 [==============================] - 0s 108us/step - loss: 1.0564 - acc: 0.7313 - val_loss: 1.1224 - val_acc: 0.7015\n",
      "Epoch 248/1000\n",
      "201/201 [==============================] - 0s 90us/step - loss: 1.0561 - acc: 0.7313 - val_loss: 1.1221 - val_acc: 0.7164\n",
      "Epoch 249/1000\n",
      "201/201 [==============================] - 0s 102us/step - loss: 1.0558 - acc: 0.7313 - val_loss: 1.1221 - val_acc: 0.7164\n",
      "Epoch 250/1000\n",
      "201/201 [==============================] - 0s 111us/step - loss: 1.0555 - acc: 0.7363 - val_loss: 1.1214 - val_acc: 0.7164\n",
      "Epoch 251/1000\n",
      "201/201 [==============================] - 0s 98us/step - loss: 1.0554 - acc: 0.7413 - val_loss: 1.1194 - val_acc: 0.7164\n",
      "Epoch 252/1000\n",
      "201/201 [==============================] - 0s 104us/step - loss: 1.0548 - acc: 0.7413 - val_loss: 1.1185 - val_acc: 0.7164\n",
      "Epoch 253/1000\n",
      "201/201 [==============================] - 0s 127us/step - loss: 1.0546 - acc: 0.7413 - val_loss: 1.1171 - val_acc: 0.7015\n",
      "Epoch 254/1000\n",
      "201/201 [==============================] - 0s 120us/step - loss: 1.0542 - acc: 0.7413 - val_loss: 1.1163 - val_acc: 0.7015\n",
      "Epoch 255/1000\n",
      "201/201 [==============================] - 0s 102us/step - loss: 1.0540 - acc: 0.7413 - val_loss: 1.1154 - val_acc: 0.7015\n",
      "Epoch 256/1000\n",
      "201/201 [==============================] - 0s 103us/step - loss: 1.0536 - acc: 0.7413 - val_loss: 1.1153 - val_acc: 0.7015\n",
      "Epoch 257/1000\n",
      "201/201 [==============================] - 0s 107us/step - loss: 1.0533 - acc: 0.7413 - val_loss: 1.1146 - val_acc: 0.7015\n",
      "Epoch 258/1000\n",
      "201/201 [==============================] - 0s 100us/step - loss: 1.0532 - acc: 0.7363 - val_loss: 1.1138 - val_acc: 0.7015\n",
      "Epoch 259/1000\n",
      "201/201 [==============================] - 0s 104us/step - loss: 1.0529 - acc: 0.7363 - val_loss: 1.1141 - val_acc: 0.7015\n",
      "Epoch 260/1000\n",
      "201/201 [==============================] - 0s 110us/step - loss: 1.0525 - acc: 0.7363 - val_loss: 1.1142 - val_acc: 0.7015\n",
      "Epoch 261/1000\n",
      "201/201 [==============================] - 0s 106us/step - loss: 1.0522 - acc: 0.7363 - val_loss: 1.1146 - val_acc: 0.7015\n",
      "Epoch 262/1000\n",
      "201/201 [==============================] - 0s 112us/step - loss: 1.0519 - acc: 0.7363 - val_loss: 1.1146 - val_acc: 0.7015\n",
      "Epoch 263/1000\n",
      "201/201 [==============================] - 0s 108us/step - loss: 1.0516 - acc: 0.7363 - val_loss: 1.1146 - val_acc: 0.7015\n",
      "Epoch 264/1000\n",
      "201/201 [==============================] - 0s 96us/step - loss: 1.0513 - acc: 0.7363 - val_loss: 1.1147 - val_acc: 0.7015\n",
      "Epoch 265/1000\n",
      "201/201 [==============================] - 0s 105us/step - loss: 1.0510 - acc: 0.7363 - val_loss: 1.1147 - val_acc: 0.7015\n",
      "Epoch 266/1000\n",
      "201/201 [==============================] - 0s 104us/step - loss: 1.0507 - acc: 0.7363 - val_loss: 1.1151 - val_acc: 0.7015\n",
      "Epoch 267/1000\n",
      "201/201 [==============================] - 0s 102us/step - loss: 1.0506 - acc: 0.7363 - val_loss: 1.1161 - val_acc: 0.7164\n",
      "Epoch 268/1000\n",
      "201/201 [==============================] - 0s 100us/step - loss: 1.0502 - acc: 0.7363 - val_loss: 1.1159 - val_acc: 0.7164\n"
     ]
    }
   ],
   "source": [
    "history = model.fit(X_train, y_train, epochs=1000, validation_data=[X_val, y_val], callbacks=[early_stop])"
   ]
  },
  {
   "cell_type": "code",
   "execution_count": 94,
   "metadata": {},
   "outputs": [
    {
     "data": {
      "image/png": "[encoded data removed]",
      "text/plain": [
       "<Figure size 432x288 with 1 Axes>"
      ]
     },
     "metadata": {
      "needs_background": "light"
     },
     "output_type": "display_data"
    }
   ],
   "source": [
    "plot_history(history)"
   ]
  },
  {
   "cell_type": "code",
   "execution_count": 95,
   "metadata": {},
   "outputs": [
    {
     "data": {
      "text/plain": [
       "0.8235294117647058"
      ]
     },
     "execution_count": 95,
     "metadata": {},
     "output_type": "execute_result"
    }
   ],
   "source": [
    "pred = np.round(model.predict(X_test).argmax(axis=1).reshape(-1,))\n",
    "accuracy_score(pred, y_test.argmax(axis=1))"
   ]
  },
  {
   "cell_type": "code",
   "execution_count": 96,
   "metadata": {},
   "outputs": [
    {
     "data": {
      "text/plain": [
       "30"
      ]
     },
     "execution_count": 96,
     "metadata": {},
     "output_type": "execute_result"
    }
   ],
   "source": [
    "sum(y_test.argmax(axis=1) == 0)"
   ]
  },
  {
   "cell_type": "code",
   "execution_count": 133,
   "metadata": {},
   "outputs": [
    {
     "name": "stdout",
     "output_type": "stream",
     "text": [
      "[[30  0  0  0  0  0  0]\n",
      " [ 2 16  0  0  0  0  0]\n",
      " [ 0  1  0  0  0  0  0]\n",
      " [ 0  3  0  0  0  0  0]\n",
      " [ 1  0  0  0  0  0  3]\n",
      " [ 0  0  0  0  0  0  1]\n",
      " [ 1  0  0  0  0  0 10]]\n"
     ]
    },
    {
     "data": {
      "image/png": "[encoded data removed]",
      "text/plain": [
       "<Figure size 432x288 with 2 Axes>"
      ]
     },
     "metadata": {
      "needs_background": "light"
     },
     "output_type": "display_data"
    }
   ],
   "source": [
    "mat = confusion_matrix(y_test.argmax(axis=1), pred)\n",
    "print(mat)\n",
    "cm = mat / np.sum(mat, axis=1).reshape(-1, 1)\n",
    "plot_confusion_matrix(cm, classes=['cp', 'im', 'imL','imU', 'om', 'omL', 'pp'])"
   ]
  },
  {
   "cell_type": "code",
   "execution_count": null,
   "metadata": {},
   "outputs": [],
   "source": []
  }
 ],
 "metadata": {
  "kernelspec": {
   "display_name": "Python 3",
   "language": "python",
   "name": "python3"
  },
  "language_info": {
   "codemirror_mode": {
    "name": "ipython",
    "version": 3
   },
   "file_extension": ".py",
   "mimetype": "text/x-python",
   "name": "python",
   "nbconvert_exporter": "python",
   "pygments_lexer": "ipython3",
   "version": "3.6.8"
  }
 },
 "nbformat": 4,
 "nbformat_minor": 2
}
