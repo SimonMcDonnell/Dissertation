{
 "cells": [
  {
   "cell_type": "code",
   "execution_count": 5,
   "metadata": {},
   "outputs": [
    {
     "name": "stdout",
     "output_type": "stream",
     "text": [
      "The autoreload extension is already loaded. To reload it, use:\n",
      "  %reload_ext autoreload\n"
     ]
    }
   ],
   "source": [
    "%load_ext autoreload\n",
    "%autoreload 2\n",
    "import numpy as np\n",
    "import tensorflow as tf\n",
    "from tensorflow import keras\n",
    "from tensorflow.keras.utils import to_categorical\n",
    "import matplotlib.pyplot as plt\n",
    "from sklearn.model_selection import train_test_split\n",
    "from sklearn.preprocessing import LabelEncoder, StandardScaler\n",
    "from sklearn.metrics import confusion_matrix, accuracy_score\n",
    "import seaborn as sns\n",
    "import sys\n",
    "import pandas as pd\n",
    "import os\n",
    "sys.path.insert(0, '../seal_wrapper/')\n",
    "from seal_wrapper import EA"
   ]
  },
  {
   "cell_type": "code",
   "execution_count": 2,
   "metadata": {},
   "outputs": [],
   "source": [
    "data = pd.read_csv(os.path.join(os.getcwd(), 'iris.data'), names=['sepal_length', 'sepal_width', 'petal_length',\n",
    "                                                                  'petal_width', 'class'])"
   ]
  },
  {
   "cell_type": "code",
   "execution_count": 3,
   "metadata": {},
   "outputs": [
    {
     "name": "stdout",
     "output_type": "stream",
     "text": [
      "(102, 4) (24, 4) (24, 4)\n",
      "(102,) (24,) (24,)\n"
     ]
    }
   ],
   "source": [
    "X = data.drop('class', axis=1)\n",
    "y = data['class']\n",
    "X_train, X_test, y_train, y_test = train_test_split(X, y, test_size=0.16, random_state=3)\n",
    "X_train, X_val, y_train, y_val = train_test_split(X_train, y_train, test_size=0.19, random_state=3)\n",
    "print(X_train.shape, X_val.shape, X_test.shape)\n",
    "print(y_train.shape, y_val.shape, y_test.shape)"
   ]
  },
  {
   "cell_type": "code",
   "execution_count": 6,
   "metadata": {},
   "outputs": [],
   "source": [
    "X_scaler = StandardScaler()\n",
    "y_encoder = LabelEncoder()\n",
    "X_train = X_scaler.fit_transform(X_train)\n",
    "X_val = X_scaler.transform(X_val)\n",
    "X_test = X_scaler.transform(X_test)\n",
    "y_encoder.fit(y_train)\n",
    "y_train = to_categorical(y_encoder.transform(y_train))\n",
    "y_val = to_categorical(y_encoder.transform(y_val))\n",
    "y_test = to_categorical(y_encoder.transform(y_test))"
   ]
  },
  {
   "cell_type": "code",
   "execution_count": 7,
   "metadata": {},
   "outputs": [],
   "source": [
    "def plot_confusion_matrix(cm, classes=None, title='Confusion matrix'):\n",
    "    \"\"\"Plots a confusion matrix.\"\"\"\n",
    "    if classes is not None:\n",
    "        sns.heatmap(cm, xticklabels=classes, yticklabels=classes, vmin=0., vmax=1., annot=True)\n",
    "    else:\n",
    "        sns.heatmap(cm, vmin=0., vmax=1.)\n",
    "    plt.title(title)\n",
    "    plt.ylabel('True label')\n",
    "    plt.xlabel('Predicted label')"
   ]
  },
  {
   "cell_type": "code",
   "execution_count": 8,
   "metadata": {},
   "outputs": [],
   "source": [
    "def plot_predictions(pred, y, save_as=None):\n",
    "    fig = plt.figure(figsize=(6, 6))\n",
    "    ax = plt.subplot(111)\n",
    "    ax.set_title('Final layer values')\n",
    "    ax.scatter(pred, y, alpha=0.2)\n",
    "    ax.set_xlabel('encrypted')\n",
    "    ax.set_ylabel('unencrypted')\n",
    "    ax.plot(np.arange(-10, 10, 0.1), np.arange(-10, 10, 0.1))\n",
    "    if save_as != None:\n",
    "        plt.savefig(save_as)"
   ]
  },
  {
   "cell_type": "code",
   "execution_count": 9,
   "metadata": {},
   "outputs": [],
   "source": [
    "def relu(z):\n",
    "    return np.maximum(0, z)"
   ]
  },
  {
   "cell_type": "code",
   "execution_count": 22,
   "metadata": {},
   "outputs": [],
   "source": [
    "def softmax(z):\n",
    "    return np.exp(z) / np.sum(np.exp(z), axis=1).reshape(-1, 1)"
   ]
  },
  {
   "cell_type": "markdown",
   "metadata": {},
   "source": [
    "## Evaluate models"
   ]
  },
  {
   "cell_type": "code",
   "execution_count": 11,
   "metadata": {},
   "outputs": [],
   "source": [
    "weights = np.load('relu_weights.npy')\n",
    "w1, b1, w2, b2 = weights"
   ]
  },
  {
   "cell_type": "code",
   "execution_count": 33,
   "metadata": {},
   "outputs": [],
   "source": [
    "layer1_clear = X_test.dot(w1) + b1\n",
    "layer1_relu_clear = relu(layer1_clear)\n",
    "layer2_clear = layer1_relu_clear.dot(w2) + b2\n",
    "pred_clear = softmax(layer2_clear)"
   ]
  },
  {
   "cell_type": "code",
   "execution_count": 34,
   "metadata": {},
   "outputs": [
    {
     "data": {
      "text/plain": [
       "1.0"
      ]
     },
     "execution_count": 34,
     "metadata": {},
     "output_type": "execute_result"
    }
   ],
   "source": [
    "pred = np.round(pred_clear.argmax(axis=1).reshape(-1,))\n",
    "accuracy_score(pred, y_test.argmax(axis=1))"
   ]
  },
  {
   "cell_type": "code",
   "execution_count": 35,
   "metadata": {},
   "outputs": [
    {
     "data": {
      "image/png": "[encoded data removed]",
      "text/plain": [
       "<Figure size 432x288 with 2 Axes>"
      ]
     },
     "metadata": {
      "needs_background": "light"
     },
     "output_type": "display_data"
    }
   ],
   "source": [
    "mat = confusion_matrix(pred_clear.argmax(axis=1), y_test.argmax(axis=1))\n",
    "cm = mat / np.sum(mat, axis=1)\n",
    "plot_confusion_matrix(cm, classes=['setosa', 'versicolor', 'virginica'])"
   ]
  },
  {
   "cell_type": "code",
   "execution_count": 36,
   "metadata": {},
   "outputs": [],
   "source": [
    "X_test_enc = EA(X_test, to_encrypt=True)\n",
    "w1_enc = EA(w1)\n",
    "b1_enc = EA(b1.reshape(1, -1))\n",
    "w2_enc = EA(w2)\n",
    "b2_enc = EA(b2.reshape(1, -1))"
   ]
  },
  {
   "cell_type": "code",
   "execution_count": 37,
   "metadata": {},
   "outputs": [],
   "source": [
    "layer1_enc = X_test_enc.dot(w1_enc) + b1_enc\n",
    "layer1_relu_enc = layer1_enc.relu()\n",
    "layer2_enc = layer1_relu_enc.dot(w2_enc) + b2_enc"
   ]
  },
  {
   "cell_type": "code",
   "execution_count": 38,
   "metadata": {},
   "outputs": [],
   "source": [
    "pred_enc = softmax(layer2_enc.values())"
   ]
  },
  {
   "cell_type": "code",
   "execution_count": 39,
   "metadata": {},
   "outputs": [
    {
     "data": {
      "text/plain": [
       "array([[9.70404223e-01, 2.77277506e-02, 1.86802680e-03],\n",
       "       [9.53633452e-01, 4.39317280e-02, 2.43481987e-03],\n",
       "       [9.60838401e-01, 3.75187027e-02, 1.64289651e-03],\n",
       "       [9.05505460e-01, 9.20998440e-02, 2.39469604e-03],\n",
       "       [9.98585100e-01, 1.11506846e-03, 2.99831336e-04],\n",
       "       [9.95944006e-05, 8.01814050e-03, 9.91882265e-01],\n",
       "       [1.48616020e-01, 6.91798769e-01, 1.59585211e-01],\n",
       "       [9.83663062e-01, 1.45819333e-02, 1.75500419e-03],\n",
       "       [1.52689221e-02, 2.40958755e-01, 7.43772323e-01],\n",
       "       [1.34313846e-01, 6.94388429e-01, 1.71297726e-01],\n",
       "       [2.17275808e-01, 6.08435433e-01, 1.74288759e-01],\n",
       "       [9.58892934e-01, 3.88069809e-02, 2.30008542e-03],\n",
       "       [1.64049599e-01, 7.21781700e-01, 1.14168701e-01],\n",
       "       [1.27196847e-01, 7.15890479e-01, 1.56912674e-01],\n",
       "       [2.03438381e-03, 6.02390741e-02, 9.37726542e-01],\n",
       "       [9.86011323e-01, 1.29243649e-02, 1.06431228e-03],\n",
       "       [5.32836560e-02, 5.75751592e-01, 3.70964752e-01],\n",
       "       [8.26635323e-04, 3.98966075e-02, 9.59276757e-01],\n",
       "       [1.52695214e-02, 2.28643283e-01, 7.56087195e-01],\n",
       "       [9.78303169e-01, 1.99063768e-02, 1.79045403e-03],\n",
       "       [4.07359957e-02, 4.19852896e-01, 5.39411108e-01],\n",
       "       [6.75610724e-03, 1.46940097e-01, 8.46303796e-01],\n",
       "       [7.15211618e-03, 1.43421249e-01, 8.49426635e-01],\n",
       "       [7.65728285e-02, 6.88268283e-01, 2.35158889e-01]])"
      ]
     },
     "execution_count": 39,
     "metadata": {},
     "output_type": "execute_result"
    }
   ],
   "source": [
    "pred_enc"
   ]
  },
  {
   "cell_type": "code",
   "execution_count": 41,
   "metadata": {},
   "outputs": [
    {
     "data": {
      "image/png": "[encoded data removed]",
      "text/plain": [
       "<Figure size 432x288 with 2 Axes>"
      ]
     },
     "metadata": {
      "needs_background": "light"
     },
     "output_type": "display_data"
    }
   ],
   "source": [
    "mat = confusion_matrix(pred_enc.argmax(axis=1), y_test.argmax(axis=1))\n",
    "cm = mat / np.sum(mat, axis=1)\n",
    "plot_confusion_matrix(cm, classes=['setosa', 'versicolor', 'virginica'])"
   ]
  },
  {
   "cell_type": "code",
   "execution_count": 42,
   "metadata": {},
   "outputs": [
    {
     "data": {
      "image/png": "[encoded data removed]",
      "text/plain": [
       "<Figure size 432x432 with 1 Axes>"
      ]
     },
     "metadata": {
      "needs_background": "light"
     },
     "output_type": "display_data"
    }
   ],
   "source": [
    "# final layer\n",
    "plot_predictions(layer2_enc.values(), layer2_clear)"
   ]
  },
  {
   "cell_type": "code",
   "execution_count": null,
   "metadata": {},
   "outputs": [],
   "source": []
  }
 ],
 "metadata": {
  "kernelspec": {
   "display_name": "Python 3",
   "language": "python",
   "name": "python3"
  },
  "language_info": {
   "codemirror_mode": {
    "name": "ipython",
    "version": 3
   },
   "file_extension": ".py",
   "mimetype": "text/x-python",
   "name": "python",
   "nbconvert_exporter": "python",
   "pygments_lexer": "ipython3",
   "version": "3.6.8"
  }
 },
 "nbformat": 4,
 "nbformat_minor": 2
}
