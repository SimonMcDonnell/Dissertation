{
 "cells": [
  {
   "cell_type": "code",
   "execution_count": 43,
   "metadata": {},
   "outputs": [],
   "source": [
    "import numpy as np\n",
    "import matplotlib.pyplot as plt\n",
    "from numpy import polynomial as P"
   ]
  },
  {
   "cell_type": "code",
   "execution_count": 48,
   "metadata": {},
   "outputs": [
    {
     "data": {
      "text/plain": [
       "array([-1.9, -1.8, -1.7, -1.6, -1.5, -1.4, -1.3, -1.2, -1.1, -1. , -0.9,\n",
       "       -0.8, -0.7, -0.6, -0.5, -0.4, -0.3, -0.2, -0.1,  0. ,  0.1,  0.2,\n",
       "        0.3,  0.4,  0.5,  0.6,  0.7,  0.8,  0.9,  1. ,  1.1,  1.2,  1.3,\n",
       "        1.4,  1.5,  1.6,  1.7,  1.8,  1.9,  2. ])"
      ]
     },
     "execution_count": 48,
     "metadata": {},
     "output_type": "execute_result"
    }
   ],
   "source": [
    "x = np.linspace(-1.9, 2.0, 40)\n",
    "x"
   ]
  },
  {
   "cell_type": "code",
   "execution_count": 49,
   "metadata": {},
   "outputs": [
    {
     "data": {
      "text/plain": [
       "array([0. , 0. , 0. , 0. , 0. , 0. , 0. , 0. , 0. , 0. , 0. , 0. , 0. ,\n",
       "       0. , 0. , 0. , 0. , 0. , 0. , 0. , 0.1, 0.2, 0.3, 0.4, 0.5, 0.6,\n",
       "       0.7, 0.8, 0.9, 1. , 1.1, 1.2, 1.3, 1.4, 1.5, 1.6, 1.7, 1.8, 1.9,\n",
       "       2. ])"
      ]
     },
     "execution_count": 49,
     "metadata": {},
     "output_type": "execute_result"
    }
   ],
   "source": [
    "y = np.array([0,0,0,0,0,0,0,0,0,0,0,0,0,0,0,0,0,0,0,0,0.1, 0.2, 0.3, 0.4, 0.5, 0.6, 0.7, 0.8, 0.9, 1.0, 1.1, 1.2, 1.3,\n",
    "             1.4, 1.5, 1.6, 1.7, 1.8, 1.9, 2.0])\n",
    "y"
   ]
  },
  {
   "cell_type": "code",
   "execution_count": 50,
   "metadata": {},
   "outputs": [
    {
     "data": {
      "text/plain": [
       "Chebyshev([ 0.65838415,  1.00547703,  0.44588415, -0.01275156], domain=[-1.9,  2. ], window=[-1.,  1.])"
      ]
     },
     "execution_count": 50,
     "metadata": {},
     "output_type": "execute_result"
    }
   ],
   "source": [
    "P.chebyshev.Chebyshev.fit(x, y, 3)"
   ]
  },
  {
   "cell_type": "code",
   "execution_count": 51,
   "metadata": {},
   "outputs": [],
   "source": [
    "c = P.chebyshev.Chebyshev([0.65838415, 1.00547703, 0.44588415, -0.01275156])"
   ]
  },
  {
   "cell_type": "code",
   "execution_count": 52,
   "metadata": {},
   "outputs": [],
   "source": [
    "p = c.convert(kind=P.Polynomial)"
   ]
  },
  {
   "cell_type": "code",
   "execution_count": 53,
   "metadata": {},
   "outputs": [
    {
     "data": {
      "text/plain": [
       "array([-2.00000000e+00, -4.20000000e+01,  7.58000000e+02,  1.11320000e+04,\n",
       "       -9.52680000e+04, -8.79542400e+05,  4.73837760e+06,  3.26734848e+07,\n",
       "       -1.24226995e+08, -6.95344742e+08,  1.98242345e+09,  9.45887396e+09,\n",
       "       -2.09703100e+10, -8.80666608e+10,  1.55366811e+11,  5.87339507e+11,\n",
       "       -8.36746304e+11, -2.89496915e+12,  3.35983912e+12,  1.07742559e+13,\n",
       "       -1.02287318e+13, -3.07066449e+13,  2.38465701e+13,  6.75543687e+13,\n",
       "       -4.27380007e+13, -1.15001561e+14,  5.87513408e+13,  1.50985173e+14,\n",
       "       -6.13794850e+13, -1.51341548e+14,  4.78418555e+13,  1.13620568e+14,\n",
       "       -2.69322367e+13, -6.18148873e+13,  1.03405633e+13,  2.30038448e+13,\n",
       "       -2.42236155e+12, -5.23642413e+12,  2.61134012e+11,  5.49755814e+11])"
      ]
     },
     "execution_count": 53,
     "metadata": {},
     "output_type": "execute_result"
    }
   ],
   "source": [
    "P.chebyshev.cheb2poly(x)"
   ]
  },
  {
   "cell_type": "code",
   "execution_count": null,
   "metadata": {},
   "outputs": [],
   "source": []
  }
 ],
 "metadata": {
  "kernelspec": {
   "display_name": "Python 3",
   "language": "python",
   "name": "python3"
  },
  "language_info": {
   "codemirror_mode": {
    "name": "ipython",
    "version": 3
   },
   "file_extension": ".py",
   "mimetype": "text/x-python",
   "name": "python",
   "nbconvert_exporter": "python",
   "pygments_lexer": "ipython3",
   "version": "3.6.6"
  }
 },
 "nbformat": 4,
 "nbformat_minor": 2
}
