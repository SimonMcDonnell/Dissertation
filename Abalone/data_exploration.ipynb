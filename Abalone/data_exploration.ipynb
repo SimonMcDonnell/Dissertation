{
 "cells": [
  {
   "cell_type": "code",
   "execution_count": 10,
   "metadata": {},
   "outputs": [],
   "source": [
    "import numpy as np\n",
    "import pandas as pd\n",
    "import matplotlib.pyplot as plt\n",
    "from tensorflow import keras\n",
    "import tensorflow as tf\n",
    "from sklearn.model_selection import train_test_split\n",
    "from sklearn.preprocessing import LabelEncoder, StandardScaler\n",
    "from sklearn.linear_model import LinearRegression\n",
    "import h5py\n",
    "import json\n",
    "import os"
   ]
  },
  {
   "cell_type": "markdown",
   "metadata": {},
   "source": [
    "Read dataset and create training, validation, and test sets"
   ]
  },
  {
   "cell_type": "code",
   "execution_count": 2,
   "metadata": {},
   "outputs": [],
   "source": [
    "data = pd.read_csv(os.path.join(os.getcwd(), 'abalone-data.txt'),\n",
    "                  names=['sex', 'length', 'diameter', 'height', 'whole_weight',\n",
    "                        'shucked_weight', 'viscera_weight', 'shell_weight', 'rings'])"
   ]
  },
  {
   "cell_type": "code",
   "execution_count": 3,
   "metadata": {},
   "outputs": [
    {
     "data": {
      "text/html": [
       "<div>\n",
       "<style scoped>\n",
       "    .dataframe tbody tr th:only-of-type {\n",
       "        vertical-align: middle;\n",
       "    }\n",
       "\n",
       "    .dataframe tbody tr th {\n",
       "        vertical-align: top;\n",
       "    }\n",
       "\n",
       "    .dataframe thead th {\n",
       "        text-align: right;\n",
       "    }\n",
       "</style>\n",
       "<table border=\"1\" class=\"dataframe\">\n",
       "  <thead>\n",
       "    <tr style=\"text-align: right;\">\n",
       "      <th></th>\n",
       "      <th>sex</th>\n",
       "      <th>length</th>\n",
       "      <th>diameter</th>\n",
       "      <th>height</th>\n",
       "      <th>whole_weight</th>\n",
       "      <th>shucked_weight</th>\n",
       "      <th>viscera_weight</th>\n",
       "      <th>shell_weight</th>\n",
       "      <th>rings</th>\n",
       "    </tr>\n",
       "  </thead>\n",
       "  <tbody>\n",
       "    <tr>\n",
       "      <th>0</th>\n",
       "      <td>M</td>\n",
       "      <td>0.455</td>\n",
       "      <td>0.365</td>\n",
       "      <td>0.095</td>\n",
       "      <td>0.5140</td>\n",
       "      <td>0.2245</td>\n",
       "      <td>0.1010</td>\n",
       "      <td>0.150</td>\n",
       "      <td>15</td>\n",
       "    </tr>\n",
       "    <tr>\n",
       "      <th>1</th>\n",
       "      <td>M</td>\n",
       "      <td>0.350</td>\n",
       "      <td>0.265</td>\n",
       "      <td>0.090</td>\n",
       "      <td>0.2255</td>\n",
       "      <td>0.0995</td>\n",
       "      <td>0.0485</td>\n",
       "      <td>0.070</td>\n",
       "      <td>7</td>\n",
       "    </tr>\n",
       "    <tr>\n",
       "      <th>2</th>\n",
       "      <td>F</td>\n",
       "      <td>0.530</td>\n",
       "      <td>0.420</td>\n",
       "      <td>0.135</td>\n",
       "      <td>0.6770</td>\n",
       "      <td>0.2565</td>\n",
       "      <td>0.1415</td>\n",
       "      <td>0.210</td>\n",
       "      <td>9</td>\n",
       "    </tr>\n",
       "    <tr>\n",
       "      <th>3</th>\n",
       "      <td>M</td>\n",
       "      <td>0.440</td>\n",
       "      <td>0.365</td>\n",
       "      <td>0.125</td>\n",
       "      <td>0.5160</td>\n",
       "      <td>0.2155</td>\n",
       "      <td>0.1140</td>\n",
       "      <td>0.155</td>\n",
       "      <td>10</td>\n",
       "    </tr>\n",
       "    <tr>\n",
       "      <th>4</th>\n",
       "      <td>I</td>\n",
       "      <td>0.330</td>\n",
       "      <td>0.255</td>\n",
       "      <td>0.080</td>\n",
       "      <td>0.2050</td>\n",
       "      <td>0.0895</td>\n",
       "      <td>0.0395</td>\n",
       "      <td>0.055</td>\n",
       "      <td>7</td>\n",
       "    </tr>\n",
       "  </tbody>\n",
       "</table>\n",
       "</div>"
      ],
      "text/plain": [
       "  sex  length  diameter  height  whole_weight  shucked_weight  viscera_weight  \\\n",
       "0   M   0.455     0.365   0.095        0.5140          0.2245          0.1010   \n",
       "1   M   0.350     0.265   0.090        0.2255          0.0995          0.0485   \n",
       "2   F   0.530     0.420   0.135        0.6770          0.2565          0.1415   \n",
       "3   M   0.440     0.365   0.125        0.5160          0.2155          0.1140   \n",
       "4   I   0.330     0.255   0.080        0.2050          0.0895          0.0395   \n",
       "\n",
       "   shell_weight  rings  \n",
       "0         0.150     15  \n",
       "1         0.070      7  \n",
       "2         0.210      9  \n",
       "3         0.155     10  \n",
       "4         0.055      7  "
      ]
     },
     "execution_count": 3,
     "metadata": {},
     "output_type": "execute_result"
    }
   ],
   "source": [
    "data.head()"
   ]
  },
  {
   "cell_type": "code",
   "execution_count": 4,
   "metadata": {},
   "outputs": [],
   "source": [
    "data['sex'] = LabelEncoder().fit_transform(data['sex'])\n",
    "data = pd.get_dummies(data, columns=['sex'])"
   ]
  },
  {
   "cell_type": "code",
   "execution_count": 5,
   "metadata": {},
   "outputs": [
    {
     "data": {
      "text/html": [
       "<div>\n",
       "<style scoped>\n",
       "    .dataframe tbody tr th:only-of-type {\n",
       "        vertical-align: middle;\n",
       "    }\n",
       "\n",
       "    .dataframe tbody tr th {\n",
       "        vertical-align: top;\n",
       "    }\n",
       "\n",
       "    .dataframe thead th {\n",
       "        text-align: right;\n",
       "    }\n",
       "</style>\n",
       "<table border=\"1\" class=\"dataframe\">\n",
       "  <thead>\n",
       "    <tr style=\"text-align: right;\">\n",
       "      <th></th>\n",
       "      <th>length</th>\n",
       "      <th>diameter</th>\n",
       "      <th>height</th>\n",
       "      <th>whole_weight</th>\n",
       "      <th>shucked_weight</th>\n",
       "      <th>viscera_weight</th>\n",
       "      <th>shell_weight</th>\n",
       "      <th>rings</th>\n",
       "      <th>sex_0</th>\n",
       "      <th>sex_1</th>\n",
       "      <th>sex_2</th>\n",
       "    </tr>\n",
       "  </thead>\n",
       "  <tbody>\n",
       "    <tr>\n",
       "      <th>0</th>\n",
       "      <td>0.455</td>\n",
       "      <td>0.365</td>\n",
       "      <td>0.095</td>\n",
       "      <td>0.5140</td>\n",
       "      <td>0.2245</td>\n",
       "      <td>0.1010</td>\n",
       "      <td>0.150</td>\n",
       "      <td>15</td>\n",
       "      <td>0</td>\n",
       "      <td>0</td>\n",
       "      <td>1</td>\n",
       "    </tr>\n",
       "    <tr>\n",
       "      <th>1</th>\n",
       "      <td>0.350</td>\n",
       "      <td>0.265</td>\n",
       "      <td>0.090</td>\n",
       "      <td>0.2255</td>\n",
       "      <td>0.0995</td>\n",
       "      <td>0.0485</td>\n",
       "      <td>0.070</td>\n",
       "      <td>7</td>\n",
       "      <td>0</td>\n",
       "      <td>0</td>\n",
       "      <td>1</td>\n",
       "    </tr>\n",
       "    <tr>\n",
       "      <th>2</th>\n",
       "      <td>0.530</td>\n",
       "      <td>0.420</td>\n",
       "      <td>0.135</td>\n",
       "      <td>0.6770</td>\n",
       "      <td>0.2565</td>\n",
       "      <td>0.1415</td>\n",
       "      <td>0.210</td>\n",
       "      <td>9</td>\n",
       "      <td>1</td>\n",
       "      <td>0</td>\n",
       "      <td>0</td>\n",
       "    </tr>\n",
       "    <tr>\n",
       "      <th>3</th>\n",
       "      <td>0.440</td>\n",
       "      <td>0.365</td>\n",
       "      <td>0.125</td>\n",
       "      <td>0.5160</td>\n",
       "      <td>0.2155</td>\n",
       "      <td>0.1140</td>\n",
       "      <td>0.155</td>\n",
       "      <td>10</td>\n",
       "      <td>0</td>\n",
       "      <td>0</td>\n",
       "      <td>1</td>\n",
       "    </tr>\n",
       "    <tr>\n",
       "      <th>4</th>\n",
       "      <td>0.330</td>\n",
       "      <td>0.255</td>\n",
       "      <td>0.080</td>\n",
       "      <td>0.2050</td>\n",
       "      <td>0.0895</td>\n",
       "      <td>0.0395</td>\n",
       "      <td>0.055</td>\n",
       "      <td>7</td>\n",
       "      <td>0</td>\n",
       "      <td>1</td>\n",
       "      <td>0</td>\n",
       "    </tr>\n",
       "  </tbody>\n",
       "</table>\n",
       "</div>"
      ],
      "text/plain": [
       "   length  diameter  height  whole_weight  shucked_weight  viscera_weight  \\\n",
       "0   0.455     0.365   0.095        0.5140          0.2245          0.1010   \n",
       "1   0.350     0.265   0.090        0.2255          0.0995          0.0485   \n",
       "2   0.530     0.420   0.135        0.6770          0.2565          0.1415   \n",
       "3   0.440     0.365   0.125        0.5160          0.2155          0.1140   \n",
       "4   0.330     0.255   0.080        0.2050          0.0895          0.0395   \n",
       "\n",
       "   shell_weight  rings  sex_0  sex_1  sex_2  \n",
       "0         0.150     15      0      0      1  \n",
       "1         0.070      7      0      0      1  \n",
       "2         0.210      9      1      0      0  \n",
       "3         0.155     10      0      0      1  \n",
       "4         0.055      7      0      1      0  "
      ]
     },
     "execution_count": 5,
     "metadata": {},
     "output_type": "execute_result"
    }
   ],
   "source": [
    "data.head()"
   ]
  },
  {
   "cell_type": "code",
   "execution_count": 6,
   "metadata": {},
   "outputs": [
    {
     "name": "stdout",
     "output_type": "stream",
     "text": [
      "Training data = (3383, 10), (3383,)\n",
      "Validation data = (376, 10), (376,)\n",
      "Testing data = (418, 10), (418,)\n"
     ]
    }
   ],
   "source": [
    "X = data.drop('rings', axis=1)\n",
    "y = data['rings']\n",
    "X_train, X_test, y_train, y_test = train_test_split(X, y, test_size=0.1, random_state=3)\n",
    "X_train, X_val, y_train, y_val = train_test_split(X_train, y_train, test_size=0.1, random_state=3)\n",
    "print('Training data = {}, {}'.format(X_train.shape, y_train.shape))\n",
    "print('Validation data = {}, {}'.format(X_val.shape, y_val.shape))\n",
    "print('Testing data = {}, {}'.format(X_test.shape, y_test.shape))"
   ]
  },
  {
   "cell_type": "code",
   "execution_count": 7,
   "metadata": {},
   "outputs": [],
   "source": [
    "# standardize continuous values to zero mean and unit variance\n",
    "scaler = StandardScaler()\n",
    "X_train[['length', 'diameter', 'height', 'whole_weight', 'shucked_weight', 'viscera_weight', 'shell_weight']] = scaler.fit_transform(\n",
    "    X_train[['length', 'diameter', 'height', 'whole_weight', 'shucked_weight', 'viscera_weight', 'shell_weight']])"
   ]
  },
  {
   "cell_type": "code",
   "execution_count": 8,
   "metadata": {},
   "outputs": [
    {
     "name": "stderr",
     "output_type": "stream",
     "text": [
      "/Users/SimonMcDonnell/miniconda3/envs/diss/lib/python3.6/site-packages/ipykernel_launcher.py:4: SettingWithCopyWarning: \n",
      "A value is trying to be set on a copy of a slice from a DataFrame.\n",
      "Try using .loc[row_indexer,col_indexer] = value instead\n",
      "\n",
      "See the caveats in the documentation: http://pandas.pydata.org/pandas-docs/stable/indexing.html#indexing-view-versus-copy\n",
      "  after removing the cwd from sys.path.\n",
      "/Users/SimonMcDonnell/miniconda3/envs/diss/lib/python3.6/site-packages/pandas/core/indexing.py:543: SettingWithCopyWarning: \n",
      "A value is trying to be set on a copy of a slice from a DataFrame.\n",
      "Try using .loc[row_indexer,col_indexer] = value instead\n",
      "\n",
      "See the caveats in the documentation: http://pandas.pydata.org/pandas-docs/stable/indexing.html#indexing-view-versus-copy\n",
      "  self.obj[item] = s\n"
     ]
    }
   ],
   "source": [
    "X_val[['length', 'diameter', 'height', 'whole_weight', 'shucked_weight', 'viscera_weight', 'shell_weight']] = scaler.transform(\n",
    "    X_val[['length', 'diameter', 'height', 'whole_weight', 'shucked_weight', 'viscera_weight', 'shell_weight']])\n",
    "X_test[['length', 'diameter', 'height', 'whole_weight', 'shucked_weight', 'viscera_weight', 'shell_weight']] = scaler.transform(\n",
    "    X_test[['length', 'diameter', 'height', 'whole_weight', 'shucked_weight', 'viscera_weight', 'shell_weight']])"
   ]
  },
  {
   "cell_type": "markdown",
   "metadata": {},
   "source": [
    "Create a simple neural network to perform regression, with only one hidden layer"
   ]
  },
  {
   "cell_type": "code",
   "execution_count": 11,
   "metadata": {},
   "outputs": [],
   "source": [
    "model_sig = keras.Sequential([\n",
    "    keras.layers.Dense(1500, activation=tf.nn.sigmoid, input_shape=(10,)),\n",
    "    keras.layers.Dense(1)\n",
    "])\n",
    "optimizer = tf.train.GradientDescentOptimizer(0.001)\n",
    "model_sig.compile(loss='mse', optimizer=optimizer, metrics=['mae'])"
   ]
  },
  {
   "cell_type": "code",
   "execution_count": 17,
   "metadata": {
    "scrolled": true
   },
   "outputs": [
    {
     "name": "stdout",
     "output_type": "stream",
     "text": [
      "Train on 3383 samples, validate on 376 samples\n",
      "Epoch 1/100\n",
      "3383/3383 [==============================] - 1s 239us/step - loss: 4.9398 - mean_absolute_error: 1.6007 - val_loss: 4.7455 - val_mean_absolute_error: 1.5674\n",
      "Epoch 2/100\n",
      "3383/3383 [==============================] - 1s 289us/step - loss: 4.9239 - mean_absolute_error: 1.6020 - val_loss: 4.7403 - val_mean_absolute_error: 1.5772\n",
      "Epoch 3/100\n",
      "3383/3383 [==============================] - 1s 281us/step - loss: 4.9014 - mean_absolute_error: 1.6032 - val_loss: 4.7449 - val_mean_absolute_error: 1.5671\n",
      "Epoch 4/100\n",
      "3383/3383 [==============================] - 1s 270us/step - loss: 4.8953 - mean_absolute_error: 1.5992 - val_loss: 5.1702 - val_mean_absolute_error: 1.5693\n",
      "Epoch 5/100\n",
      "3383/3383 [==============================] - 1s 266us/step - loss: 4.9189 - mean_absolute_error: 1.5983 - val_loss: 4.8902 - val_mean_absolute_error: 1.6703\n",
      "Epoch 6/100\n",
      "3383/3383 [==============================] - 1s 240us/step - loss: 4.9428 - mean_absolute_error: 1.6042 - val_loss: 4.9371 - val_mean_absolute_error: 1.5486\n",
      "Epoch 7/100\n",
      "3383/3383 [==============================] - 1s 266us/step - loss: 4.9276 - mean_absolute_error: 1.5987 - val_loss: 4.8104 - val_mean_absolute_error: 1.5456\n",
      "Epoch 8/100\n",
      "3383/3383 [==============================] - 1s 266us/step - loss: 4.9333 - mean_absolute_error: 1.6010 - val_loss: 4.9910 - val_mean_absolute_error: 1.5523\n",
      "Epoch 9/100\n",
      "3383/3383 [==============================] - 1s 249us/step - loss: 4.9163 - mean_absolute_error: 1.5959 - val_loss: 4.8980 - val_mean_absolute_error: 1.5465\n",
      "Epoch 10/100\n",
      "3383/3383 [==============================] - 1s 264us/step - loss: 4.9091 - mean_absolute_error: 1.5997 - val_loss: 4.7607 - val_mean_absolute_error: 1.6018\n",
      "Epoch 11/100\n",
      "3383/3383 [==============================] - 1s 249us/step - loss: 4.9240 - mean_absolute_error: 1.5987 - val_loss: 4.7584 - val_mean_absolute_error: 1.5954\n",
      "Epoch 12/100\n",
      "3383/3383 [==============================] - 1s 247us/step - loss: 4.8924 - mean_absolute_error: 1.5882 - val_loss: 4.7878 - val_mean_absolute_error: 1.6288\n",
      "Epoch 13/100\n",
      "3383/3383 [==============================] - 1s 245us/step - loss: 4.8616 - mean_absolute_error: 1.5962 - val_loss: 5.0335 - val_mean_absolute_error: 1.5556\n",
      "Epoch 14/100\n",
      "3383/3383 [==============================] - 1s 265us/step - loss: 4.9209 - mean_absolute_error: 1.5973 - val_loss: 4.9628 - val_mean_absolute_error: 1.7019\n",
      "Epoch 15/100\n",
      "3383/3383 [==============================] - 1s 381us/step - loss: 4.9177 - mean_absolute_error: 1.6037 - val_loss: 4.9091 - val_mean_absolute_error: 1.5470\n",
      "Epoch 16/100\n",
      "3383/3383 [==============================] - 1s 351us/step - loss: 4.9001 - mean_absolute_error: 1.5955 - val_loss: 4.8227 - val_mean_absolute_error: 1.6409\n",
      "Epoch 17/100\n",
      "3383/3383 [==============================] - 1s 237us/step - loss: 4.9241 - mean_absolute_error: 1.6014 - val_loss: 4.9335 - val_mean_absolute_error: 1.5489\n",
      "Epoch 18/100\n",
      "3383/3383 [==============================] - 1s 226us/step - loss: 4.9067 - mean_absolute_error: 1.5940 - val_loss: 4.7330 - val_mean_absolute_error: 1.5735\n",
      "Epoch 19/100\n",
      "3383/3383 [==============================] - 1s 261us/step - loss: 4.9566 - mean_absolute_error: 1.6067 - val_loss: 5.3863 - val_mean_absolute_error: 1.8490\n",
      "Epoch 20/100\n",
      "3383/3383 [==============================] - 1s 231us/step - loss: 4.8926 - mean_absolute_error: 1.5922 - val_loss: 4.9177 - val_mean_absolute_error: 1.5478\n",
      "Epoch 21/100\n",
      "3383/3383 [==============================] - 1s 225us/step - loss: 4.9445 - mean_absolute_error: 1.6038 - val_loss: 5.0557 - val_mean_absolute_error: 1.5577\n",
      "Epoch 22/100\n",
      "3383/3383 [==============================] - 1s 233us/step - loss: 4.9046 - mean_absolute_error: 1.5944 - val_loss: 4.7404 - val_mean_absolute_error: 1.5910\n",
      "Epoch 23/100\n",
      "3383/3383 [==============================] - 1s 226us/step - loss: 4.9180 - mean_absolute_error: 1.6028 - val_loss: 4.7492 - val_mean_absolute_error: 1.5575\n",
      "Epoch 24/100\n",
      "3383/3383 [==============================] - 1s 257us/step - loss: 4.9311 - mean_absolute_error: 1.6038 - val_loss: 4.8085 - val_mean_absolute_error: 1.5461\n",
      "Epoch 25/100\n",
      "3383/3383 [==============================] - 1s 337us/step - loss: 4.9029 - mean_absolute_error: 1.5995 - val_loss: 4.7820 - val_mean_absolute_error: 1.5469\n",
      "Epoch 26/100\n",
      "3383/3383 [==============================] - 1s 341us/step - loss: 4.9312 - mean_absolute_error: 1.6010 - val_loss: 4.8095 - val_mean_absolute_error: 1.6356\n",
      "Epoch 27/100\n",
      "3383/3383 [==============================] - 1s 282us/step - loss: 4.9478 - mean_absolute_error: 1.6066 - val_loss: 4.7725 - val_mean_absolute_error: 1.5510\n",
      "Epoch 28/100\n",
      "3383/3383 [==============================] - 1s 250us/step - loss: 4.9112 - mean_absolute_error: 1.5955 - val_loss: 4.7280 - val_mean_absolute_error: 1.5638\n",
      "Epoch 29/100\n",
      "3383/3383 [==============================] - 1s 248us/step - loss: 4.9246 - mean_absolute_error: 1.6019 - val_loss: 4.7426 - val_mean_absolute_error: 1.5701\n",
      "Epoch 30/100\n",
      "3383/3383 [==============================] - 1s 238us/step - loss: 4.8998 - mean_absolute_error: 1.5995 - val_loss: 4.8264 - val_mean_absolute_error: 1.5450\n",
      "Epoch 31/100\n",
      "3383/3383 [==============================] - 1s 244us/step - loss: 4.9692 - mean_absolute_error: 1.6079 - val_loss: 4.7482 - val_mean_absolute_error: 1.5555\n",
      "Epoch 32/100\n",
      "3383/3383 [==============================] - 1s 246us/step - loss: 4.9279 - mean_absolute_error: 1.6011 - val_loss: 4.9168 - val_mean_absolute_error: 1.6896\n",
      "Epoch 33/100\n",
      "3383/3383 [==============================] - 1s 244us/step - loss: 5.0153 - mean_absolute_error: 1.6163 - val_loss: 4.7308 - val_mean_absolute_error: 1.5738\n",
      "Epoch 34/100\n",
      "3383/3383 [==============================] - 1s 249us/step - loss: 4.9070 - mean_absolute_error: 1.5985 - val_loss: 4.7388 - val_mean_absolute_error: 1.5592\n",
      "Epoch 35/100\n",
      "3383/3383 [==============================] - 1s 248us/step - loss: 4.8699 - mean_absolute_error: 1.5922 - val_loss: 4.7298 - val_mean_absolute_error: 1.5668\n",
      "Epoch 36/100\n",
      "3383/3383 [==============================] - 1s 321us/step - loss: 4.8793 - mean_absolute_error: 1.5883 - val_loss: 4.7393 - val_mean_absolute_error: 1.5900\n",
      "Epoch 37/100\n",
      "3383/3383 [==============================] - 1s 277us/step - loss: 4.9183 - mean_absolute_error: 1.6003 - val_loss: 4.7489 - val_mean_absolute_error: 1.5559\n",
      "Epoch 38/100\n",
      "3383/3383 [==============================] - 1s 275us/step - loss: 4.9066 - mean_absolute_error: 1.5997 - val_loss: 4.7431 - val_mean_absolute_error: 1.5602\n",
      "Epoch 39/100\n",
      "3383/3383 [==============================] - 1s 233us/step - loss: 4.9114 - mean_absolute_error: 1.6036 - val_loss: 4.7622 - val_mean_absolute_error: 1.6141\n",
      "Epoch 40/100\n",
      "3383/3383 [==============================] - 1s 254us/step - loss: 4.9189 - mean_absolute_error: 1.5979 - val_loss: 4.7280 - val_mean_absolute_error: 1.5948\n",
      "Epoch 41/100\n",
      "3383/3383 [==============================] - 1s 231us/step - loss: 4.8890 - mean_absolute_error: 1.5941 - val_loss: 4.7976 - val_mean_absolute_error: 1.5447\n",
      "Epoch 42/100\n",
      "3383/3383 [==============================] - 1s 228us/step - loss: 4.9386 - mean_absolute_error: 1.6031 - val_loss: 4.8840 - val_mean_absolute_error: 1.5464\n",
      "Epoch 43/100\n",
      "3383/3383 [==============================] - 1s 268us/step - loss: 4.8965 - mean_absolute_error: 1.5972 - val_loss: 4.7568 - val_mean_absolute_error: 1.5506\n",
      "Epoch 44/100\n",
      "3383/3383 [==============================] - 1s 398us/step - loss: 4.9352 - mean_absolute_error: 1.5993 - val_loss: 5.3834 - val_mean_absolute_error: 1.6027\n",
      "Epoch 45/100\n",
      "3383/3383 [==============================] - 1s 335us/step - loss: 4.9043 - mean_absolute_error: 1.5983 - val_loss: 4.7378 - val_mean_absolute_error: 1.5554\n",
      "Epoch 46/100\n",
      "3383/3383 [==============================] - 1s 263us/step - loss: 4.9101 - mean_absolute_error: 1.6024 - val_loss: 4.7559 - val_mean_absolute_error: 1.6128\n",
      "Epoch 47/100\n",
      "3383/3383 [==============================] - 1s 314us/step - loss: 4.9137 - mean_absolute_error: 1.6002 - val_loss: 4.7548 - val_mean_absolute_error: 1.6028\n",
      "Epoch 48/100\n",
      "3383/3383 [==============================] - 1s 322us/step - loss: 4.9082 - mean_absolute_error: 1.5974 - val_loss: 4.7369 - val_mean_absolute_error: 1.5555\n"
     ]
    },
    {
     "name": "stdout",
     "output_type": "stream",
     "text": [
      "Epoch 49/100\n",
      "3383/3383 [==============================] - 1s 288us/step - loss: 4.8786 - mean_absolute_error: 1.5970 - val_loss: 4.7822 - val_mean_absolute_error: 1.5460\n",
      "Epoch 50/100\n",
      "3383/3383 [==============================] - 1s 228us/step - loss: 4.8803 - mean_absolute_error: 1.5918 - val_loss: 4.8639 - val_mean_absolute_error: 1.5455\n",
      "Epoch 51/100\n",
      "3383/3383 [==============================] - 1s 235us/step - loss: 4.9267 - mean_absolute_error: 1.6052 - val_loss: 4.7372 - val_mean_absolute_error: 1.5701\n",
      "Epoch 52/100\n",
      "3383/3383 [==============================] - 1s 240us/step - loss: 4.8960 - mean_absolute_error: 1.5990 - val_loss: 4.9925 - val_mean_absolute_error: 1.5531\n",
      "Epoch 53/100\n",
      "3383/3383 [==============================] - 1s 224us/step - loss: 4.9245 - mean_absolute_error: 1.6032 - val_loss: 4.9542 - val_mean_absolute_error: 1.5505\n",
      "Epoch 54/100\n",
      "3383/3383 [==============================] - 1s 233us/step - loss: 4.9407 - mean_absolute_error: 1.6051 - val_loss: 4.7216 - val_mean_absolute_error: 1.5872\n",
      "Epoch 55/100\n",
      "3383/3383 [==============================] - 1s 228us/step - loss: 4.8943 - mean_absolute_error: 1.5923 - val_loss: 4.7710 - val_mean_absolute_error: 1.5468\n",
      "Epoch 56/100\n",
      "3383/3383 [==============================] - 1s 232us/step - loss: 4.8966 - mean_absolute_error: 1.5982 - val_loss: 5.0129 - val_mean_absolute_error: 1.7257\n",
      "Epoch 57/100\n",
      "3383/3383 [==============================] - 1s 224us/step - loss: 4.9155 - mean_absolute_error: 1.6015 - val_loss: 4.9123 - val_mean_absolute_error: 1.6887\n",
      "Epoch 58/100\n",
      "3383/3383 [==============================] - 1s 233us/step - loss: 4.9172 - mean_absolute_error: 1.5983 - val_loss: 4.7308 - val_mean_absolute_error: 1.5632\n",
      "Epoch 59/100\n",
      "3383/3383 [==============================] - 1s 232us/step - loss: 4.9131 - mean_absolute_error: 1.5966 - val_loss: 5.0723 - val_mean_absolute_error: 1.7472\n",
      "Epoch 60/100\n",
      "3383/3383 [==============================] - 1s 236us/step - loss: 4.9061 - mean_absolute_error: 1.6011 - val_loss: 4.7753 - val_mean_absolute_error: 1.5465\n",
      "Epoch 61/100\n",
      "3383/3383 [==============================] - 1s 233us/step - loss: 4.9158 - mean_absolute_error: 1.5990 - val_loss: 4.7666 - val_mean_absolute_error: 1.6148\n",
      "Epoch 62/100\n",
      "3383/3383 [==============================] - 1s 232us/step - loss: 4.9278 - mean_absolute_error: 1.5977 - val_loss: 4.7435 - val_mean_absolute_error: 1.5541\n",
      "Epoch 63/100\n",
      "3383/3383 [==============================] - 1s 229us/step - loss: 4.8626 - mean_absolute_error: 1.5970 - val_loss: 4.7240 - val_mean_absolute_error: 1.5727\n",
      "Epoch 64/100\n",
      "3383/3383 [==============================] - 1s 242us/step - loss: 4.9006 - mean_absolute_error: 1.5992 - val_loss: 4.7398 - val_mean_absolute_error: 1.5531\n",
      "Epoch 65/100\n",
      "3383/3383 [==============================] - 1s 238us/step - loss: 4.8841 - mean_absolute_error: 1.5949 - val_loss: 4.7310 - val_mean_absolute_error: 1.5897\n",
      "Epoch 66/100\n",
      "3383/3383 [==============================] - 1s 234us/step - loss: 4.9127 - mean_absolute_error: 1.5969 - val_loss: 4.9997 - val_mean_absolute_error: 1.7213\n",
      "Epoch 67/100\n",
      "3383/3383 [==============================] - 1s 228us/step - loss: 4.8980 - mean_absolute_error: 1.6021 - val_loss: 4.7381 - val_mean_absolute_error: 1.5560\n",
      "Epoch 68/100\n",
      "3383/3383 [==============================] - 1s 233us/step - loss: 4.8937 - mean_absolute_error: 1.5985 - val_loss: 4.7194 - val_mean_absolute_error: 1.5693\n",
      "Epoch 69/100\n",
      "3383/3383 [==============================] - 1s 233us/step - loss: 4.9443 - mean_absolute_error: 1.6077 - val_loss: 5.0962 - val_mean_absolute_error: 1.5628\n",
      "Epoch 70/100\n",
      "3383/3383 [==============================] - 1s 231us/step - loss: 4.9037 - mean_absolute_error: 1.5962 - val_loss: 4.7273 - val_mean_absolute_error: 1.5574\n",
      "Epoch 71/100\n",
      "3383/3383 [==============================] - 1s 237us/step - loss: 4.9456 - mean_absolute_error: 1.6095 - val_loss: 4.8562 - val_mean_absolute_error: 1.5452\n",
      "Epoch 72/100\n",
      "3383/3383 [==============================] - 1s 227us/step - loss: 4.9032 - mean_absolute_error: 1.5973 - val_loss: 5.9691 - val_mean_absolute_error: 1.7011\n",
      "Epoch 73/100\n",
      "3383/3383 [==============================] - 1s 230us/step - loss: 4.9230 - mean_absolute_error: 1.5990 - val_loss: 4.8370 - val_mean_absolute_error: 1.5449\n",
      "Epoch 74/100\n",
      "3383/3383 [==============================] - 1s 243us/step - loss: 4.8916 - mean_absolute_error: 1.6003 - val_loss: 4.7502 - val_mean_absolute_error: 1.5470\n",
      "Epoch 75/100\n",
      "3383/3383 [==============================] - 1s 233us/step - loss: 4.9228 - mean_absolute_error: 1.6019 - val_loss: 5.2919 - val_mean_absolute_error: 1.8245\n",
      "Epoch 76/100\n",
      "3383/3383 [==============================] - 1s 234us/step - loss: 4.9062 - mean_absolute_error: 1.6027 - val_loss: 4.8869 - val_mean_absolute_error: 1.5467\n",
      "Epoch 77/100\n",
      "3383/3383 [==============================] - 1s 225us/step - loss: 4.8913 - mean_absolute_error: 1.5989 - val_loss: 4.8813 - val_mean_absolute_error: 1.6749\n",
      "Epoch 78/100\n",
      "3383/3383 [==============================] - 1s 250us/step - loss: 4.8649 - mean_absolute_error: 1.5911 - val_loss: 5.0078 - val_mean_absolute_error: 1.5548\n",
      "Epoch 79/100\n",
      "3383/3383 [==============================] - 1s 332us/step - loss: 4.9100 - mean_absolute_error: 1.6071 - val_loss: 4.7098 - val_mean_absolute_error: 1.5755\n",
      "Epoch 80/100\n",
      "3383/3383 [==============================] - 1s 349us/step - loss: 4.8762 - mean_absolute_error: 1.5941 - val_loss: 4.8203 - val_mean_absolute_error: 1.6516\n",
      "Epoch 81/100\n",
      "3383/3383 [==============================] - 1s 349us/step - loss: 4.8855 - mean_absolute_error: 1.5973 - val_loss: 4.8100 - val_mean_absolute_error: 1.5444\n",
      "Epoch 82/100\n",
      "3383/3383 [==============================] - 1s 256us/step - loss: 4.9106 - mean_absolute_error: 1.6003 - val_loss: 4.7208 - val_mean_absolute_error: 1.5556\n",
      "Epoch 83/100\n",
      "3383/3383 [==============================] - 1s 321us/step - loss: 4.8715 - mean_absolute_error: 1.5928 - val_loss: 5.9017 - val_mean_absolute_error: 1.9973\n",
      "Epoch 84/100\n",
      "3383/3383 [==============================] - 1s 307us/step - loss: 4.8773 - mean_absolute_error: 1.5951 - val_loss: 4.7307 - val_mean_absolute_error: 1.5983\n",
      "Epoch 85/100\n",
      "3383/3383 [==============================] - 1s 240us/step - loss: 4.9510 - mean_absolute_error: 1.6016 - val_loss: 4.7216 - val_mean_absolute_error: 1.5921\n",
      "Epoch 86/100\n",
      "3383/3383 [==============================] - 1s 251us/step - loss: 4.8774 - mean_absolute_error: 1.5982 - val_loss: 4.7409 - val_mean_absolute_error: 1.5482\n",
      "Epoch 87/100\n",
      "3383/3383 [==============================] - 1s 347us/step - loss: 4.8889 - mean_absolute_error: 1.5985 - val_loss: 4.8094 - val_mean_absolute_error: 1.5441\n",
      "Epoch 88/100\n",
      "3383/3383 [==============================] - 1s 319us/step - loss: 4.8911 - mean_absolute_error: 1.5941 - val_loss: 4.8208 - val_mean_absolute_error: 1.5444\n",
      "Epoch 89/100\n",
      "3383/3383 [==============================] - 1s 332us/step - loss: 4.9158 - mean_absolute_error: 1.5954 - val_loss: 5.3514 - val_mean_absolute_error: 1.8396\n",
      "Epoch 90/100\n",
      "3383/3383 [==============================] - 1s 305us/step - loss: 4.8943 - mean_absolute_error: 1.5940 - val_loss: 4.9069 - val_mean_absolute_error: 1.5481\n",
      "Epoch 91/100\n",
      "3383/3383 [==============================] - 1s 350us/step - loss: 4.9157 - mean_absolute_error: 1.5959 - val_loss: 4.9424 - val_mean_absolute_error: 1.7001\n",
      "Epoch 92/100\n",
      "3383/3383 [==============================] - 1s 242us/step - loss: 4.8481 - mean_absolute_error: 1.5877 - val_loss: 4.7241 - val_mean_absolute_error: 1.5638\n",
      "Epoch 93/100\n",
      "3383/3383 [==============================] - 1s 233us/step - loss: 4.8764 - mean_absolute_error: 1.5936 - val_loss: 4.7675 - val_mean_absolute_error: 1.5453\n",
      "Epoch 94/100\n",
      "3383/3383 [==============================] - 1s 240us/step - loss: 4.9132 - mean_absolute_error: 1.5988 - val_loss: 4.8787 - val_mean_absolute_error: 1.6797\n",
      "Epoch 95/100\n",
      "3383/3383 [==============================] - 1s 348us/step - loss: 4.8792 - mean_absolute_error: 1.5923 - val_loss: 4.7215 - val_mean_absolute_error: 1.5557\n",
      "Epoch 96/100\n",
      "3383/3383 [==============================] - 1s 256us/step - loss: 4.9150 - mean_absolute_error: 1.6026 - val_loss: 4.7609 - val_mean_absolute_error: 1.6219\n",
      "Epoch 97/100\n"
     ]
    },
    {
     "name": "stdout",
     "output_type": "stream",
     "text": [
      "3383/3383 [==============================] - 1s 317us/step - loss: 4.9002 - mean_absolute_error: 1.6014 - val_loss: 4.7830 - val_mean_absolute_error: 1.5448\n",
      "Epoch 98/100\n",
      "3383/3383 [==============================] - 1s 329us/step - loss: 4.8868 - mean_absolute_error: 1.5977 - val_loss: 5.1532 - val_mean_absolute_error: 1.5704\n",
      "Epoch 99/100\n",
      "3383/3383 [==============================] - 1s 298us/step - loss: 4.8784 - mean_absolute_error: 1.5938 - val_loss: 4.7961 - val_mean_absolute_error: 1.6437\n",
      "Epoch 100/100\n",
      "3383/3383 [==============================] - 1s 333us/step - loss: 4.8711 - mean_absolute_error: 1.5988 - val_loss: 5.0141 - val_mean_absolute_error: 1.7308\n"
     ]
    }
   ],
   "source": [
    "history_sig = model_sig.fit(X_train, y_train, epochs=100, validation_data=[X_val, y_val])"
   ]
  },
  {
   "cell_type": "code",
   "execution_count": 18,
   "metadata": {},
   "outputs": [
    {
     "data": {
      "image/png": "[encoded data removed]",
      "text/plain": [
       "<Figure size 432x288 with 1 Axes>"
      ]
     },
     "metadata": {
      "needs_background": "light"
     },
     "output_type": "display_data"
    }
   ],
   "source": [
    "plot_history(history_sig)"
   ]
  },
  {
   "cell_type": "code",
   "execution_count": 19,
   "metadata": {},
   "outputs": [],
   "source": [
    "weights_sig = model_sig.get_weights()\n",
    "np.save('model_sig_weights', weights_sig, allow_pickle=True)"
   ]
  },
  {
   "cell_type": "code",
   "execution_count": 13,
   "metadata": {},
   "outputs": [],
   "source": [
    "def plot_history(history):\n",
    "    plt.figure()\n",
    "    plt.xlabel('Epoch')\n",
    "    plt.ylabel('Mean Abs Error [1000$]')\n",
    "    plt.plot(history.epoch, np.array(history.history['mean_absolute_error']),\n",
    "           label='Train Loss')\n",
    "    plt.plot(history.epoch, np.array(history.history['val_mean_absolute_error']),\n",
    "           label = 'Val loss')\n",
    "    plt.legend()\n",
    "    plt.ylim([1, 2])"
   ]
  },
  {
   "cell_type": "code",
   "execution_count": 296,
   "metadata": {},
   "outputs": [],
   "source": [
    "model1 = keras.Sequential([\n",
    "    keras.layers.Dense(1500, activation=tf.nn.relu, input_shape=(10,)),\n",
    "    keras.layers.Dense(1, activation=tf.nn.relu)\n",
    "])\n",
    "optimizer = tf.train.GradientDescentOptimizer(0.001)\n",
    "model1.compile(loss='mse', optimizer=optimizer, metrics=['mae'])"
   ]
  },
  {
   "cell_type": "code",
   "execution_count": 297,
   "metadata": {},
   "outputs": [
    {
     "name": "stdout",
     "output_type": "stream",
     "text": [
      "_________________________________________________________________\n",
      "Layer (type)                 Output Shape              Param #   \n",
      "=================================================================\n",
      "dense_67 (Dense)             (None, 1500)              16500     \n",
      "_________________________________________________________________\n",
      "dense_68 (Dense)             (None, 1)                 1501      \n",
      "=================================================================\n",
      "Total params: 18,001\n",
      "Trainable params: 18,001\n",
      "Non-trainable params: 0\n",
      "_________________________________________________________________\n"
     ]
    }
   ],
   "source": [
    "model1.summary()"
   ]
  },
  {
   "cell_type": "code",
   "execution_count": 298,
   "metadata": {},
   "outputs": [],
   "source": [
    "model2 = keras.Sequential([\n",
    "    keras.layers.Dense(1500, activation=tf.nn.relu, input_shape=(10,)),\n",
    "    keras.layers.Dense(750, activation=tf.nn.relu),\n",
    "    keras.layers.Dense(1, activation=tf.nn.relu)\n",
    "])\n",
    "optimizer = tf.train.GradientDescentOptimizer(0.001)\n",
    "model2.compile(loss='mse', optimizer=optimizer, metrics=['mae'])"
   ]
  },
  {
   "cell_type": "code",
   "execution_count": 299,
   "metadata": {},
   "outputs": [
    {
     "name": "stdout",
     "output_type": "stream",
     "text": [
      "_________________________________________________________________\n",
      "Layer (type)                 Output Shape              Param #   \n",
      "=================================================================\n",
      "dense_69 (Dense)             (None, 1500)              16500     \n",
      "_________________________________________________________________\n",
      "dense_70 (Dense)             (None, 750)               1125750   \n",
      "_________________________________________________________________\n",
      "dense_71 (Dense)             (None, 1)                 751       \n",
      "=================================================================\n",
      "Total params: 1,143,001\n",
      "Trainable params: 1,143,001\n",
      "Non-trainable params: 0\n",
      "_________________________________________________________________\n"
     ]
    }
   ],
   "source": [
    "model2.summary()"
   ]
  },
  {
   "cell_type": "code",
   "execution_count": 300,
   "metadata": {
    "scrolled": true
   },
   "outputs": [
    {
     "name": "stdout",
     "output_type": "stream",
     "text": [
      "Train on 3383 samples, validate on 376 samples\n",
      "Epoch 1/100\n",
      "3383/3383 [==============================] - 2s 577us/step - loss: 46.8017 - mean_absolute_error: 5.7569 - val_loss: 16.9966 - val_mean_absolute_error: 3.1454\n",
      "Epoch 2/100\n",
      "3383/3383 [==============================] - 1s 230us/step - loss: 12.3392 - mean_absolute_error: 2.5903 - val_loss: 8.0126 - val_mean_absolute_error: 2.0206\n",
      "Epoch 3/100\n",
      "3383/3383 [==============================] - 1s 216us/step - loss: 7.0956 - mean_absolute_error: 1.8631 - val_loss: 5.9041 - val_mean_absolute_error: 1.7431\n",
      "Epoch 4/100\n",
      "3383/3383 [==============================] - 1s 258us/step - loss: 5.9691 - mean_absolute_error: 1.7058 - val_loss: 5.4080 - val_mean_absolute_error: 1.6534\n",
      "Epoch 5/100\n",
      "3383/3383 [==============================] - 1s 223us/step - loss: 5.5940 - mean_absolute_error: 1.6621 - val_loss: 5.2599 - val_mean_absolute_error: 1.6490\n",
      "Epoch 6/100\n",
      "3383/3383 [==============================] - 1s 220us/step - loss: 5.4046 - mean_absolute_error: 1.6393 - val_loss: 5.0988 - val_mean_absolute_error: 1.6228\n",
      "Epoch 7/100\n",
      "3383/3383 [==============================] - 1s 218us/step - loss: 5.2813 - mean_absolute_error: 1.6312 - val_loss: 4.9654 - val_mean_absolute_error: 1.5945\n",
      "Epoch 8/100\n",
      "3383/3383 [==============================] - 1s 230us/step - loss: 5.1874 - mean_absolute_error: 1.6160 - val_loss: 4.9204 - val_mean_absolute_error: 1.5784\n",
      "Epoch 9/100\n",
      "3383/3383 [==============================] - 1s 301us/step - loss: 5.0982 - mean_absolute_error: 1.6037 - val_loss: 4.8394 - val_mean_absolute_error: 1.5802\n",
      "Epoch 10/100\n",
      "3383/3383 [==============================] - 1s 255us/step - loss: 5.0530 - mean_absolute_error: 1.5943 - val_loss: 4.8306 - val_mean_absolute_error: 1.5832\n",
      "Epoch 11/100\n",
      "3383/3383 [==============================] - 1s 226us/step - loss: 4.9964 - mean_absolute_error: 1.5930 - val_loss: 4.7833 - val_mean_absolute_error: 1.5643\n",
      "Epoch 12/100\n",
      "3383/3383 [==============================] - 1s 234us/step - loss: 4.9493 - mean_absolute_error: 1.5873 - val_loss: 4.7415 - val_mean_absolute_error: 1.5526\n",
      "Epoch 13/100\n",
      "3383/3383 [==============================] - 1s 242us/step - loss: 4.9200 - mean_absolute_error: 1.5732 - val_loss: 4.7614 - val_mean_absolute_error: 1.5767\n",
      "Epoch 14/100\n",
      "3383/3383 [==============================] - 1s 219us/step - loss: 4.8865 - mean_absolute_error: 1.5785 - val_loss: 4.7071 - val_mean_absolute_error: 1.5534\n",
      "Epoch 15/100\n",
      "3383/3383 [==============================] - 1s 223us/step - loss: 4.8548 - mean_absolute_error: 1.5690 - val_loss: 4.7135 - val_mean_absolute_error: 1.5594\n",
      "Epoch 16/100\n",
      "3383/3383 [==============================] - 1s 222us/step - loss: 4.8216 - mean_absolute_error: 1.5676 - val_loss: 4.7041 - val_mean_absolute_error: 1.5547\n",
      "Epoch 17/100\n",
      "3383/3383 [==============================] - 1s 232us/step - loss: 4.8020 - mean_absolute_error: 1.5634 - val_loss: 4.6431 - val_mean_absolute_error: 1.5497\n",
      "Epoch 18/100\n",
      "3383/3383 [==============================] - 1s 221us/step - loss: 4.7852 - mean_absolute_error: 1.5606 - val_loss: 4.6281 - val_mean_absolute_error: 1.5458\n",
      "Epoch 19/100\n",
      "3383/3383 [==============================] - 1s 217us/step - loss: 4.7599 - mean_absolute_error: 1.5569 - val_loss: 4.6297 - val_mean_absolute_error: 1.5458\n",
      "Epoch 20/100\n",
      "3383/3383 [==============================] - 1s 219us/step - loss: 4.7419 - mean_absolute_error: 1.5539 - val_loss: 4.6882 - val_mean_absolute_error: 1.5645\n",
      "Epoch 21/100\n",
      "3383/3383 [==============================] - 1s 216us/step - loss: 4.7327 - mean_absolute_error: 1.5562 - val_loss: 4.5565 - val_mean_absolute_error: 1.5376\n",
      "Epoch 22/100\n",
      "3383/3383 [==============================] - 1s 219us/step - loss: 4.7107 - mean_absolute_error: 1.5437 - val_loss: 4.5685 - val_mean_absolute_error: 1.5493\n",
      "Epoch 23/100\n",
      "3383/3383 [==============================] - 1s 216us/step - loss: 4.6960 - mean_absolute_error: 1.5473 - val_loss: 4.5631 - val_mean_absolute_error: 1.5485\n",
      "Epoch 24/100\n",
      "3383/3383 [==============================] - 1s 219us/step - loss: 4.6793 - mean_absolute_error: 1.5462 - val_loss: 4.6141 - val_mean_absolute_error: 1.5517\n",
      "Epoch 25/100\n",
      "3383/3383 [==============================] - 1s 217us/step - loss: 4.6631 - mean_absolute_error: 1.5486 - val_loss: 4.5279 - val_mean_absolute_error: 1.5208\n",
      "Epoch 26/100\n",
      "3383/3383 [==============================] - 1s 218us/step - loss: 4.6561 - mean_absolute_error: 1.5368 - val_loss: 4.5380 - val_mean_absolute_error: 1.5385\n",
      "Epoch 27/100\n",
      "3383/3383 [==============================] - 1s 218us/step - loss: 4.6419 - mean_absolute_error: 1.5375 - val_loss: 4.5301 - val_mean_absolute_error: 1.5406\n",
      "Epoch 28/100\n",
      "3383/3383 [==============================] - 1s 217us/step - loss: 4.6298 - mean_absolute_error: 1.5415 - val_loss: 4.4790 - val_mean_absolute_error: 1.5301\n",
      "Epoch 29/100\n",
      "3383/3383 [==============================] - 1s 220us/step - loss: 4.6316 - mean_absolute_error: 1.5349 - val_loss: 4.5075 - val_mean_absolute_error: 1.5360\n",
      "Epoch 30/100\n",
      "3383/3383 [==============================] - 1s 219us/step - loss: 4.6198 - mean_absolute_error: 1.5340 - val_loss: 4.5102 - val_mean_absolute_error: 1.5392\n",
      "Epoch 31/100\n",
      "3383/3383 [==============================] - 1s 223us/step - loss: 4.6110 - mean_absolute_error: 1.5338 - val_loss: 4.4652 - val_mean_absolute_error: 1.5322\n",
      "Epoch 32/100\n",
      "3383/3383 [==============================] - 1s 216us/step - loss: 4.5994 - mean_absolute_error: 1.5328 - val_loss: 4.4343 - val_mean_absolute_error: 1.5278\n",
      "Epoch 33/100\n",
      "3383/3383 [==============================] - 1s 219us/step - loss: 4.5938 - mean_absolute_error: 1.5293 - val_loss: 4.4429 - val_mean_absolute_error: 1.5216\n",
      "Epoch 34/100\n",
      "3383/3383 [==============================] - 1s 216us/step - loss: 4.5798 - mean_absolute_error: 1.5294 - val_loss: 4.4342 - val_mean_absolute_error: 1.5207\n",
      "Epoch 35/100\n",
      "3383/3383 [==============================] - 1s 217us/step - loss: 4.5763 - mean_absolute_error: 1.5248 - val_loss: 4.4814 - val_mean_absolute_error: 1.5378\n",
      "Epoch 36/100\n",
      "3383/3383 [==============================] - 1s 214us/step - loss: 4.5701 - mean_absolute_error: 1.5268 - val_loss: 4.4298 - val_mean_absolute_error: 1.5282\n",
      "Epoch 37/100\n",
      "3383/3383 [==============================] - 1s 219us/step - loss: 4.5675 - mean_absolute_error: 1.5276 - val_loss: 4.4336 - val_mean_absolute_error: 1.5230\n",
      "Epoch 38/100\n",
      "3383/3383 [==============================] - 1s 216us/step - loss: 4.5590 - mean_absolute_error: 1.5243 - val_loss: 4.4060 - val_mean_absolute_error: 1.5234\n",
      "Epoch 39/100\n",
      "3383/3383 [==============================] - 1s 218us/step - loss: 4.5532 - mean_absolute_error: 1.5242 - val_loss: 4.3858 - val_mean_absolute_error: 1.5238\n",
      "Epoch 40/100\n",
      "3383/3383 [==============================] - 1s 216us/step - loss: 4.5415 - mean_absolute_error: 1.5201 - val_loss: 4.3868 - val_mean_absolute_error: 1.5295\n",
      "Epoch 41/100\n",
      "3383/3383 [==============================] - 1s 218us/step - loss: 4.5349 - mean_absolute_error: 1.5206 - val_loss: 4.4091 - val_mean_absolute_error: 1.5312\n",
      "Epoch 42/100\n",
      "3383/3383 [==============================] - 1s 215us/step - loss: 4.5368 - mean_absolute_error: 1.5240 - val_loss: 4.3874 - val_mean_absolute_error: 1.5177\n",
      "Epoch 43/100\n",
      "3383/3383 [==============================] - 1s 216us/step - loss: 4.5285 - mean_absolute_error: 1.5189 - val_loss: 4.3930 - val_mean_absolute_error: 1.5166\n",
      "Epoch 44/100\n",
      "3383/3383 [==============================] - 1s 217us/step - loss: 4.5255 - mean_absolute_error: 1.5184 - val_loss: 4.4152 - val_mean_absolute_error: 1.5223\n",
      "Epoch 45/100\n",
      "3383/3383 [==============================] - 1s 218us/step - loss: 4.5164 - mean_absolute_error: 1.5160 - val_loss: 4.4036 - val_mean_absolute_error: 1.5278\n",
      "Epoch 46/100\n",
      "3383/3383 [==============================] - 1s 217us/step - loss: 4.5191 - mean_absolute_error: 1.5207 - val_loss: 4.3563 - val_mean_absolute_error: 1.5180\n",
      "Epoch 47/100\n",
      "3383/3383 [==============================] - 1s 216us/step - loss: 4.5114 - mean_absolute_error: 1.5152 - val_loss: 4.3764 - val_mean_absolute_error: 1.5274\n",
      "Epoch 48/100\n",
      "3383/3383 [==============================] - 1s 217us/step - loss: 4.5068 - mean_absolute_error: 1.5173 - val_loss: 4.3600 - val_mean_absolute_error: 1.5153\n"
     ]
    },
    {
     "name": "stdout",
     "output_type": "stream",
     "text": [
      "Epoch 49/100\n",
      "3383/3383 [==============================] - 1s 214us/step - loss: 4.5032 - mean_absolute_error: 1.5129 - val_loss: 4.3506 - val_mean_absolute_error: 1.5179\n",
      "Epoch 50/100\n",
      "3383/3383 [==============================] - 1s 209us/step - loss: 4.4897 - mean_absolute_error: 1.5139 - val_loss: 4.4111 - val_mean_absolute_error: 1.5257\n",
      "Epoch 51/100\n",
      "3383/3383 [==============================] - 1s 210us/step - loss: 4.4878 - mean_absolute_error: 1.5112 - val_loss: 4.3291 - val_mean_absolute_error: 1.5158\n",
      "Epoch 52/100\n",
      "3383/3383 [==============================] - 1s 208us/step - loss: 4.4927 - mean_absolute_error: 1.5109 - val_loss: 4.3204 - val_mean_absolute_error: 1.5194\n",
      "Epoch 53/100\n",
      "3383/3383 [==============================] - 1s 210us/step - loss: 4.4843 - mean_absolute_error: 1.5108 - val_loss: 4.3562 - val_mean_absolute_error: 1.5168\n",
      "Epoch 54/100\n",
      "3383/3383 [==============================] - 1s 209us/step - loss: 4.4735 - mean_absolute_error: 1.5105 - val_loss: 4.3183 - val_mean_absolute_error: 1.5126\n",
      "Epoch 55/100\n",
      "3383/3383 [==============================] - 1s 209us/step - loss: 4.4764 - mean_absolute_error: 1.5109 - val_loss: 4.3192 - val_mean_absolute_error: 1.5127\n",
      "Epoch 56/100\n",
      "3383/3383 [==============================] - 1s 208us/step - loss: 4.4627 - mean_absolute_error: 1.5044 - val_loss: 4.3072 - val_mean_absolute_error: 1.5146\n",
      "Epoch 57/100\n",
      "3383/3383 [==============================] - 1s 210us/step - loss: 4.4682 - mean_absolute_error: 1.5076 - val_loss: 4.3106 - val_mean_absolute_error: 1.5117\n",
      "Epoch 58/100\n",
      "3383/3383 [==============================] - 1s 207us/step - loss: 4.4570 - mean_absolute_error: 1.5044 - val_loss: 4.2926 - val_mean_absolute_error: 1.5135\n",
      "Epoch 59/100\n",
      "3383/3383 [==============================] - 1s 210us/step - loss: 4.4598 - mean_absolute_error: 1.5049 - val_loss: 4.3252 - val_mean_absolute_error: 1.5126\n",
      "Epoch 60/100\n",
      "3383/3383 [==============================] - 1s 209us/step - loss: 4.4618 - mean_absolute_error: 1.5060 - val_loss: 4.2962 - val_mean_absolute_error: 1.5141\n",
      "Epoch 61/100\n",
      "3383/3383 [==============================] - 1s 210us/step - loss: 4.4502 - mean_absolute_error: 1.5054 - val_loss: 4.2931 - val_mean_absolute_error: 1.5163\n",
      "Epoch 62/100\n",
      "3383/3383 [==============================] - 1s 209us/step - loss: 4.4481 - mean_absolute_error: 1.5058 - val_loss: 4.2965 - val_mean_absolute_error: 1.5149\n",
      "Epoch 63/100\n",
      "3383/3383 [==============================] - 1s 209us/step - loss: 4.4465 - mean_absolute_error: 1.5040 - val_loss: 4.3105 - val_mean_absolute_error: 1.5167\n",
      "Epoch 64/100\n",
      "3383/3383 [==============================] - 1s 210us/step - loss: 4.4384 - mean_absolute_error: 1.5029 - val_loss: 4.2960 - val_mean_absolute_error: 1.5157\n",
      "Epoch 65/100\n",
      "3383/3383 [==============================] - 1s 210us/step - loss: 4.4368 - mean_absolute_error: 1.5002 - val_loss: 4.2866 - val_mean_absolute_error: 1.5183\n",
      "Epoch 66/100\n",
      "3383/3383 [==============================] - 1s 210us/step - loss: 4.4304 - mean_absolute_error: 1.5019 - val_loss: 4.3570 - val_mean_absolute_error: 1.5222\n",
      "Epoch 67/100\n",
      "3383/3383 [==============================] - 1s 209us/step - loss: 4.4313 - mean_absolute_error: 1.5007 - val_loss: 4.2634 - val_mean_absolute_error: 1.5109\n",
      "Epoch 68/100\n",
      "3383/3383 [==============================] - 1s 210us/step - loss: 4.4215 - mean_absolute_error: 1.4999 - val_loss: 4.2726 - val_mean_absolute_error: 1.5122\n",
      "Epoch 69/100\n",
      "3383/3383 [==============================] - 1s 209us/step - loss: 4.4186 - mean_absolute_error: 1.4997 - val_loss: 4.2709 - val_mean_absolute_error: 1.5086\n",
      "Epoch 70/100\n",
      "3383/3383 [==============================] - 1s 209us/step - loss: 4.4246 - mean_absolute_error: 1.4976 - val_loss: 4.2572 - val_mean_absolute_error: 1.5192\n",
      "Epoch 71/100\n",
      "3383/3383 [==============================] - 1s 210us/step - loss: 4.4178 - mean_absolute_error: 1.4972 - val_loss: 4.2409 - val_mean_absolute_error: 1.5160\n",
      "Epoch 72/100\n",
      "3383/3383 [==============================] - 1s 215us/step - loss: 4.4118 - mean_absolute_error: 1.4973 - val_loss: 4.2543 - val_mean_absolute_error: 1.5170\n",
      "Epoch 73/100\n",
      "3383/3383 [==============================] - 1s 210us/step - loss: 4.4040 - mean_absolute_error: 1.4992 - val_loss: 4.2453 - val_mean_absolute_error: 1.5065\n",
      "Epoch 74/100\n",
      "3383/3383 [==============================] - 1s 208us/step - loss: 4.4085 - mean_absolute_error: 1.4953 - val_loss: 4.2543 - val_mean_absolute_error: 1.5057\n",
      "Epoch 75/100\n",
      "3383/3383 [==============================] - 1s 209us/step - loss: 4.4038 - mean_absolute_error: 1.4947 - val_loss: 4.2253 - val_mean_absolute_error: 1.5147\n",
      "Epoch 76/100\n",
      "3383/3383 [==============================] - 1s 208us/step - loss: 4.4050 - mean_absolute_error: 1.4946 - val_loss: 4.2546 - val_mean_absolute_error: 1.5074\n",
      "Epoch 77/100\n",
      "3383/3383 [==============================] - 1s 208us/step - loss: 4.3975 - mean_absolute_error: 1.4909 - val_loss: 4.2483 - val_mean_absolute_error: 1.5203\n",
      "Epoch 78/100\n",
      "3383/3383 [==============================] - 1s 210us/step - loss: 4.3982 - mean_absolute_error: 1.4971 - val_loss: 4.2320 - val_mean_absolute_error: 1.5025\n",
      "Epoch 79/100\n",
      "3383/3383 [==============================] - 1s 217us/step - loss: 4.3933 - mean_absolute_error: 1.4911 - val_loss: 4.2374 - val_mean_absolute_error: 1.5056\n",
      "Epoch 80/100\n",
      "3383/3383 [==============================] - 1s 214us/step - loss: 4.3884 - mean_absolute_error: 1.4952 - val_loss: 4.2484 - val_mean_absolute_error: 1.4985\n",
      "Epoch 81/100\n",
      "3383/3383 [==============================] - 1s 212us/step - loss: 4.3888 - mean_absolute_error: 1.4864 - val_loss: 4.2633 - val_mean_absolute_error: 1.5136\n",
      "Epoch 82/100\n",
      "3383/3383 [==============================] - 1s 216us/step - loss: 4.3749 - mean_absolute_error: 1.4902 - val_loss: 4.3005 - val_mean_absolute_error: 1.5221\n",
      "Epoch 83/100\n",
      "3383/3383 [==============================] - 1s 209us/step - loss: 4.3814 - mean_absolute_error: 1.4945 - val_loss: 4.2165 - val_mean_absolute_error: 1.5063\n",
      "Epoch 84/100\n",
      "3383/3383 [==============================] - 1s 210us/step - loss: 4.3775 - mean_absolute_error: 1.4870 - val_loss: 4.2905 - val_mean_absolute_error: 1.5213\n",
      "Epoch 85/100\n",
      "3383/3383 [==============================] - 1s 210us/step - loss: 4.3793 - mean_absolute_error: 1.4922 - val_loss: 4.2288 - val_mean_absolute_error: 1.5087\n",
      "Epoch 86/100\n",
      "3383/3383 [==============================] - 1s 209us/step - loss: 4.3716 - mean_absolute_error: 1.4884 - val_loss: 4.3150 - val_mean_absolute_error: 1.5190\n",
      "Epoch 87/100\n",
      "3383/3383 [==============================] - 1s 210us/step - loss: 4.3801 - mean_absolute_error: 1.4878 - val_loss: 4.2185 - val_mean_absolute_error: 1.5058\n",
      "Epoch 88/100\n",
      "3383/3383 [==============================] - 1s 210us/step - loss: 4.3689 - mean_absolute_error: 1.4887 - val_loss: 4.2239 - val_mean_absolute_error: 1.5023\n",
      "Epoch 89/100\n",
      "3383/3383 [==============================] - 1s 209us/step - loss: 4.3643 - mean_absolute_error: 1.4881 - val_loss: 4.2935 - val_mean_absolute_error: 1.5039\n",
      "Epoch 90/100\n",
      "3383/3383 [==============================] - 1s 209us/step - loss: 4.3722 - mean_absolute_error: 1.4847 - val_loss: 4.1964 - val_mean_absolute_error: 1.4988\n",
      "Epoch 91/100\n",
      "3383/3383 [==============================] - 1s 210us/step - loss: 4.3676 - mean_absolute_error: 1.4841 - val_loss: 4.2134 - val_mean_absolute_error: 1.5045\n",
      "Epoch 92/100\n",
      "3383/3383 [==============================] - 1s 209us/step - loss: 4.3567 - mean_absolute_error: 1.4833 - val_loss: 4.1996 - val_mean_absolute_error: 1.5049\n",
      "Epoch 93/100\n",
      "3383/3383 [==============================] - 1s 210us/step - loss: 4.3625 - mean_absolute_error: 1.4853 - val_loss: 4.2001 - val_mean_absolute_error: 1.5029\n",
      "Epoch 94/100\n",
      "3383/3383 [==============================] - 1s 210us/step - loss: 4.3566 - mean_absolute_error: 1.4816 - val_loss: 4.1816 - val_mean_absolute_error: 1.5113\n",
      "Epoch 95/100\n",
      "3383/3383 [==============================] - 1s 210us/step - loss: 4.3532 - mean_absolute_error: 1.4866 - val_loss: 4.1939 - val_mean_absolute_error: 1.5022\n",
      "Epoch 96/100\n",
      "3383/3383 [==============================] - 1s 210us/step - loss: 4.3443 - mean_absolute_error: 1.4833 - val_loss: 4.1777 - val_mean_absolute_error: 1.4986\n",
      "Epoch 97/100\n",
      "3383/3383 [==============================] - 1s 209us/step - loss: 4.3524 - mean_absolute_error: 1.4792 - val_loss: 4.1741 - val_mean_absolute_error: 1.5004\n",
      "Epoch 98/100\n",
      "3383/3383 [==============================] - 1s 214us/step - loss: 4.3507 - mean_absolute_error: 1.4826 - val_loss: 4.1884 - val_mean_absolute_error: 1.5019\n",
      "Epoch 99/100\n",
      "3383/3383 [==============================] - 1s 209us/step - loss: 4.3396 - mean_absolute_error: 1.4793 - val_loss: 4.2051 - val_mean_absolute_error: 1.5011\n",
      "Epoch 100/100\n",
      "3383/3383 [==============================] - 1s 209us/step - loss: 4.3439 - mean_absolute_error: 1.4796 - val_loss: 4.2039 - val_mean_absolute_error: 1.5052\n"
     ]
    }
   ],
   "source": [
    "history1 = model1.fit(X_train, y_train, epochs=100, validation_data=[X_val, y_val])"
   ]
  },
  {
   "cell_type": "code",
   "execution_count": 301,
   "metadata": {},
   "outputs": [
    {
     "data": {
      "image/png": "[encoded data removed]",
      "text/plain": [
       "<Figure size 432x288 with 1 Axes>"
      ]
     },
     "metadata": {
      "needs_background": "light"
     },
     "output_type": "display_data"
    }
   ],
   "source": [
    "plot_history(history1)"
   ]
  },
  {
   "cell_type": "code",
   "execution_count": 302,
   "metadata": {},
   "outputs": [
    {
     "data": {
      "text/plain": [
       "[<matplotlib.lines.Line2D at 0x1a39f3a4e0>]"
      ]
     },
     "execution_count": 302,
     "metadata": {},
     "output_type": "execute_result"
    },
    {
     "data": {
      "image/png": "[encoded data removed]",
      "text/plain": [
       "<Figure size 504x504 with 1 Axes>"
      ]
     },
     "metadata": {
      "needs_background": "light"
     },
     "output_type": "display_data"
    }
   ],
   "source": [
    "pred = model1.predict(X_test)\n",
    "fig = plt.figure(figsize=(7, 7))\n",
    "ax = plt.subplot(111)\n",
    "ax.scatter(pred, y_test, alpha=0.2)\n",
    "ax.set_xlabel('predicted')\n",
    "ax.set_ylabel('true')\n",
    "ax.plot(np.arange(0, 30, 0.1), np.arange(0, 30, 0.1))"
   ]
  },
  {
   "cell_type": "code",
   "execution_count": 303,
   "metadata": {
    "scrolled": true
   },
   "outputs": [
    {
     "name": "stdout",
     "output_type": "stream",
     "text": [
      "Train on 3383 samples, validate on 376 samples\n",
      "Epoch 1/100\n",
      "3383/3383 [==============================] - 16s 5ms/step - loss: 32.3234 - mean_absolute_error: 4.3465 - val_loss: 8.4894 - val_mean_absolute_error: 2.0564\n",
      "Epoch 2/100\n",
      "3383/3383 [==============================] - 14s 4ms/step - loss: 6.8271 - mean_absolute_error: 1.7915 - val_loss: 5.4689 - val_mean_absolute_error: 1.6950\n",
      "Epoch 3/100\n",
      "3383/3383 [==============================] - 15s 4ms/step - loss: 5.5292 - mean_absolute_error: 1.6563 - val_loss: 5.0605 - val_mean_absolute_error: 1.5950\n",
      "Epoch 4/100\n",
      "3383/3383 [==============================] - 15s 4ms/step - loss: 5.2415 - mean_absolute_error: 1.6156 - val_loss: 4.8926 - val_mean_absolute_error: 1.6198\n",
      "Epoch 5/100\n",
      "3383/3383 [==============================] - 15s 4ms/step - loss: 5.0623 - mean_absolute_error: 1.5967 - val_loss: 4.8846 - val_mean_absolute_error: 1.6001\n",
      "Epoch 6/100\n",
      "3383/3383 [==============================] - 14s 4ms/step - loss: 4.9149 - mean_absolute_error: 1.5795 - val_loss: 4.7062 - val_mean_absolute_error: 1.5521\n",
      "Epoch 7/100\n",
      "3383/3383 [==============================] - 14s 4ms/step - loss: 4.8225 - mean_absolute_error: 1.5644 - val_loss: 4.7910 - val_mean_absolute_error: 1.5916\n",
      "Epoch 8/100\n",
      "3383/3383 [==============================] - 14s 4ms/step - loss: 4.7773 - mean_absolute_error: 1.5551 - val_loss: 4.6334 - val_mean_absolute_error: 1.5683\n",
      "Epoch 9/100\n",
      "3383/3383 [==============================] - 14s 4ms/step - loss: 4.7234 - mean_absolute_error: 1.5535 - val_loss: 4.5933 - val_mean_absolute_error: 1.5299\n",
      "Epoch 10/100\n",
      "3383/3383 [==============================] - 14s 4ms/step - loss: 4.6937 - mean_absolute_error: 1.5424 - val_loss: 4.5197 - val_mean_absolute_error: 1.5262\n",
      "Epoch 11/100\n",
      "3383/3383 [==============================] - 14s 4ms/step - loss: 4.6495 - mean_absolute_error: 1.5358 - val_loss: 4.4662 - val_mean_absolute_error: 1.5375\n",
      "Epoch 12/100\n",
      "3383/3383 [==============================] - 14s 4ms/step - loss: 4.6285 - mean_absolute_error: 1.5330 - val_loss: 4.4669 - val_mean_absolute_error: 1.5345\n",
      "Epoch 13/100\n",
      "3383/3383 [==============================] - 14s 4ms/step - loss: 4.5898 - mean_absolute_error: 1.5300 - val_loss: 4.4417 - val_mean_absolute_error: 1.5265\n",
      "Epoch 14/100\n",
      "3383/3383 [==============================] - 14s 4ms/step - loss: 4.5697 - mean_absolute_error: 1.5257 - val_loss: 4.5191 - val_mean_absolute_error: 1.5593\n",
      "Epoch 15/100\n",
      "3383/3383 [==============================] - 15s 4ms/step - loss: 4.5536 - mean_absolute_error: 1.5243 - val_loss: 4.4369 - val_mean_absolute_error: 1.5139\n",
      "Epoch 16/100\n",
      "3383/3383 [==============================] - 14s 4ms/step - loss: 4.5391 - mean_absolute_error: 1.5201 - val_loss: 4.4364 - val_mean_absolute_error: 1.5162\n",
      "Epoch 17/100\n",
      "3383/3383 [==============================] - 13s 4ms/step - loss: 4.5182 - mean_absolute_error: 1.5137 - val_loss: 4.3965 - val_mean_absolute_error: 1.5126\n",
      "Epoch 18/100\n",
      "3383/3383 [==============================] - 13s 4ms/step - loss: 4.4907 - mean_absolute_error: 1.5095 - val_loss: 4.3706 - val_mean_absolute_error: 1.5112\n",
      "Epoch 19/100\n",
      "3383/3383 [==============================] - 13s 4ms/step - loss: 4.4942 - mean_absolute_error: 1.5083 - val_loss: 4.4862 - val_mean_absolute_error: 1.5243\n",
      "Epoch 20/100\n",
      "3383/3383 [==============================] - 13s 4ms/step - loss: 4.4795 - mean_absolute_error: 1.5081 - val_loss: 4.3615 - val_mean_absolute_error: 1.5360\n",
      "Epoch 21/100\n",
      "3383/3383 [==============================] - 13s 4ms/step - loss: 4.4643 - mean_absolute_error: 1.5003 - val_loss: 4.5159 - val_mean_absolute_error: 1.5810\n",
      "Epoch 22/100\n",
      "3383/3383 [==============================] - 13s 4ms/step - loss: 4.4705 - mean_absolute_error: 1.5085 - val_loss: 4.3742 - val_mean_absolute_error: 1.5318\n",
      "Epoch 23/100\n",
      "3383/3383 [==============================] - 14s 4ms/step - loss: 4.4255 - mean_absolute_error: 1.4966 - val_loss: 4.4876 - val_mean_absolute_error: 1.5716\n",
      "Epoch 24/100\n",
      "3383/3383 [==============================] - 13s 4ms/step - loss: 4.4498 - mean_absolute_error: 1.5032 - val_loss: 4.2773 - val_mean_absolute_error: 1.5409\n",
      "Epoch 25/100\n",
      "3383/3383 [==============================] - 14s 4ms/step - loss: 4.4313 - mean_absolute_error: 1.4974 - val_loss: 4.3863 - val_mean_absolute_error: 1.5461\n",
      "Epoch 26/100\n",
      "3383/3383 [==============================] - 13s 4ms/step - loss: 4.4113 - mean_absolute_error: 1.4941 - val_loss: 4.3769 - val_mean_absolute_error: 1.5362\n",
      "Epoch 27/100\n",
      "3383/3383 [==============================] - 13s 4ms/step - loss: 4.4017 - mean_absolute_error: 1.4948 - val_loss: 4.2661 - val_mean_absolute_error: 1.5053\n",
      "Epoch 28/100\n",
      "3383/3383 [==============================] - 13s 4ms/step - loss: 4.3925 - mean_absolute_error: 1.4869 - val_loss: 4.3456 - val_mean_absolute_error: 1.5563\n",
      "Epoch 29/100\n",
      "3383/3383 [==============================] - 13s 4ms/step - loss: 4.3819 - mean_absolute_error: 1.4943 - val_loss: 4.3886 - val_mean_absolute_error: 1.5181\n",
      "Epoch 30/100\n",
      "3383/3383 [==============================] - 13s 4ms/step - loss: 4.3641 - mean_absolute_error: 1.4860 - val_loss: 4.2206 - val_mean_absolute_error: 1.5038\n",
      "Epoch 31/100\n",
      "3383/3383 [==============================] - 13s 4ms/step - loss: 4.3742 - mean_absolute_error: 1.4896 - val_loss: 4.2516 - val_mean_absolute_error: 1.5086\n",
      "Epoch 32/100\n",
      "3383/3383 [==============================] - 13s 4ms/step - loss: 4.3800 - mean_absolute_error: 1.4874 - val_loss: 4.2645 - val_mean_absolute_error: 1.5206\n",
      "Epoch 33/100\n",
      "3383/3383 [==============================] - 13s 4ms/step - loss: 4.3566 - mean_absolute_error: 1.4811 - val_loss: 4.2122 - val_mean_absolute_error: 1.5312\n",
      "Epoch 34/100\n",
      "3383/3383 [==============================] - 13s 4ms/step - loss: 4.3562 - mean_absolute_error: 1.4856 - val_loss: 4.2957 - val_mean_absolute_error: 1.5122\n",
      "Epoch 35/100\n",
      "3383/3383 [==============================] - 13s 4ms/step - loss: 4.3495 - mean_absolute_error: 1.4806 - val_loss: 4.2238 - val_mean_absolute_error: 1.4941\n",
      "Epoch 36/100\n",
      "3383/3383 [==============================] - 13s 4ms/step - loss: 4.3421 - mean_absolute_error: 1.4765 - val_loss: 4.2123 - val_mean_absolute_error: 1.5129\n",
      "Epoch 37/100\n",
      "3383/3383 [==============================] - 13s 4ms/step - loss: 4.3187 - mean_absolute_error: 1.4761 - val_loss: 4.2604 - val_mean_absolute_error: 1.5230\n",
      "Epoch 38/100\n",
      "3383/3383 [==============================] - 13s 4ms/step - loss: 4.3346 - mean_absolute_error: 1.4801 - val_loss: 4.2794 - val_mean_absolute_error: 1.5102\n",
      "Epoch 39/100\n",
      "3383/3383 [==============================] - 13s 4ms/step - loss: 4.3317 - mean_absolute_error: 1.4789 - val_loss: 4.1554 - val_mean_absolute_error: 1.5052\n",
      "Epoch 40/100\n",
      "3383/3383 [==============================] - 13s 4ms/step - loss: 4.3165 - mean_absolute_error: 1.4757 - val_loss: 4.1808 - val_mean_absolute_error: 1.4851\n",
      "Epoch 41/100\n",
      "3383/3383 [==============================] - 13s 4ms/step - loss: 4.3177 - mean_absolute_error: 1.4711 - val_loss: 4.3120 - val_mean_absolute_error: 1.5251\n",
      "Epoch 42/100\n",
      "3383/3383 [==============================] - 13s 4ms/step - loss: 4.3013 - mean_absolute_error: 1.4706 - val_loss: 4.2075 - val_mean_absolute_error: 1.5087\n",
      "Epoch 43/100\n",
      "3383/3383 [==============================] - 14s 4ms/step - loss: 4.2943 - mean_absolute_error: 1.4724 - val_loss: 4.1361 - val_mean_absolute_error: 1.5297\n",
      "Epoch 44/100\n",
      "3383/3383 [==============================] - 16s 5ms/step - loss: 4.3073 - mean_absolute_error: 1.4740 - val_loss: 4.1320 - val_mean_absolute_error: 1.4994\n",
      "Epoch 45/100\n",
      "3383/3383 [==============================] - 14s 4ms/step - loss: 4.2960 - mean_absolute_error: 1.4679 - val_loss: 4.2857 - val_mean_absolute_error: 1.5399\n",
      "Epoch 46/100\n",
      "3383/3383 [==============================] - 16s 5ms/step - loss: 4.2990 - mean_absolute_error: 1.4719 - val_loss: 4.2031 - val_mean_absolute_error: 1.5058\n",
      "Epoch 47/100\n",
      "3383/3383 [==============================] - 14s 4ms/step - loss: 4.3017 - mean_absolute_error: 1.4690 - val_loss: 4.1459 - val_mean_absolute_error: 1.5137\n",
      "Epoch 48/100\n",
      "3383/3383 [==============================] - 15s 4ms/step - loss: 4.2881 - mean_absolute_error: 1.4668 - val_loss: 4.1095 - val_mean_absolute_error: 1.4906\n",
      "Epoch 49/100\n",
      "3383/3383 [==============================] - 15s 4ms/step - loss: 4.2845 - mean_absolute_error: 1.4659 - val_loss: 4.1041 - val_mean_absolute_error: 1.4854\n",
      "Epoch 50/100\n",
      "3383/3383 [==============================] - 14s 4ms/step - loss: 4.2856 - mean_absolute_error: 1.4638 - val_loss: 4.1667 - val_mean_absolute_error: 1.4916\n",
      "Epoch 51/100\n",
      "3383/3383 [==============================] - 17s 5ms/step - loss: 4.2679 - mean_absolute_error: 1.4609 - val_loss: 4.1596 - val_mean_absolute_error: 1.5045\n",
      "Epoch 52/100\n",
      "3383/3383 [==============================] - 14s 4ms/step - loss: 4.2661 - mean_absolute_error: 1.4618 - val_loss: 4.1675 - val_mean_absolute_error: 1.4893\n",
      "Epoch 53/100\n",
      "3383/3383 [==============================] - 15s 4ms/step - loss: 4.2526 - mean_absolute_error: 1.4558 - val_loss: 4.1639 - val_mean_absolute_error: 1.5167\n",
      "Epoch 54/100\n",
      "3383/3383 [==============================] - 16s 5ms/step - loss: 4.2602 - mean_absolute_error: 1.4580 - val_loss: 4.1047 - val_mean_absolute_error: 1.5174\n",
      "Epoch 55/100\n",
      "3383/3383 [==============================] - 14s 4ms/step - loss: 4.2577 - mean_absolute_error: 1.4599 - val_loss: 4.1554 - val_mean_absolute_error: 1.5020\n",
      "Epoch 56/100\n",
      "3383/3383 [==============================] - 16s 5ms/step - loss: 4.2556 - mean_absolute_error: 1.4589 - val_loss: 4.1709 - val_mean_absolute_error: 1.5027\n",
      "Epoch 57/100\n",
      "3383/3383 [==============================] - 14s 4ms/step - loss: 4.2492 - mean_absolute_error: 1.4608 - val_loss: 4.1132 - val_mean_absolute_error: 1.4831\n",
      "Epoch 58/100\n",
      "3383/3383 [==============================] - 14s 4ms/step - loss: 4.2482 - mean_absolute_error: 1.4565 - val_loss: 4.1040 - val_mean_absolute_error: 1.5117\n",
      "Epoch 59/100\n",
      "3383/3383 [==============================] - 14s 4ms/step - loss: 4.2475 - mean_absolute_error: 1.4564 - val_loss: 4.2267 - val_mean_absolute_error: 1.5304\n",
      "Epoch 60/100\n",
      "3383/3383 [==============================] - 14s 4ms/step - loss: 4.2463 - mean_absolute_error: 1.4580 - val_loss: 4.1231 - val_mean_absolute_error: 1.4809\n",
      "Epoch 61/100\n",
      "3383/3383 [==============================] - 13s 4ms/step - loss: 4.2447 - mean_absolute_error: 1.4573 - val_loss: 4.1306 - val_mean_absolute_error: 1.4835\n",
      "Epoch 62/100\n",
      "3383/3383 [==============================] - 14s 4ms/step - loss: 4.2198 - mean_absolute_error: 1.4496 - val_loss: 4.0930 - val_mean_absolute_error: 1.4727\n",
      "Epoch 63/100\n",
      "3383/3383 [==============================] - 15s 4ms/step - loss: 4.2264 - mean_absolute_error: 1.4544 - val_loss: 4.1268 - val_mean_absolute_error: 1.4938\n",
      "Epoch 64/100\n",
      "3383/3383 [==============================] - 14s 4ms/step - loss: 4.2407 - mean_absolute_error: 1.4521 - val_loss: 4.1821 - val_mean_absolute_error: 1.5089\n",
      "Epoch 65/100\n",
      "3383/3383 [==============================] - 15s 4ms/step - loss: 4.2413 - mean_absolute_error: 1.4554 - val_loss: 4.0805 - val_mean_absolute_error: 1.5195\n",
      "Epoch 66/100\n",
      "3383/3383 [==============================] - 15s 4ms/step - loss: 4.2199 - mean_absolute_error: 1.4533 - val_loss: 4.2039 - val_mean_absolute_error: 1.5210\n",
      "Epoch 67/100\n",
      "3383/3383 [==============================] - 13s 4ms/step - loss: 4.2137 - mean_absolute_error: 1.4490 - val_loss: 4.1541 - val_mean_absolute_error: 1.5000\n",
      "Epoch 68/100\n",
      "3383/3383 [==============================] - 13s 4ms/step - loss: 4.2395 - mean_absolute_error: 1.4548 - val_loss: 4.1514 - val_mean_absolute_error: 1.5020\n",
      "Epoch 69/100\n",
      "3383/3383 [==============================] - 13s 4ms/step - loss: 4.2318 - mean_absolute_error: 1.4518 - val_loss: 4.1590 - val_mean_absolute_error: 1.5085\n",
      "Epoch 70/100\n",
      "3383/3383 [==============================] - 13s 4ms/step - loss: 4.2374 - mean_absolute_error: 1.4533 - val_loss: 4.0488 - val_mean_absolute_error: 1.4957\n",
      "Epoch 71/100\n",
      "3383/3383 [==============================] - 14s 4ms/step - loss: 4.2115 - mean_absolute_error: 1.4471 - val_loss: 4.0658 - val_mean_absolute_error: 1.5048\n",
      "Epoch 72/100\n",
      "3383/3383 [==============================] - 15s 4ms/step - loss: 4.2306 - mean_absolute_error: 1.4493 - val_loss: 4.0744 - val_mean_absolute_error: 1.5054\n",
      "Epoch 73/100\n",
      "3383/3383 [==============================] - 14s 4ms/step - loss: 4.2155 - mean_absolute_error: 1.4460 - val_loss: 4.1150 - val_mean_absolute_error: 1.4993\n",
      "Epoch 74/100\n",
      "3383/3383 [==============================] - 14s 4ms/step - loss: 4.2132 - mean_absolute_error: 1.4482 - val_loss: 4.0569 - val_mean_absolute_error: 1.4669\n",
      "Epoch 75/100\n",
      "3383/3383 [==============================] - 14s 4ms/step - loss: 4.1956 - mean_absolute_error: 1.4427 - val_loss: 4.0329 - val_mean_absolute_error: 1.4886\n",
      "Epoch 76/100\n",
      "3383/3383 [==============================] - 15s 4ms/step - loss: 4.2132 - mean_absolute_error: 1.4521 - val_loss: 4.0743 - val_mean_absolute_error: 1.4722\n",
      "Epoch 77/100\n",
      "3383/3383 [==============================] - 13s 4ms/step - loss: 4.2023 - mean_absolute_error: 1.4466 - val_loss: 4.0698 - val_mean_absolute_error: 1.4836\n",
      "Epoch 78/100\n",
      "3383/3383 [==============================] - 14s 4ms/step - loss: 4.1935 - mean_absolute_error: 1.4445 - val_loss: 4.0498 - val_mean_absolute_error: 1.4768\n",
      "Epoch 79/100\n",
      "3383/3383 [==============================] - 14s 4ms/step - loss: 4.1810 - mean_absolute_error: 1.4404 - val_loss: 4.0358 - val_mean_absolute_error: 1.4790\n",
      "Epoch 80/100\n",
      "3383/3383 [==============================] - 13s 4ms/step - loss: 4.1972 - mean_absolute_error: 1.4456 - val_loss: 4.1798 - val_mean_absolute_error: 1.5152\n",
      "Epoch 81/100\n",
      "3383/3383 [==============================] - 13s 4ms/step - loss: 4.2093 - mean_absolute_error: 1.4491 - val_loss: 4.0177 - val_mean_absolute_error: 1.4917\n",
      "Epoch 82/100\n",
      "3383/3383 [==============================] - 13s 4ms/step - loss: 4.1821 - mean_absolute_error: 1.4437 - val_loss: 4.0463 - val_mean_absolute_error: 1.5041\n",
      "Epoch 83/100\n",
      "3383/3383 [==============================] - 14s 4ms/step - loss: 4.1784 - mean_absolute_error: 1.4451 - val_loss: 4.0323 - val_mean_absolute_error: 1.4865\n",
      "Epoch 84/100\n",
      "3383/3383 [==============================] - 13s 4ms/step - loss: 4.1831 - mean_absolute_error: 1.4419 - val_loss: 4.0401 - val_mean_absolute_error: 1.4823\n",
      "Epoch 85/100\n",
      "3383/3383 [==============================] - 13s 4ms/step - loss: 4.2052 - mean_absolute_error: 1.4448 - val_loss: 4.1285 - val_mean_absolute_error: 1.5376\n",
      "Epoch 86/100\n",
      "3383/3383 [==============================] - 13s 4ms/step - loss: 4.1865 - mean_absolute_error: 1.4461 - val_loss: 4.1322 - val_mean_absolute_error: 1.5000\n",
      "Epoch 87/100\n",
      "3383/3383 [==============================] - 13s 4ms/step - loss: 4.1893 - mean_absolute_error: 1.4440 - val_loss: 4.0140 - val_mean_absolute_error: 1.4793\n",
      "Epoch 88/100\n",
      "3383/3383 [==============================] - 13s 4ms/step - loss: 4.1692 - mean_absolute_error: 1.4396 - val_loss: 4.0459 - val_mean_absolute_error: 1.4700\n",
      "Epoch 89/100\n",
      "3383/3383 [==============================] - 13s 4ms/step - loss: 4.1718 - mean_absolute_error: 1.4398 - val_loss: 4.2860 - val_mean_absolute_error: 1.5431\n",
      "Epoch 90/100\n",
      "3383/3383 [==============================] - 14s 4ms/step - loss: 4.1659 - mean_absolute_error: 1.4380 - val_loss: 4.0773 - val_mean_absolute_error: 1.4921\n",
      "Epoch 91/100\n",
      "3383/3383 [==============================] - 14s 4ms/step - loss: 4.1844 - mean_absolute_error: 1.4435 - val_loss: 4.0538 - val_mean_absolute_error: 1.4806\n",
      "Epoch 92/100\n",
      "3383/3383 [==============================] - 15s 4ms/step - loss: 4.1715 - mean_absolute_error: 1.4384 - val_loss: 4.0725 - val_mean_absolute_error: 1.4687\n",
      "Epoch 93/100\n",
      "3383/3383 [==============================] - 14s 4ms/step - loss: 4.1712 - mean_absolute_error: 1.4374 - val_loss: 4.0595 - val_mean_absolute_error: 1.4691\n",
      "Epoch 94/100\n",
      "3383/3383 [==============================] - 13s 4ms/step - loss: 4.1638 - mean_absolute_error: 1.4380 - val_loss: 4.0536 - val_mean_absolute_error: 1.4643\n",
      "Epoch 95/100\n",
      "3383/3383 [==============================] - 13s 4ms/step - loss: 4.1656 - mean_absolute_error: 1.4356 - val_loss: 4.2477 - val_mean_absolute_error: 1.5196\n",
      "Epoch 96/100\n",
      "3383/3383 [==============================] - 14s 4ms/step - loss: 4.1519 - mean_absolute_error: 1.4397 - val_loss: 4.0670 - val_mean_absolute_error: 1.4776\n",
      "Epoch 97/100\n"
     ]
    },
    {
     "name": "stdout",
     "output_type": "stream",
     "text": [
      "3383/3383 [==============================] - 14s 4ms/step - loss: 4.1739 - mean_absolute_error: 1.4399 - val_loss: 4.1120 - val_mean_absolute_error: 1.4885\n",
      "Epoch 98/100\n",
      "3383/3383 [==============================] - 13s 4ms/step - loss: 4.1679 - mean_absolute_error: 1.4408 - val_loss: 4.0170 - val_mean_absolute_error: 1.4722\n",
      "Epoch 99/100\n",
      "3383/3383 [==============================] - 13s 4ms/step - loss: 4.1512 - mean_absolute_error: 1.4383 - val_loss: 4.0999 - val_mean_absolute_error: 1.5041\n",
      "Epoch 100/100\n",
      "3383/3383 [==============================] - 14s 4ms/step - loss: 4.1526 - mean_absolute_error: 1.4404 - val_loss: 4.0566 - val_mean_absolute_error: 1.4815\n"
     ]
    }
   ],
   "source": [
    "history2 = model2.fit(X_train, y_train, epochs=100, validation_data=[X_val, y_val])"
   ]
  },
  {
   "cell_type": "code",
   "execution_count": 304,
   "metadata": {},
   "outputs": [
    {
     "data": {
      "image/png": "[encoded data removed]",
      "text/plain": [
       "<Figure size 432x288 with 1 Axes>"
      ]
     },
     "metadata": {
      "needs_background": "light"
     },
     "output_type": "display_data"
    }
   ],
   "source": [
    "plot_history(history2)"
   ]
  },
  {
   "cell_type": "code",
   "execution_count": 305,
   "metadata": {},
   "outputs": [
    {
     "data": {
      "text/plain": [
       "[<matplotlib.lines.Line2D at 0x1a3a796c18>]"
      ]
     },
     "execution_count": 305,
     "metadata": {},
     "output_type": "execute_result"
    },
    {
     "data": {
      "image/png": "[encoded data removed]",
      "text/plain": [
       "<Figure size 504x504 with 1 Axes>"
      ]
     },
     "metadata": {
      "needs_background": "light"
     },
     "output_type": "display_data"
    }
   ],
   "source": [
    "pred = model2.predict(X_test)\n",
    "fig = plt.figure(figsize=(7, 7))\n",
    "ax = plt.subplot(111)\n",
    "ax.scatter(pred, y_test, alpha=0.2)\n",
    "ax.set_xlabel('predicted')\n",
    "ax.set_ylabel('true')\n",
    "ax.plot(np.arange(0, 30, 0.1), np.arange(0, 30, 0.1))"
   ]
  },
  {
   "cell_type": "code",
   "execution_count": 316,
   "metadata": {},
   "outputs": [],
   "source": [
    "with open('model1.json', 'w') as outfile:\n",
    "    json.dump(model1.to_json(), outfile)"
   ]
  },
  {
   "cell_type": "code",
   "execution_count": 317,
   "metadata": {},
   "outputs": [],
   "source": [
    "with open('model2.json', 'w') as outfile:\n",
    "    json.dump(model2.to_json(), outfile)"
   ]
  },
  {
   "cell_type": "code",
   "execution_count": 322,
   "metadata": {},
   "outputs": [
    {
     "name": "stdout",
     "output_type": "stream",
     "text": [
      "_________________________________________________________________\n",
      "Layer (type)                 Output Shape              Param #   \n",
      "=================================================================\n",
      "dense_67 (Dense)             (None, 1500)              16500     \n",
      "_________________________________________________________________\n",
      "dense_68 (Dense)             (None, 1)                 1501      \n",
      "=================================================================\n",
      "Total params: 18,001\n",
      "Trainable params: 18,001\n",
      "Non-trainable params: 0\n",
      "_________________________________________________________________\n"
     ]
    }
   ],
   "source": [
    "json_string = json.load(open('model1.json'))\n",
    "model3 = keras.models.model_from_json(json_string)\n",
    "model3.summary()"
   ]
  },
  {
   "cell_type": "markdown",
   "metadata": {},
   "source": [
    "Save the weights of the trained models"
   ]
  },
  {
   "cell_type": "code",
   "execution_count": 326,
   "metadata": {},
   "outputs": [],
   "source": [
    "weights1 = model1.get_weights()\n",
    "weights2 = model2.get_weights()"
   ]
  },
  {
   "cell_type": "code",
   "execution_count": 328,
   "metadata": {},
   "outputs": [],
   "source": [
    "np.save('model1_weights', weights1, allow_pickle=True)\n",
    "np.save('model2_weights', weights2, allow_pickle=True)"
   ]
  },
  {
   "cell_type": "markdown",
   "metadata": {},
   "source": [
    "This is how you would load the weights back up into a file"
   ]
  },
  {
   "cell_type": "code",
   "execution_count": 331,
   "metadata": {},
   "outputs": [],
   "source": [
    "weights3 = np.load('model1_weights.npy')\n",
    "weights4 = np.load('model2_weights.npy')"
   ]
  },
  {
   "cell_type": "code",
   "execution_count": 332,
   "metadata": {},
   "outputs": [],
   "source": [
    "model3 = keras.Sequential([\n",
    "    keras.layers.Dense(1500, activation=tf.nn.relu, input_shape=(10,)),\n",
    "    keras.layers.Dense(1, activation=tf.nn.relu)\n",
    "])"
   ]
  },
  {
   "cell_type": "code",
   "execution_count": 334,
   "metadata": {},
   "outputs": [],
   "source": [
    "model3.set_weights(weights3)"
   ]
  },
  {
   "cell_type": "code",
   "execution_count": 336,
   "metadata": {},
   "outputs": [
    {
     "data": {
      "text/plain": [
       "[<matplotlib.lines.Line2D at 0x1a39de1668>]"
      ]
     },
     "execution_count": 336,
     "metadata": {},
     "output_type": "execute_result"
    },
    {
     "data": {
      "image/png": "[encoded data removed]",
      "text/plain": [
       "<Figure size 504x504 with 1 Axes>"
      ]
     },
     "metadata": {
      "needs_background": "light"
     },
     "output_type": "display_data"
    }
   ],
   "source": [
    "pred = model3.predict(X_test)\n",
    "fig = plt.figure(figsize=(7, 7))\n",
    "ax = plt.subplot(111)\n",
    "ax.scatter(pred, y_test, alpha=0.2)\n",
    "ax.set_xlabel('predicted')\n",
    "ax.set_ylabel('true')\n",
    "ax.plot(np.arange(0, 30, 0.1), np.arange(0, 30, 0.1))"
   ]
  },
  {
   "cell_type": "code",
   "execution_count": 352,
   "metadata": {},
   "outputs": [
    {
     "name": "stdout",
     "output_type": "stream",
     "text": [
      "Weights[0] = first layer weights(10, 1500)\n",
      "Weights[1] = first layer bias (1500,)\n",
      "Weights[2] = second layer weights (1500, 1)\n",
      "Weights[3] = second layer bias (1,)\n"
     ]
    }
   ],
   "source": [
    "print('Weights[0] = first layer weights{}'.format(weights3[0].shape))\n",
    "print('Weights[1] = first layer bias {}'.format(weights3[1].shape))\n",
    "print('Weights[2] = second layer weights {}'.format(weights3[2].shape))\n",
    "print('Weights[3] = second layer bias {}'.format(weights3[3].shape))"
   ]
  },
  {
   "cell_type": "code",
   "execution_count": null,
   "metadata": {},
   "outputs": [],
   "source": []
  }
 ],
 "metadata": {
  "kernelspec": {
   "display_name": "Python 3",
   "language": "python",
   "name": "python3"
  },
  "language_info": {
   "codemirror_mode": {
    "name": "ipython",
    "version": 3
   },
   "file_extension": ".py",
   "mimetype": "text/x-python",
   "name": "python",
   "nbconvert_exporter": "python",
   "pygments_lexer": "ipython3",
   "version": "3.6.6"
  }
 },
 "nbformat": 4,
 "nbformat_minor": 2
}
