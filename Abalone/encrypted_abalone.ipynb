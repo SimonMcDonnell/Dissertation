{
 "cells": [
  {
   "cell_type": "code",
   "execution_count": 1,
   "metadata": {},
   "outputs": [],
   "source": [
    "%load_ext autoreload\n",
    "%autoreload 2\n",
    "import numpy as np\n",
    "import tensorflow as tf\n",
    "from tensorflow import keras\n",
    "from PrepareData import prepare_dataset\n",
    "import matplotlib.pyplot as plt\n",
    "import sys\n",
    "sys.path.insert(0, '../seal_wrapper/')\n",
    "from seal_wrapper import EA"
   ]
  },
  {
   "cell_type": "markdown",
   "metadata": {},
   "source": [
    "## Prepare dataset"
   ]
  },
  {
   "cell_type": "code",
   "execution_count": 2,
   "metadata": {
    "scrolled": false
   },
   "outputs": [
    {
     "name": "stderr",
     "output_type": "stream",
     "text": [
      "/home/simon/Dissertation/Abalone/PrepareData.py:31: SettingWithCopyWarning: \n",
      "A value is trying to be set on a copy of a slice from a DataFrame.\n",
      "Try using .loc[row_indexer,col_indexer] = value instead\n",
      "\n",
      "See the caveats in the documentation: http://pandas.pydata.org/pandas-docs/stable/indexing.html#indexing-view-versus-copy\n",
      "  X_test[['length', 'diameter', 'height', 'whole_weight', 'shucked_weight', 'viscera_weight', 'shell_weight']])\n",
      "/home/simon/miniconda3/envs/diss/lib/python3.6/site-packages/pandas/core/indexing.py:543: SettingWithCopyWarning: \n",
      "A value is trying to be set on a copy of a slice from a DataFrame.\n",
      "Try using .loc[row_indexer,col_indexer] = value instead\n",
      "\n",
      "See the caveats in the documentation: http://pandas.pydata.org/pandas-docs/stable/indexing.html#indexing-view-versus-copy\n",
      "  self.obj[item] = s\n"
     ]
    }
   ],
   "source": [
    "X_train, X_val, X_test, y_train, y_val, y_test = prepare_dataset()"
   ]
  },
  {
   "cell_type": "code",
   "execution_count": 3,
   "metadata": {},
   "outputs": [
    {
     "name": "stdout",
     "output_type": "stream",
     "text": [
      "(3383, 10) (3383,)\n",
      "(376, 10) (376,)\n",
      "(418, 10) (418,)\n"
     ]
    }
   ],
   "source": [
    "print(X_train.shape, y_train.shape)\n",
    "print(X_val.shape, y_val.shape)\n",
    "print(X_test.shape, y_test.shape)"
   ]
  },
  {
   "cell_type": "code",
   "execution_count": 4,
   "metadata": {},
   "outputs": [],
   "source": [
    "def plot_predictions(pred, y):\n",
    "    fig = plt.figure(figsize=(6, 6))\n",
    "    ax = plt.subplot(111)\n",
    "    ax.scatter(pred, y, alpha=0.2)\n",
    "    ax.set_xlabel('predicted')\n",
    "    ax.set_ylabel('true')\n",
    "    ax.plot(np.arange(0, 30, 0.1), np.arange(0, 30, 0.1))"
   ]
  },
  {
   "cell_type": "code",
   "execution_count": 5,
   "metadata": {},
   "outputs": [],
   "source": [
    "def sum_squared_error(pred, y):\n",
    "    return np.sum((y - pred)**2)"
   ]
  },
  {
   "cell_type": "markdown",
   "metadata": {},
   "source": [
    "## Encrypted Linear model"
   ]
  },
  {
   "cell_type": "code",
   "execution_count": 106,
   "metadata": {},
   "outputs": [],
   "source": [
    "model_lin_weights = np.load('model_lin_weights.npy')"
   ]
  },
  {
   "cell_type": "code",
   "execution_count": 107,
   "metadata": {},
   "outputs": [],
   "source": [
    "X_test_enc = EA(X_test.values, True)"
   ]
  },
  {
   "cell_type": "code",
   "execution_count": 108,
   "metadata": {},
   "outputs": [],
   "source": [
    "w = EA(model_lin_weights[0])\n",
    "b = EA(model_lin_weights[1].reshape(1, -1))"
   ]
  },
  {
   "cell_type": "code",
   "execution_count": 109,
   "metadata": {},
   "outputs": [
    {
     "data": {
      "text/plain": [
       "(418, 1)"
      ]
     },
     "execution_count": 109,
     "metadata": {},
     "output_type": "execute_result"
    }
   ],
   "source": [
    "pred = X_test_enc.dot(w) + b\n",
    "pred.shape"
   ]
  },
  {
   "cell_type": "code",
   "execution_count": 110,
   "metadata": {},
   "outputs": [
    {
     "data": {
      "image/png": "[encoded data removed]",
      "text/plain": [
       "<Figure size 432x432 with 1 Axes>"
      ]
     },
     "metadata": {
      "needs_background": "light"
     },
     "output_type": "display_data"
    }
   ],
   "source": [
    "plot_predictions(pred.values().flatten(), y_test)"
   ]
  },
  {
   "cell_type": "code",
   "execution_count": 111,
   "metadata": {},
   "outputs": [
    {
     "name": "stdout",
     "output_type": "stream",
     "text": [
      "SSE encrypted: 2069.4778883855115\n"
     ]
    }
   ],
   "source": [
    "sse_enc = sum_squared_error(pred.values().flatten(), y_test)\n",
    "print('SSE encrypted: {}'.format(sse_enc))"
   ]
  },
  {
   "cell_type": "code",
   "execution_count": 112,
   "metadata": {},
   "outputs": [
    {
     "name": "stdout",
     "output_type": "stream",
     "text": [
      "SSE clear: 2069.4778883855115\n"
     ]
    }
   ],
   "source": [
    "pred_clear = np.dot(X_test, model_lin_weights[0]) + model_lin_weights[1]\n",
    "sse_clear = sum_squared_error(pred_clear.flatten(), y_test)\n",
    "print('SSE clear: {}'.format(sse_clear))"
   ]
  },
  {
   "cell_type": "markdown",
   "metadata": {},
   "source": [
    "## Linear - Batch Normalization"
   ]
  },
  {
   "cell_type": "code",
   "execution_count": 6,
   "metadata": {},
   "outputs": [],
   "source": [
    "def normalize_weights(w, var, scale):\n",
    "    return w * scale / np.sqrt(var + 0.001)"
   ]
  },
  {
   "cell_type": "code",
   "execution_count": 7,
   "metadata": {},
   "outputs": [],
   "source": [
    "def normalize_bias(b, mean, var, shift, scale):\n",
    "    return (b - mean) * (scale / np.sqrt(var + 0.001)) + shift"
   ]
  },
  {
   "cell_type": "code",
   "execution_count": 80,
   "metadata": {},
   "outputs": [],
   "source": [
    "norm_weights = np.load('model_norm_weights.npy')"
   ]
  },
  {
   "cell_type": "code",
   "execution_count": 81,
   "metadata": {},
   "outputs": [],
   "source": [
    "w1, b1, scale, shift, mean, std, w2, b2 = norm_weights"
   ]
  },
  {
   "cell_type": "code",
   "execution_count": 82,
   "metadata": {},
   "outputs": [],
   "source": [
    "w_norm = normalize_weights(w1, std**2, scale)\n",
    "b_norm = normalize_bias(b1, mean, std**2, shift, scale).reshape(1, -1)"
   ]
  },
  {
   "cell_type": "code",
   "execution_count": 87,
   "metadata": {},
   "outputs": [],
   "source": [
    "X_test_enc = EA(X_test.values, True)\n",
    "w_norm_en = EA(w_norm)\n",
    "b_norm_en = EA(b_norm)\n",
    "w2_en = EA(w2)\n",
    "b2_en = EA(b2.reshape(-1, 1))"
   ]
  },
  {
   "cell_type": "code",
   "execution_count": 91,
   "metadata": {},
   "outputs": [],
   "source": [
    "layer1_enc = X_test_enc.dot(w_norm_en) + b_norm_en\n",
    "pred_norm_enc = layer1_enc.dot(w2_en) + b2_en\n",
    "pred_decrypted = pred_norm_enc.values()"
   ]
  },
  {
   "cell_type": "code",
   "execution_count": 92,
   "metadata": {},
   "outputs": [
    {
     "data": {
      "text/plain": [
       "2606.9924618704367"
      ]
     },
     "execution_count": 92,
     "metadata": {},
     "output_type": "execute_result"
    }
   ],
   "source": [
    "sum_squared_error(pred_decrypted.reshape(-1,), y_test)"
   ]
  },
  {
   "cell_type": "code",
   "execution_count": 93,
   "metadata": {},
   "outputs": [
    {
     "data": {
      "image/png": "[encoded data removed]",
      "text/plain": [
       "<Figure size 432x432 with 1 Axes>"
      ]
     },
     "metadata": {
      "needs_background": "light"
     },
     "output_type": "display_data"
    }
   ],
   "source": [
    "plot_predictions(pred_decrypted.reshape(-1,), y_test)"
   ]
  },
  {
   "cell_type": "code",
   "execution_count": 83,
   "metadata": {},
   "outputs": [],
   "source": [
    "layer1 = X_test.values.dot(w_norm) + b_norm\n",
    "pred_norm = layer1.dot(w2) + b2"
   ]
  },
  {
   "cell_type": "code",
   "execution_count": 84,
   "metadata": {},
   "outputs": [
    {
     "data": {
      "text/plain": [
       "2606.9924612842833"
      ]
     },
     "execution_count": 84,
     "metadata": {},
     "output_type": "execute_result"
    }
   ],
   "source": [
    "sum_squared_error(pred_norm.reshape(-1,), y_test)"
   ]
  },
  {
   "cell_type": "code",
   "execution_count": 94,
   "metadata": {},
   "outputs": [
    {
     "data": {
      "image/png": "[encoded data removed]",
      "text/plain": [
       "<Figure size 432x432 with 1 Axes>"
      ]
     },
     "metadata": {
      "needs_background": "light"
     },
     "output_type": "display_data"
    }
   ],
   "source": [
    "plot_predictions(pred_norm, y_test)"
   ]
  },
  {
   "cell_type": "markdown",
   "metadata": {},
   "source": [
    "## Sigmoid model - 1 Layer"
   ]
  },
  {
   "cell_type": "code",
   "execution_count": 8,
   "metadata": {},
   "outputs": [],
   "source": [
    "def sigmoid(z):\n",
    "    return 1/(1+np.exp(-z))"
   ]
  },
  {
   "cell_type": "code",
   "execution_count": 9,
   "metadata": {},
   "outputs": [],
   "source": [
    "%autoreload 2"
   ]
  },
  {
   "cell_type": "code",
   "execution_count": 10,
   "metadata": {},
   "outputs": [],
   "source": [
    "sig_weights = np.load('model_sig_weights.npy')"
   ]
  },
  {
   "cell_type": "code",
   "execution_count": 11,
   "metadata": {},
   "outputs": [],
   "source": [
    "w1, b1, scale, shift, mean, std, w2, b2 = sig_weights"
   ]
  },
  {
   "cell_type": "code",
   "execution_count": 12,
   "metadata": {},
   "outputs": [],
   "source": [
    "w_norm = normalize_weights(w1, std**2, scale)\n",
    "b_norm = normalize_bias(b1, mean, std**2, shift, scale)"
   ]
  },
  {
   "cell_type": "code",
   "execution_count": 13,
   "metadata": {},
   "outputs": [],
   "source": [
    "X_test_enc = EA(X_test.values, True)"
   ]
  },
  {
   "cell_type": "code",
   "execution_count": 14,
   "metadata": {},
   "outputs": [
    {
     "data": {
      "text/plain": [
       "array([[ 0.88980632,  0.98369189,  0.24621869, ...,  0.        ,\n",
       "         0.        ,  1.        ],\n",
       "       [-0.19224127, -0.07237882,  0.12936153, ...,  1.        ,\n",
       "         0.        ,  0.        ],\n",
       "       [ 1.63891619,  1.43629362,  1.4147903 , ...,  1.        ,\n",
       "         0.        ,  0.        ],\n",
       "       ...,\n",
       "       [-1.06620278, -1.07816044, -1.15606724, ...,  0.        ,\n",
       "         1.        ,  0.        ],\n",
       "       [-1.60722658, -1.68162942, -1.50663872, ...,  0.        ,\n",
       "         1.        ,  0.        ],\n",
       "       [-0.02577241, -0.02208974,  0.01250437, ...,  0.        ,\n",
       "         1.        ,  0.        ]])"
      ]
     },
     "execution_count": 14,
     "metadata": {},
     "output_type": "execute_result"
    }
   ],
   "source": [
    "X_test_enc.values()"
   ]
  },
  {
   "cell_type": "code",
   "execution_count": 15,
   "metadata": {},
   "outputs": [],
   "source": [
    "w_norm_enc = EA(w_norm)\n",
    "b_norm_enc = EA(b_norm.reshape(1, -1))\n",
    "w2_enc = EA(w2)\n",
    "b2_enc = EA(b2.reshape(1, -1))"
   ]
  },
  {
   "cell_type": "code",
   "execution_count": 16,
   "metadata": {},
   "outputs": [
    {
     "ename": "MemoryError",
     "evalue": "std::bad_alloc",
     "output_type": "error",
     "traceback": [
      "\u001b[0;31m---------------------------------------------------------------------------\u001b[0m",
      "\u001b[0;31mMemoryError\u001b[0m                               Traceback (most recent call last)",
      "\u001b[0;32m<ipython-input-16-643b0ad9fdb2>\u001b[0m in \u001b[0;36m<module>\u001b[0;34m\u001b[0m\n\u001b[0;32m----> 1\u001b[0;31m \u001b[0mlayer1\u001b[0m \u001b[0;34m=\u001b[0m \u001b[0mX_test_enc\u001b[0m\u001b[0;34m.\u001b[0m\u001b[0mdot\u001b[0m\u001b[0;34m(\u001b[0m\u001b[0mw_norm_enc\u001b[0m\u001b[0;34m)\u001b[0m \u001b[0;34m+\u001b[0m \u001b[0mb_norm_enc\u001b[0m\u001b[0;34m\u001b[0m\u001b[0m\n\u001b[0m",
      "\u001b[0;32m~/Dissertation/seal_wrapper/seal_wrapper.py\u001b[0m in \u001b[0;36m__add__\u001b[0;34m(self, other)\u001b[0m\n\u001b[1;32m     92\u001b[0m                 \u001b[0mresult_row\u001b[0m\u001b[0;34m.\u001b[0m\u001b[0mappend\u001b[0m\u001b[0;34m(\u001b[0m\u001b[0mCiphertext\u001b[0m\u001b[0;34m(\u001b[0m\u001b[0;34m)\u001b[0m\u001b[0;34m)\u001b[0m\u001b[0;34m\u001b[0m\u001b[0m\n\u001b[1;32m     93\u001b[0m                 evaluate.add_plain(self._getitem((x_row, x_col)), other._getitem((0, x_col)),\n\u001b[0;32m---> 94\u001b[0;31m                                     result_row[x_col])\n\u001b[0m\u001b[1;32m     95\u001b[0m             \u001b[0mx_add_b\u001b[0m\u001b[0;34m.\u001b[0m\u001b[0mappend\u001b[0m\u001b[0;34m(\u001b[0m\u001b[0mresult_row\u001b[0m\u001b[0;34m)\u001b[0m\u001b[0;34m\u001b[0m\u001b[0m\n\u001b[1;32m     96\u001b[0m         \u001b[0mv\u001b[0m \u001b[0;34m=\u001b[0m \u001b[0mEA\u001b[0m\u001b[0;34m(\u001b[0m\u001b[0mnp\u001b[0m\u001b[0;34m.\u001b[0m\u001b[0marray\u001b[0m\u001b[0;34m(\u001b[0m\u001b[0;34m[\u001b[0m\u001b[0;34m]\u001b[0m\u001b[0;34m)\u001b[0m\u001b[0;34m)\u001b[0m\u001b[0;34m\u001b[0m\u001b[0m\n",
      "\u001b[0;31mMemoryError\u001b[0m: std::bad_alloc"
     ]
    }
   ],
   "source": [
    "layer1 = X_test_enc.dot(w_norm_enc) + b_norm_enc"
   ]
  },
  {
   "cell_type": "code",
   "execution_count": 22,
   "metadata": {},
   "outputs": [
    {
     "data": {
      "text/plain": [
       "array([[  1.06257561,   2.63176891,  -6.03064548],\n",
       "       [  2.38607846,  -0.70920222,   2.33750304],\n",
       "       [  5.61899706,   1.58495686, -11.56404062],\n",
       "       ...,\n",
       "       [ -1.09500084,  -1.6092351 ,  -2.92493279],\n",
       "       [ -1.60889306,  -2.07154837,  -1.99771178],\n",
       "       [  0.78518812,   0.31067854,   1.35874276]])"
      ]
     },
     "execution_count": 22,
     "metadata": {},
     "output_type": "execute_result"
    }
   ],
   "source": [
    "layer1.values()"
   ]
  },
  {
   "cell_type": "code",
   "execution_count": 23,
   "metadata": {},
   "outputs": [],
   "source": [
    "layer1_sig = layer1.activate_sigmoid()"
   ]
  },
  {
   "cell_type": "code",
   "execution_count": 24,
   "metadata": {},
   "outputs": [
    {
     "data": {
      "text/plain": [
       "array([[ 7.37146409e-01,  7.36074375e-01,  7.22263955e+01],\n",
       "       [ 7.95754876e-01,  3.25250414e-01,  6.36571251e+02],\n",
       "       [-1.81682321e+00,  8.43573031e-01,  3.63603141e+01],\n",
       "       ...,\n",
       "       [ 2.54148110e-01,  1.85159903e-01, -8.53602154e+01],\n",
       "       [ 1.45625305e-01,  1.67157483e-01, -7.06761880e+01],\n",
       "       [ 6.86346995e-01,  5.80759792e-01,  8.67068211e-02]])"
      ]
     },
     "execution_count": 24,
     "metadata": {},
     "output_type": "execute_result"
    }
   ],
   "source": [
    "layer1_sig.values()"
   ]
  },
  {
   "cell_type": "code",
   "execution_count": 25,
   "metadata": {},
   "outputs": [],
   "source": [
    "pred_sig = layer1_sig.dot(w2_enc) + b2_enc"
   ]
  },
  {
   "cell_type": "code",
   "execution_count": 26,
   "metadata": {},
   "outputs": [
    {
     "data": {
      "text/plain": [
       "array([[-6.36750987e+03],\n",
       "       [ 5.32785411e+03],\n",
       "       [-4.53684698e+01],\n",
       "       [-5.45870097e+04],\n",
       "       [ 1.93647648e+01],\n",
       "       [ 9.31565818e+00],\n",
       "       [ 4.81768532e+04],\n",
       "       [-1.51996450e+04],\n",
       "       [-6.28314036e+01],\n",
       "       [-2.40577684e+02],\n",
       "       [ 6.51418418e+02],\n",
       "       [-4.56021044e+04],\n",
       "       [ 9.61137934e+00],\n",
       "       [-3.74651086e+04],\n",
       "       [-1.66310325e+04],\n",
       "       [ 7.88125305e+01],\n",
       "       [ 2.42400080e+04],\n",
       "       [ 4.69744630e+04],\n",
       "       [-1.38456083e+03],\n",
       "       [ 7.39539593e+01],\n",
       "       [-4.66239153e+04],\n",
       "       [-7.44867710e+02],\n",
       "       [ 9.50488003e+00],\n",
       "       [-9.53419820e+02],\n",
       "       [ 2.64669073e+02],\n",
       "       [-5.38823688e+02],\n",
       "       [-5.58942424e+05],\n",
       "       [-1.22268084e+02],\n",
       "       [ 5.06556000e+03],\n",
       "       [-6.06227350e+02],\n",
       "       [ 4.98443082e+01],\n",
       "       [ 2.64088622e+03],\n",
       "       [ 3.48953315e+02],\n",
       "       [ 2.91987518e+01],\n",
       "       [-1.27742966e+02],\n",
       "       [-3.50231714e+02],\n",
       "       [ 3.91421949e+02],\n",
       "       [ 1.10261314e+02],\n",
       "       [-8.76748038e+01],\n",
       "       [ 1.96571237e+02],\n",
       "       [ 1.95476487e+02],\n",
       "       [ 1.91579304e+03],\n",
       "       [-2.49219446e+04],\n",
       "       [ 9.58840831e+00],\n",
       "       [ 2.11252596e+03],\n",
       "       [-1.56241178e+03],\n",
       "       [ 2.23908001e+02],\n",
       "       [-1.75939038e+02],\n",
       "       [ 3.89253002e+02],\n",
       "       [ 7.71830740e+01],\n",
       "       [-4.12099326e+02],\n",
       "       [-2.16167982e+02],\n",
       "       [ 1.04750325e+01],\n",
       "       [ 2.87279734e+02],\n",
       "       [-6.58438105e+01],\n",
       "       [ 1.07254218e+01],\n",
       "       [ 9.38324425e+00],\n",
       "       [ 9.41155513e+00],\n",
       "       [-1.05842336e+01],\n",
       "       [ 1.69571609e+02],\n",
       "       [-7.28040564e+03],\n",
       "       [ 2.05277484e+02],\n",
       "       [-1.50414419e+06],\n",
       "       [ 4.83008146e+02],\n",
       "       [ 2.92460653e+02],\n",
       "       [ 5.22968880e-01],\n",
       "       [-1.92797566e+04],\n",
       "       [ 1.67719514e+03],\n",
       "       [-1.20597417e+03],\n",
       "       [ 9.78946242e+03],\n",
       "       [-2.23658482e+02],\n",
       "       [-1.34701095e+03],\n",
       "       [ 2.02744488e+02],\n",
       "       [-7.22713025e+02],\n",
       "       [-6.69780114e+01],\n",
       "       [-1.73873173e+02],\n",
       "       [-1.80788698e-01],\n",
       "       [-1.08061068e+03],\n",
       "       [ 1.22302470e+02],\n",
       "       [ 1.00841073e+01],\n",
       "       [-2.67347195e+01],\n",
       "       [ 5.89797168e+03],\n",
       "       [-1.40838938e+03],\n",
       "       [-7.73106596e+02],\n",
       "       [ 4.10185393e+03],\n",
       "       [-7.39420744e+03],\n",
       "       [ 2.16010362e+02],\n",
       "       [ 3.99389341e+00],\n",
       "       [-7.25500518e+01],\n",
       "       [-5.39813073e+02],\n",
       "       [ 3.11292290e+01],\n",
       "       [-1.70914477e+05],\n",
       "       [-5.16817127e+01],\n",
       "       [ 5.24881197e+01],\n",
       "       [-5.74363237e+03],\n",
       "       [ 1.38918090e+01],\n",
       "       [-4.14289569e+04],\n",
       "       [-6.25587281e+01],\n",
       "       [ 1.86560198e+02],\n",
       "       [-1.88585799e+03],\n",
       "       [-1.17297455e+02],\n",
       "       [ 9.51905456e+00],\n",
       "       [-2.33476010e+02],\n",
       "       [-1.10537962e+03],\n",
       "       [-5.14546991e+03],\n",
       "       [-1.17122099e+02],\n",
       "       [ 2.12487747e+01],\n",
       "       [ 5.75243176e+00],\n",
       "       [ 6.70274098e+00],\n",
       "       [ 1.80947399e+03],\n",
       "       [-3.18366401e+04],\n",
       "       [ 4.93224653e+01],\n",
       "       [-4.04192767e+02],\n",
       "       [-4.08371466e+01],\n",
       "       [-8.13833961e+02],\n",
       "       [-4.25618792e+02],\n",
       "       [-9.53494810e+01],\n",
       "       [ 1.14624581e+01],\n",
       "       [-3.27228487e+00],\n",
       "       [-2.33861039e+02],\n",
       "       [ 5.86571909e+03],\n",
       "       [ 9.90407958e+00],\n",
       "       [-1.20892917e+02],\n",
       "       [-5.44474702e+04],\n",
       "       [-2.29824217e+01],\n",
       "       [ 3.59999902e+01],\n",
       "       [-1.58672828e+03],\n",
       "       [-9.90425659e+04],\n",
       "       [-1.31176054e+03],\n",
       "       [ 1.35120251e+01],\n",
       "       [ 3.12186759e+03],\n",
       "       [-1.75010903e+03],\n",
       "       [ 2.43751948e+00],\n",
       "       [-1.16435575e+02],\n",
       "       [ 4.95998840e+04],\n",
       "       [-5.25070599e+02],\n",
       "       [-5.81564013e+02],\n",
       "       [-1.24837231e+02],\n",
       "       [-9.55825872e+02],\n",
       "       [-9.88057859e+01],\n",
       "       [ 1.36569113e+01],\n",
       "       [ 1.26293523e+02],\n",
       "       [-2.48534790e+04],\n",
       "       [ 1.08307889e+01],\n",
       "       [ 1.10215894e+01],\n",
       "       [-1.10471737e+03],\n",
       "       [ 2.28932873e+02],\n",
       "       [ 1.37248912e+02],\n",
       "       [-1.12742708e+02],\n",
       "       [-1.84058201e+03],\n",
       "       [ 2.38007435e+02],\n",
       "       [ 4.06620364e+04],\n",
       "       [ 1.32812029e+01],\n",
       "       [ 1.02942294e+01],\n",
       "       [ 1.63089832e+03],\n",
       "       [ 1.10781327e+01],\n",
       "       [ 1.14989737e+04],\n",
       "       [-2.30539039e+02],\n",
       "       [ 1.44727646e+01],\n",
       "       [ 9.48473393e+01],\n",
       "       [ 1.62590966e+03],\n",
       "       [ 3.35656787e+04],\n",
       "       [ 1.12869788e+01],\n",
       "       [-3.83400746e+04],\n",
       "       [ 3.06132337e+01],\n",
       "       [-7.64005013e+01],\n",
       "       [ 2.39235331e+02],\n",
       "       [ 6.39439015e+02],\n",
       "       [-1.52071720e+01],\n",
       "       [-2.50555501e+04],\n",
       "       [-4.24696307e+03],\n",
       "       [ 1.26235875e+03],\n",
       "       [ 1.24659442e+01],\n",
       "       [ 2.96650031e+02],\n",
       "       [ 9.66003267e+01],\n",
       "       [-6.12253306e+02],\n",
       "       [-5.47655295e+02],\n",
       "       [-8.33756286e+02],\n",
       "       [-3.71184541e+02],\n",
       "       [ 3.09636981e+02],\n",
       "       [ 1.76917417e+01],\n",
       "       [ 1.18633463e+01],\n",
       "       [ 4.02992878e+01],\n",
       "       [ 5.92339833e+01],\n",
       "       [ 1.35287834e+02],\n",
       "       [-8.03236571e+02],\n",
       "       [ 5.70910280e+00],\n",
       "       [-4.42891733e+04],\n",
       "       [-6.52166772e+02],\n",
       "       [-4.17576166e+02],\n",
       "       [-9.26058028e+02],\n",
       "       [ 9.51518298e+01],\n",
       "       [ 1.50343315e+06],\n",
       "       [-5.24217510e+02],\n",
       "       [ 1.55912506e+03],\n",
       "       [-1.31794538e+03],\n",
       "       [-5.07393790e+02],\n",
       "       [-6.32272224e+02],\n",
       "       [ 3.86185971e+04],\n",
       "       [-5.67722917e+04],\n",
       "       [ 2.60042456e+01],\n",
       "       [-4.68883719e+01],\n",
       "       [-1.86154931e+03],\n",
       "       [ 3.78289505e+02],\n",
       "       [ 6.05621267e+02],\n",
       "       [ 6.90773470e+02],\n",
       "       [-2.58566840e+03],\n",
       "       [ 2.45465936e+02],\n",
       "       [-6.63407286e+03],\n",
       "       [-2.12558855e+02],\n",
       "       [ 1.14263480e+01],\n",
       "       [-6.14960469e+02],\n",
       "       [-1.79564888e+03],\n",
       "       [-1.01030577e+05],\n",
       "       [ 5.28060642e+02],\n",
       "       [-8.07365124e+02],\n",
       "       [-1.68300233e+02],\n",
       "       [ 1.03237464e+01],\n",
       "       [-6.42271898e+02],\n",
       "       [-7.23120979e+02],\n",
       "       [-1.28034516e+02],\n",
       "       [ 9.63581968e+00],\n",
       "       [-7.16022052e+02],\n",
       "       [ 1.98112012e+01],\n",
       "       [-1.00952449e+06],\n",
       "       [ 1.55910084e+02],\n",
       "       [-1.31307662e+03],\n",
       "       [-1.20128045e+02],\n",
       "       [-2.23351268e+01],\n",
       "       [-2.11217086e+02],\n",
       "       [ 1.09729421e+01],\n",
       "       [-4.21043310e+01],\n",
       "       [ 2.27100934e+01],\n",
       "       [ 3.43649675e+03],\n",
       "       [-2.40978136e+02],\n",
       "       [-2.16487535e+03],\n",
       "       [ 2.93396684e+02],\n",
       "       [-5.57103549e+05],\n",
       "       [-8.62607040e+02],\n",
       "       [-6.28633218e+02],\n",
       "       [-8.57447751e+02],\n",
       "       [ 4.17170771e+03],\n",
       "       [ 1.40817077e+00],\n",
       "       [-3.23505813e+02],\n",
       "       [ 2.59949706e+01],\n",
       "       [-9.67538246e+02],\n",
       "       [-2.48831506e+02],\n",
       "       [-6.61595231e+02],\n",
       "       [ 6.29450145e+01],\n",
       "       [-8.50915300e+01],\n",
       "       [-1.22685859e+02],\n",
       "       [-9.96072735e+02],\n",
       "       [-3.83555818e+02],\n",
       "       [ 1.12007360e+01],\n",
       "       [ 1.55442327e+01],\n",
       "       [-2.47070210e+03],\n",
       "       [-1.56514818e+03],\n",
       "       [ 2.32314649e+02],\n",
       "       [-1.48940072e+01],\n",
       "       [ 4.11689311e+03],\n",
       "       [-6.75813120e+03],\n",
       "       [ 3.45080992e+01],\n",
       "       [-1.34069652e+02],\n",
       "       [-4.97505173e+02],\n",
       "       [ 3.01554528e+01],\n",
       "       [ 5.50335781e+03],\n",
       "       [-6.07811695e+01],\n",
       "       [-3.36236136e+04],\n",
       "       [-5.93493991e+01],\n",
       "       [-1.05684502e+02],\n",
       "       [ 6.95023975e+00],\n",
       "       [ 1.01132049e+04],\n",
       "       [ 1.39619346e+01],\n",
       "       [-1.51028680e+02],\n",
       "       [-8.01164339e+02],\n",
       "       [ 4.21104065e+05],\n",
       "       [-6.49690233e+02],\n",
       "       [-1.28285622e+03],\n",
       "       [ 1.27053684e+02],\n",
       "       [ 1.01391944e+00],\n",
       "       [ 1.39606099e+01],\n",
       "       [ 1.02960918e+02],\n",
       "       [ 3.56935777e+01],\n",
       "       [ 1.76175535e+01],\n",
       "       [ 2.77505047e+01],\n",
       "       [ 2.31984712e+01],\n",
       "       [-2.99978872e+01],\n",
       "       [-1.15716170e+03],\n",
       "       [ 8.61071808e+01],\n",
       "       [-4.09227018e+03],\n",
       "       [ 9.98772993e+01],\n",
       "       [ 7.01442832e+02],\n",
       "       [ 4.89075660e+01],\n",
       "       [-1.92467155e+03],\n",
       "       [-8.54609905e+02],\n",
       "       [ 8.93050168e+00],\n",
       "       [-1.71654379e+04],\n",
       "       [-1.96610318e+03],\n",
       "       [ 7.51890489e+00],\n",
       "       [-1.10368011e+05],\n",
       "       [-1.20322978e+05],\n",
       "       [-1.34617749e+02],\n",
       "       [ 2.45827432e+02],\n",
       "       [ 3.46274646e+02],\n",
       "       [ 6.78693858e+03],\n",
       "       [ 1.05922777e+01],\n",
       "       [-1.51018135e+05],\n",
       "       [ 1.23160446e+04],\n",
       "       [-2.37538213e+02],\n",
       "       [-8.27352275e+02],\n",
       "       [ 1.37125833e+01],\n",
       "       [-1.71239996e+03],\n",
       "       [-9.67633965e+01],\n",
       "       [-1.38489022e+01],\n",
       "       [-2.19046411e+04],\n",
       "       [-7.86863454e+02],\n",
       "       [-1.49445449e+01],\n",
       "       [-2.03614612e+03],\n",
       "       [-9.54581867e+02],\n",
       "       [ 1.16223578e+01],\n",
       "       [-1.61217866e+03],\n",
       "       [-1.88762939e+02],\n",
       "       [-2.08933007e+03],\n",
       "       [-3.69778551e+02],\n",
       "       [-1.45690942e+03],\n",
       "       [-2.23508498e+02],\n",
       "       [ 3.74304380e+02],\n",
       "       [-2.71527945e+02],\n",
       "       [-5.69230207e+01],\n",
       "       [-1.31909365e+02],\n",
       "       [-2.52934958e+04],\n",
       "       [ 3.60817076e+01],\n",
       "       [-1.10730787e+02],\n",
       "       [ 8.78323599e+02],\n",
       "       [-4.53926243e+02],\n",
       "       [-6.24127868e+01],\n",
       "       [-4.49706169e+02],\n",
       "       [ 5.49939217e+03],\n",
       "       [-1.86308435e+02],\n",
       "       [ 1.07037842e+01],\n",
       "       [-1.07598941e+03],\n",
       "       [ 2.62507582e+02],\n",
       "       [ 1.58214109e+04],\n",
       "       [ 1.20939030e+04],\n",
       "       [ 1.57786301e+02],\n",
       "       [ 7.69916273e+00],\n",
       "       [-1.13739331e+06],\n",
       "       [ 6.74636848e+01],\n",
       "       [-3.50133716e+01],\n",
       "       [-2.27269247e+01],\n",
       "       [-3.35679513e+02],\n",
       "       [ 1.57944012e+04],\n",
       "       [-4.78741116e+01],\n",
       "       [-1.69268269e+03],\n",
       "       [ 2.88423154e+02],\n",
       "       [-6.37045262e+02],\n",
       "       [ 8.02914979e+00],\n",
       "       [ 4.19277376e+05],\n",
       "       [ 7.18200318e+02],\n",
       "       [-3.66503081e+04],\n",
       "       [-7.10173080e+02],\n",
       "       [-5.81439089e+02],\n",
       "       [ 1.97366429e+02],\n",
       "       [ 1.29380390e+03],\n",
       "       [ 1.21225743e+01],\n",
       "       [ 1.49088474e+06],\n",
       "       [ 2.01919371e+01],\n",
       "       [-7.82991061e+02],\n",
       "       [-1.32671954e+01],\n",
       "       [ 2.96905042e+03],\n",
       "       [ 6.40441839e+02],\n",
       "       [-1.10228562e+06],\n",
       "       [-1.32401797e+01],\n",
       "       [ 9.28527749e+01],\n",
       "       [ 1.97588931e+01],\n",
       "       [-3.61066397e+02],\n",
       "       [ 7.69916129e+01],\n",
       "       [-1.12669174e+02],\n",
       "       [-5.60274039e+01],\n",
       "       [-4.56535696e+01],\n",
       "       [-6.24759548e+02],\n",
       "       [ 9.20000073e+00],\n",
       "       [ 3.73248268e+04],\n",
       "       [-6.91921773e+02],\n",
       "       [ 8.57761169e+01],\n",
       "       [-1.63369685e+03],\n",
       "       [ 1.52837380e+01],\n",
       "       [ 9.79072745e+00],\n",
       "       [-1.59714346e+03],\n",
       "       [-6.35690648e+02],\n",
       "       [-1.95273678e+03],\n",
       "       [-1.78629732e+03],\n",
       "       [ 2.60278260e+04],\n",
       "       [ 1.10676861e+01],\n",
       "       [-6.11343792e+02],\n",
       "       [ 7.17018802e+00],\n",
       "       [ 1.72399562e+01],\n",
       "       [ 1.30358606e+01],\n",
       "       [ 2.85953027e+02],\n",
       "       [-1.26939711e+02],\n",
       "       [-4.25685532e+02],\n",
       "       [ 4.66951186e+00],\n",
       "       [-7.01725556e+02],\n",
       "       [ 1.56818449e+02],\n",
       "       [ 9.83999976e+00],\n",
       "       [-6.71991419e+02],\n",
       "       [ 2.76607936e+00],\n",
       "       [ 7.79020003e+00],\n",
       "       [-4.36172321e+02],\n",
       "       [ 3.21987945e+03],\n",
       "       [-1.10791624e+06],\n",
       "       [ 2.22612396e+03],\n",
       "       [-1.75839430e+02],\n",
       "       [ 1.14276630e+02],\n",
       "       [ 1.36818953e+01],\n",
       "       [-4.27100709e+02],\n",
       "       [-6.11321989e+02],\n",
       "       [ 3.42474823e+01]])"
      ]
     },
     "execution_count": 26,
     "metadata": {},
     "output_type": "execute_result"
    }
   ],
   "source": [
    "pred_sig.values()"
   ]
  },
  {
   "cell_type": "code",
   "execution_count": 27,
   "metadata": {},
   "outputs": [
    {
     "data": {
      "image/png": "[encoded data removed]",
      "text/plain": [
       "<Figure size 432x432 with 1 Axes>"
      ]
     },
     "metadata": {
      "needs_background": "light"
     },
     "output_type": "display_data"
    }
   ],
   "source": [
    "plot_predictions(pred_sig.values().reshape(-1,), y_test)"
   ]
  },
  {
   "cell_type": "code",
   "execution_count": 274,
   "metadata": {},
   "outputs": [],
   "source": [
    "layer1_clear = X_test.values.dot(w_norm) + b_norm\n",
    "layer1_sig_clear = sigmoid(layer1_clear)\n",
    "pred_sig_clear = layer1_sig_clear.dot(w2) + b2"
   ]
  },
  {
   "cell_type": "code",
   "execution_count": 120,
   "metadata": {},
   "outputs": [
    {
     "name": "stdout",
     "output_type": "stream",
     "text": [
      "SSE sigmoid enc: 1.1953515815530873e+40\n"
     ]
    }
   ],
   "source": [
    "sse_sig_enc = sum_squared_error(pred_sig.values().flatten(), y_test)\n",
    "print('SSE sigmoid enc: {}'.format(sse_sig_enc))"
   ]
  },
  {
   "cell_type": "code",
   "execution_count": 276,
   "metadata": {},
   "outputs": [
    {
     "name": "stdout",
     "output_type": "stream",
     "text": [
      "SSE sigmoid clear: 2156.118175473507\n"
     ]
    }
   ],
   "source": [
    "sse_sig_clear = sum_squared_error(pred_sig_clear.flatten(), y_test)\n",
    "print('SSE sigmoid clear: {}'.format(sse_sig_clear))"
   ]
  },
  {
   "cell_type": "code",
   "execution_count": 278,
   "metadata": {},
   "outputs": [
    {
     "data": {
      "image/png": "[encoded data removed]",
      "text/plain": [
       "<Figure size 432x432 with 1 Axes>"
      ]
     },
     "metadata": {
      "needs_background": "light"
     },
     "output_type": "display_data"
    }
   ],
   "source": [
    "plot_predictions(pred_sig_clear.flatten(), y_test)"
   ]
  },
  {
   "cell_type": "markdown",
   "metadata": {},
   "source": [
    "## Relu model - 1 Layer"
   ]
  },
  {
   "cell_type": "code",
   "execution_count": 279,
   "metadata": {},
   "outputs": [],
   "source": [
    "def relu(z):\n",
    "    return np.maximum(z, 0)"
   ]
  },
  {
   "cell_type": "code",
   "execution_count": 280,
   "metadata": {},
   "outputs": [],
   "source": [
    "relu_weights = np.load('weights_relu.npy')"
   ]
  },
  {
   "cell_type": "code",
   "execution_count": 281,
   "metadata": {},
   "outputs": [],
   "source": [
    "w1, b1, scale, shift, mean, std, w2, b2 = relu_weights"
   ]
  },
  {
   "cell_type": "code",
   "execution_count": 282,
   "metadata": {},
   "outputs": [],
   "source": [
    "w_norm = normalize_weights(w1, std**2, scale)\n",
    "b_norm = normalize_bias(b1, mean, std**2, shift, scale).reshape(1, -1)"
   ]
  },
  {
   "cell_type": "code",
   "execution_count": 283,
   "metadata": {},
   "outputs": [],
   "source": [
    "layer1 = X_test_enc.dot(EA(w_norm)) + EA(b_norm.reshape(1, -1))\n",
    "layer1.activate_squared()\n",
    "pred_relu = layer1.dot(EA(w2)) + EA(b2.reshape(1, -1))"
   ]
  },
  {
   "cell_type": "code",
   "execution_count": 284,
   "metadata": {},
   "outputs": [],
   "source": [
    "layer1_clear = X_test.values.dot(w_norm) + b_norm\n",
    "layer1_relu_clear = relu(layer1_clear)\n",
    "pred_relu_clear = layer1_relu_clear.dot(w2) + b2"
   ]
  },
  {
   "cell_type": "code",
   "execution_count": 285,
   "metadata": {},
   "outputs": [
    {
     "name": "stdout",
     "output_type": "stream",
     "text": [
      "SSE relu enc: 5136334.508335641\n"
     ]
    }
   ],
   "source": [
    "sse_relu_enc = sum_squared_error(pred_relu.values().flatten(), y_test)\n",
    "print('SSE relu enc: {}'.format(sse_relu_enc))"
   ]
  },
  {
   "cell_type": "code",
   "execution_count": 286,
   "metadata": {},
   "outputs": [
    {
     "name": "stdout",
     "output_type": "stream",
     "text": [
      "SSE relu clear: 3885.6009372439958\n"
     ]
    }
   ],
   "source": [
    "sse_relu_clear = sum_squared_error(pred_relu_clear.flatten(), y_test)\n",
    "print('SSE relu clear: {}'.format(sse_relu_clear))"
   ]
  },
  {
   "cell_type": "code",
   "execution_count": 287,
   "metadata": {},
   "outputs": [
    {
     "data": {
      "image/png": "[encoded data removed]",
      "text/plain": [
       "<Figure size 432x432 with 1 Axes>"
      ]
     },
     "metadata": {
      "needs_background": "light"
     },
     "output_type": "display_data"
    }
   ],
   "source": [
    "plot_predictions(pred_relu.values().flatten(), y_test)"
   ]
  },
  {
   "cell_type": "code",
   "execution_count": 288,
   "metadata": {},
   "outputs": [
    {
     "data": {
      "image/png": "[encoded data removed]",
      "text/plain": [
       "<Figure size 432x432 with 1 Axes>"
      ]
     },
     "metadata": {
      "needs_background": "light"
     },
     "output_type": "display_data"
    }
   ],
   "source": [
    "plot_predictions(pred_relu_clear.flatten(), y_test)"
   ]
  },
  {
   "cell_type": "code",
   "execution_count": null,
   "metadata": {},
   "outputs": [],
   "source": []
  }
 ],
 "metadata": {
  "kernelspec": {
   "display_name": "Python 3",
   "language": "python",
   "name": "python3"
  },
  "language_info": {
   "codemirror_mode": {
    "name": "ipython",
    "version": 3
   },
   "file_extension": ".py",
   "mimetype": "text/x-python",
   "name": "python",
   "nbconvert_exporter": "python",
   "pygments_lexer": "ipython3",
   "version": "3.6.6"
  }
 },
 "nbformat": 4,
 "nbformat_minor": 2
}
