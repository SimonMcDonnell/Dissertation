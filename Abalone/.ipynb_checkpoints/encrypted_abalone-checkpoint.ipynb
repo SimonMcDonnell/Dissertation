{
 "cells": [
  {
   "cell_type": "code",
   "execution_count": 1,
   "metadata": {},
   "outputs": [],
   "source": [
    "%load_ext autoreload\n",
    "%autoreload 2\n",
    "import numpy as np\n",
    "import tensorflow as tf\n",
    "from tensorflow import keras\n",
    "from PrepareData import prepare_dataset\n",
    "import matplotlib.pyplot as plt\n",
    "import sys\n",
    "sys.path.insert(0, '../seal_wrapper/')\n",
    "from seal_wrapper import EA"
   ]
  },
  {
   "cell_type": "markdown",
   "metadata": {},
   "source": [
    "## Prepare dataset"
   ]
  },
  {
   "cell_type": "code",
   "execution_count": 2,
   "metadata": {
    "scrolled": false
   },
   "outputs": [
    {
     "name": "stderr",
     "output_type": "stream",
     "text": [
      "/home/simon/Dissertation/Abalone/PrepareData.py:31: SettingWithCopyWarning: \n",
      "A value is trying to be set on a copy of a slice from a DataFrame.\n",
      "Try using .loc[row_indexer,col_indexer] = value instead\n",
      "\n",
      "See the caveats in the documentation: http://pandas.pydata.org/pandas-docs/stable/indexing.html#indexing-view-versus-copy\n",
      "  X_test[['length', 'diameter', 'height', 'whole_weight', 'shucked_weight', 'viscera_weight', 'shell_weight']])\n",
      "/home/simon/miniconda3/envs/diss/lib/python3.6/site-packages/pandas/core/indexing.py:543: SettingWithCopyWarning: \n",
      "A value is trying to be set on a copy of a slice from a DataFrame.\n",
      "Try using .loc[row_indexer,col_indexer] = value instead\n",
      "\n",
      "See the caveats in the documentation: http://pandas.pydata.org/pandas-docs/stable/indexing.html#indexing-view-versus-copy\n",
      "  self.obj[item] = s\n"
     ]
    }
   ],
   "source": [
    "X_train, X_val, X_test, y_train, y_val, y_test = prepare_dataset()"
   ]
  },
  {
   "cell_type": "code",
   "execution_count": 3,
   "metadata": {},
   "outputs": [
    {
     "name": "stdout",
     "output_type": "stream",
     "text": [
      "(3383, 10) (3383,)\n",
      "(376, 10) (376,)\n",
      "(418, 10) (418,)\n"
     ]
    }
   ],
   "source": [
    "print(X_train.shape, y_train.shape)\n",
    "print(X_val.shape, y_val.shape)\n",
    "print(X_test.shape, y_test.shape)"
   ]
  },
  {
   "cell_type": "code",
   "execution_count": 4,
   "metadata": {},
   "outputs": [],
   "source": [
    "def plot_predictions(pred, y):\n",
    "    fig = plt.figure(figsize=(6, 6))\n",
    "    ax = plt.subplot(111)\n",
    "    ax.scatter(pred, y, alpha=0.2)\n",
    "    ax.set_xlabel('predicted')\n",
    "    ax.set_ylabel('true')\n",
    "    ax.plot(np.arange(0, 30, 0.1), np.arange(0, 30, 0.1))"
   ]
  },
  {
   "cell_type": "code",
   "execution_count": 5,
   "metadata": {},
   "outputs": [],
   "source": [
    "def sum_squared_error(pred, y):\n",
    "    return np.sum((y - pred)**2)"
   ]
  },
  {
   "cell_type": "markdown",
   "metadata": {},
   "source": [
    "## Encrypted Linear model"
   ]
  },
  {
   "cell_type": "code",
   "execution_count": 6,
   "metadata": {},
   "outputs": [],
   "source": [
    "model_lin_weights = np.load('model_lin_weights.npy')"
   ]
  },
  {
   "cell_type": "code",
   "execution_count": 7,
   "metadata": {},
   "outputs": [],
   "source": [
    "X_test_enc = EA(X_test.values, True)"
   ]
  },
  {
   "cell_type": "code",
   "execution_count": 8,
   "metadata": {},
   "outputs": [],
   "source": [
    "w = EA(model_lin_weights[0])\n",
    "b = EA(model_lin_weights[1].reshape(1, -1))"
   ]
  },
  {
   "cell_type": "code",
   "execution_count": 9,
   "metadata": {},
   "outputs": [
    {
     "data": {
      "text/plain": [
       "(418, 1)"
      ]
     },
     "execution_count": 9,
     "metadata": {},
     "output_type": "execute_result"
    }
   ],
   "source": [
    "pred = X_test_enc.dot(w) + b\n",
    "pred.shape"
   ]
  },
  {
   "cell_type": "code",
   "execution_count": 10,
   "metadata": {},
   "outputs": [
    {
     "data": {
      "image/png": "[encoded data removed]",
      "text/plain": [
       "<Figure size 432x432 with 1 Axes>"
      ]
     },
     "metadata": {
      "needs_background": "light"
     },
     "output_type": "display_data"
    }
   ],
   "source": [
    "plot_predictions(pred.values().flatten(), y_test)"
   ]
  },
  {
   "cell_type": "code",
   "execution_count": 11,
   "metadata": {},
   "outputs": [
    {
     "name": "stdout",
     "output_type": "stream",
     "text": [
      "SSE encrypted: 2069.4778883855115\n"
     ]
    }
   ],
   "source": [
    "sse_enc = sum_squared_error(pred.values().flatten(), y_test)\n",
    "print('SSE encrypted: {}'.format(sse_enc))"
   ]
  },
  {
   "cell_type": "code",
   "execution_count": 12,
   "metadata": {},
   "outputs": [
    {
     "name": "stdout",
     "output_type": "stream",
     "text": [
      "SSE clear: 2069.4778883855115\n"
     ]
    }
   ],
   "source": [
    "pred_clear = np.dot(X_test, model_lin_weights[0]) + model_lin_weights[1]\n",
    "sse_clear = sum_squared_error(pred_clear.flatten(), y_test)\n",
    "print('SSE clear: {}'.format(sse_clear))"
   ]
  },
  {
   "cell_type": "markdown",
   "metadata": {},
   "source": [
    "## Linear - Batch Normalization"
   ]
  },
  {
   "cell_type": "code",
   "execution_count": 13,
   "metadata": {},
   "outputs": [],
   "source": [
    "def normalize_weights(w, var, scale):\n",
    "    return w * scale / np.sqrt(var + 0.001)"
   ]
  },
  {
   "cell_type": "code",
   "execution_count": 14,
   "metadata": {},
   "outputs": [],
   "source": [
    "def normalize_bias(b, mean, var, shift, scale):\n",
    "    return (b - mean) * (scale / np.sqrt(var + 0.001)) + shift"
   ]
  },
  {
   "cell_type": "code",
   "execution_count": 15,
   "metadata": {},
   "outputs": [],
   "source": [
    "norm_weights = np.load('model_norm_weights.npy')"
   ]
  },
  {
   "cell_type": "code",
   "execution_count": 161,
   "metadata": {},
   "outputs": [],
   "source": [
    "w1, b1, scale, shift, mean, std, w2, b2 = norm_weights"
   ]
  },
  {
   "cell_type": "code",
   "execution_count": 172,
   "metadata": {},
   "outputs": [],
   "source": [
    "w_norm = normalize_weights(w1, std**2, scale)\n",
    "b_norm = normalize_bias(b1, mean, std**2, shift, scale).reshape(1, -1)"
   ]
  },
  {
   "cell_type": "code",
   "execution_count": 19,
   "metadata": {},
   "outputs": [],
   "source": [
    "w_norm_en = EA(w_norm)\n",
    "b_norm_en = EA(b_norm)\n",
    "w2_en = EA(w2)\n",
    "b2_en = EA(b2.reshape(-1, 1))"
   ]
  },
  {
   "cell_type": "code",
   "execution_count": 20,
   "metadata": {},
   "outputs": [],
   "source": [
    "layer1_enc = X_test_enc.dot(w_norm_en) + b_norm_en\n",
    "pred_norm_enc = layer1_enc.dot(w2_en) + b2_en\n",
    "pred_decrypted = pred_norm_enc.values()"
   ]
  },
  {
   "cell_type": "code",
   "execution_count": 21,
   "metadata": {},
   "outputs": [
    {
     "data": {
      "text/plain": [
       "2606.9924618704367"
      ]
     },
     "execution_count": 21,
     "metadata": {},
     "output_type": "execute_result"
    }
   ],
   "source": [
    "sum_squared_error(pred_decrypted.reshape(-1,), y_test)"
   ]
  },
  {
   "cell_type": "code",
   "execution_count": 22,
   "metadata": {},
   "outputs": [
    {
     "data": {
      "image/png": "[encoded data removed]",
      "text/plain": [
       "<Figure size 432x432 with 1 Axes>"
      ]
     },
     "metadata": {
      "needs_background": "light"
     },
     "output_type": "display_data"
    }
   ],
   "source": [
    "plot_predictions(pred_decrypted.reshape(-1,), y_test)"
   ]
  },
  {
   "cell_type": "code",
   "execution_count": 162,
   "metadata": {},
   "outputs": [],
   "source": [
    "layer1 = X_test.values.dot(w_norm) + b_norm\n",
    "pred_norm = layer1.dot(w2) + b2"
   ]
  },
  {
   "cell_type": "code",
   "execution_count": 182,
   "metadata": {},
   "outputs": [
    {
     "data": {
      "text/plain": [
       "array([ 1.56547561,  1.56616336, -1.78359515])"
      ]
     },
     "execution_count": 182,
     "metadata": {},
     "output_type": "execute_result"
    }
   ],
   "source": [
    "l1 = X_train.values.dot(w_norm) + b_norm\n",
    "# pred_ = l1.dot(w2) + b2\n",
    "# pred_\n",
    "l1.mean(axis=0)"
   ]
  },
  {
   "cell_type": "code",
   "execution_count": 174,
   "metadata": {},
   "outputs": [
    {
     "data": {
      "text/plain": [
       "2606.9924612842833"
      ]
     },
     "execution_count": 174,
     "metadata": {},
     "output_type": "execute_result"
    }
   ],
   "source": [
    "sum_squared_error(pred_.reshape(-1,), y_test)"
   ]
  },
  {
   "cell_type": "code",
   "execution_count": 175,
   "metadata": {},
   "outputs": [
    {
     "data": {
      "image/png": "[encoded data removed]",
      "text/plain": [
       "<Figure size 432x432 with 1 Axes>"
      ]
     },
     "metadata": {
      "needs_background": "light"
     },
     "output_type": "display_data"
    }
   ],
   "source": [
    "plot_predictions(pred_, y_test)"
   ]
  },
  {
   "cell_type": "markdown",
   "metadata": {},
   "source": [
    "## Sigmoid model - 1 Layer"
   ]
  },
  {
   "cell_type": "code",
   "execution_count": 26,
   "metadata": {},
   "outputs": [],
   "source": [
    "def sigmoid(z):\n",
    "    return 1/(1+np.exp(-z))"
   ]
  },
  {
   "cell_type": "code",
   "execution_count": 115,
   "metadata": {},
   "outputs": [],
   "source": [
    "%autoreload 2"
   ]
  },
  {
   "cell_type": "code",
   "execution_count": 116,
   "metadata": {},
   "outputs": [],
   "source": [
    "sig_weights = np.load('model_sig_weights.npy')"
   ]
  },
  {
   "cell_type": "code",
   "execution_count": 118,
   "metadata": {},
   "outputs": [],
   "source": [
    "w1, scale, shift, mean, std, w2, b2 = sig_weights"
   ]
  },
  {
   "cell_type": "code",
   "execution_count": 119,
   "metadata": {},
   "outputs": [],
   "source": [
    "w_norm = normalize_weights(w1, std**2, scale)"
   ]
  },
  {
   "cell_type": "code",
   "execution_count": 120,
   "metadata": {},
   "outputs": [],
   "source": [
    "X_test_enc = EA(X_test.values, True)"
   ]
  },
  {
   "cell_type": "code",
   "execution_count": 121,
   "metadata": {},
   "outputs": [],
   "source": [
    "w_norm_enc = EA(w_norm)\n",
    "w2_enc = EA(w2)\n",
    "b2_enc = EA(b2.reshape(1, -1))"
   ]
  },
  {
   "cell_type": "code",
   "execution_count": 122,
   "metadata": {},
   "outputs": [],
   "source": [
    "layer1 = X_test_enc.dot(w_norm_enc)"
   ]
  },
  {
   "cell_type": "code",
   "execution_count": 123,
   "metadata": {},
   "outputs": [
    {
     "data": {
      "text/plain": [
       "array([[-0.24627554, -2.36715963,  3.31925869],\n",
       "       [ 2.05571241, 10.99717707, -0.40627249],\n",
       "       [ 4.35496195, -8.61358131,  3.01766016],\n",
       "       ...,\n",
       "       [-1.5638251 ,  2.91805418, -1.6678596 ],\n",
       "       [-1.93837439,  3.9773344 , -2.31905571],\n",
       "       [ 0.16718815,  9.11931745,  0.68925263]])"
      ]
     },
     "execution_count": 123,
     "metadata": {},
     "output_type": "execute_result"
    }
   ],
   "source": [
    "layer1.values()"
   ]
  },
  {
   "cell_type": "code",
   "execution_count": 124,
   "metadata": {},
   "outputs": [],
   "source": [
    "layer1_sig = layer1.activate_sigmoid()"
   ]
  },
  {
   "cell_type": "code",
   "execution_count": 125,
   "metadata": {},
   "outputs": [
    {
     "data": {
      "text/plain": [
       "array([[  0.43874225,   0.18450438,   0.56807033],\n",
       "       [  0.8329707 , -24.45409625,   0.39982891],\n",
       "       [ -0.13171073,  11.65851989,   0.68201421],\n",
       "       ...,\n",
       "       [  0.1887062 ,   0.71194335,   0.17967751],\n",
       "       [  0.16711223,   0.1837474 ,   0.1800263 ],\n",
       "       [  0.5416997 , -13.0172308 ,   0.66549253]])"
      ]
     },
     "execution_count": 125,
     "metadata": {},
     "output_type": "execute_result"
    }
   ],
   "source": [
    "layer1_sig.values()"
   ]
  },
  {
   "cell_type": "code",
   "execution_count": 126,
   "metadata": {},
   "outputs": [],
   "source": [
    "pred_sig = layer1_sig.dot(w2_enc) + b2_enc"
   ]
  },
  {
   "cell_type": "code",
   "execution_count": 127,
   "metadata": {},
   "outputs": [
    {
     "data": {
      "text/plain": [
       "array([[ 9.15229257e+00],\n",
       "       [-9.18498158e+01],\n",
       "       [ 5.52224667e+01],\n",
       "       [-1.59105887e-01],\n",
       "       [-2.57333682e+01],\n",
       "       [ 3.14984226e+00],\n",
       "       [ 9.94817865e+00],\n",
       "       [ 6.77659113e+00],\n",
       "       [ 1.03177485e+01],\n",
       "       [-5.86334129e+01],\n",
       "       [ 1.30365052e+01],\n",
       "       [-6.13804728e+01],\n",
       "       [ 9.95052661e+00],\n",
       "       [-1.18718304e+01],\n",
       "       [ 4.04262866e+00],\n",
       "       [ 9.83836137e+00],\n",
       "       [ 3.86427512e+00],\n",
       "       [ 1.06388542e+01],\n",
       "       [ 1.38042620e+00],\n",
       "       [-2.51778099e+01],\n",
       "       [-7.49268236e+01],\n",
       "       [ 6.39222015e+00],\n",
       "       [ 9.72841775e+00],\n",
       "       [ 6.32332537e+00],\n",
       "       [ 1.32231580e+02],\n",
       "       [ 8.16715813e+00],\n",
       "       [ 1.11386657e+02],\n",
       "       [ 1.24002941e+01],\n",
       "       [-4.36069284e+01],\n",
       "       [ 4.43258803e+00],\n",
       "       [ 8.94506271e+00],\n",
       "       [ 4.15781809e+00],\n",
       "       [-1.14887072e+01],\n",
       "       [-6.20834199e+01],\n",
       "       [ 1.27224302e+01],\n",
       "       [ 1.38550980e+01],\n",
       "       [ 1.27963964e+01],\n",
       "       [ 9.18215564e+00],\n",
       "       [-6.14217957e+01],\n",
       "       [ 2.21653127e+00],\n",
       "       [ 1.19480086e+01],\n",
       "       [ 1.05129894e+01],\n",
       "       [ 7.15948495e+02],\n",
       "       [-1.44753214e+01],\n",
       "       [-4.31585795e+02],\n",
       "       [ 3.36701442e+00],\n",
       "       [ 4.03255507e-01],\n",
       "       [ 4.02503713e+00],\n",
       "       [ 1.27096466e+01],\n",
       "       [-6.29864162e+00],\n",
       "       [ 1.15044593e+01],\n",
       "       [-1.13709937e+01],\n",
       "       [ 1.07822785e+01],\n",
       "       [ 1.27524461e+01],\n",
       "       [ 1.24172855e+01],\n",
       "       [-2.84340550e+01],\n",
       "       [ 4.56025601e+00],\n",
       "       [ 1.15762405e+00],\n",
       "       [-3.29452979e+01],\n",
       "       [-6.84861143e+01],\n",
       "       [ 1.05557242e+01],\n",
       "       [ 1.23859851e+01],\n",
       "       [-2.84066287e+01],\n",
       "       [ 1.29402437e+01],\n",
       "       [ 1.13860185e+01],\n",
       "       [ 1.03414635e+01],\n",
       "       [-3.45131089e+02],\n",
       "       [ 6.22428181e+00],\n",
       "       [ 5.50932059e+00],\n",
       "       [ 1.71074523e+02],\n",
       "       [-1.78902637e+01],\n",
       "       [ 2.56437280e+00],\n",
       "       [ 3.58248498e+00],\n",
       "       [ 8.66775335e+00],\n",
       "       [ 8.42154147e+00],\n",
       "       [-1.30377207e+02],\n",
       "       [ 1.24450373e+01],\n",
       "       [ 5.66680688e+00],\n",
       "       [ 4.58532385e+00],\n",
       "       [ 1.13989335e+01],\n",
       "       [ 1.04574016e+01],\n",
       "       [-1.93864535e+02],\n",
       "       [ 1.05883900e+01],\n",
       "       [ 5.30718809e+00],\n",
       "       [-6.53196495e+01],\n",
       "       [-8.11131180e-01],\n",
       "       [-1.97586492e+02],\n",
       "       [ 1.03460593e+01],\n",
       "       [ 4.35399189e+00],\n",
       "       [ 7.73770861e+00],\n",
       "       [ 8.95621684e+00],\n",
       "       [ 6.46778412e+02],\n",
       "       [ 1.19685538e+01],\n",
       "       [-5.17949138e+00],\n",
       "       [ 4.74168707e+01],\n",
       "       [ 1.05987837e+01],\n",
       "       [ 1.70799060e+01],\n",
       "       [ 9.89896229e+00],\n",
       "       [ 1.30086603e+01],\n",
       "       [ 1.12512049e+01],\n",
       "       [ 1.26735580e+01],\n",
       "       [ 1.15313680e+01],\n",
       "       [-1.33536594e+01],\n",
       "       [ 1.78774093e+00],\n",
       "       [-6.90515703e+01],\n",
       "       [-3.49114848e+00],\n",
       "       [-4.16055678e+01],\n",
       "       [-2.23626062e+02],\n",
       "       [-2.62220476e+01],\n",
       "       [ 1.18233973e+01],\n",
       "       [-7.76598821e+01],\n",
       "       [ 9.76096840e+00],\n",
       "       [ 1.11371900e+01],\n",
       "       [ 9.61618009e+00],\n",
       "       [-3.18941162e+01],\n",
       "       [ 8.90511972e+00],\n",
       "       [-6.15761715e+01],\n",
       "       [-5.19238297e+01],\n",
       "       [ 8.83578791e+00],\n",
       "       [-7.99197504e+00],\n",
       "       [-1.00540632e+02],\n",
       "       [ 6.15617352e+00],\n",
       "       [ 1.00268394e+01],\n",
       "       [ 5.58596917e-01],\n",
       "       [ 1.25275921e+01],\n",
       "       [-3.00508084e+01],\n",
       "       [ 3.38374697e+02],\n",
       "       [ 2.40241054e+02],\n",
       "       [ 1.10410209e+01],\n",
       "       [-3.83011852e+00],\n",
       "       [ 1.10106356e+02],\n",
       "       [ 3.74776536e+00],\n",
       "       [ 5.14739727e+00],\n",
       "       [ 1.08635428e+01],\n",
       "       [ 9.81992691e+00],\n",
       "       [-6.96720030e+01],\n",
       "       [ 1.00545907e+01],\n",
       "       [-3.56830382e+00],\n",
       "       [ 5.20073951e+00],\n",
       "       [-7.93456240e+01],\n",
       "       [-1.88507908e+01],\n",
       "       [-9.29797715e-01],\n",
       "       [ 1.06958131e+01],\n",
       "       [ 1.94321251e+00],\n",
       "       [-1.08080286e+02],\n",
       "       [ 1.18295206e+01],\n",
       "       [ 1.02458460e+01],\n",
       "       [ 1.31417002e+01],\n",
       "       [-8.94979323e+00],\n",
       "       [-7.99769888e+01],\n",
       "       [ 1.10802951e+01],\n",
       "       [ 1.08663884e+01],\n",
       "       [ 1.25957029e+01],\n",
       "       [ 2.47017198e+00],\n",
       "       [ 1.16278668e+01],\n",
       "       [-3.44990553e+00],\n",
       "       [-5.60459695e+01],\n",
       "       [ 7.56948147e+00],\n",
       "       [ 6.95597793e+00],\n",
       "       [-3.53025570e+00],\n",
       "       [ 1.20478159e+01],\n",
       "       [ 9.10209660e+00],\n",
       "       [ 1.17258738e+01],\n",
       "       [ 5.04715961e+00],\n",
       "       [-6.94091751e+00],\n",
       "       [-3.11918893e+02],\n",
       "       [-1.48308056e+01],\n",
       "       [ 1.03623463e+02],\n",
       "       [ 1.03561027e+01],\n",
       "       [-1.06257812e+02],\n",
       "       [ 1.02179503e+01],\n",
       "       [ 2.04482687e+01],\n",
       "       [-2.08344665e+01],\n",
       "       [-2.85653232e-01],\n",
       "       [ 1.13146066e+01],\n",
       "       [-7.65737206e+01],\n",
       "       [ 1.01623675e+01],\n",
       "       [ 5.87327615e+00],\n",
       "       [ 3.82289110e+00],\n",
       "       [ 1.13719625e+01],\n",
       "       [ 9.37181349e+00],\n",
       "       [-5.27491312e-01],\n",
       "       [ 1.09761313e+01],\n",
       "       [-8.57951425e+01],\n",
       "       [ 1.07108992e+01],\n",
       "       [ 3.39575286e+00],\n",
       "       [ 1.15243197e+01],\n",
       "       [-6.87733909e+02],\n",
       "       [ 4.31071371e+00],\n",
       "       [ 9.09352805e+00],\n",
       "       [ 8.88918503e+00],\n",
       "       [-3.05800691e+01],\n",
       "       [ 6.63348125e+00],\n",
       "       [ 1.17092468e+01],\n",
       "       [ 1.22592463e+01],\n",
       "       [-6.98842041e+02],\n",
       "       [ 2.10646842e+01],\n",
       "       [ 4.35886059e+00],\n",
       "       [-4.66799556e+01],\n",
       "       [ 6.44734583e+00],\n",
       "       [ 1.27414086e+01],\n",
       "       [-1.61603701e+00],\n",
       "       [-4.94824487e+01],\n",
       "       [ 8.57010346e+00],\n",
       "       [ 1.66190424e+02],\n",
       "       [-2.15037655e+01],\n",
       "       [ 7.39927090e+01],\n",
       "       [ 8.63836601e+00],\n",
       "       [-8.24471594e+01],\n",
       "       [-5.28263361e+01],\n",
       "       [ 3.74448682e+00],\n",
       "       [ 1.08324401e+01],\n",
       "       [ 1.43994039e+01],\n",
       "       [ 1.34563503e+02],\n",
       "       [-4.64587853e+01],\n",
       "       [-5.24536942e+00],\n",
       "       [ 5.18463893e-03],\n",
       "       [ 3.31298765e+00],\n",
       "       [ 2.12623176e+00],\n",
       "       [ 1.10734158e+01],\n",
       "       [-3.01578771e+01],\n",
       "       [ 4.71276601e+00],\n",
       "       [-5.45996397e+01],\n",
       "       [ 7.62629319e-01],\n",
       "       [-3.52381765e+00],\n",
       "       [-1.32206327e-01],\n",
       "       [-6.87485790e+00],\n",
       "       [ 7.94570819e+00],\n",
       "       [ 9.25156818e+00],\n",
       "       [-2.67241061e+01],\n",
       "       [-1.73996274e+01],\n",
       "       [ 1.14884497e+01],\n",
       "       [-2.30354891e+02],\n",
       "       [ 9.52599018e+00],\n",
       "       [-4.54171253e+01],\n",
       "       [ 8.12296826e+01],\n",
       "       [ 9.70751058e+00],\n",
       "       [ 3.79445936e+02],\n",
       "       [-1.57165448e+00],\n",
       "       [ 9.95765519e+00],\n",
       "       [ 4.28433513e+00],\n",
       "       [-6.59192345e+01],\n",
       "       [ 1.00097686e+01],\n",
       "       [-5.18612180e+01],\n",
       "       [ 1.02305639e+01],\n",
       "       [ 1.84750480e+00],\n",
       "       [-3.08813596e+01],\n",
       "       [-1.37193736e+01],\n",
       "       [-2.23110590e+01],\n",
       "       [-5.89825101e+00],\n",
       "       [-2.26406189e+01],\n",
       "       [ 1.17095790e+01],\n",
       "       [ 1.94542645e-01],\n",
       "       [-1.78976503e+02],\n",
       "       [-6.88600488e+01],\n",
       "       [ 3.31075875e+01],\n",
       "       [-9.41254448e+01],\n",
       "       [-1.08608976e+02],\n",
       "       [-3.21811705e+01],\n",
       "       [-5.89554441e+02],\n",
       "       [ 1.06000433e+01],\n",
       "       [ 1.28872921e+01],\n",
       "       [ 6.63558590e+00],\n",
       "       [ 7.74036089e+00],\n",
       "       [ 1.34830854e+01],\n",
       "       [-1.90744731e+02],\n",
       "       [-2.57379311e+02],\n",
       "       [ 7.41230797e+00],\n",
       "       [-6.83507129e+00],\n",
       "       [ 7.11827948e-01],\n",
       "       [ 1.03734112e+01],\n",
       "       [ 1.78227334e+01],\n",
       "       [ 9.90574438e+00],\n",
       "       [-1.33280618e+02],\n",
       "       [ 1.95120990e+00],\n",
       "       [ 7.82595374e+00],\n",
       "       [-1.78696420e+01],\n",
       "       [ 9.06490378e+00],\n",
       "       [-2.15843508e+00],\n",
       "       [-2.21642336e+02],\n",
       "       [-4.31569605e+01],\n",
       "       [-6.99442619e+01],\n",
       "       [-9.07102540e+00],\n",
       "       [-1.05101065e+02],\n",
       "       [ 1.07675651e+01],\n",
       "       [ 1.16642449e+01],\n",
       "       [-5.75657003e-01],\n",
       "       [ 4.14213294e+00],\n",
       "       [-1.55054515e+01],\n",
       "       [ 8.06605642e+00],\n",
       "       [-1.44976861e+01],\n",
       "       [ 4.92109239e+00],\n",
       "       [ 7.19962419e+00],\n",
       "       [ 1.10145102e+00],\n",
       "       [ 8.45546094e+00],\n",
       "       [ 1.22940814e+01],\n",
       "       [-1.14520387e+01],\n",
       "       [-4.39193368e+01],\n",
       "       [ 6.04321851e+00],\n",
       "       [ 8.18390343e+01],\n",
       "       [ 1.40122302e+01],\n",
       "       [-1.58397689e+02],\n",
       "       [ 1.17846156e+01],\n",
       "       [-7.62831650e+01],\n",
       "       [ 3.75226737e+02],\n",
       "       [-1.78385032e+02],\n",
       "       [-4.47051375e+02],\n",
       "       [ 2.50087249e+01],\n",
       "       [ 1.24077553e+01],\n",
       "       [ 5.43383189e+00],\n",
       "       [-2.02523446e+01],\n",
       "       [ 8.11576943e+00],\n",
       "       [-3.73180219e-01],\n",
       "       [ 1.13408834e+01],\n",
       "       [ 1.14788558e+01],\n",
       "       [-3.75329196e+01],\n",
       "       [ 1.11553431e+01],\n",
       "       [-1.02317364e+01],\n",
       "       [ 5.73688308e+00],\n",
       "       [ 1.19842214e+01],\n",
       "       [ 2.07776543e+01],\n",
       "       [-1.69064431e+02],\n",
       "       [ 7.81210827e+00],\n",
       "       [ 4.76978636e+00],\n",
       "       [ 1.12972624e+01],\n",
       "       [-9.33258359e+01],\n",
       "       [ 1.18534804e+01],\n",
       "       [-1.30287742e+01],\n",
       "       [-6.39291007e+01],\n",
       "       [ 5.32632542e+00],\n",
       "       [-1.34840366e+02],\n",
       "       [ 1.24118725e+01],\n",
       "       [ 1.27024851e+01],\n",
       "       [ 7.46622263e+02],\n",
       "       [-3.78195665e+00],\n",
       "       [ 3.29165434e+00],\n",
       "       [-7.69603638e+00],\n",
       "       [ 5.23000213e+00],\n",
       "       [ 1.55297436e+01],\n",
       "       [ 4.73535333e+00],\n",
       "       [ 6.13061434e+00],\n",
       "       [-1.62730148e+02],\n",
       "       [-1.91827416e+02],\n",
       "       [-1.49481889e+02],\n",
       "       [-1.28545830e+01],\n",
       "       [-1.43698201e+02],\n",
       "       [ 1.32601852e+01],\n",
       "       [-2.80335822e+01],\n",
       "       [-8.15928531e+01],\n",
       "       [ 1.16154384e+01],\n",
       "       [-3.52320725e+01],\n",
       "       [ 3.13703187e+00],\n",
       "       [ 5.72931515e+00],\n",
       "       [ 3.28464170e+00],\n",
       "       [ 9.70183374e+00],\n",
       "       [ 3.62306763e+00],\n",
       "       [ 8.40503825e+00],\n",
       "       [ 5.61527242e+00],\n",
       "       [-2.86366008e+02],\n",
       "       [ 1.13927244e+01],\n",
       "       [ 1.22661536e+01],\n",
       "       [ 5.85435594e+00],\n",
       "       [ 9.89147154e+00],\n",
       "       [-1.23096424e+02],\n",
       "       [-3.42374354e+01],\n",
       "       [ 6.51936219e+00],\n",
       "       [ 1.17077197e+01],\n",
       "       [ 3.48963907e+00],\n",
       "       [ 9.16742716e+00],\n",
       "       [-6.28226965e+01],\n",
       "       [ 1.04828217e+01],\n",
       "       [ 1.00289235e+01],\n",
       "       [-6.50477245e+01],\n",
       "       [-3.70943829e+01],\n",
       "       [-7.92555633e+01],\n",
       "       [ 1.01890455e+01],\n",
       "       [-2.92988008e+01],\n",
       "       [ 1.13263745e+01],\n",
       "       [-2.56549215e+00],\n",
       "       [ 9.29774798e+00],\n",
       "       [ 7.08298938e+00],\n",
       "       [ 7.15279381e+00],\n",
       "       [ 5.51980024e+00],\n",
       "       [ 1.22664848e+01],\n",
       "       [ 3.25637485e+00],\n",
       "       [ 1.02823082e+02],\n",
       "       [-3.77258417e+01],\n",
       "       [ 1.40207650e+01],\n",
       "       [-1.64144172e+01],\n",
       "       [ 7.90688564e+00],\n",
       "       [ 1.19676423e+02],\n",
       "       [-1.26532207e+02],\n",
       "       [-2.98731819e+02],\n",
       "       [ 9.88329982e+00],\n",
       "       [ 1.11697624e+01],\n",
       "       [-7.31330647e+00],\n",
       "       [-2.92870347e+01],\n",
       "       [-6.33651857e+01],\n",
       "       [ 1.16086627e+01],\n",
       "       [ 1.62298818e+00],\n",
       "       [ 5.47030902e+00],\n",
       "       [ 1.25704139e+01],\n",
       "       [ 1.00651286e+01],\n",
       "       [ 7.36874946e+02],\n",
       "       [ 1.11819061e+01],\n",
       "       [ 1.51364233e+00],\n",
       "       [ 1.09216427e+01],\n",
       "       [ 1.07137689e+01],\n",
       "       [ 1.46498733e+02],\n",
       "       [-1.26542564e+02],\n",
       "       [ 1.14908164e+01],\n",
       "       [-3.54750344e+02],\n",
       "       [-3.75192254e+02],\n",
       "       [-9.76378098e+00],\n",
       "       [-3.64283581e+01],\n",
       "       [ 8.52954420e+00],\n",
       "       [ 6.29561944e+00],\n",
       "       [-4.43009983e+01]])"
      ]
     },
     "execution_count": 127,
     "metadata": {},
     "output_type": "execute_result"
    }
   ],
   "source": [
    "pred_sig.values()"
   ]
  },
  {
   "cell_type": "code",
   "execution_count": 128,
   "metadata": {},
   "outputs": [
    {
     "data": {
      "image/png": "[encoded data removed]",
      "text/plain": [
       "<Figure size 432x432 with 1 Axes>"
      ]
     },
     "metadata": {
      "needs_background": "light"
     },
     "output_type": "display_data"
    }
   ],
   "source": [
    "plot_predictions(pred_sig.values().reshape(-1,), y_test)"
   ]
  },
  {
   "cell_type": "code",
   "execution_count": 129,
   "metadata": {},
   "outputs": [
    {
     "data": {
      "text/plain": [
       "(-5, 50)"
      ]
     },
     "execution_count": 129,
     "metadata": {},
     "output_type": "execute_result"
    },
    {
     "data": {
      "image/png": "[encoded data removed]",
      "text/plain": [
       "<Figure size 432x288 with 1 Axes>"
      ]
     },
     "metadata": {
      "needs_background": "light"
     },
     "output_type": "display_data"
    }
   ],
   "source": [
    "plt.scatter(pred_sig.values().reshape(-1,), y_test)\n",
    "plt.xlim([-5, 50])"
   ]
  },
  {
   "cell_type": "code",
   "execution_count": 140,
   "metadata": {},
   "outputs": [
    {
     "data": {
      "text/plain": [
       "array([0.36154683, 4.03410186, 0.93955524])"
      ]
     },
     "execution_count": 140,
     "metadata": {},
     "output_type": "execute_result"
    }
   ],
   "source": [
    "layer1_clear = X_test.values.dot(w_norm)\n",
    "layer1_clear.mean(axis=0)"
   ]
  },
  {
   "cell_type": "code",
   "execution_count": 141,
   "metadata": {},
   "outputs": [],
   "source": [
    "layer1_sig_clear = sigmoid(layer1_clear)\n",
    "pred_sig_clear = layer1_sig_clear.dot(w2) + b2"
   ]
  },
  {
   "cell_type": "code",
   "execution_count": 142,
   "metadata": {},
   "outputs": [
    {
     "name": "stdout",
     "output_type": "stream",
     "text": [
      "SSE sigmoid enc: 6229076.614660881\n"
     ]
    }
   ],
   "source": [
    "sse_sig_enc = sum_squared_error(pred_sig.values().flatten(), y_test)\n",
    "print('SSE sigmoid enc: {}'.format(sse_sig_enc))"
   ]
  },
  {
   "cell_type": "code",
   "execution_count": 143,
   "metadata": {},
   "outputs": [
    {
     "name": "stdout",
     "output_type": "stream",
     "text": [
      "SSE sigmoid clear: 4649.4428084223455\n"
     ]
    }
   ],
   "source": [
    "sse_sig_clear = sum_squared_error(pred_sig_clear.flatten(), y_test)\n",
    "print('SSE sigmoid clear: {}'.format(sse_sig_clear))"
   ]
  },
  {
   "cell_type": "code",
   "execution_count": 144,
   "metadata": {},
   "outputs": [
    {
     "data": {
      "image/png": "[encoded data removed]",
      "text/plain": [
       "<Figure size 432x432 with 1 Axes>"
      ]
     },
     "metadata": {
      "needs_background": "light"
     },
     "output_type": "display_data"
    }
   ],
   "source": [
    "plot_predictions(pred_sig_clear.flatten(), y_test)"
   ]
  },
  {
   "cell_type": "markdown",
   "metadata": {},
   "source": [
    "## Relu model - 1 Layer"
   ]
  },
  {
   "cell_type": "code",
   "execution_count": 279,
   "metadata": {},
   "outputs": [],
   "source": [
    "def relu(z):\n",
    "    return np.maximum(z, 0)"
   ]
  },
  {
   "cell_type": "code",
   "execution_count": 280,
   "metadata": {},
   "outputs": [],
   "source": [
    "relu_weights = np.load('weights_relu.npy')"
   ]
  },
  {
   "cell_type": "code",
   "execution_count": 281,
   "metadata": {},
   "outputs": [],
   "source": [
    "w1, b1, scale, shift, mean, std, w2, b2 = relu_weights"
   ]
  },
  {
   "cell_type": "code",
   "execution_count": 282,
   "metadata": {},
   "outputs": [],
   "source": [
    "w_norm = normalize_weights(w1, std**2, scale)\n",
    "b_norm = normalize_bias(b1, mean, std**2, shift, scale).reshape(1, -1)"
   ]
  },
  {
   "cell_type": "code",
   "execution_count": 283,
   "metadata": {},
   "outputs": [],
   "source": [
    "layer1 = X_test_enc.dot(EA(w_norm)) + EA(b_norm.reshape(1, -1))\n",
    "layer1.activate_squared()\n",
    "pred_relu = layer1.dot(EA(w2)) + EA(b2.reshape(1, -1))"
   ]
  },
  {
   "cell_type": "code",
   "execution_count": 284,
   "metadata": {},
   "outputs": [],
   "source": [
    "layer1_clear = X_test.values.dot(w_norm) + b_norm\n",
    "layer1_relu_clear = relu(layer1_clear)\n",
    "pred_relu_clear = layer1_relu_clear.dot(w2) + b2"
   ]
  },
  {
   "cell_type": "code",
   "execution_count": 285,
   "metadata": {},
   "outputs": [
    {
     "name": "stdout",
     "output_type": "stream",
     "text": [
      "SSE relu enc: 5136334.508335641\n"
     ]
    }
   ],
   "source": [
    "sse_relu_enc = sum_squared_error(pred_relu.values().flatten(), y_test)\n",
    "print('SSE relu enc: {}'.format(sse_relu_enc))"
   ]
  },
  {
   "cell_type": "code",
   "execution_count": 286,
   "metadata": {},
   "outputs": [
    {
     "name": "stdout",
     "output_type": "stream",
     "text": [
      "SSE relu clear: 3885.6009372439958\n"
     ]
    }
   ],
   "source": [
    "sse_relu_clear = sum_squared_error(pred_relu_clear.flatten(), y_test)\n",
    "print('SSE relu clear: {}'.format(sse_relu_clear))"
   ]
  },
  {
   "cell_type": "code",
   "execution_count": 287,
   "metadata": {},
   "outputs": [
    {
     "data": {
      "image/png": "[encoded data removed]",
      "text/plain": [
       "<Figure size 432x432 with 1 Axes>"
      ]
     },
     "metadata": {
      "needs_background": "light"
     },
     "output_type": "display_data"
    }
   ],
   "source": [
    "plot_predictions(pred_relu.values().flatten(), y_test)"
   ]
  },
  {
   "cell_type": "code",
   "execution_count": 288,
   "metadata": {},
   "outputs": [
    {
     "data": {
      "image/png": "[encoded data removed]",
      "text/plain": [
       "<Figure size 432x432 with 1 Axes>"
      ]
     },
     "metadata": {
      "needs_background": "light"
     },
     "output_type": "display_data"
    }
   ],
   "source": [
    "plot_predictions(pred_relu_clear.flatten(), y_test)"
   ]
  },
  {
   "cell_type": "code",
   "execution_count": null,
   "metadata": {},
   "outputs": [],
   "source": []
  }
 ],
 "metadata": {
  "kernelspec": {
   "display_name": "Python 3",
   "language": "python",
   "name": "python3"
  },
  "language_info": {
   "codemirror_mode": {
    "name": "ipython",
    "version": 3
   },
   "file_extension": ".py",
   "mimetype": "text/x-python",
   "name": "python",
   "nbconvert_exporter": "python",
   "pygments_lexer": "ipython3",
   "version": "3.6.6"
  }
 },
 "nbformat": 4,
 "nbformat_minor": 2
}
