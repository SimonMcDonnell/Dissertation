{
 "cells": [
  {
   "cell_type": "code",
   "execution_count": 1,
   "metadata": {},
   "outputs": [],
   "source": [
    "import numpy as np\n",
    "import matplotlib.pyplot as plt\n",
    "from numpy.polynomial.chebyshev import chebfit, cheb2poly"
   ]
  },
  {
   "cell_type": "code",
   "execution_count": 2,
   "metadata": {
    "scrolled": true
   },
   "outputs": [
    {
     "data": {
      "text/plain": [
       "array([-9.90000000e+00, -9.80000000e+00, -9.70000000e+00, -9.60000000e+00,\n",
       "       -9.50000000e+00, -9.40000000e+00, -9.30000000e+00, -9.20000000e+00,\n",
       "       -9.10000000e+00, -9.00000000e+00, -8.90000000e+00, -8.80000000e+00,\n",
       "       -8.70000000e+00, -8.60000000e+00, -8.50000000e+00, -8.40000000e+00,\n",
       "       -8.30000000e+00, -8.20000000e+00, -8.10000000e+00, -8.00000000e+00,\n",
       "       -7.90000000e+00, -7.80000000e+00, -7.70000000e+00, -7.60000000e+00,\n",
       "       -7.50000000e+00, -7.40000000e+00, -7.30000000e+00, -7.20000000e+00,\n",
       "       -7.10000000e+00, -7.00000000e+00, -6.90000000e+00, -6.80000000e+00,\n",
       "       -6.70000000e+00, -6.60000000e+00, -6.50000000e+00, -6.40000000e+00,\n",
       "       -6.30000000e+00, -6.20000000e+00, -6.10000000e+00, -6.00000000e+00,\n",
       "       -5.90000000e+00, -5.80000000e+00, -5.70000000e+00, -5.60000000e+00,\n",
       "       -5.50000000e+00, -5.40000000e+00, -5.30000000e+00, -5.20000000e+00,\n",
       "       -5.10000000e+00, -5.00000000e+00, -4.90000000e+00, -4.80000000e+00,\n",
       "       -4.70000000e+00, -4.60000000e+00, -4.50000000e+00, -4.40000000e+00,\n",
       "       -4.30000000e+00, -4.20000000e+00, -4.10000000e+00, -4.00000000e+00,\n",
       "       -3.90000000e+00, -3.80000000e+00, -3.70000000e+00, -3.60000000e+00,\n",
       "       -3.50000000e+00, -3.40000000e+00, -3.30000000e+00, -3.20000000e+00,\n",
       "       -3.10000000e+00, -3.00000000e+00, -2.90000000e+00, -2.80000000e+00,\n",
       "       -2.70000000e+00, -2.60000000e+00, -2.50000000e+00, -2.40000000e+00,\n",
       "       -2.30000000e+00, -2.20000000e+00, -2.10000000e+00, -2.00000000e+00,\n",
       "       -1.90000000e+00, -1.80000000e+00, -1.70000000e+00, -1.60000000e+00,\n",
       "       -1.50000000e+00, -1.40000000e+00, -1.30000000e+00, -1.20000000e+00,\n",
       "       -1.10000000e+00, -1.00000000e+00, -9.00000000e-01, -8.00000000e-01,\n",
       "       -7.00000000e-01, -6.00000000e-01, -5.00000000e-01, -4.00000000e-01,\n",
       "       -3.00000000e-01, -2.00000000e-01, -1.00000000e-01, -1.77635684e-15,\n",
       "        1.00000000e-01,  2.00000000e-01,  3.00000000e-01,  4.00000000e-01,\n",
       "        5.00000000e-01,  6.00000000e-01,  7.00000000e-01,  8.00000000e-01,\n",
       "        9.00000000e-01,  1.00000000e+00,  1.10000000e+00,  1.20000000e+00,\n",
       "        1.30000000e+00,  1.40000000e+00,  1.50000000e+00,  1.60000000e+00,\n",
       "        1.70000000e+00,  1.80000000e+00,  1.90000000e+00,  2.00000000e+00,\n",
       "        2.10000000e+00,  2.20000000e+00,  2.30000000e+00,  2.40000000e+00,\n",
       "        2.50000000e+00,  2.60000000e+00,  2.70000000e+00,  2.80000000e+00,\n",
       "        2.90000000e+00,  3.00000000e+00,  3.10000000e+00,  3.20000000e+00,\n",
       "        3.30000000e+00,  3.40000000e+00,  3.50000000e+00,  3.60000000e+00,\n",
       "        3.70000000e+00,  3.80000000e+00,  3.90000000e+00,  4.00000000e+00,\n",
       "        4.10000000e+00,  4.20000000e+00,  4.30000000e+00,  4.40000000e+00,\n",
       "        4.50000000e+00,  4.60000000e+00,  4.70000000e+00,  4.80000000e+00,\n",
       "        4.90000000e+00,  5.00000000e+00,  5.10000000e+00,  5.20000000e+00,\n",
       "        5.30000000e+00,  5.40000000e+00,  5.50000000e+00,  5.60000000e+00,\n",
       "        5.70000000e+00,  5.80000000e+00,  5.90000000e+00,  6.00000000e+00,\n",
       "        6.10000000e+00,  6.20000000e+00,  6.30000000e+00,  6.40000000e+00,\n",
       "        6.50000000e+00,  6.60000000e+00,  6.70000000e+00,  6.80000000e+00,\n",
       "        6.90000000e+00,  7.00000000e+00,  7.10000000e+00,  7.20000000e+00,\n",
       "        7.30000000e+00,  7.40000000e+00,  7.50000000e+00,  7.60000000e+00,\n",
       "        7.70000000e+00,  7.80000000e+00,  7.90000000e+00,  8.00000000e+00,\n",
       "        8.10000000e+00,  8.20000000e+00,  8.30000000e+00,  8.40000000e+00,\n",
       "        8.50000000e+00,  8.60000000e+00,  8.70000000e+00,  8.80000000e+00,\n",
       "        8.90000000e+00,  9.00000000e+00,  9.10000000e+00,  9.20000000e+00,\n",
       "        9.30000000e+00,  9.40000000e+00,  9.50000000e+00,  9.60000000e+00,\n",
       "        9.70000000e+00,  9.80000000e+00,  9.90000000e+00,  1.00000000e+01])"
      ]
     },
     "execution_count": 2,
     "metadata": {},
     "output_type": "execute_result"
    }
   ],
   "source": [
    "x = np.linspace(-9.9, 10.0, 200)\n",
    "x"
   ]
  },
  {
   "cell_type": "code",
   "execution_count": 3,
   "metadata": {
    "scrolled": true
   },
   "outputs": [
    {
     "data": {
      "text/plain": [
       "array([ 0. ,  0. ,  0. ,  0. ,  0. ,  0. ,  0. ,  0. ,  0. ,  0. ,  0. ,\n",
       "        0. ,  0. ,  0. ,  0. ,  0. ,  0. ,  0. ,  0. ,  0. ,  0. ,  0. ,\n",
       "        0. ,  0. ,  0. ,  0. ,  0. ,  0. ,  0. ,  0. ,  0. ,  0. ,  0. ,\n",
       "        0. ,  0. ,  0. ,  0. ,  0. ,  0. ,  0. ,  0. ,  0. ,  0. ,  0. ,\n",
       "        0. ,  0. ,  0. ,  0. ,  0. ,  0. ,  0. ,  0. ,  0. ,  0. ,  0. ,\n",
       "        0. ,  0. ,  0. ,  0. ,  0. ,  0. ,  0. ,  0. ,  0. ,  0. ,  0. ,\n",
       "        0. ,  0. ,  0. ,  0. ,  0. ,  0. ,  0. ,  0. ,  0. ,  0. ,  0. ,\n",
       "        0. ,  0. ,  0. ,  0. ,  0. ,  0. ,  0. ,  0. ,  0. ,  0. ,  0. ,\n",
       "        0. ,  0. ,  0. ,  0. ,  0. ,  0. ,  0. ,  0. ,  0. ,  0. ,  0. ,\n",
       "        0. ,  0.1,  0.2,  0.3,  0.4,  0.5,  0.6,  0.7,  0.8,  0.9,  1. ,\n",
       "        1.1,  1.2,  1.3,  1.4,  1.5,  1.6,  1.7,  1.8,  1.9,  2. ,  2.1,\n",
       "        2.2,  2.3,  2.4,  2.5,  2.6,  2.7,  2.8,  2.9,  3. ,  3.1,  3.2,\n",
       "        3.3,  3.4,  3.5,  3.6,  3.7,  3.8,  3.9,  4. ,  4.1,  4.2,  4.3,\n",
       "        4.4,  4.5,  4.6,  4.7,  4.8,  4.9,  5. ,  5.1,  5.2,  5.3,  5.4,\n",
       "        5.5,  5.6,  5.7,  5.8,  5.9,  6. ,  6.1,  6.2,  6.3,  6.4,  6.5,\n",
       "        6.6,  6.7,  6.8,  6.9,  7. ,  7.1,  7.2,  7.3,  7.4,  7.5,  7.6,\n",
       "        7.7,  7.8,  7.9,  8. ,  8.1,  8.2,  8.3,  8.4,  8.5,  8.6,  8.7,\n",
       "        8.8,  8.9,  9. ,  9.1,  9.2,  9.3,  9.4,  9.5,  9.6,  9.7,  9.8,\n",
       "        9.9, 10. ])"
      ]
     },
     "execution_count": 3,
     "metadata": {},
     "output_type": "execute_result"
    }
   ],
   "source": [
    "fst = np.zeros((100,))\n",
    "snd = np.linspace(0.1, 10.0, 100)\n",
    "y = np.concatenate((fst, snd), axis=0)\n",
    "y"
   ]
  },
  {
   "cell_type": "code",
   "execution_count": 4,
   "metadata": {},
   "outputs": [],
   "source": [
    "coeffs_cheb = chebfit(x, y, deg=3)"
   ]
  },
  {
   "cell_type": "code",
   "execution_count": 6,
   "metadata": {},
   "outputs": [
    {
     "data": {
      "text/plain": [
       "array([ 9.37265599e-01,  5.02343945e-01,  4.68843771e-02, -5.47011750e-05])"
      ]
     },
     "execution_count": 6,
     "metadata": {},
     "output_type": "execute_result"
    }
   ],
   "source": [
    "coeffs = cheb2poly(coeffs_cheb)\n",
    "coeffs"
   ]
  },
  {
   "cell_type": "code",
   "execution_count": 115,
   "metadata": {},
   "outputs": [],
   "source": [
    "data = x[:, None] ** np.arange(coeffs.shape[0])"
   ]
  },
  {
   "cell_type": "code",
   "execution_count": 116,
   "metadata": {},
   "outputs": [],
   "source": [
    "relu_approx = data.dot(coeffs[:, None])"
   ]
  },
  {
   "cell_type": "code",
   "execution_count": 120,
   "metadata": {},
   "outputs": [
    {
     "data": {
      "text/plain": [
       "[<matplotlib.lines.Line2D at 0x11cd79240>]"
      ]
     },
     "execution_count": 120,
     "metadata": {},
     "output_type": "execute_result"
    },
    {
     "data": {
      "image/png": "[encoded data removed]",
      "text/plain": [
       "<Figure size 504x504 with 1 Axes>"
      ]
     },
     "metadata": {
      "needs_background": "light"
     },
     "output_type": "display_data"
    }
   ],
   "source": [
    "fig = plt.figure(figsize=(7, 7))\n",
    "plt.plot(x, relu_approx)\n",
    "plt.plot(x, y)"
   ]
  },
  {
   "cell_type": "code",
   "execution_count": null,
   "metadata": {},
   "outputs": [],
   "source": []
  }
 ],
 "metadata": {
  "kernelspec": {
   "display_name": "Python 3",
   "language": "python",
   "name": "python3"
  },
  "language_info": {
   "codemirror_mode": {
    "name": "ipython",
    "version": 3
   },
   "file_extension": ".py",
   "mimetype": "text/x-python",
   "name": "python",
   "nbconvert_exporter": "python",
   "pygments_lexer": "ipython3",
   "version": "3.6.6"
  }
 },
 "nbformat": 4,
 "nbformat_minor": 2
}
