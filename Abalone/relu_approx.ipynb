{
 "cells": [
  {
   "cell_type": "code",
   "execution_count": 1,
   "metadata": {},
   "outputs": [],
   "source": [
    "%load_ext autoreload\n",
    "%autoreload 2\n",
    "import numpy as np\n",
    "import matplotlib.pyplot as plt\n",
    "from numpy.polynomial.chebyshev import chebfit, cheb2poly\n",
    "import sys\n",
    "sys.path.insert(0, '../seal_wrapper/')\n",
    "from seal_wrapper import EA"
   ]
  },
  {
   "cell_type": "code",
   "execution_count": 14,
   "metadata": {
    "scrolled": true
   },
   "outputs": [
    {
     "data": {
      "text/plain": [
       "array([-24.9, -24.8, -24.7, -24.6, -24.5, -24.4, -24.3, -24.2, -24.1,\n",
       "       -24. , -23.9, -23.8, -23.7, -23.6, -23.5, -23.4, -23.3, -23.2,\n",
       "       -23.1, -23. , -22.9, -22.8, -22.7, -22.6, -22.5, -22.4, -22.3,\n",
       "       -22.2, -22.1, -22. , -21.9, -21.8, -21.7, -21.6, -21.5, -21.4,\n",
       "       -21.3, -21.2, -21.1, -21. , -20.9, -20.8, -20.7, -20.6, -20.5,\n",
       "       -20.4, -20.3, -20.2, -20.1, -20. , -19.9, -19.8, -19.7, -19.6,\n",
       "       -19.5, -19.4, -19.3, -19.2, -19.1, -19. , -18.9, -18.8, -18.7,\n",
       "       -18.6, -18.5, -18.4, -18.3, -18.2, -18.1, -18. , -17.9, -17.8,\n",
       "       -17.7, -17.6, -17.5, -17.4, -17.3, -17.2, -17.1, -17. , -16.9,\n",
       "       -16.8, -16.7, -16.6, -16.5, -16.4, -16.3, -16.2, -16.1, -16. ,\n",
       "       -15.9, -15.8, -15.7, -15.6, -15.5, -15.4, -15.3, -15.2, -15.1,\n",
       "       -15. , -14.9, -14.8, -14.7, -14.6, -14.5, -14.4, -14.3, -14.2,\n",
       "       -14.1, -14. , -13.9, -13.8, -13.7, -13.6, -13.5, -13.4, -13.3,\n",
       "       -13.2, -13.1, -13. , -12.9, -12.8, -12.7, -12.6, -12.5, -12.4,\n",
       "       -12.3, -12.2, -12.1, -12. , -11.9, -11.8, -11.7, -11.6, -11.5,\n",
       "       -11.4, -11.3, -11.2, -11.1, -11. , -10.9, -10.8, -10.7, -10.6,\n",
       "       -10.5, -10.4, -10.3, -10.2, -10.1, -10. ,  -9.9,  -9.8,  -9.7,\n",
       "        -9.6,  -9.5,  -9.4,  -9.3,  -9.2,  -9.1,  -9. ,  -8.9,  -8.8,\n",
       "        -8.7,  -8.6,  -8.5,  -8.4,  -8.3,  -8.2,  -8.1,  -8. ,  -7.9,\n",
       "        -7.8,  -7.7,  -7.6,  -7.5,  -7.4,  -7.3,  -7.2,  -7.1,  -7. ,\n",
       "        -6.9,  -6.8,  -6.7,  -6.6,  -6.5,  -6.4,  -6.3,  -6.2,  -6.1,\n",
       "        -6. ,  -5.9,  -5.8,  -5.7,  -5.6,  -5.5,  -5.4,  -5.3,  -5.2,\n",
       "        -5.1,  -5. ,  -4.9,  -4.8,  -4.7,  -4.6,  -4.5,  -4.4,  -4.3,\n",
       "        -4.2,  -4.1,  -4. ,  -3.9,  -3.8,  -3.7,  -3.6,  -3.5,  -3.4,\n",
       "        -3.3,  -3.2,  -3.1,  -3. ,  -2.9,  -2.8,  -2.7,  -2.6,  -2.5,\n",
       "        -2.4,  -2.3,  -2.2,  -2.1,  -2. ,  -1.9,  -1.8,  -1.7,  -1.6,\n",
       "        -1.5,  -1.4,  -1.3,  -1.2,  -1.1,  -1. ,  -0.9,  -0.8,  -0.7,\n",
       "        -0.6,  -0.5,  -0.4,  -0.3,  -0.2,  -0.1,   0. ,   0.1,   0.2,\n",
       "         0.3,   0.4,   0.5,   0.6,   0.7,   0.8,   0.9,   1. ,   1.1,\n",
       "         1.2,   1.3,   1.4,   1.5,   1.6,   1.7,   1.8,   1.9,   2. ,\n",
       "         2.1,   2.2,   2.3,   2.4,   2.5,   2.6,   2.7,   2.8,   2.9,\n",
       "         3. ,   3.1,   3.2,   3.3,   3.4,   3.5,   3.6,   3.7,   3.8,\n",
       "         3.9,   4. ,   4.1,   4.2,   4.3,   4.4,   4.5,   4.6,   4.7,\n",
       "         4.8,   4.9,   5. ,   5.1,   5.2,   5.3,   5.4,   5.5,   5.6,\n",
       "         5.7,   5.8,   5.9,   6. ,   6.1,   6.2,   6.3,   6.4,   6.5,\n",
       "         6.6,   6.7,   6.8,   6.9,   7. ,   7.1,   7.2,   7.3,   7.4,\n",
       "         7.5,   7.6,   7.7,   7.8,   7.9,   8. ,   8.1,   8.2,   8.3,\n",
       "         8.4,   8.5,   8.6,   8.7,   8.8,   8.9,   9. ,   9.1,   9.2,\n",
       "         9.3,   9.4,   9.5,   9.6,   9.7,   9.8,   9.9,  10. ,  10.1,\n",
       "        10.2,  10.3,  10.4,  10.5,  10.6,  10.7,  10.8,  10.9,  11. ,\n",
       "        11.1,  11.2,  11.3,  11.4,  11.5,  11.6,  11.7,  11.8,  11.9,\n",
       "        12. ,  12.1,  12.2,  12.3,  12.4,  12.5,  12.6,  12.7,  12.8,\n",
       "        12.9,  13. ,  13.1,  13.2,  13.3,  13.4,  13.5,  13.6,  13.7,\n",
       "        13.8,  13.9,  14. ,  14.1,  14.2,  14.3,  14.4,  14.5,  14.6,\n",
       "        14.7,  14.8,  14.9,  15. ,  15.1,  15.2,  15.3,  15.4,  15.5,\n",
       "        15.6,  15.7,  15.8,  15.9,  16. ,  16.1,  16.2,  16.3,  16.4,\n",
       "        16.5,  16.6,  16.7,  16.8,  16.9,  17. ,  17.1,  17.2,  17.3,\n",
       "        17.4,  17.5,  17.6,  17.7,  17.8,  17.9,  18. ,  18.1,  18.2,\n",
       "        18.3,  18.4,  18.5,  18.6,  18.7,  18.8,  18.9,  19. ,  19.1,\n",
       "        19.2,  19.3,  19.4,  19.5,  19.6,  19.7,  19.8,  19.9,  20. ,\n",
       "        20.1,  20.2,  20.3,  20.4,  20.5,  20.6,  20.7,  20.8,  20.9,\n",
       "        21. ,  21.1,  21.2,  21.3,  21.4,  21.5,  21.6,  21.7,  21.8,\n",
       "        21.9,  22. ,  22.1,  22.2,  22.3,  22.4,  22.5,  22.6,  22.7,\n",
       "        22.8,  22.9,  23. ,  23.1,  23.2,  23.3,  23.4,  23.5,  23.6,\n",
       "        23.7,  23.8,  23.9,  24. ,  24.1,  24.2,  24.3,  24.4,  24.5,\n",
       "        24.6,  24.7,  24.8,  24.9,  25. ])"
      ]
     },
     "execution_count": 14,
     "metadata": {},
     "output_type": "execute_result"
    }
   ],
   "source": [
    "x = np.linspace(-24.9, 25.0, 500)\n",
    "x"
   ]
  },
  {
   "cell_type": "code",
   "execution_count": 15,
   "metadata": {},
   "outputs": [],
   "source": [
    "def relu(z):\n",
    "    return np.maximum(0, z)"
   ]
  },
  {
   "cell_type": "code",
   "execution_count": 16,
   "metadata": {
    "scrolled": true
   },
   "outputs": [],
   "source": [
    "y = relu(x)"
   ]
  },
  {
   "cell_type": "code",
   "execution_count": 17,
   "metadata": {},
   "outputs": [],
   "source": [
    "coeffs_cheb = chebfit(x, y, deg=4)"
   ]
  },
  {
   "cell_type": "code",
   "execution_count": 18,
   "metadata": {},
   "outputs": [
    {
     "data": {
      "text/plain": [
       "array([ 1.46478516e+00,  4.99531244e-01,  3.28130250e-02,  1.75007000e-06,\n",
       "       -2.62510500e-05])"
      ]
     },
     "execution_count": 18,
     "metadata": {},
     "output_type": "execute_result"
    }
   ],
   "source": [
    "coeffs = cheb2poly(coeffs_cheb)\n",
    "coeffs"
   ]
  },
  {
   "cell_type": "code",
   "execution_count": 19,
   "metadata": {},
   "outputs": [],
   "source": [
    "data = x[:, None] ** np.arange(coeffs.shape[0])"
   ]
  },
  {
   "cell_type": "code",
   "execution_count": 20,
   "metadata": {},
   "outputs": [],
   "source": [
    "relu_approx = data.dot(coeffs[:, None])"
   ]
  },
  {
   "cell_type": "code",
   "execution_count": 21,
   "metadata": {},
   "outputs": [
    {
     "data": {
      "text/plain": [
       "[<matplotlib.lines.Line2D at 0x7fecfaf9a278>]"
      ]
     },
     "execution_count": 21,
     "metadata": {},
     "output_type": "execute_result"
    },
    {
     "data": {
      "image/png": "[encoded data removed]",
      "text/plain": [
       "<Figure size 504x504 with 1 Axes>"
      ]
     },
     "metadata": {
      "needs_background": "light"
     },
     "output_type": "display_data"
    }
   ],
   "source": [
    "fig = plt.figure(figsize=(7, 7))\n",
    "plt.plot(x, relu_approx)\n",
    "plt.plot(x, y)"
   ]
  },
  {
   "cell_type": "code",
   "execution_count": 10,
   "metadata": {},
   "outputs": [],
   "source": [
    "x_enc = EA(x[:, None], True)"
   ]
  },
  {
   "cell_type": "code",
   "execution_count": 11,
   "metadata": {},
   "outputs": [],
   "source": [
    "x_relu = x_enc.relu()"
   ]
  },
  {
   "cell_type": "code",
   "execution_count": 12,
   "metadata": {},
   "outputs": [],
   "source": [
    "relu_vals = x_relu.values()"
   ]
  },
  {
   "cell_type": "code",
   "execution_count": 13,
   "metadata": {},
   "outputs": [
    {
     "data": {
      "text/plain": [
       "[<matplotlib.lines.Line2D at 0x7fecfafdd908>]"
      ]
     },
     "execution_count": 13,
     "metadata": {},
     "output_type": "execute_result"
    },
    {
     "data": {
      "image/png": "[encoded data removed]",
      "text/plain": [
       "<Figure size 504x504 with 1 Axes>"
      ]
     },
     "metadata": {
      "needs_background": "light"
     },
     "output_type": "display_data"
    }
   ],
   "source": [
    "fig = plt.figure(figsize=(7, 7))\n",
    "plt.plot(x, relu_approx)\n",
    "plt.plot(x, y)\n",
    "plt.plot(x, relu_vals)"
   ]
  },
  {
   "cell_type": "code",
   "execution_count": null,
   "metadata": {},
   "outputs": [],
   "source": []
  }
 ],
 "metadata": {
  "kernelspec": {
   "display_name": "Python 3",
   "language": "python",
   "name": "python3"
  },
  "language_info": {
   "codemirror_mode": {
    "name": "ipython",
    "version": 3
   },
   "file_extension": ".py",
   "mimetype": "text/x-python",
   "name": "python",
   "nbconvert_exporter": "python",
   "pygments_lexer": "ipython3",
   "version": "3.6.6"
  }
 },
 "nbformat": 4,
 "nbformat_minor": 2
}
