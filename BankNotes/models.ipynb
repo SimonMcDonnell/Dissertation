{
 "cells": [
  {
   "cell_type": "code",
   "execution_count": 1,
   "metadata": {},
   "outputs": [],
   "source": [
    "import numpy as np\n",
    "import pandas as pd\n",
    "import matplotlib.pyplot as plt\n",
    "from tensorflow import keras\n",
    "import tensorflow as tf\n",
    "from sklearn.model_selection import train_test_split\n",
    "from sklearn.preprocessing import StandardScaler\n",
    "import seaborn as sns\n",
    "from sklearn.metrics import accuracy_score, confusion_matrix\n",
    "import os"
   ]
  },
  {
   "cell_type": "markdown",
   "metadata": {},
   "source": [
    "## Prepare data"
   ]
  },
  {
   "cell_type": "code",
   "execution_count": 2,
   "metadata": {},
   "outputs": [],
   "source": [
    "data = pd.read_csv(os.path.join(os.getcwd(), 'banknote_authentication.txt'), names=['variance', 'skewness', 'curtosis',\n",
    "                                                                                    'entropy', 'class'])"
   ]
  },
  {
   "cell_type": "code",
   "execution_count": 3,
   "metadata": {},
   "outputs": [
    {
     "data": {
      "text/html": [
       "<div>\n",
       "<style scoped>\n",
       "    .dataframe tbody tr th:only-of-type {\n",
       "        vertical-align: middle;\n",
       "    }\n",
       "\n",
       "    .dataframe tbody tr th {\n",
       "        vertical-align: top;\n",
       "    }\n",
       "\n",
       "    .dataframe thead th {\n",
       "        text-align: right;\n",
       "    }\n",
       "</style>\n",
       "<table border=\"1\" class=\"dataframe\">\n",
       "  <thead>\n",
       "    <tr style=\"text-align: right;\">\n",
       "      <th></th>\n",
       "      <th>variance</th>\n",
       "      <th>skewness</th>\n",
       "      <th>curtosis</th>\n",
       "      <th>entropy</th>\n",
       "      <th>class</th>\n",
       "    </tr>\n",
       "  </thead>\n",
       "  <tbody>\n",
       "    <tr>\n",
       "      <th>count</th>\n",
       "      <td>1372.000000</td>\n",
       "      <td>1372.000000</td>\n",
       "      <td>1372.000000</td>\n",
       "      <td>1372.000000</td>\n",
       "      <td>1372.000000</td>\n",
       "    </tr>\n",
       "    <tr>\n",
       "      <th>mean</th>\n",
       "      <td>0.433735</td>\n",
       "      <td>1.922353</td>\n",
       "      <td>1.397627</td>\n",
       "      <td>-1.191657</td>\n",
       "      <td>0.444606</td>\n",
       "    </tr>\n",
       "    <tr>\n",
       "      <th>std</th>\n",
       "      <td>2.842763</td>\n",
       "      <td>5.869047</td>\n",
       "      <td>4.310030</td>\n",
       "      <td>2.101013</td>\n",
       "      <td>0.497103</td>\n",
       "    </tr>\n",
       "    <tr>\n",
       "      <th>min</th>\n",
       "      <td>-7.042100</td>\n",
       "      <td>-13.773100</td>\n",
       "      <td>-5.286100</td>\n",
       "      <td>-8.548200</td>\n",
       "      <td>0.000000</td>\n",
       "    </tr>\n",
       "    <tr>\n",
       "      <th>25%</th>\n",
       "      <td>-1.773000</td>\n",
       "      <td>-1.708200</td>\n",
       "      <td>-1.574975</td>\n",
       "      <td>-2.413450</td>\n",
       "      <td>0.000000</td>\n",
       "    </tr>\n",
       "    <tr>\n",
       "      <th>50%</th>\n",
       "      <td>0.496180</td>\n",
       "      <td>2.319650</td>\n",
       "      <td>0.616630</td>\n",
       "      <td>-0.586650</td>\n",
       "      <td>0.000000</td>\n",
       "    </tr>\n",
       "    <tr>\n",
       "      <th>75%</th>\n",
       "      <td>2.821475</td>\n",
       "      <td>6.814625</td>\n",
       "      <td>3.179250</td>\n",
       "      <td>0.394810</td>\n",
       "      <td>1.000000</td>\n",
       "    </tr>\n",
       "    <tr>\n",
       "      <th>max</th>\n",
       "      <td>6.824800</td>\n",
       "      <td>12.951600</td>\n",
       "      <td>17.927400</td>\n",
       "      <td>2.449500</td>\n",
       "      <td>1.000000</td>\n",
       "    </tr>\n",
       "  </tbody>\n",
       "</table>\n",
       "</div>"
      ],
      "text/plain": [
       "          variance     skewness     curtosis      entropy        class\n",
       "count  1372.000000  1372.000000  1372.000000  1372.000000  1372.000000\n",
       "mean      0.433735     1.922353     1.397627    -1.191657     0.444606\n",
       "std       2.842763     5.869047     4.310030     2.101013     0.497103\n",
       "min      -7.042100   -13.773100    -5.286100    -8.548200     0.000000\n",
       "25%      -1.773000    -1.708200    -1.574975    -2.413450     0.000000\n",
       "50%       0.496180     2.319650     0.616630    -0.586650     0.000000\n",
       "75%       2.821475     6.814625     3.179250     0.394810     1.000000\n",
       "max       6.824800    12.951600    17.927400     2.449500     1.000000"
      ]
     },
     "execution_count": 3,
     "metadata": {},
     "output_type": "execute_result"
    }
   ],
   "source": [
    "data.describe()"
   ]
  },
  {
   "cell_type": "code",
   "execution_count": 4,
   "metadata": {},
   "outputs": [
    {
     "name": "stdout",
     "output_type": "stream",
     "text": [
      "(1098, 4) (136, 4) (138, 4)\n",
      "(1098,) (136,) (138,)\n"
     ]
    }
   ],
   "source": [
    "X = data.drop('class', axis=1)\n",
    "y = data['class']\n",
    "X_train, X_test, y_train, y_test = train_test_split(X, y, test_size=0.1, random_state=1)\n",
    "X_train, X_val, y_train, y_val = train_test_split(X_train, y_train, test_size=0.11, random_state=1)\n",
    "print(X_train.shape, X_val.shape, X_test.shape)\n",
    "print(y_train.shape, y_val.shape, y_test.shape)"
   ]
  },
  {
   "cell_type": "code",
   "execution_count": 5,
   "metadata": {},
   "outputs": [],
   "source": [
    "X_scaler = StandardScaler()\n",
    "X_train = X_scaler.fit_transform(X_train)\n",
    "X_val = X_scaler.transform(X_val)\n",
    "X_test = X_scaler.transform(X_test)\n",
    "y_train = y_train.values.reshape(-1, 1)\n",
    "y_val = y_val.values.reshape(-1,)\n",
    "y_test = y_test.values.reshape(-1,)"
   ]
  },
  {
   "cell_type": "code",
   "execution_count": 6,
   "metadata": {},
   "outputs": [],
   "source": [
    "def plot_history(history):\n",
    "    plt.figure()\n",
    "    plt.xlabel('Epoch')\n",
    "    plt.ylabel('Mean Abs Error [1000$]')\n",
    "    plt.plot(history.epoch, np.array(history.history['loss']),\n",
    "           label='Train Loss')\n",
    "    plt.plot(history.epoch, np.array(history.history['val_loss']),\n",
    "           label = 'Val loss')\n",
    "    plt.legend()"
   ]
  },
  {
   "cell_type": "code",
   "execution_count": 7,
   "metadata": {},
   "outputs": [],
   "source": [
    "def plot_confusion_matrix(cm, classes=None, title='Confusion matrix'):\n",
    "    \"\"\"Plots a confusion matrix.\"\"\"\n",
    "    if classes is not None:\n",
    "        sns.heatmap(cm, xticklabels=classes, yticklabels=classes, vmin=0., vmax=1., annot=True)\n",
    "    else:\n",
    "        sns.heatmap(cm, vmin=0., vmax=1.)\n",
    "    plt.title(title)\n",
    "    plt.ylabel('True label')\n",
    "    plt.xlabel('Predicted label')"
   ]
  },
  {
   "cell_type": "markdown",
   "metadata": {},
   "source": [
    "## Models"
   ]
  },
  {
   "cell_type": "code",
   "execution_count": 14,
   "metadata": {},
   "outputs": [],
   "source": [
    "model = keras.Sequential([\n",
    "    keras.layers.Dense(4, input_shape=(4,), kernel_regularizer=keras.regularizers.l2(0.01)),\n",
    "    keras.layers.Activation('relu'),\n",
    "    keras.layers.Dense(1, kernel_regularizer=keras.regularizers.l2(0.01)),\n",
    "    keras.layers.Activation('sigmoid')\n",
    "])\n",
    "optimizer = tf.train.AdamOptimizer(0.001)\n",
    "model.compile(loss='binary_crossentropy', optimizer=optimizer, metrics=['accuracy'])"
   ]
  },
  {
   "cell_type": "code",
   "execution_count": 15,
   "metadata": {},
   "outputs": [
    {
     "name": "stdout",
     "output_type": "stream",
     "text": [
      "_________________________________________________________________\n",
      "Layer (type)                 Output Shape              Param #   \n",
      "=================================================================\n",
      "dense_2 (Dense)              (None, 4)                 20        \n",
      "_________________________________________________________________\n",
      "activation_2 (Activation)    (None, 4)                 0         \n",
      "_________________________________________________________________\n",
      "dense_3 (Dense)              (None, 1)                 5         \n",
      "_________________________________________________________________\n",
      "activation_3 (Activation)    (None, 1)                 0         \n",
      "=================================================================\n",
      "Total params: 25\n",
      "Trainable params: 25\n",
      "Non-trainable params: 0\n",
      "_________________________________________________________________\n"
     ]
    }
   ],
   "source": [
    "model.summary()"
   ]
  },
  {
   "cell_type": "code",
   "execution_count": 16,
   "metadata": {},
   "outputs": [],
   "source": [
    "early_stop = keras.callbacks.EarlyStopping(monitor='val_loss', min_delta=0, patience=2, verbose=0, mode='auto')"
   ]
  },
  {
   "cell_type": "code",
   "execution_count": 17,
   "metadata": {},
   "outputs": [
    {
     "name": "stdout",
     "output_type": "stream",
     "text": [
      "Train on 1098 samples, validate on 136 samples\n",
      "Epoch 1/1000\n",
      "1098/1098 [==============================] - 1s 884us/step - loss: 0.6856 - acc: 0.6239 - val_loss: 0.6963 - val_acc: 0.6176\n",
      "Epoch 2/1000\n",
      "1098/1098 [==============================] - 0s 339us/step - loss: 0.6636 - acc: 0.6639 - val_loss: 0.6782 - val_acc: 0.6250\n",
      "Epoch 3/1000\n",
      "1098/1098 [==============================] - 0s 351us/step - loss: 0.6440 - acc: 0.6922 - val_loss: 0.6619 - val_acc: 0.6471\n",
      "Epoch 4/1000\n",
      "1098/1098 [==============================] - 0s 368us/step - loss: 0.6260 - acc: 0.7104 - val_loss: 0.6467 - val_acc: 0.6544\n",
      "Epoch 5/1000\n",
      "1098/1098 [==============================] - 0s 424us/step - loss: 0.6089 - acc: 0.7395 - val_loss: 0.6321 - val_acc: 0.6985\n",
      "Epoch 6/1000\n",
      "1098/1098 [==============================] - 0s 421us/step - loss: 0.5923 - acc: 0.7787 - val_loss: 0.6174 - val_acc: 0.7426\n",
      "Epoch 7/1000\n",
      "1098/1098 [==============================] - 0s 335us/step - loss: 0.5759 - acc: 0.8087 - val_loss: 0.6027 - val_acc: 0.7500\n",
      "Epoch 8/1000\n",
      "1098/1098 [==============================] - 0s 407us/step - loss: 0.5595 - acc: 0.8215 - val_loss: 0.5879 - val_acc: 0.7647\n",
      "Epoch 9/1000\n",
      "1098/1098 [==============================] - 0s 381us/step - loss: 0.5432 - acc: 0.8388 - val_loss: 0.5729 - val_acc: 0.7794\n",
      "Epoch 10/1000\n",
      "1098/1098 [==============================] - 0s 395us/step - loss: 0.5275 - acc: 0.8470 - val_loss: 0.5582 - val_acc: 0.7721\n",
      "Epoch 11/1000\n",
      "1098/1098 [==============================] - 1s 458us/step - loss: 0.5117 - acc: 0.8679 - val_loss: 0.5439 - val_acc: 0.8015\n",
      "Epoch 12/1000\n",
      "1098/1098 [==============================] - 1s 473us/step - loss: 0.4964 - acc: 0.8789 - val_loss: 0.5299 - val_acc: 0.8235\n",
      "Epoch 13/1000\n",
      "1098/1098 [==============================] - 0s 332us/step - loss: 0.4817 - acc: 0.8898 - val_loss: 0.5157 - val_acc: 0.8382\n",
      "Epoch 14/1000\n",
      "1098/1098 [==============================] - 0s 347us/step - loss: 0.4671 - acc: 0.9026 - val_loss: 0.5015 - val_acc: 0.8382\n",
      "Epoch 15/1000\n",
      "1098/1098 [==============================] - 0s 358us/step - loss: 0.4523 - acc: 0.9126 - val_loss: 0.4866 - val_acc: 0.8676\n",
      "Epoch 16/1000\n",
      "1098/1098 [==============================] - 0s 321us/step - loss: 0.4370 - acc: 0.9235 - val_loss: 0.4717 - val_acc: 0.8897\n",
      "Epoch 17/1000\n",
      "1098/1098 [==============================] - 0s 360us/step - loss: 0.4215 - acc: 0.9326 - val_loss: 0.4564 - val_acc: 0.9044\n",
      "Epoch 18/1000\n",
      "1098/1098 [==============================] - 0s 338us/step - loss: 0.4053 - acc: 0.9417 - val_loss: 0.4392 - val_acc: 0.9118\n",
      "Epoch 19/1000\n",
      "1098/1098 [==============================] - 0s 368us/step - loss: 0.3872 - acc: 0.9490 - val_loss: 0.4201 - val_acc: 0.9191\n",
      "Epoch 20/1000\n",
      "1098/1098 [==============================] - 0s 387us/step - loss: 0.3679 - acc: 0.9563 - val_loss: 0.4002 - val_acc: 0.9265\n",
      "Epoch 21/1000\n",
      "1098/1098 [==============================] - 0s 421us/step - loss: 0.3475 - acc: 0.9599 - val_loss: 0.3788 - val_acc: 0.9338\n",
      "Epoch 22/1000\n",
      "1098/1098 [==============================] - 0s 379us/step - loss: 0.3264 - acc: 0.9617 - val_loss: 0.3596 - val_acc: 0.9412\n",
      "Epoch 23/1000\n",
      "1098/1098 [==============================] - 0s 419us/step - loss: 0.3087 - acc: 0.9672 - val_loss: 0.3431 - val_acc: 0.9485\n",
      "Epoch 24/1000\n",
      "1098/1098 [==============================] - 0s 374us/step - loss: 0.2936 - acc: 0.9690 - val_loss: 0.3285 - val_acc: 0.9559\n",
      "Epoch 25/1000\n",
      "1098/1098 [==============================] - 0s 413us/step - loss: 0.2806 - acc: 0.9727 - val_loss: 0.3164 - val_acc: 0.9632\n",
      "Epoch 26/1000\n",
      "1098/1098 [==============================] - 1s 463us/step - loss: 0.2695 - acc: 0.9745 - val_loss: 0.3055 - val_acc: 0.9706\n",
      "Epoch 27/1000\n",
      "1098/1098 [==============================] - 0s 385us/step - loss: 0.2600 - acc: 0.9745 - val_loss: 0.2963 - val_acc: 0.9706\n",
      "Epoch 28/1000\n",
      "1098/1098 [==============================] - 0s 389us/step - loss: 0.2520 - acc: 0.9763 - val_loss: 0.2880 - val_acc: 0.9706\n",
      "Epoch 29/1000\n",
      "1098/1098 [==============================] - 0s 385us/step - loss: 0.2451 - acc: 0.9772 - val_loss: 0.2812 - val_acc: 0.9706\n",
      "Epoch 30/1000\n",
      "1098/1098 [==============================] - 0s 377us/step - loss: 0.2392 - acc: 0.9791 - val_loss: 0.2750 - val_acc: 0.9706\n",
      "Epoch 31/1000\n",
      "1098/1098 [==============================] - 0s 424us/step - loss: 0.2342 - acc: 0.9800 - val_loss: 0.2702 - val_acc: 0.9706\n",
      "Epoch 32/1000\n",
      "1098/1098 [==============================] - 1s 479us/step - loss: 0.2300 - acc: 0.9772 - val_loss: 0.2659 - val_acc: 0.9706\n",
      "Epoch 33/1000\n",
      "1098/1098 [==============================] - 1s 709us/step - loss: 0.2263 - acc: 0.9772 - val_loss: 0.2621 - val_acc: 0.9706\n",
      "Epoch 34/1000\n",
      "1098/1098 [==============================] - 1s 556us/step - loss: 0.2231 - acc: 0.9772 - val_loss: 0.2588 - val_acc: 0.9706\n",
      "Epoch 35/1000\n",
      "1098/1098 [==============================] - 0s 408us/step - loss: 0.2203 - acc: 0.9772 - val_loss: 0.2554 - val_acc: 0.9706\n",
      "Epoch 36/1000\n",
      "1098/1098 [==============================] - 0s 438us/step - loss: 0.2178 - acc: 0.9781 - val_loss: 0.2528 - val_acc: 0.9706\n",
      "Epoch 37/1000\n",
      "1098/1098 [==============================] - 0s 447us/step - loss: 0.2155 - acc: 0.9791 - val_loss: 0.2504 - val_acc: 0.9706\n",
      "Epoch 38/1000\n",
      "1098/1098 [==============================] - 0s 432us/step - loss: 0.2136 - acc: 0.9800 - val_loss: 0.2482 - val_acc: 0.9706\n",
      "Epoch 39/1000\n",
      "1098/1098 [==============================] - 0s 345us/step - loss: 0.2120 - acc: 0.9800 - val_loss: 0.2463 - val_acc: 0.9706\n",
      "Epoch 40/1000\n",
      "1098/1098 [==============================] - 0s 416us/step - loss: 0.2103 - acc: 0.9800 - val_loss: 0.2446 - val_acc: 0.9706\n",
      "Epoch 41/1000\n",
      "1098/1098 [==============================] - 0s 386us/step - loss: 0.2090 - acc: 0.9809 - val_loss: 0.2428 - val_acc: 0.9706\n",
      "Epoch 42/1000\n",
      "1098/1098 [==============================] - 0s 393us/step - loss: 0.2077 - acc: 0.9809 - val_loss: 0.2418 - val_acc: 0.9706\n",
      "Epoch 43/1000\n",
      "1098/1098 [==============================] - 0s 432us/step - loss: 0.2064 - acc: 0.9809 - val_loss: 0.2401 - val_acc: 0.9706\n",
      "Epoch 44/1000\n",
      "1098/1098 [==============================] - 0s 389us/step - loss: 0.2053 - acc: 0.9818 - val_loss: 0.2387 - val_acc: 0.9706\n",
      "Epoch 45/1000\n",
      "1098/1098 [==============================] - 0s 377us/step - loss: 0.2042 - acc: 0.9818 - val_loss: 0.2379 - val_acc: 0.9706\n",
      "Epoch 46/1000\n",
      "1098/1098 [==============================] - 0s 397us/step - loss: 0.2032 - acc: 0.9818 - val_loss: 0.2362 - val_acc: 0.9706\n",
      "Epoch 47/1000\n",
      "1098/1098 [==============================] - 0s 406us/step - loss: 0.2023 - acc: 0.9818 - val_loss: 0.2351 - val_acc: 0.9706\n",
      "Epoch 48/1000\n",
      "1098/1098 [==============================] - 0s 438us/step - loss: 0.2014 - acc: 0.9818 - val_loss: 0.2340 - val_acc: 0.9706\n",
      "Epoch 49/1000\n",
      "1098/1098 [==============================] - 0s 377us/step - loss: 0.2006 - acc: 0.9818 - val_loss: 0.2325 - val_acc: 0.9706\n",
      "Epoch 50/1000\n",
      "1098/1098 [==============================] - 0s 378us/step - loss: 0.1999 - acc: 0.9818 - val_loss: 0.2319 - val_acc: 0.9706\n",
      "Epoch 51/1000\n",
      "1098/1098 [==============================] - 0s 325us/step - loss: 0.1990 - acc: 0.9818 - val_loss: 0.2307 - val_acc: 0.9706\n",
      "Epoch 52/1000\n",
      "1098/1098 [==============================] - 0s 325us/step - loss: 0.1982 - acc: 0.9818 - val_loss: 0.2296 - val_acc: 0.9779\n",
      "Epoch 53/1000\n",
      "1098/1098 [==============================] - 0s 446us/step - loss: 0.1974 - acc: 0.9818 - val_loss: 0.2290 - val_acc: 0.9779\n",
      "Epoch 54/1000\n",
      "1098/1098 [==============================] - 0s 422us/step - loss: 0.1966 - acc: 0.9818 - val_loss: 0.2279 - val_acc: 0.9779\n",
      "Epoch 55/1000\n",
      "1098/1098 [==============================] - 0s 363us/step - loss: 0.1959 - acc: 0.9818 - val_loss: 0.2271 - val_acc: 0.9779\n",
      "Epoch 56/1000\n",
      "1098/1098 [==============================] - 0s 427us/step - loss: 0.1952 - acc: 0.9809 - val_loss: 0.2263 - val_acc: 0.9779\n",
      "Epoch 57/1000\n",
      "1098/1098 [==============================] - 0s 350us/step - loss: 0.1946 - acc: 0.9809 - val_loss: 0.2251 - val_acc: 0.9779\n",
      "Epoch 58/1000\n",
      "1098/1098 [==============================] - 0s 417us/step - loss: 0.1938 - acc: 0.9809 - val_loss: 0.2242 - val_acc: 0.9779\n",
      "Epoch 59/1000\n"
     ]
    },
    {
     "name": "stdout",
     "output_type": "stream",
     "text": [
      "1098/1098 [==============================] - 0s 446us/step - loss: 0.1932 - acc: 0.9809 - val_loss: 0.2235 - val_acc: 0.9779\n",
      "Epoch 60/1000\n",
      "1098/1098 [==============================] - 0s 345us/step - loss: 0.1927 - acc: 0.9809 - val_loss: 0.2225 - val_acc: 0.9779\n",
      "Epoch 61/1000\n",
      "1098/1098 [==============================] - 0s 407us/step - loss: 0.1922 - acc: 0.9809 - val_loss: 0.2219 - val_acc: 0.9779\n",
      "Epoch 62/1000\n",
      "1098/1098 [==============================] - 0s 352us/step - loss: 0.1918 - acc: 0.9809 - val_loss: 0.2210 - val_acc: 0.9779\n",
      "Epoch 63/1000\n",
      "1098/1098 [==============================] - 0s 418us/step - loss: 0.1913 - acc: 0.9800 - val_loss: 0.2206 - val_acc: 0.9779\n",
      "Epoch 64/1000\n",
      "1098/1098 [==============================] - 0s 367us/step - loss: 0.1910 - acc: 0.9781 - val_loss: 0.2198 - val_acc: 0.9779\n",
      "Epoch 65/1000\n",
      "1098/1098 [==============================] - 0s 412us/step - loss: 0.1905 - acc: 0.9781 - val_loss: 0.2189 - val_acc: 0.9779\n",
      "Epoch 66/1000\n",
      "1098/1098 [==============================] - 0s 382us/step - loss: 0.1901 - acc: 0.9781 - val_loss: 0.2183 - val_acc: 0.9779\n",
      "Epoch 67/1000\n",
      "1098/1098 [==============================] - 0s 370us/step - loss: 0.1898 - acc: 0.9781 - val_loss: 0.2181 - val_acc: 0.9779\n",
      "Epoch 68/1000\n",
      "1098/1098 [==============================] - 0s 422us/step - loss: 0.1893 - acc: 0.9781 - val_loss: 0.2175 - val_acc: 0.9779\n",
      "Epoch 69/1000\n",
      "1098/1098 [==============================] - 0s 396us/step - loss: 0.1889 - acc: 0.9781 - val_loss: 0.2165 - val_acc: 0.9779\n",
      "Epoch 70/1000\n",
      "1098/1098 [==============================] - 0s 383us/step - loss: 0.1885 - acc: 0.9800 - val_loss: 0.2159 - val_acc: 0.9779\n",
      "Epoch 71/1000\n",
      "1098/1098 [==============================] - 0s 398us/step - loss: 0.1881 - acc: 0.9809 - val_loss: 0.2157 - val_acc: 0.9779\n",
      "Epoch 72/1000\n",
      "1098/1098 [==============================] - 0s 450us/step - loss: 0.1879 - acc: 0.9800 - val_loss: 0.2156 - val_acc: 0.9779\n",
      "Epoch 73/1000\n",
      "1098/1098 [==============================] - 1s 493us/step - loss: 0.1876 - acc: 0.9791 - val_loss: 0.2149 - val_acc: 0.9779\n",
      "Epoch 74/1000\n",
      "1098/1098 [==============================] - 0s 427us/step - loss: 0.1875 - acc: 0.9791 - val_loss: 0.2148 - val_acc: 0.9779\n",
      "Epoch 75/1000\n",
      "1098/1098 [==============================] - 0s 410us/step - loss: 0.1871 - acc: 0.9809 - val_loss: 0.2147 - val_acc: 0.9779\n",
      "Epoch 76/1000\n",
      "1098/1098 [==============================] - 0s 312us/step - loss: 0.1869 - acc: 0.9809 - val_loss: 0.2143 - val_acc: 0.9779\n",
      "Epoch 77/1000\n",
      "1098/1098 [==============================] - 0s 388us/step - loss: 0.1868 - acc: 0.9809 - val_loss: 0.2144 - val_acc: 0.9779\n",
      "Epoch 78/1000\n",
      "1098/1098 [==============================] - 0s 424us/step - loss: 0.1866 - acc: 0.9809 - val_loss: 0.2139 - val_acc: 0.9779\n",
      "Epoch 79/1000\n",
      "1098/1098 [==============================] - 0s 412us/step - loss: 0.1864 - acc: 0.9809 - val_loss: 0.2135 - val_acc: 0.9779\n",
      "Epoch 80/1000\n",
      "1098/1098 [==============================] - 0s 390us/step - loss: 0.1864 - acc: 0.9809 - val_loss: 0.2133 - val_acc: 0.9779\n",
      "Epoch 81/1000\n",
      "1098/1098 [==============================] - 0s 390us/step - loss: 0.1863 - acc: 0.9809 - val_loss: 0.2136 - val_acc: 0.9779\n",
      "Epoch 82/1000\n",
      "1098/1098 [==============================] - 0s 433us/step - loss: 0.1861 - acc: 0.9809 - val_loss: 0.2134 - val_acc: 0.9779\n"
     ]
    }
   ],
   "source": [
    "history = model.fit(X_train, y_train, epochs=1000, validation_data=[X_val, y_val], callbacks=[early_stop])"
   ]
  },
  {
   "cell_type": "code",
   "execution_count": 18,
   "metadata": {},
   "outputs": [
    {
     "data": {
      "image/png": "[encoded data removed]",
      "text/plain": [
       "<Figure size 432x288 with 1 Axes>"
      ]
     },
     "metadata": {
      "needs_background": "light"
     },
     "output_type": "display_data"
    }
   ],
   "source": [
    "plot_history(history)"
   ]
  },
  {
   "cell_type": "code",
   "execution_count": 19,
   "metadata": {},
   "outputs": [
    {
     "data": {
      "text/plain": [
       "0.9782608695652174"
      ]
     },
     "execution_count": 19,
     "metadata": {},
     "output_type": "execute_result"
    }
   ],
   "source": [
    "pred = np.round(model.predict(X_test).reshape(-1,))\n",
    "accuracy_score(pred, y_test)"
   ]
  },
  {
   "cell_type": "code",
   "execution_count": 20,
   "metadata": {},
   "outputs": [
    {
     "data": {
      "image/png": "[encoded data removed]",
      "text/plain": [
       "<Figure size 432x288 with 2 Axes>"
      ]
     },
     "metadata": {
      "needs_background": "light"
     },
     "output_type": "display_data"
    }
   ],
   "source": [
    "mat = confusion_matrix(pred, y_test)\n",
    "cm = mat / np.sum(mat, axis=1)\n",
    "plot_confusion_matrix(cm, classes=['Real', 'Fake'])"
   ]
  },
  {
   "cell_type": "code",
   "execution_count": 21,
   "metadata": {},
   "outputs": [],
   "source": [
    "weights = model.get_weights()\n",
    "np.save('relu_weights', weights, allow_pickle=True)"
   ]
  },
  {
   "cell_type": "code",
   "execution_count": null,
   "metadata": {},
   "outputs": [],
   "source": []
  }
 ],
 "metadata": {
  "kernelspec": {
   "display_name": "Python 3",
   "language": "python",
   "name": "python3"
  },
  "language_info": {
   "codemirror_mode": {
    "name": "ipython",
    "version": 3
   },
   "file_extension": ".py",
   "mimetype": "text/x-python",
   "name": "python",
   "nbconvert_exporter": "python",
   "pygments_lexer": "ipython3",
   "version": "3.6.8"
  }
 },
 "nbformat": 4,
 "nbformat_minor": 2
}
