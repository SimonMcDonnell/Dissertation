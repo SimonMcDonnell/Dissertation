{
 "cells": [
  {
   "cell_type": "code",
   "execution_count": 68,
   "metadata": {},
   "outputs": [],
   "source": [
    "import numpy as np\n",
    "import pandas as pd\n",
    "import matplotlib.pyplot as plt\n",
    "from tensorflow import keras\n",
    "import tensorflow as tf\n",
    "from sklearn.model_selection import train_test_split\n",
    "from sklearn.preprocessing import StandardScaler\n",
    "import seaborn as sns\n",
    "from sklearn.metrics import accuracy_score, confusion_matrix\n",
    "import os"
   ]
  },
  {
   "cell_type": "markdown",
   "metadata": {},
   "source": [
    "## Prepare data"
   ]
  },
  {
   "cell_type": "code",
   "execution_count": 32,
   "metadata": {},
   "outputs": [],
   "source": [
    "data = pd.read_csv(os.path.join(os.getcwd(), 'banknote_authentication.txt'), names=['variance', 'skewness', 'curtosis',\n",
    "                                                                                    'entropy', 'class'])"
   ]
  },
  {
   "cell_type": "code",
   "execution_count": 33,
   "metadata": {},
   "outputs": [
    {
     "data": {
      "text/html": [
       "<div>\n",
       "<style scoped>\n",
       "    .dataframe tbody tr th:only-of-type {\n",
       "        vertical-align: middle;\n",
       "    }\n",
       "\n",
       "    .dataframe tbody tr th {\n",
       "        vertical-align: top;\n",
       "    }\n",
       "\n",
       "    .dataframe thead th {\n",
       "        text-align: right;\n",
       "    }\n",
       "</style>\n",
       "<table border=\"1\" class=\"dataframe\">\n",
       "  <thead>\n",
       "    <tr style=\"text-align: right;\">\n",
       "      <th></th>\n",
       "      <th>variance</th>\n",
       "      <th>skewness</th>\n",
       "      <th>curtosis</th>\n",
       "      <th>entropy</th>\n",
       "      <th>class</th>\n",
       "    </tr>\n",
       "  </thead>\n",
       "  <tbody>\n",
       "    <tr>\n",
       "      <th>count</th>\n",
       "      <td>1372.000000</td>\n",
       "      <td>1372.000000</td>\n",
       "      <td>1372.000000</td>\n",
       "      <td>1372.000000</td>\n",
       "      <td>1372.000000</td>\n",
       "    </tr>\n",
       "    <tr>\n",
       "      <th>mean</th>\n",
       "      <td>0.433735</td>\n",
       "      <td>1.922353</td>\n",
       "      <td>1.397627</td>\n",
       "      <td>-1.191657</td>\n",
       "      <td>0.444606</td>\n",
       "    </tr>\n",
       "    <tr>\n",
       "      <th>std</th>\n",
       "      <td>2.842763</td>\n",
       "      <td>5.869047</td>\n",
       "      <td>4.310030</td>\n",
       "      <td>2.101013</td>\n",
       "      <td>0.497103</td>\n",
       "    </tr>\n",
       "    <tr>\n",
       "      <th>min</th>\n",
       "      <td>-7.042100</td>\n",
       "      <td>-13.773100</td>\n",
       "      <td>-5.286100</td>\n",
       "      <td>-8.548200</td>\n",
       "      <td>0.000000</td>\n",
       "    </tr>\n",
       "    <tr>\n",
       "      <th>25%</th>\n",
       "      <td>-1.773000</td>\n",
       "      <td>-1.708200</td>\n",
       "      <td>-1.574975</td>\n",
       "      <td>-2.413450</td>\n",
       "      <td>0.000000</td>\n",
       "    </tr>\n",
       "    <tr>\n",
       "      <th>50%</th>\n",
       "      <td>0.496180</td>\n",
       "      <td>2.319650</td>\n",
       "      <td>0.616630</td>\n",
       "      <td>-0.586650</td>\n",
       "      <td>0.000000</td>\n",
       "    </tr>\n",
       "    <tr>\n",
       "      <th>75%</th>\n",
       "      <td>2.821475</td>\n",
       "      <td>6.814625</td>\n",
       "      <td>3.179250</td>\n",
       "      <td>0.394810</td>\n",
       "      <td>1.000000</td>\n",
       "    </tr>\n",
       "    <tr>\n",
       "      <th>max</th>\n",
       "      <td>6.824800</td>\n",
       "      <td>12.951600</td>\n",
       "      <td>17.927400</td>\n",
       "      <td>2.449500</td>\n",
       "      <td>1.000000</td>\n",
       "    </tr>\n",
       "  </tbody>\n",
       "</table>\n",
       "</div>"
      ],
      "text/plain": [
       "          variance     skewness     curtosis      entropy        class\n",
       "count  1372.000000  1372.000000  1372.000000  1372.000000  1372.000000\n",
       "mean      0.433735     1.922353     1.397627    -1.191657     0.444606\n",
       "std       2.842763     5.869047     4.310030     2.101013     0.497103\n",
       "min      -7.042100   -13.773100    -5.286100    -8.548200     0.000000\n",
       "25%      -1.773000    -1.708200    -1.574975    -2.413450     0.000000\n",
       "50%       0.496180     2.319650     0.616630    -0.586650     0.000000\n",
       "75%       2.821475     6.814625     3.179250     0.394810     1.000000\n",
       "max       6.824800    12.951600    17.927400     2.449500     1.000000"
      ]
     },
     "execution_count": 33,
     "metadata": {},
     "output_type": "execute_result"
    }
   ],
   "source": [
    "data.describe()"
   ]
  },
  {
   "cell_type": "code",
   "execution_count": 105,
   "metadata": {},
   "outputs": [
    {
     "name": "stdout",
     "output_type": "stream",
     "text": [
      "(1098, 4) (136, 4) (138, 4)\n",
      "(1098,) (136,) (138,)\n"
     ]
    }
   ],
   "source": [
    "X = data.drop('class', axis=1)\n",
    "y = data['class']\n",
    "X_train, X_test, y_train, y_test = train_test_split(X, y, test_size=0.1, random_state=1)\n",
    "X_train, X_val, y_train, y_val = train_test_split(X_train, y_train, test_size=0.11, random_state=1)\n",
    "print(X_train.shape, X_val.shape, X_test.shape)\n",
    "print(y_train.shape, y_val.shape, y_test.shape)"
   ]
  },
  {
   "cell_type": "code",
   "execution_count": 106,
   "metadata": {},
   "outputs": [],
   "source": [
    "X_scaler = StandardScaler()\n",
    "X_train = X_scaler.fit_transform(X_train)\n",
    "X_val = X_scaler.transform(X_val)\n",
    "X_test = X_scaler.transform(X_test)\n",
    "y_train = y_train.values.reshape(-1, 1)\n",
    "y_val = y_val.values.reshape(-1,)\n",
    "y_test = y_test.values.reshape(-1,)"
   ]
  },
  {
   "cell_type": "code",
   "execution_count": 107,
   "metadata": {},
   "outputs": [],
   "source": [
    "def plot_history(history):\n",
    "    plt.figure()\n",
    "    plt.xlabel('Epoch')\n",
    "    plt.ylabel('Mean Abs Error [1000$]')\n",
    "    plt.plot(history.epoch, np.array(history.history['loss']),\n",
    "           label='Train Loss')\n",
    "    plt.plot(history.epoch, np.array(history.history['val_loss']),\n",
    "           label = 'Val loss')\n",
    "    plt.legend()"
   ]
  },
  {
   "cell_type": "code",
   "execution_count": 108,
   "metadata": {},
   "outputs": [],
   "source": [
    "def plot_confusion_matrix(cm, classes=None, title='Confusion matrix'):\n",
    "    \"\"\"Plots a confusion matrix.\"\"\"\n",
    "    if classes is not None:\n",
    "        sns.heatmap(cm, xticklabels=classes, yticklabels=classes, vmin=0., vmax=1., annot=True)\n",
    "    else:\n",
    "        sns.heatmap(cm, vmin=0., vmax=1.)\n",
    "    plt.title(title)\n",
    "    plt.ylabel('True label')\n",
    "    plt.xlabel('Predicted label')"
   ]
  },
  {
   "cell_type": "markdown",
   "metadata": {},
   "source": [
    "## Models"
   ]
  },
  {
   "cell_type": "code",
   "execution_count": 109,
   "metadata": {},
   "outputs": [],
   "source": [
    "model = keras.Sequential([\n",
    "    keras.layers.Dense(4, input_shape=(4,), kernel_regularizer=keras.regularizers.l2(0.01)),\n",
    "    keras.layers.Activation('relu'),\n",
    "    keras.layers.Dense(1, kernel_regularizer=keras.regularizers.l2(0.01)),\n",
    "    keras.layers.Activation('sigmoid')\n",
    "])\n",
    "optimizer = tf.train.AdamOptimizer(0.001)\n",
    "model.compile(loss='binary_crossentropy', optimizer=optimizer, metrics=['accuracy'])"
   ]
  },
  {
   "cell_type": "code",
   "execution_count": 110,
   "metadata": {},
   "outputs": [
    {
     "name": "stdout",
     "output_type": "stream",
     "text": [
      "_________________________________________________________________\n",
      "Layer (type)                 Output Shape              Param #   \n",
      "=================================================================\n",
      "dense_22 (Dense)             (None, 4)                 20        \n",
      "_________________________________________________________________\n",
      "activation_22 (Activation)   (None, 4)                 0         \n",
      "_________________________________________________________________\n",
      "dense_23 (Dense)             (None, 1)                 5         \n",
      "_________________________________________________________________\n",
      "activation_23 (Activation)   (None, 1)                 0         \n",
      "=================================================================\n",
      "Total params: 25\n",
      "Trainable params: 25\n",
      "Non-trainable params: 0\n",
      "_________________________________________________________________\n"
     ]
    }
   ],
   "source": [
    "model.summary()"
   ]
  },
  {
   "cell_type": "code",
   "execution_count": 111,
   "metadata": {},
   "outputs": [],
   "source": [
    "early_stop = keras.callbacks.EarlyStopping(monitor='val_loss', min_delta=0, patience=5, verbose=0, mode='auto')"
   ]
  },
  {
   "cell_type": "code",
   "execution_count": 112,
   "metadata": {},
   "outputs": [
    {
     "name": "stdout",
     "output_type": "stream",
     "text": [
      "Train on 1098 samples, validate on 136 samples\n",
      "Epoch 1/1000\n",
      "1098/1098 [==============================] - 1s 783us/step - loss: 0.8271 - acc: 0.3898 - val_loss: 0.7948 - val_acc: 0.3971\n",
      "Epoch 2/1000\n",
      "1098/1098 [==============================] - 0s 82us/step - loss: 0.7938 - acc: 0.4372 - val_loss: 0.7678 - val_acc: 0.4485\n",
      "Epoch 3/1000\n",
      "1098/1098 [==============================] - 0s 80us/step - loss: 0.7660 - acc: 0.4563 - val_loss: 0.7452 - val_acc: 0.5074\n",
      "Epoch 4/1000\n",
      "1098/1098 [==============================] - 0s 70us/step - loss: 0.7414 - acc: 0.5137 - val_loss: 0.7241 - val_acc: 0.5368\n",
      "Epoch 5/1000\n",
      "1098/1098 [==============================] - 0s 81us/step - loss: 0.7188 - acc: 0.5956 - val_loss: 0.7048 - val_acc: 0.5809\n",
      "Epoch 6/1000\n",
      "1098/1098 [==============================] - 0s 91us/step - loss: 0.6973 - acc: 0.6321 - val_loss: 0.6863 - val_acc: 0.6029\n",
      "Epoch 7/1000\n",
      "1098/1098 [==============================] - 0s 71us/step - loss: 0.6754 - acc: 0.6621 - val_loss: 0.6680 - val_acc: 0.6838\n",
      "Epoch 8/1000\n",
      "1098/1098 [==============================] - 0s 79us/step - loss: 0.6534 - acc: 0.6913 - val_loss: 0.6492 - val_acc: 0.7279\n",
      "Epoch 9/1000\n",
      "1098/1098 [==============================] - 0s 82us/step - loss: 0.6303 - acc: 0.7341 - val_loss: 0.6296 - val_acc: 0.7426\n",
      "Epoch 10/1000\n",
      "1098/1098 [==============================] - 0s 65us/step - loss: 0.6062 - acc: 0.7632 - val_loss: 0.6095 - val_acc: 0.7647\n",
      "Epoch 11/1000\n",
      "1098/1098 [==============================] - 0s 80us/step - loss: 0.5817 - acc: 0.7851 - val_loss: 0.5888 - val_acc: 0.7721\n",
      "Epoch 12/1000\n",
      "1098/1098 [==============================] - 0s 75us/step - loss: 0.5575 - acc: 0.7951 - val_loss: 0.5686 - val_acc: 0.7794\n",
      "Epoch 13/1000\n",
      "1098/1098 [==============================] - 0s 72us/step - loss: 0.5346 - acc: 0.8106 - val_loss: 0.5487 - val_acc: 0.7868\n",
      "Epoch 14/1000\n",
      "1098/1098 [==============================] - 0s 80us/step - loss: 0.5118 - acc: 0.8297 - val_loss: 0.5293 - val_acc: 0.7941\n",
      "Epoch 15/1000\n",
      "1098/1098 [==============================] - 0s 81us/step - loss: 0.4899 - acc: 0.8434 - val_loss: 0.5103 - val_acc: 0.8015\n",
      "Epoch 16/1000\n",
      "1098/1098 [==============================] - 0s 76us/step - loss: 0.4686 - acc: 0.8534 - val_loss: 0.4918 - val_acc: 0.8235\n",
      "Epoch 17/1000\n",
      "1098/1098 [==============================] - 0s 85us/step - loss: 0.4478 - acc: 0.8616 - val_loss: 0.4734 - val_acc: 0.8456\n",
      "Epoch 18/1000\n",
      "1098/1098 [==============================] - 0s 92us/step - loss: 0.4280 - acc: 0.8707 - val_loss: 0.4547 - val_acc: 0.8456\n",
      "Epoch 19/1000\n",
      "1098/1098 [==============================] - 0s 85us/step - loss: 0.4087 - acc: 0.8862 - val_loss: 0.4374 - val_acc: 0.8529\n",
      "Epoch 20/1000\n",
      "1098/1098 [==============================] - 0s 98us/step - loss: 0.3910 - acc: 0.8953 - val_loss: 0.4205 - val_acc: 0.8750\n",
      "Epoch 21/1000\n",
      "1098/1098 [==============================] - 0s 85us/step - loss: 0.3738 - acc: 0.9053 - val_loss: 0.4048 - val_acc: 0.8824\n",
      "Epoch 22/1000\n",
      "1098/1098 [==============================] - 0s 99us/step - loss: 0.3579 - acc: 0.9180 - val_loss: 0.3896 - val_acc: 0.8897\n",
      "Epoch 23/1000\n",
      "1098/1098 [==============================] - 0s 96us/step - loss: 0.3423 - acc: 0.9290 - val_loss: 0.3749 - val_acc: 0.8971\n",
      "Epoch 24/1000\n",
      "1098/1098 [==============================] - 0s 90us/step - loss: 0.3279 - acc: 0.9372 - val_loss: 0.3610 - val_acc: 0.9191\n",
      "Epoch 25/1000\n",
      "1098/1098 [==============================] - 0s 96us/step - loss: 0.3141 - acc: 0.9426 - val_loss: 0.3475 - val_acc: 0.9191\n",
      "Epoch 26/1000\n",
      "1098/1098 [==============================] - 0s 107us/step - loss: 0.3015 - acc: 0.9472 - val_loss: 0.3352 - val_acc: 0.9412\n",
      "Epoch 27/1000\n",
      "1098/1098 [==============================] - 0s 109us/step - loss: 0.2901 - acc: 0.9554 - val_loss: 0.3238 - val_acc: 0.9412\n",
      "Epoch 28/1000\n",
      "1098/1098 [==============================] - 0s 111us/step - loss: 0.2794 - acc: 0.9581 - val_loss: 0.3131 - val_acc: 0.9485\n",
      "Epoch 29/1000\n",
      "1098/1098 [==============================] - 0s 100us/step - loss: 0.2697 - acc: 0.9581 - val_loss: 0.3035 - val_acc: 0.9559\n",
      "Epoch 30/1000\n",
      "1098/1098 [==============================] - 0s 99us/step - loss: 0.2610 - acc: 0.9608 - val_loss: 0.2946 - val_acc: 0.9485\n",
      "Epoch 31/1000\n",
      "1098/1098 [==============================] - 0s 100us/step - loss: 0.2534 - acc: 0.9663 - val_loss: 0.2869 - val_acc: 0.9559\n",
      "Epoch 32/1000\n",
      "1098/1098 [==============================] - 0s 104us/step - loss: 0.2464 - acc: 0.9681 - val_loss: 0.2802 - val_acc: 0.9559\n",
      "Epoch 33/1000\n",
      "1098/1098 [==============================] - 0s 85us/step - loss: 0.2403 - acc: 0.9709 - val_loss: 0.2739 - val_acc: 0.9559\n",
      "Epoch 34/1000\n",
      "1098/1098 [==============================] - 0s 73us/step - loss: 0.2348 - acc: 0.9718 - val_loss: 0.2686 - val_acc: 0.9559\n",
      "Epoch 35/1000\n",
      "1098/1098 [==============================] - 0s 75us/step - loss: 0.2299 - acc: 0.9727 - val_loss: 0.2635 - val_acc: 0.9559\n",
      "Epoch 36/1000\n",
      "1098/1098 [==============================] - 0s 73us/step - loss: 0.2257 - acc: 0.9745 - val_loss: 0.2596 - val_acc: 0.9559\n",
      "Epoch 37/1000\n",
      "1098/1098 [==============================] - 0s 99us/step - loss: 0.2219 - acc: 0.9772 - val_loss: 0.2559 - val_acc: 0.9559\n",
      "Epoch 38/1000\n",
      "1098/1098 [==============================] - 0s 80us/step - loss: 0.2186 - acc: 0.9772 - val_loss: 0.2525 - val_acc: 0.9559\n",
      "Epoch 39/1000\n",
      "1098/1098 [==============================] - 0s 73us/step - loss: 0.2157 - acc: 0.9772 - val_loss: 0.2497 - val_acc: 0.9485\n",
      "Epoch 40/1000\n",
      "1098/1098 [==============================] - 0s 81us/step - loss: 0.2132 - acc: 0.9736 - val_loss: 0.2473 - val_acc: 0.9485\n",
      "Epoch 41/1000\n",
      "1098/1098 [==============================] - 0s 74us/step - loss: 0.2111 - acc: 0.9745 - val_loss: 0.2451 - val_acc: 0.9485\n",
      "Epoch 42/1000\n",
      "1098/1098 [==============================] - 0s 72us/step - loss: 0.2090 - acc: 0.9745 - val_loss: 0.2430 - val_acc: 0.9485\n",
      "Epoch 43/1000\n",
      "1098/1098 [==============================] - 0s 66us/step - loss: 0.2072 - acc: 0.9745 - val_loss: 0.2410 - val_acc: 0.9485\n",
      "Epoch 44/1000\n",
      "1098/1098 [==============================] - 0s 68us/step - loss: 0.2057 - acc: 0.9763 - val_loss: 0.2394 - val_acc: 0.9485\n",
      "Epoch 45/1000\n",
      "1098/1098 [==============================] - 0s 72us/step - loss: 0.2043 - acc: 0.9772 - val_loss: 0.2378 - val_acc: 0.9559\n",
      "Epoch 46/1000\n",
      "1098/1098 [==============================] - 0s 72us/step - loss: 0.2030 - acc: 0.9772 - val_loss: 0.2367 - val_acc: 0.9559\n",
      "Epoch 47/1000\n",
      "1098/1098 [==============================] - 0s 67us/step - loss: 0.2018 - acc: 0.9772 - val_loss: 0.2354 - val_acc: 0.9559\n",
      "Epoch 48/1000\n",
      "1098/1098 [==============================] - 0s 75us/step - loss: 0.2008 - acc: 0.9772 - val_loss: 0.2341 - val_acc: 0.9559\n",
      "Epoch 49/1000\n",
      "1098/1098 [==============================] - 0s 86us/step - loss: 0.1998 - acc: 0.9772 - val_loss: 0.2331 - val_acc: 0.9559\n",
      "Epoch 50/1000\n",
      "1098/1098 [==============================] - 0s 71us/step - loss: 0.1990 - acc: 0.9772 - val_loss: 0.2318 - val_acc: 0.9559\n",
      "Epoch 51/1000\n",
      "1098/1098 [==============================] - 0s 69us/step - loss: 0.1982 - acc: 0.9772 - val_loss: 0.2305 - val_acc: 0.9559\n",
      "Epoch 52/1000\n",
      "1098/1098 [==============================] - 0s 96us/step - loss: 0.1974 - acc: 0.9772 - val_loss: 0.2300 - val_acc: 0.9559\n",
      "Epoch 53/1000\n",
      "1098/1098 [==============================] - 0s 181us/step - loss: 0.1967 - acc: 0.9772 - val_loss: 0.2289 - val_acc: 0.9559\n",
      "Epoch 54/1000\n",
      "1098/1098 [==============================] - 0s 105us/step - loss: 0.1961 - acc: 0.9772 - val_loss: 0.2279 - val_acc: 0.9559\n",
      "Epoch 55/1000\n",
      "1098/1098 [==============================] - 0s 81us/step - loss: 0.1955 - acc: 0.9772 - val_loss: 0.2273 - val_acc: 0.9706\n",
      "Epoch 56/1000\n",
      "1098/1098 [==============================] - 0s 67us/step - loss: 0.1950 - acc: 0.9781 - val_loss: 0.2265 - val_acc: 0.9706\n",
      "Epoch 57/1000\n",
      "1098/1098 [==============================] - 0s 88us/step - loss: 0.1945 - acc: 0.9781 - val_loss: 0.2257 - val_acc: 0.9706\n",
      "Epoch 58/1000\n",
      "1098/1098 [==============================] - 0s 77us/step - loss: 0.1942 - acc: 0.9781 - val_loss: 0.2252 - val_acc: 0.9706\n",
      "Epoch 59/1000\n",
      "1098/1098 [==============================] - 0s 56us/step - loss: 0.1937 - acc: 0.9781 - val_loss: 0.2244 - val_acc: 0.9706\n",
      "Epoch 60/1000\n"
     ]
    },
    {
     "name": "stdout",
     "output_type": "stream",
     "text": [
      "1098/1098 [==============================] - 0s 59us/step - loss: 0.1933 - acc: 0.9791 - val_loss: 0.2238 - val_acc: 0.9706\n",
      "Epoch 61/1000\n",
      "1098/1098 [==============================] - 0s 61us/step - loss: 0.1929 - acc: 0.9781 - val_loss: 0.2235 - val_acc: 0.9706\n",
      "Epoch 62/1000\n",
      "1098/1098 [==============================] - 0s 63us/step - loss: 0.1926 - acc: 0.9781 - val_loss: 0.2231 - val_acc: 0.9706\n",
      "Epoch 63/1000\n",
      "1098/1098 [==============================] - 0s 67us/step - loss: 0.1923 - acc: 0.9781 - val_loss: 0.2226 - val_acc: 0.9706\n",
      "Epoch 64/1000\n",
      "1098/1098 [==============================] - 0s 59us/step - loss: 0.1920 - acc: 0.9781 - val_loss: 0.2220 - val_acc: 0.9779\n",
      "Epoch 65/1000\n",
      "1098/1098 [==============================] - 0s 55us/step - loss: 0.1917 - acc: 0.9781 - val_loss: 0.2213 - val_acc: 0.9779\n",
      "Epoch 66/1000\n",
      "1098/1098 [==============================] - 0s 57us/step - loss: 0.1914 - acc: 0.9781 - val_loss: 0.2209 - val_acc: 0.9779\n",
      "Epoch 67/1000\n",
      "1098/1098 [==============================] - 0s 57us/step - loss: 0.1911 - acc: 0.9781 - val_loss: 0.2204 - val_acc: 0.9779\n",
      "Epoch 68/1000\n",
      "1098/1098 [==============================] - 0s 60us/step - loss: 0.1909 - acc: 0.9781 - val_loss: 0.2199 - val_acc: 0.9779\n",
      "Epoch 69/1000\n",
      "1098/1098 [==============================] - 0s 64us/step - loss: 0.1907 - acc: 0.9781 - val_loss: 0.2199 - val_acc: 0.9779\n",
      "Epoch 70/1000\n",
      "1098/1098 [==============================] - 0s 56us/step - loss: 0.1905 - acc: 0.9781 - val_loss: 0.2192 - val_acc: 0.9779\n",
      "Epoch 71/1000\n",
      "1098/1098 [==============================] - 0s 51us/step - loss: 0.1902 - acc: 0.9781 - val_loss: 0.2187 - val_acc: 0.9779\n",
      "Epoch 72/1000\n",
      "1098/1098 [==============================] - 0s 53us/step - loss: 0.1899 - acc: 0.9781 - val_loss: 0.2181 - val_acc: 0.9779\n",
      "Epoch 73/1000\n",
      "1098/1098 [==============================] - 0s 50us/step - loss: 0.1897 - acc: 0.9781 - val_loss: 0.2175 - val_acc: 0.9779\n",
      "Epoch 74/1000\n",
      "1098/1098 [==============================] - 0s 49us/step - loss: 0.1894 - acc: 0.9781 - val_loss: 0.2173 - val_acc: 0.9779\n",
      "Epoch 75/1000\n",
      "1098/1098 [==============================] - 0s 49us/step - loss: 0.1892 - acc: 0.9781 - val_loss: 0.2171 - val_acc: 0.9779\n",
      "Epoch 76/1000\n",
      "1098/1098 [==============================] - 0s 49us/step - loss: 0.1888 - acc: 0.9781 - val_loss: 0.2163 - val_acc: 0.9779\n",
      "Epoch 77/1000\n",
      "1098/1098 [==============================] - 0s 49us/step - loss: 0.1885 - acc: 0.9781 - val_loss: 0.2160 - val_acc: 0.9779\n",
      "Epoch 78/1000\n",
      "1098/1098 [==============================] - 0s 51us/step - loss: 0.1883 - acc: 0.9791 - val_loss: 0.2157 - val_acc: 0.9779\n",
      "Epoch 79/1000\n",
      "1098/1098 [==============================] - 0s 50us/step - loss: 0.1880 - acc: 0.9809 - val_loss: 0.2156 - val_acc: 0.9779\n",
      "Epoch 80/1000\n",
      "1098/1098 [==============================] - 0s 49us/step - loss: 0.1878 - acc: 0.9781 - val_loss: 0.2155 - val_acc: 0.9779\n",
      "Epoch 81/1000\n",
      "1098/1098 [==============================] - 0s 49us/step - loss: 0.1877 - acc: 0.9781 - val_loss: 0.2152 - val_acc: 0.9779\n",
      "Epoch 82/1000\n",
      "1098/1098 [==============================] - 0s 49us/step - loss: 0.1874 - acc: 0.9781 - val_loss: 0.2149 - val_acc: 0.9779\n",
      "Epoch 83/1000\n",
      "1098/1098 [==============================] - 0s 49us/step - loss: 0.1873 - acc: 0.9800 - val_loss: 0.2145 - val_acc: 0.9779\n",
      "Epoch 84/1000\n",
      "1098/1098 [==============================] - 0s 49us/step - loss: 0.1871 - acc: 0.9791 - val_loss: 0.2147 - val_acc: 0.9779\n",
      "Epoch 85/1000\n",
      "1098/1098 [==============================] - 0s 54us/step - loss: 0.1870 - acc: 0.9809 - val_loss: 0.2141 - val_acc: 0.9779\n",
      "Epoch 86/1000\n",
      "1098/1098 [==============================] - 0s 49us/step - loss: 0.1870 - acc: 0.9809 - val_loss: 0.2139 - val_acc: 0.9779\n",
      "Epoch 87/1000\n",
      "1098/1098 [==============================] - 0s 49us/step - loss: 0.1868 - acc: 0.9809 - val_loss: 0.2140 - val_acc: 0.9779\n",
      "Epoch 88/1000\n",
      "1098/1098 [==============================] - 0s 51us/step - loss: 0.1866 - acc: 0.9809 - val_loss: 0.2138 - val_acc: 0.9779\n",
      "Epoch 89/1000\n",
      "1098/1098 [==============================] - 0s 50us/step - loss: 0.1866 - acc: 0.9809 - val_loss: 0.2138 - val_acc: 0.9779\n",
      "Epoch 90/1000\n",
      "1098/1098 [==============================] - 0s 49us/step - loss: 0.1865 - acc: 0.9809 - val_loss: 0.2137 - val_acc: 0.9779\n",
      "Epoch 91/1000\n",
      "1098/1098 [==============================] - 0s 50us/step - loss: 0.1864 - acc: 0.9809 - val_loss: 0.2134 - val_acc: 0.9779\n",
      "Epoch 92/1000\n",
      "1098/1098 [==============================] - 0s 51us/step - loss: 0.1863 - acc: 0.9809 - val_loss: 0.2135 - val_acc: 0.9779\n",
      "Epoch 93/1000\n",
      "1098/1098 [==============================] - 0s 50us/step - loss: 0.1864 - acc: 0.9809 - val_loss: 0.2135 - val_acc: 0.9779\n",
      "Epoch 94/1000\n",
      "1098/1098 [==============================] - 0s 50us/step - loss: 0.1862 - acc: 0.9809 - val_loss: 0.2130 - val_acc: 0.9779\n",
      "Epoch 95/1000\n",
      "1098/1098 [==============================] - 0s 49us/step - loss: 0.1861 - acc: 0.9809 - val_loss: 0.2132 - val_acc: 0.9779\n",
      "Epoch 96/1000\n",
      "1098/1098 [==============================] - 0s 50us/step - loss: 0.1861 - acc: 0.9809 - val_loss: 0.2132 - val_acc: 0.9779\n",
      "Epoch 97/1000\n",
      "1098/1098 [==============================] - 0s 49us/step - loss: 0.1861 - acc: 0.9809 - val_loss: 0.2129 - val_acc: 0.9779\n",
      "Epoch 98/1000\n",
      "1098/1098 [==============================] - 0s 54us/step - loss: 0.1861 - acc: 0.9809 - val_loss: 0.2131 - val_acc: 0.9779\n",
      "Epoch 99/1000\n",
      "1098/1098 [==============================] - 0s 53us/step - loss: 0.1860 - acc: 0.9809 - val_loss: 0.2130 - val_acc: 0.9779\n",
      "Epoch 100/1000\n",
      "1098/1098 [==============================] - 0s 51us/step - loss: 0.1858 - acc: 0.9809 - val_loss: 0.2129 - val_acc: 0.9779\n",
      "Epoch 101/1000\n",
      "1098/1098 [==============================] - 0s 49us/step - loss: 0.1858 - acc: 0.9809 - val_loss: 0.2127 - val_acc: 0.9779\n",
      "Epoch 102/1000\n",
      "1098/1098 [==============================] - 0s 50us/step - loss: 0.1859 - acc: 0.9809 - val_loss: 0.2128 - val_acc: 0.9779\n",
      "Epoch 103/1000\n",
      "1098/1098 [==============================] - 0s 50us/step - loss: 0.1858 - acc: 0.9809 - val_loss: 0.2125 - val_acc: 0.9779\n",
      "Epoch 104/1000\n",
      "1098/1098 [==============================] - 0s 50us/step - loss: 0.1857 - acc: 0.9809 - val_loss: 0.2126 - val_acc: 0.9779\n",
      "Epoch 105/1000\n",
      "1098/1098 [==============================] - 0s 54us/step - loss: 0.1857 - acc: 0.9809 - val_loss: 0.2123 - val_acc: 0.9779\n",
      "Epoch 106/1000\n",
      "1098/1098 [==============================] - 0s 55us/step - loss: 0.1858 - acc: 0.9809 - val_loss: 0.2126 - val_acc: 0.9779\n",
      "Epoch 107/1000\n",
      "1098/1098 [==============================] - 0s 51us/step - loss: 0.1856 - acc: 0.9809 - val_loss: 0.2126 - val_acc: 0.9779\n",
      "Epoch 108/1000\n",
      "1098/1098 [==============================] - 0s 50us/step - loss: 0.1856 - acc: 0.9809 - val_loss: 0.2128 - val_acc: 0.9779\n",
      "Epoch 109/1000\n",
      "1098/1098 [==============================] - 0s 50us/step - loss: 0.1857 - acc: 0.9809 - val_loss: 0.2128 - val_acc: 0.9779\n",
      "Epoch 110/1000\n",
      "1098/1098 [==============================] - 0s 49us/step - loss: 0.1855 - acc: 0.9809 - val_loss: 0.2126 - val_acc: 0.9779\n"
     ]
    }
   ],
   "source": [
    "history = model.fit(X_train, y_train, epochs=1000, validation_data=[X_val, y_val], callbacks=[early_stop])"
   ]
  },
  {
   "cell_type": "code",
   "execution_count": 113,
   "metadata": {},
   "outputs": [
    {
     "data": {
      "image/png": "[encoded data removed]",
      "text/plain": [
       "<Figure size 432x288 with 1 Axes>"
      ]
     },
     "metadata": {
      "needs_background": "light"
     },
     "output_type": "display_data"
    }
   ],
   "source": [
    "plot_history(history)"
   ]
  },
  {
   "cell_type": "code",
   "execution_count": 118,
   "metadata": {},
   "outputs": [
    {
     "data": {
      "text/plain": [
       "0.9782608695652174"
      ]
     },
     "execution_count": 118,
     "metadata": {},
     "output_type": "execute_result"
    }
   ],
   "source": [
    "pred = np.round(model.predict(X_test).reshape(-1,))\n",
    "accuracy_score(pred, y_test)"
   ]
  },
  {
   "cell_type": "code",
   "execution_count": 131,
   "metadata": {},
   "outputs": [
    {
     "data": {
      "image/png": "[encoded data removed]",
      "text/plain": [
       "<Figure size 432x288 with 2 Axes>"
      ]
     },
     "metadata": {
      "needs_background": "light"
     },
     "output_type": "display_data"
    }
   ],
   "source": [
    "mat = confusion_matrix(pred, y_test)\n",
    "cm = mat / np.sum(mat, axis=1)\n",
    "plot_confusion_matrix(cm, classes=['Real', 'Fake'])"
   ]
  },
  {
   "cell_type": "code",
   "execution_count": null,
   "metadata": {},
   "outputs": [],
   "source": []
  }
 ],
 "metadata": {
  "kernelspec": {
   "display_name": "Python 3",
   "language": "python",
   "name": "python3"
  },
  "language_info": {
   "codemirror_mode": {
    "name": "ipython",
    "version": 3
   },
   "file_extension": ".py",
   "mimetype": "text/x-python",
   "name": "python",
   "nbconvert_exporter": "python",
   "pygments_lexer": "ipython3",
   "version": "3.6.6"
  }
 },
 "nbformat": 4,
 "nbformat_minor": 2
}
