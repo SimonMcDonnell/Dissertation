{
 "cells": [
  {
   "cell_type": "code",
   "execution_count": 1,
   "metadata": {},
   "outputs": [],
   "source": [
    "%load_ext autoreload\n",
    "%autoreload 2\n",
    "import numpy as np\n",
    "import matplotlib.pyplot as plt\n",
    "from numpy.polynomial.chebyshev import chebfit, cheb2poly\n",
    "import sys\n",
    "# sys.path.insert(0, '../seal_wrapper/')\n",
    "# from seal_wrapper import EA"
   ]
  },
  {
   "cell_type": "code",
   "execution_count": 2,
   "metadata": {
    "scrolled": true
   },
   "outputs": [
    {
     "data": {
      "text/plain": [
       "array([-3.9000000e+00, -3.8000000e+00, -3.7000000e+00, -3.6000000e+00,\n",
       "       -3.5000000e+00, -3.4000000e+00, -3.3000000e+00, -3.2000000e+00,\n",
       "       -3.1000000e+00, -3.0000000e+00, -2.9000000e+00, -2.8000000e+00,\n",
       "       -2.7000000e+00, -2.6000000e+00, -2.5000000e+00, -2.4000000e+00,\n",
       "       -2.3000000e+00, -2.2000000e+00, -2.1000000e+00, -2.0000000e+00,\n",
       "       -1.9000000e+00, -1.8000000e+00, -1.7000000e+00, -1.6000000e+00,\n",
       "       -1.5000000e+00, -1.4000000e+00, -1.3000000e+00, -1.2000000e+00,\n",
       "       -1.1000000e+00, -1.0000000e+00, -9.0000000e-01, -8.0000000e-01,\n",
       "       -7.0000000e-01, -6.0000000e-01, -5.0000000e-01, -4.0000000e-01,\n",
       "       -3.0000000e-01, -2.0000000e-01, -1.0000000e-01,  4.4408921e-16,\n",
       "        1.0000000e-01,  2.0000000e-01,  3.0000000e-01,  4.0000000e-01,\n",
       "        5.0000000e-01,  6.0000000e-01,  7.0000000e-01,  8.0000000e-01,\n",
       "        9.0000000e-01,  1.0000000e+00,  1.1000000e+00,  1.2000000e+00,\n",
       "        1.3000000e+00,  1.4000000e+00,  1.5000000e+00,  1.6000000e+00,\n",
       "        1.7000000e+00,  1.8000000e+00,  1.9000000e+00,  2.0000000e+00,\n",
       "        2.1000000e+00,  2.2000000e+00,  2.3000000e+00,  2.4000000e+00,\n",
       "        2.5000000e+00,  2.6000000e+00,  2.7000000e+00,  2.8000000e+00,\n",
       "        2.9000000e+00,  3.0000000e+00,  3.1000000e+00,  3.2000000e+00,\n",
       "        3.3000000e+00,  3.4000000e+00,  3.5000000e+00,  3.6000000e+00,\n",
       "        3.7000000e+00,  3.8000000e+00,  3.9000000e+00,  4.0000000e+00])"
      ]
     },
     "execution_count": 2,
     "metadata": {},
     "output_type": "execute_result"
    }
   ],
   "source": [
    "x = np.linspace(-3.9, 4.0, 80)\n",
    "x"
   ]
  },
  {
   "cell_type": "code",
   "execution_count": 3,
   "metadata": {},
   "outputs": [],
   "source": [
    "def relu(z):\n",
    "    return np.maximum(0, z)"
   ]
  },
  {
   "cell_type": "code",
   "execution_count": 4,
   "metadata": {},
   "outputs": [],
   "source": [
    "def sigmoid(z):\n",
    "    return 1/(1+np.exp(-z))"
   ]
  },
  {
   "cell_type": "code",
   "execution_count": 5,
   "metadata": {},
   "outputs": [],
   "source": [
    "def tanh(z):\n",
    "    return (np.exp(z)-np.exp(-z))/(np.exp(z)+np.exp(-z))"
   ]
  },
  {
   "cell_type": "code",
   "execution_count": 6,
   "metadata": {
    "scrolled": true
   },
   "outputs": [],
   "source": [
    "y = relu(x)"
   ]
  },
  {
   "cell_type": "code",
   "execution_count": 7,
   "metadata": {},
   "outputs": [],
   "source": [
    "coeffs_cheb_4 = chebfit(x, y, deg=4)\n",
    "coeffs_cheb_3 = chebfit(x, y, deg=3)"
   ]
  },
  {
   "cell_type": "code",
   "execution_count": 8,
   "metadata": {},
   "outputs": [
    {
     "data": {
      "text/plain": [
       "array([ 0.37441365,  0.50586243,  0.11733419, -0.00085583])"
      ]
     },
     "execution_count": 8,
     "metadata": {},
     "output_type": "execute_result"
    }
   ],
   "source": [
    "coeffs_4 = cheb2poly(coeffs_cheb_4)\n",
    "coeffs_3 = cheb2poly(coeffs_cheb_3)\n",
    "coeffs_3"
   ]
  },
  {
   "cell_type": "code",
   "execution_count": 9,
   "metadata": {},
   "outputs": [],
   "source": [
    "data_4 = x[:, None] ** np.arange(coeffs_4.shape[0])\n",
    "data_3 = x[:, None] ** np.arange(coeffs_3.shape[0])"
   ]
  },
  {
   "cell_type": "code",
   "execution_count": 10,
   "metadata": {},
   "outputs": [],
   "source": [
    "relu_approx_4 = data_4.dot(coeffs_4[:, None])\n",
    "relu_approx_3 = data_3.dot(coeffs_3[:, None])\n",
    "#relu_approx = data.dot(np.array([0.308, 0.465, 0.149, 0.00827, -0.000987]).reshape(-1, 1))"
   ]
  },
  {
   "cell_type": "code",
   "execution_count": 11,
   "metadata": {},
   "outputs": [
    {
     "data": {
      "image/png": "[encoded data removed]",
      "text/plain": [
       "<Figure size 504x504 with 1 Axes>"
      ]
     },
     "metadata": {
      "needs_background": "light"
     },
     "output_type": "display_data"
    }
   ],
   "source": [
    "fig = plt.figure(figsize=(7, 7))\n",
    "plt.plot(x, relu_approx_4)\n",
    "plt.plot(x, relu_approx_3)\n",
    "plt.plot(x, y)\n",
    "plt.legend(['Degree=4', 'Degree=3', 'ReLU'])\n",
    "plt.title('ReLU Approximation')\n",
    "#plt.savefig('relu-approx.pdf')\n",
    "plt.show()\n"
   ]
  },
  {
   "cell_type": "code",
   "execution_count": null,
   "metadata": {},
   "outputs": [],
   "source": []
  }
 ],
 "metadata": {
  "kernelspec": {
   "display_name": "Python 3",
   "language": "python",
   "name": "python3"
  },
  "language_info": {
   "codemirror_mode": {
    "name": "ipython",
    "version": 3
   },
   "file_extension": ".py",
   "mimetype": "text/x-python",
   "name": "python",
   "nbconvert_exporter": "python",
   "pygments_lexer": "ipython3",
   "version": "3.6.8"
  }
 },
 "nbformat": 4,
 "nbformat_minor": 2
}
